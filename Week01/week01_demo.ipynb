{
 "cells": [
  {
   "cell_type": "code",
   "execution_count": null,
   "id": "f08bd2ab",
   "metadata": {
    "deletable": false,
    "editable": false
   },
   "outputs": [],
   "source": [
    "# Initialize Otter\n",
    "import otter\n",
    "grader = otter.Notebook(\"week01_demo.ipynb\")"
   ]
  },
  {
   "cell_type": "markdown",
   "id": "b50c08a4",
   "metadata": {},
   "source": [
    "# Week 01: Introduction to Python & Jupyter Notebook\n",
    "\n",
    "Welcome to Physics 77/88! In this demo, we'll cover:\n",
    "\n",
    "- Basic Python syntax and conventions\n",
    "- How to use Jupyter notebooks for coding\n",
    "- A mock homework problem with Otter-style public tests\n"
   ]
  },
  {
   "cell_type": "markdown",
   "id": "1293984c",
   "metadata": {},
   "source": [
    "## 1. Basic Python Syntax\n",
    "\n",
    "- **Comments** start with `#` and are ignored by Python.\n",
    "- **Indentation** is significant: use 4 spaces per indentation level.\n",
    "- Statements end at the end of the line (no semicolons needed).\n"
   ]
  },
  {
   "cell_type": "code",
   "execution_count": null,
   "id": "a47b72e9",
   "metadata": {},
   "outputs": [],
   "source": [
    "# This is a comment\n",
    "print('Hello, world!')"
   ]
  },
  {
   "cell_type": "code",
   "execution_count": null,
   "id": "bca1eee0",
   "metadata": {},
   "outputs": [],
   "source": [
    "x = 5  # integer\n",
    "pi = 3.14159  # float\n",
    "name = 'Alice'  # string\n",
    "print(f'x = {x}, pi = {pi}, name = {name}')"
   ]
  },
  {
   "cell_type": "markdown",
   "id": "f1ec0681",
   "metadata": {},
   "source": [
    "## 2. Control Flow & Indentation\n",
    "\n",
    "Use `if` statements and loops to control execution:"
   ]
  },
  {
   "cell_type": "code",
   "execution_count": null,
   "id": "16cc49dc",
   "metadata": {},
   "outputs": [],
   "source": [
    "if x > 0:\n",
    "    print('x is positive')\n",
    "else:\n",
    "    print('x is zero or negative')"
   ]
  },
  {
   "cell_type": "markdown",
   "id": "33ee161a",
   "metadata": {},
   "source": [
    "## 3. Jupyter Notebook Basics\n",
    "\n",
    "- Run a cell: **Shift + Enter**\n",
    "- Insert a cell: **A** (above) or **B** (below)\n",
    "- Delete a cell: **DD**\n",
    "- Change cell type: **Y** (code) or **M** (markdown)\n",
    "- Common magic commands:\n",
    "  - `%pwd`: show current working directory\n",
    "  - `%ls`: list files in directory\n"
   ]
  },
  {
   "cell_type": "code",
   "execution_count": null,
   "id": "20be8587",
   "metadata": {},
   "outputs": [],
   "source": [
    "%pwd"
   ]
  },
  {
   "cell_type": "markdown",
   "id": "c2406572",
   "metadata": {},
   "source": [
    "## 4. Mock Homework Problem"
   ]
  },
  {
   "cell_type": "markdown",
   "id": "135a096a",
   "metadata": {
    "deletable": false,
    "editable": false
   },
   "source": [
    "**Question 1:** Write a function `square` that returns the square of its argument."
   ]
  },
  {
   "cell_type": "code",
   "execution_count": null,
   "id": "5f35c016",
   "metadata": {
    "tags": [
     "otter_answer_cell"
    ]
   },
   "outputs": [],
   "source": [
    "def square(x):\n",
    "    return x * 2"
   ]
  },
  {
   "cell_type": "code",
   "execution_count": null,
   "id": "9c9d7fe2",
   "metadata": {
    "deletable": false,
    "editable": false
   },
   "outputs": [],
   "source": [
    "grader.check(\"q1\")"
   ]
  },
  {
   "cell_type": "markdown",
   "id": "dede88f0",
   "metadata": {
    "deletable": false,
    "editable": false
   },
   "source": [
    "## Submission\n",
    "\n",
    "Make sure you have run all cells in your notebook in order before running the cell below, so that all images/graphs appear in the output. The cell below will generate a zip file for you to submit.\n",
    "\n",
    "These are some submission instructions."
   ]
  },
  {
   "cell_type": "code",
   "execution_count": null,
   "id": "bbba1e0d",
   "metadata": {
    "deletable": false,
    "editable": false
   },
   "outputs": [],
   "source": [
    "grader.export(pdf=False, force_save=True, run_tests=True)"
   ]
  },
  {
   "cell_type": "markdown",
   "id": "7a98a933",
   "metadata": {},
   "source": [
    " "
   ]
  }
 ],
 "metadata": {
  "kernelspec": {
   "display_name": "base",
   "language": "python",
   "name": "python3"
  },
  "language_info": {
   "codemirror_mode": {
    "name": "ipython",
    "version": 3
   },
   "file_extension": ".py",
   "mimetype": "text/x-python",
   "name": "python",
   "nbconvert_exporter": "python",
   "pygments_lexer": "ipython3",
   "version": "3.13.5"
  },
  "otter": {
   "OK_FORMAT": true,
   "tests": {
    "q1": {
     "name": "q1",
     "points": null,
     "suites": [
      {
       "cases": [
        {
         "code": ">>> square(1) == 1\nTrue",
         "hidden": false,
         "locked": false
        },
        {
         "code": ">>> square(0) == 0\nTrue",
         "hidden": false,
         "locked": false
        }
       ],
       "scored": true,
       "setup": "",
       "teardown": "",
       "type": "doctest"
      }
     ]
    }
   }
  }
 },
 "nbformat": 4,
 "nbformat_minor": 5
}

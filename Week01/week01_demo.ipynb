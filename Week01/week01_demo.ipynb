{
 "cells": [
  {
   "cell_type": "markdown",
   "id": "b50c08a4",
   "metadata": {},
   "source": [
    "# Week 01: Introduction to Python & Jupyter Notebook\n",
    "\n",
    "Welcome to Physics 77/88! In this demo, we'll cover:\n",
    "\n",
    "- Basic Python syntax and conventions\n",
    "- How to use Jupyter notebooks for coding\n",
    "- A mock homework problem with Otter-style public tests\n"
   ]
  },
  {
   "cell_type": "markdown",
   "id": "1293984c",
   "metadata": {},
   "source": [
    "## 1. Basic Python Syntax\n",
    "\n",
    "- **Comments** start with `#` and are ignored by Python.\n",
    "- **Indentation** is significant: use 4 spaces per indentation level.\n",
    "- Statements end at the end of the line (no semicolons needed).\n"
   ]
  },
  {
   "cell_type": "code",
   "execution_count": null,
   "id": "a47b72e9",
   "metadata": {},
   "outputs": [],
   "source": [
    "# This is a comment\n",
    "print('Hello, world!')"
   ]
  },
  {
   "cell_type": "code",
   "execution_count": null,
   "id": "bca1eee0",
   "metadata": {},
   "outputs": [],
   "source": [
    "x = 5  # integer\n",
    "pi = 3.14159  # float\n",
    "name = 'Alice'  # string\n",
    "print(f'x = {x}, pi = {pi}, name = {name}')"
   ]
  },
  {
   "cell_type": "markdown",
   "id": "f1ec0681",
   "metadata": {},
   "source": [
    "## 2. Control Flow & Indentation\n",
    "\n",
    "Use `if` statements and loops to control execution:"
   ]
  },
  {
   "cell_type": "code",
   "execution_count": null,
   "id": "16cc49dc",
   "metadata": {},
   "outputs": [],
   "source": [
    "if x > 0:\n",
    "    print('x is positive')\n",
    "else:\n",
    "    print('x is zero or negative')"
   ]
  },
  {
   "cell_type": "markdown",
   "id": "33ee161a",
   "metadata": {},
   "source": [
    "## 3. Jupyter Notebook Basics\n",
    "\n",
    "- Run a cell: **Shift + Enter**\n",
    "- Insert a cell: **A** (above) or **B** (below)\n",
    "- Change cell type: **Y** (code) or **M** (markdown)\n",
    "- Common magic commands:\n",
    "  - `%pwd`: show current working directory\n",
    "  - `%ls`: list files in directory\n"
   ]
  },
  {
   "cell_type": "code",
   "execution_count": null,
   "id": "20be8587",
   "metadata": {},
   "outputs": [],
   "source": [
    "%pwd"
   ]
  },
  {
   "cell_type": "markdown",
   "id": "c2406572",
   "metadata": {},
   "source": [
    "## 4. Mock Homework Problem\n",
    "**Problem:**\n",
    "\n",
    "Write a function `factorial(n)` that returns the factorial of a non-negative integer `n` (i.e., `n! = n × (n-1) × ... × 1`, and `0! = 1`)."
   ]
  },
  {
   "cell_type": "code",
   "execution_count": null,
   "id": "5f35c016",
   "metadata": {},
   "outputs": [],
   "source": [
    "# Definition cell\n",
    "\n",
    "def factorial(n):\n",
    "    \"\"\"Return n! for non-negative integer n.\"\"\"\n",
    "    # TODO: implement this function\n",
    "    pass\n"
   ]
  },
  {
   "cell_type": "code",
   "execution_count": null,
   "id": "05cd8567",
   "metadata": {},
   "outputs": [],
   "source": [
    "# public\n",
    "\n",
    "def test_factorial_zero():\n",
    "    assert factorial(0) == 1\n",
    "\n",
    "def test_factorial_small():\n",
    "    assert factorial(5) == 120\n",
    "\n",
    "def test_factorial_one():\n",
    "    assert factorial(1) == 1\n"
   ]
  }
 ],
 "metadata": {},
 "nbformat": 4,
 "nbformat_minor": 5
}

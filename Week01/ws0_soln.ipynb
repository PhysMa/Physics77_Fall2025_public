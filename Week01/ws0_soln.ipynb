{
 "cells": [
  {
   "cell_type": "code",
   "execution_count": null,
   "id": "36733d7a",
   "metadata": {
    "deletable": false,
    "editable": false
   },
   "outputs": [],
   "source": [
    "# Initialize Otter\n",
    "import otter\n",
    "grader = otter.Notebook(\"ws0.ipynb\")"
   ]
  },
  {
   "cell_type": "markdown",
   "id": "b50c08a4",
   "metadata": {},
   "source": [
    "# Week 01 Workshop: Introduction to Python & Jupyter Notebook"
   ]
  },
  {
   "cell_type": "markdown",
   "id": "3104c779-807f-4528-88c6-95e77b084333",
   "metadata": {
    "deletable": false,
    "editable": false
   },
   "source": [
    "## **Exercise 1: Multiplier** \n",
    "\n",
    "At the end of the demo notebook, we saw a function that returned the square of a number. Here is another sample function that returns the sum of two numbers.\n",
    "\n",
    "```python\n",
    "def adder(a,b):\n",
    "    return a + b\n",
    "```\n",
    "\n",
    "The function below takes two numbers. Complete the function so it returns the mutiple of the two."
   ]
  },
  {
   "cell_type": "code",
   "execution_count": 1,
   "id": "1c2b88f7-b7e9-439e-b07b-8d2de2307cb1",
   "metadata": {
    "tags": [
     "otter_assign_solution_cell"
    ]
   },
   "outputs": [],
   "source": [
    "def multiplier(a,b):\n",
    "    return a*b # SOLUTION\n",
    "    \"\"\" # BEGIN PROMPT\n",
    "    # Write your code here! Don't forget to return your answer.\n",
    "    pass\n",
    "    \"\"\"; # END PROMPT"
   ]
  },
  {
   "cell_type": "code",
   "execution_count": null,
   "id": "a81dcbe2",
   "metadata": {
    "deletable": false,
    "editable": false
   },
   "outputs": [],
   "source": [
    "grader.check(\"q1\")"
   ]
  },
  {
   "cell_type": "markdown",
   "id": "dd0b8628-2516-4d86-be1b-b6c879c67f21",
   "metadata": {
    "deletable": false,
    "editable": false
   },
   "source": [
    "## **Exercise 2:** Adding strings together\n",
    "\n",
    "There are a few different ways to join strings in python. One way is to simply add them.\n",
    "\n",
    "```python\n",
    "string1 = \"Beginning of the\"\n",
    "string2 = \"sentence.\"\n",
    "\n",
    "totalString = string1 + \" \" + string2\n",
    "print(totalString)\n",
    "\n",
    "#if you copy/paste this into a code cell, it will print: Beginning of the sentence.\n",
    "```\n",
    "\n",
    "We can also use the string.join() method. Instead of typing string, we replace that with the string that we want to use to separate the strings we are combining. We also need to have all of the strings in an iterable format. For now, we'll ignore what that means and just place them in square brackets. This makes them into a list.\n",
    "\n",
    "```python\n",
    "string1 = \"first half +\"\n",
    "string2 = \"second half\"\n",
    "iterableStrings = [string1,string2]\n",
    "totalString = \" \".join(iterableStrings)\n",
    "print(totalString)\n",
    "\n",
    "#if you copy/paste this into a code cell, it will print: first half + second half\n",
    "#if you change the second to last line to totalString = \"this is what goes in between\".join(iterableStrings)\n",
    "#it will print: first half +this is what goes in betweensecond half\n",
    "```\n",
    "\n",
    "Complete the function below using the method of your choice to add together two strings. The function also takes the character that should separate them."
   ]
  },
  {
   "cell_type": "code",
   "execution_count": 5,
   "id": "8608e9b9-704b-4292-986b-1299bbda1e87",
   "metadata": {
    "tags": [
     "otter_assign_solution_cell"
    ]
   },
   "outputs": [],
   "source": [
    "def stringCombiner(string1,string2,separator):\n",
    "    # BEGIN SOLUTION NO PROMPT\n",
    "    combinedString = string1 + separator + string2\n",
    "    # END SOLUTION\n",
    "    return combinedString"
   ]
  },
  {
   "cell_type": "code",
   "execution_count": null,
   "id": "f189e131",
   "metadata": {
    "deletable": false,
    "editable": false
   },
   "outputs": [],
   "source": [
    "grader.check(\"q2\")"
   ]
  },
  {
   "cell_type": "markdown",
   "id": "079849e3-357c-489c-966a-c75484a82588",
   "metadata": {
    "deletable": false,
    "editable": false
   },
   "source": [
    "## **Exercise 3:** All math results\n",
    "\n",
    "Complete the function so it returns the two numbers added, subtracted, multiplied, and divided. Try to include a statement that checks if the second number is 0 to avoid division issues. If you realize you are dividing by 0, set divided to \"Error: division by zero.\""
   ]
  },
  {
   "cell_type": "code",
   "execution_count": 9,
   "id": "baf319cc-ec99-489b-801d-0cd9196553f1",
   "metadata": {
    "tags": [
     "otter_assign_solution_cell"
    ]
   },
   "outputs": [],
   "source": [
    "def calculator(a,b):\n",
    "    # BEGIN SOLUTION NO PROMPT\n",
    "    added = a + b\n",
    "    subtracted = a - b\n",
    "    multiplied = a * b\n",
    "    if b == 0:\n",
    "        divided = \"Error: division by zero.\"\n",
    "    else:\n",
    "        divided = a/b\n",
    "    # END SOLUTION\n",
    "    return added, subtracted, multiplied, divided"
   ]
  },
  {
   "cell_type": "code",
   "execution_count": null,
   "id": "6d2dc250",
   "metadata": {
    "deletable": false,
    "editable": false
   },
   "outputs": [],
   "source": [
    "grader.check(\"q3\")"
   ]
  },
  {
   "cell_type": "markdown",
   "id": "72eada54-e373-47e0-9586-009a5489c10e",
   "metadata": {
    "deletable": false,
    "editable": false
   },
   "source": [
    "## **Exercise 4:** Mixing Strings and Math\n",
    "Look up an easy way to repeat a string given a certain number of times. This can be done in one line! Name the function repeatString and pass it two positional arguments, the first one the string to be repeated, and the second one the number of times to repeat the string. "
   ]
  },
  {
   "cell_type": "code",
   "execution_count": 12,
   "id": "fbf9c6cb-0cb3-4eca-9107-46a0564da6b3",
   "metadata": {
    "tags": [
     "otter_assign_solution_cell"
    ]
   },
   "outputs": [],
   "source": [
    "def repeatString(phrase,repeatTimes):\n",
    "    repeatedString = phrase * repeatTimes # SOLUTION\n",
    "    return repeatedString"
   ]
  },
  {
   "cell_type": "code",
   "execution_count": null,
   "id": "44844613",
   "metadata": {
    "deletable": false,
    "editable": false
   },
   "outputs": [],
   "source": [
    "grader.check(\"q4\")"
   ]
  },
  {
   "cell_type": "markdown",
   "id": "b35a319e",
   "metadata": {
    "deletable": false,
    "editable": false
   },
   "source": [
    "## Submission\n",
    "\n",
    "Make sure you have run all cells in your notebook in order before running the cell below, so that all images/graphs appear in the output. The cell below will generate a zip file for you to submit.\n",
    "\n",
    "Upload the .zip file to gradescope!"
   ]
  },
  {
   "cell_type": "code",
   "execution_count": null,
   "id": "d158f05a",
   "metadata": {
    "deletable": false,
    "editable": false
   },
   "outputs": [],
   "source": [
    "grader.export(pdf=False, force_save=True, run_tests=True)"
   ]
  },
  {
   "cell_type": "markdown",
   "id": "c2152db1",
   "metadata": {},
   "source": [
    " "
   ]
  }
 ],
 "metadata": {
  "kernelspec": {
   "display_name": "otter_grading",
   "language": "python",
   "name": "python3"
  },
  "language_info": {
   "codemirror_mode": {
    "name": "ipython",
    "version": 3
   },
   "file_extension": ".py",
   "mimetype": "text/x-python",
   "name": "python",
   "nbconvert_exporter": "python",
   "pygments_lexer": "ipython3",
   "version": "3.12.11"
  },
  "otter": {
   "OK_FORMAT": true,
   "tests": {
    "q1": {
     "name": "q1",
     "points": null,
     "suites": [
      {
       "cases": [
        {
         "code": ">>> multiplier(10, 3) == 30\nTrue",
         "hidden": false,
         "locked": false,
         "points": 1
        },
        {
         "code": ">>> multiplier(0.5, 0.25) == 0.125\nTrue",
         "hidden": false,
         "locked": false,
         "points": 1
        },
        {
         "code": ">>> multiplier(0, 0) == 0\nTrue",
         "hidden": false,
         "locked": false,
         "points": 1
        }
       ],
       "scored": true,
       "setup": "",
       "teardown": "",
       "type": "doctest"
      }
     ]
    },
    "q2": {
     "name": "q2",
     "points": null,
     "suites": [
      {
       "cases": [
        {
         "code": ">>> stringCombiner('Hello', 'World', ' ') == 'Hello World'\nTrue",
         "hidden": false,
         "locked": false,
         "points": 1
        },
        {
         "code": ">>> stringCombiner('Physics77', 'Workshop 1', '__ :) __') == 'Physics77__ :) __Workshop 1'\nTrue",
         "hidden": false,
         "locked": false,
         "points": 1
        },
        {
         "code": ">>> stringCombiner('test', 'combiner', ' string ') == 'test string combiner'\nTrue",
         "hidden": false,
         "locked": false,
         "points": 1
        }
       ],
       "scored": true,
       "setup": "",
       "teardown": "",
       "type": "doctest"
      }
     ]
    },
    "q3": {
     "name": "q3",
     "points": null,
     "suites": [
      {
       "cases": [
        {
         "code": ">>> calculator(1, 2) == (3, -1, 2, 0.5)\nTrue",
         "hidden": false,
         "locked": false,
         "points": 1
        },
        {
         "code": ">>> calculator(4, 0) == (4, 4, 0, 'Error: division by zero.')\nTrue",
         "hidden": false,
         "locked": false,
         "points": 1
        }
       ],
       "scored": true,
       "setup": "",
       "teardown": "",
       "type": "doctest"
      }
     ]
    },
    "q4": {
     "name": "q4",
     "points": null,
     "suites": [
      {
       "cases": [
        {
         "code": ">>> repeatString('Hello, World!', 3) == 'Hello, World!Hello, World!Hello, World!'\nTrue",
         "hidden": false,
         "locked": false,
         "points": 1
        },
        {
         "code": ">>> repeatString('Test 2', 0) == ''\nTrue",
         "hidden": false,
         "locked": false,
         "points": 1
        }
       ],
       "scored": true,
       "setup": "",
       "teardown": "",
       "type": "doctest"
      }
     ]
    }
   }
  }
 },
 "nbformat": 4,
 "nbformat_minor": 5
}

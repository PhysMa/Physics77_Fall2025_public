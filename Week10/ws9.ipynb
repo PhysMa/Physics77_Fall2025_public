{
 "cells": [
  {
   "cell_type": "code",
   "execution_count": null,
   "id": "07dce185",
   "metadata": {
    "deletable": false,
    "editable": false
   },
   "outputs": [],
   "source": [
    "# Initialize Otter\n",
    "import otter\n",
    "grader = otter.Notebook(\"ws9.ipynb\")"
   ]
  },
  {
   "cell_type": "code",
   "execution_count": null,
   "id": "88a9b32e",
   "metadata": {},
   "outputs": [],
   "source": [
    "rng_seed = 70"
   ]
  },
  {
   "cell_type": "code",
   "execution_count": null,
   "id": "ab7f3377",
   "metadata": {},
   "outputs": [],
   "source": [
    "#imports\n",
    "import numpy as np\n",
    "import matplotlib.pyplot as plt\n",
    "import matplotlib\n",
    "import scipy as sp\n",
    "import pandas as pd\n",
    "#below line allows matplotlib plots to appear in cell output\n",
    "%matplotlib inline"
   ]
  },
  {
   "cell_type": "markdown",
   "id": "78dab9af",
   "metadata": {
    "deletable": false,
    "editable": false
   },
   "source": [
    "# **Question 1**: Root Finding Methods for f(x) = x³ - 3\n",
    "\n",
    "In this question, you'll implement and compare three different methods for finding the root (zero) of the function:\n",
    "\n",
    "$$f(x) = x^3 - 3$$\n",
    "\n",
    "The exact root is $x = \\sqrt[3]{3} \\approx 1.4422$, but we'll use numerical methods to approximate it.\n",
    "\n",
    "## **Part A**: Newton-Raphson Method\n",
    "\n",
    "The **Newton-Raphson method** (also called Newton's method) is an iterative root-finding algorithm that uses calculus to converge quickly to a root.\n",
    "\n",
    "### Mathematical Background\n",
    "\n",
    "Starting from an initial guess $x_0$, the method generates a sequence of approximations using the iteration formula:\n",
    "\n",
    "$$x_{n+1} = x_n - \\frac{f(x_n)}{f'(x_n)}$$\n",
    "\n",
    "**Geometric Interpretation**: At each step, we:\n",
    "1. Draw the tangent line to $f(x)$ at the current point $(x_n, f(x_n))$\n",
    "2. Find where this tangent line crosses the x-axis\n",
    "3. Use that x-intercept as our next approximation $x_{n+1}$\n",
    "\n",
    "### Your Task\n",
    "\n",
    "Implement `newton_raphson(x0, N)` that:\n",
    "1. Takes an initial guess `x0` and number of iterations `N`\n",
    "2. Applies the Newton-Raphson iteration formula N times\n",
    "3. Returns the approximation after N iterations\n",
    "\n",
    "**Requirements:**\n",
    "- Perform exactly N iterations (not checking for convergence)\n",
    "- Return the final approximation as a float\n",
    "\n",
    "**Parameters:**\n",
    "- `x0`: float, initial guess for the root\n",
    "- `N`: int, number of iterations to perform\n",
    "\n",
    "**Returns:**\n",
    "- `root`: float, approximation of the root after N iterations\n",
    "\n",
    "**Note**\n",
    "- Your function should return the initial guess if `N = 0`"
   ]
  },
  {
   "cell_type": "code",
   "execution_count": null,
   "id": "20d160fa",
   "metadata": {
    "tags": [
     "otter_answer_cell"
    ]
   },
   "outputs": [],
   "source": [
    "def newton_raphson(x0, N):\n",
    "    # your code here"
   ]
  },
  {
   "cell_type": "code",
   "execution_count": null,
   "id": "a34d20cb",
   "metadata": {
    "deletable": false,
    "editable": false
   },
   "outputs": [],
   "source": [
    "grader.check(\"q1a\")"
   ]
  },
  {
   "cell_type": "markdown",
   "id": "d35b94bc",
   "metadata": {
    "deletable": false,
    "editable": false
   },
   "source": [
    "## **Part B**: Bisection Method\n",
    "\n",
    "The **bisection method** is a robust root-finding algorithm based on the **Intermediate Value Theorem**. It's slower than Newton-Raphson but guaranteed to converge for continuous functions.\n",
    "\n",
    "### Mathematical Background\n",
    "\n",
    "**Intermediate Value Theorem**: If a continuous function $f(x)$ has opposite signs at two points $a$ and $b$ (i.e., $f(a) \\cdot f(b) < 0$), then $f(x)$ must cross zero somewhere in the interval $[a, b]$.\n",
    "\n",
    "**Algorithm**: Starting with an interval $[a, b]$ where $f(a)$ and $f(b)$ have opposite signs:\n",
    "\n",
    "1. Compute the midpoint: $m = \\frac{a + b}{2}$\n",
    "2. Evaluate $f(m)$\n",
    "3. Determine which half-interval contains the root:\n",
    "   - If $f(a) \\cdot f(m) < 0$: root is in $[a, m]$ → set $b = m$\n",
    "   - If $f(m) \\cdot f(b) < 0$: root is in $[m, b]$ → set $a = m$\n",
    "   - If $f(m) = 0$: we found the exact root!\n",
    "4. Repeat N times\n",
    "\n",
    "After each iteration, the interval size is halved, so after $N$ iterations, the uncertainty in the root is $\\frac{b-a}{2^N}$.\n",
    "\n",
    "### Your Task\n",
    "\n",
    "Implement `bisection_method(a, b, N)` that:\n",
    "1. Takes an initial interval `[a, b]` and number of iterations `N`\n",
    "2. Verifies that $f(a)$ and $f(b)$ have opposite signs (raise `ValueError` if not)\n",
    "3. Applies the bisection algorithm N times\n",
    "4. Returns the midpoint of the final interval\n",
    "\n",
    "**Requirements:**\n",
    "- Define the function $f(x) = x^3 - 3$ inside your function\n",
    "- Check that `f(a) * f(b) < 0`; if not, raise `ValueError(\"f(a) and f(b) must have opposite signs\")`\n",
    "- Perform exactly N iterations of bisection\n",
    "- Return the midpoint of the final interval: $(a + b) / 2$\n",
    "\n",
    "**Parameters:**\n",
    "- `a`: float, left endpoint of initial interval\n",
    "- `b`: float, right endpoint of initial interval\n",
    "- `N`: int, number of iterations to perform\n",
    "\n",
    "**Returns:**\n",
    "- `root`: float, approximation of the root (midpoint of final interval)\n",
    "\n",
    "**Raises:**\n",
    "- `ValueError`: if f(a) and f(b) do not have opposite signs"
   ]
  },
  {
   "cell_type": "code",
   "execution_count": null,
   "id": "aeb6cc66",
   "metadata": {
    "tags": [
     "otter_answer_cell"
    ]
   },
   "outputs": [],
   "source": [
    "def bisection_method(a, b, N):\n",
    "    # your code here"
   ]
  },
  {
   "cell_type": "code",
   "execution_count": null,
   "id": "b4b3578c",
   "metadata": {
    "deletable": false,
    "editable": false
   },
   "outputs": [],
   "source": [
    "grader.check(\"q1b\")"
   ]
  },
  {
   "cell_type": "markdown",
   "id": "0aad41a4",
   "metadata": {
    "deletable": false,
    "editable": false
   },
   "source": [
    "## **Part C**: Using SciPy's `root_scalar`\n",
    "\n",
    "In practice, we don't need to implement root-finding algorithms from scratch. The **SciPy library** provides optimized, well-tested implementations that handle edge cases and numerical issues automatically.\n",
    "\n",
    "### Background: `scipy.optimize.root_scalar`\n",
    "\n",
    "The `scipy.optimize.root_scalar` function provides a unified interface to several root-finding algorithms. It's more sophisticated than our implementations because it:\n",
    "- Automatically handles convergence criteria\n",
    "- Uses adaptive algorithms that adjust based on the function's behavior\n",
    "- Provides detailed information about the solution (convergence status, iterations used, etc.)\n",
    "- Supports multiple methods (bisection, Newton, Brent's method, etc.)\n",
    "\n",
    "[root_scalar documentation](https://docs.scipy.org/doc/scipy/reference/generated/scipy.optimize.root_scalar.html)\n",
    "### Your Task\n",
    "\n",
    "Implement `find_root_scipy()` that uses `scipy.optimize.root_scalar` to find the root of $f(x) = x^3 - 3$ using **Brent's method**.\n",
    "\n",
    "**Requirements:**\n",
    "- Use the bracket `[0, 2]`\n",
    "- Return only the root value (`.root` attribute)\n",
    "\n",
    "**Parameters:**\n",
    "- None\n",
    "\n",
    "**Returns:**\n",
    "- `root`: float, the root found by scipy"
   ]
  },
  {
   "cell_type": "code",
   "execution_count": null,
   "id": "14548f88",
   "metadata": {
    "tags": [
     "otter_answer_cell"
    ]
   },
   "outputs": [],
   "source": [
    "def find_root_scipy():\n",
    "    from scipy.optimize import root_scalar\n",
    "    \n",
    "    # Define f(x) = x^3 - 3\n",
    "    \n",
    "    # Use root_scalar with method='brentq' and bracket=[0, 2]\n",
    "    \n",
    "    # Return the root"
   ]
  },
  {
   "cell_type": "code",
   "execution_count": null,
   "id": "e39ca2ea",
   "metadata": {
    "deletable": false,
    "editable": false
   },
   "outputs": [],
   "source": [
    "grader.check(\"q1c\")"
   ]
  },
  {
   "cell_type": "markdown",
   "id": "60703c67",
   "metadata": {
    "deletable": false,
    "editable": false
   },
   "source": [
    "# **Question 2**: Lagrange Polynomial Interpolation\n",
    "\n",
    "In this question, you'll implement **Lagrange polynomial interpolation**, a method for constructing a polynomial that passes exactly through a given set of data points.\n",
    "\n",
    "## Background: Lagrange Interpolation\n",
    "\n",
    "Given $n$ data points $(x_0, y_0), (x_1, y_1), ..., (x_{n-1}, y_{n-1})$ with distinct $x$-values, we want to find a polynomial $P(x)$ of degree at most $n-1$ such that:\n",
    "\n",
    "$$P(x_i) = y_i \\quad \\text{for all } i = 0, 1, ..., n-1$$\n",
    "\n",
    "That is, the polynomial passes exactly through all the data points.\n",
    "\n",
    "### The Lagrange Form\n",
    "\n",
    "The **Lagrange polynomial** is constructed as a weighted sum of **basis polynomials**:\n",
    "\n",
    "$$P(x) = \\sum_{i=0}^{n-1} y_i \\cdot L_i(x)$$\n",
    "\n",
    "where $L_i(x)$ is the **i-th Lagrange basis polynomial**:\n",
    "\n",
    "$$L_i(x) = \\prod_{\\substack{j=0 \\\\ j \\neq i}}^{n-1} \\frac{x - x_j}{x_i - x_j}$$\n",
    "\n",
    "### Understanding the Basis Polynomials\n",
    "\n",
    "Each basis polynomial $L_i(x)$ has a special property:\n",
    "\n",
    "$$L_i(x_j) = \\begin{cases} 1 & \\text{if } i = j \\\\ 0 & \\text{if } i \\neq j \\end{cases}$$\n",
    "\n",
    "This is called the **Kronecker delta property**. Because of this property:\n",
    "\n",
    "$$P(x_k) = \\sum_{i=0}^{n-1} y_i \\cdot L_i(x_k) = y_k \\cdot 1 + \\sum_{i \\neq k} y_i \\cdot 0 = y_k$$\n",
    "\n",
    "So the polynomial automatically passes through all data points!\n",
    "\n",
    "### Example\n",
    "\n",
    "For 3 points $(x_0, y_0), (x_1, y_1), (x_2, y_2)$:\n",
    "\n",
    "$$L_0(x) = \\frac{(x - x_1)(x - x_2)}{(x_0 - x_1)(x_0 - x_2)}$$\n",
    "\n",
    "$$L_1(x) = \\frac{(x - x_0)(x - x_2)}{(x_1 - x_0)(x_1 - x_2)}$$\n",
    "\n",
    "$$L_2(x) = \\frac{(x - x_0)(x - x_1)}{(x_2 - x_0)(x_2 - x_1)}$$\n",
    "\n",
    "$$P(x) = y_0 L_0(x) + y_1 L_1(x) + y_2 L_2(x)$$\n",
    "\n",
    "### Key Properties\n",
    "\n",
    "1. **Exact fit**: The polynomial passes exactly through all data points\n",
    "2. **Degree**: For $n$ points, the polynomial has degree at most $n-1$\n",
    "3. **Uniqueness**: There is exactly one polynomial of degree ≤ $n-1$ passing through $n$ points with distinct x-values\n",
    "\n",
    "## Your Task\n",
    "\n",
    "Implement `lagrange_interpolation(x_data, y_data, show_plot=False)` that:\n",
    "1. Takes arrays of x and y data points\n",
    "2. Constructs the Lagrange interpolating polynomial\n",
    "3. Plots the data points and the interpolating polynomial\n",
    "4. Returns the figure object\n",
    "\n",
    "**Requirements:**\n",
    "- Check that `x_data` and `y_data` have the same length and at least 2 points\n",
    "- Create an array of x-values for plotting using `np.linspace()` with at least 200 points between `min(x_data)` and `max(x_data)`\n",
    "- For each plotting x-value, evaluate the Lagrange polynomial by:\n",
    "  - Computing all basis polynomials $L_i(x)$\n",
    "  - Computing $P(x) = \\sum_{i=0}^{n-1} y_i \\cdot L_i(x)$\n",
    "- Plot configuration:\n",
    "  - Scatter plot of data with `'o'` markers, `s=80`, `color='red'`, `label='Data Points'`, `zorder=3`\n",
    "  - Line plot of interpolating polynomial with `linewidth=2`, `color='blue'`, `label='Lagrange Interpolation'`\n",
    "  - X-axis label: \"x\"\n",
    "  - Y-axis label: \"y\"\n",
    "  - Title: \"Lagrange Polynomial Interpolation\"\n",
    "  - Grid with `alpha=0.3`\n",
    "  - Legend\n",
    "- Only call `plt.show()` if `show_plot=True`\n",
    "- Return the figure object\n",
    "\n",
    "**Parameters:**\n",
    "- `x_data`: numpy array or list, x-coordinates of data points\n",
    "- `y_data`: numpy array or list, y-coordinates of data points\n",
    "- `show_plot`: bool, default False. If True, display the plot\n",
    "\n",
    "**Returns:**\n",
    "- `fig`: matplotlib figure object"
   ]
  },
  {
   "cell_type": "code",
   "execution_count": null,
   "id": "d47e6d67",
   "metadata": {
    "tags": [
     "otter_answer_cell"
    ]
   },
   "outputs": [],
   "source": [
    "def lagrange_interpolation(x_data, y_data, show_plot=False):\n",
    "\n",
    "    ... \n",
    "    \n",
    "    # Create the plot\n",
    "    fig, ax = plt.subplots(figsize=(10, 6))\n",
    "    \n",
    "    ...\n",
    "    \n",
    "    # Show plot if requested\n",
    "    if show_plot:\n",
    "        plt.show()\n",
    "    \n",
    "    return fig"
   ]
  },
  {
   "cell_type": "code",
   "execution_count": null,
   "id": "6f7cf262",
   "metadata": {
    "tags": [
     "otter_answer_cell"
    ]
   },
   "outputs": [],
   "source": [
    "# Example: Lagrange interpolation through different sets of points\n",
    "\n",
    "# Example 1: Interpolate through points on y = x^2\n",
    "print(\"Example 1: Interpolating through points on y = x²\")\n",
    "x1 = np.array([0, 1, 2, 3, 4])\n",
    "y1 = x1**2\n",
    "fig1 = lagrange_interpolation(x1, y1, show_plot=True)\n",
    "print()\n",
    "\n",
    "# Example 2: Interpolate through points on y = sin(x)\n",
    "print(\"Example 2: Interpolating through points on y = sin(x)\")\n",
    "x2 = np.linspace(0,30,10)\n",
    "y2 = np.sin(x2)\n",
    "fig2 = lagrange_interpolation(x2, y2, show_plot=True)\n",
    "print()\n",
    "\n",
    "# Example 3: Random points\n",
    "print(\"Example 3: Interpolating through random points\")\n",
    "np.random.seed(rng_seed)\n",
    "x3 = np.array([0, 1, 2, 3, 4, 5])\n",
    "y3 = np.random.randn(6) * 2 + 3\n",
    "fig3 = lagrange_interpolation(x3, y3, show_plot=True)"
   ]
  },
  {
   "cell_type": "code",
   "execution_count": null,
   "id": "0d8cd142",
   "metadata": {
    "deletable": false,
    "editable": false
   },
   "outputs": [],
   "source": [
    "grader.check(\"q2\")"
   ]
  },
  {
   "cell_type": "markdown",
   "id": "3022fb4f",
   "metadata": {
    "deletable": false,
    "editable": false
   },
   "source": [
    "## Required disclosure of use of AI technology\n",
    "\n",
    "Please indicate whether you used AI to complete this homework. If you did, explain how you used it in the python cell below, as a comment."
   ]
  },
  {
   "cell_type": "code",
   "execution_count": null,
   "id": "22797985",
   "metadata": {
    "tags": [
     "otter_answer_cell"
    ]
   },
   "outputs": [],
   "source": [
    "\"\"\"\n",
    "# write ai disclosure here:\n",
    "\n",
    "\"\"\""
   ]
  },
  {
   "cell_type": "markdown",
   "id": "53254f14",
   "metadata": {
    "deletable": false,
    "editable": false
   },
   "source": [
    "## Submission\n",
    "\n",
    "Make sure you have run all cells in your notebook in order before running the cell below, so that all images/graphs appear in the output. The cell below will generate a zip file for you to submit.\n",
    "\n",
    "Upload the .zip file to Gradescope!"
   ]
  },
  {
   "cell_type": "code",
   "execution_count": null,
   "id": "a0b19cd9",
   "metadata": {
    "deletable": false,
    "editable": false
   },
   "outputs": [],
   "source": [
    "grader.export(pdf=False, force_save=True, run_tests=True)"
   ]
  },
  {
   "cell_type": "markdown",
   "id": "af5dd11f",
   "metadata": {},
   "source": [
    " "
   ]
  }
 ],
 "metadata": {
  "kernelspec": {
   "display_name": "otter_grading",
   "language": "python",
   "name": "python3"
  },
  "language_info": {
   "codemirror_mode": {
    "name": "ipython",
    "version": 3
   },
   "file_extension": ".py",
   "mimetype": "text/x-python",
   "name": "python",
   "nbconvert_exporter": "python",
   "pygments_lexer": "ipython3",
   "version": "3.12.11"
  },
  "otter": {
   "OK_FORMAT": true,
   "tests": {
    "q1a": {
     "name": "q1a",
     "points": null,
     "suites": [
      {
       "cases": [
        {
         "code": ">>> result = newton_raphson(2.0, 5)\n>>> test_result = isinstance(result, (float, np.floating))\n>>> test_result\nTrue",
         "hidden": false,
         "locked": false,
         "points": 1
        },
        {
         "code": ">>> result = newton_raphson(2.0, 0)\n>>> test_result = abs(result - 2.0) < 1e-10\n>>> test_result\nTrue",
         "hidden": false,
         "locked": false,
         "points": 1
        },
        {
         "code": ">>> result = newton_raphson(2.0, 10)\n>>> true_root = 3 ** (1 / 3)\n>>> test_result = abs(result - true_root) < 1e-08\n>>> test_result\nTrue",
         "hidden": false,
         "locked": false,
         "points": 1
        },
        {
         "code": ">>> result = newton_raphson(1.0, 10)\n>>> true_root = 3 ** (1 / 3)\n>>> test_result = abs(result - true_root) < 1e-08\n>>> test_result\nTrue",
         "hidden": false,
         "locked": false,
         "points": 1
        }
       ],
       "scored": true,
       "setup": "",
       "teardown": "",
       "type": "doctest"
      }
     ]
    },
    "q1b": {
     "name": "q1b",
     "points": null,
     "suites": [
      {
       "cases": [
        {
         "code": ">>> result = bisection_method(0, 2, 10)\n>>> test_result = isinstance(result, (float, np.floating))\n>>> test_result\nTrue",
         "hidden": false,
         "locked": false,
         "points": 1
        },
        {
         "code": ">>> try:\n...     bisection_method(2, 3, 10)\n...     test_result = False\n... except ValueError:\n...     test_result = True\n>>> test_result\nTrue",
         "hidden": false,
         "locked": false,
         "points": 1
        },
        {
         "code": ">>> result = bisection_method(0, 2, 20)\n>>> true_root = 3 ** (1 / 3)\n>>> test_result = abs(result - true_root) < 1e-05\n>>> test_result\nTrue",
         "hidden": false,
         "locked": false,
         "points": 1
        },
        {
         "code": ">>> result = bisection_method(1, 2, 20)\n>>> true_root = 3 ** (1 / 3)\n>>> test_result = abs(result - true_root) < 1e-05\n>>> test_result\nTrue",
         "hidden": false,
         "locked": false,
         "points": 1
        }
       ],
       "scored": true,
       "setup": "",
       "teardown": "",
       "type": "doctest"
      }
     ]
    },
    "q1c": {
     "name": "q1c",
     "points": null,
     "suites": [
      {
       "cases": [
        {
         "code": ">>> result = find_root_scipy()\n>>> test_result = isinstance(result, (float, np.floating))\n>>> test_result\nTrue",
         "hidden": false,
         "locked": false,
         "points": 1
        },
        {
         "code": ">>> result = find_root_scipy()\n>>> true_root = 3 ** (1 / 3)\n>>> test_result = abs(result - true_root) < 1e-10\n>>> test_result\nTrue",
         "hidden": false,
         "locked": false,
         "points": 1
        }
       ],
       "scored": true,
       "setup": "",
       "teardown": "",
       "type": "doctest"
      }
     ]
    },
    "q2": {
     "name": "q2",
     "points": null,
     "suites": [
      {
       "cases": [
        {
         "code": ">>> x_test = [0, 1, 2]\n>>> y_test = [0, 1, 4]\n>>> fig_test = lagrange_interpolation(x_test, y_test)\n>>> test_result = isinstance(fig_test, matplotlib.figure.Figure)\n>>> plt.close(fig_test)\n>>> test_result\nTrue",
         "hidden": false,
         "locked": false,
         "points": 1
        },
        {
         "code": ">>> x_test = np.array([0, 1, 2])\n>>> y_test = np.array([0, 1, 4])\n>>> fig_test = lagrange_interpolation(x_test, y_test)\n>>> def eval_lagrange(x, x_data, y_data):\n...     n = len(x_data)\n...     result = 0\n...     for i in range(n):\n...         L_i = 1\n...         for j in range(n):\n...             if i != j:\n...                 L_i *= (x - x_data[j]) / (x_data[i] - x_data[j])\n...         result += y_data[i] * L_i\n...     return result\n>>> errors = [abs(eval_lagrange(x_test[i], x_test, y_test) - y_test[i]) for i in range(len(x_test))]\n>>> test_result = all((error < 1e-10 for error in errors))\n>>> plt.close(fig_test)\n>>> test_result\nTrue",
         "hidden": false,
         "locked": false,
         "points": 1
        },
        {
         "code": ">>> x_test = np.array([0, 1])\n>>> y_test = np.array([2, 5])\n>>> fig_test = lagrange_interpolation(x_test, y_test)\n>>> def eval_lagrange(x, x_data, y_data):\n...     n = len(x_data)\n...     result = 0\n...     for i in range(n):\n...         L_i = 1\n...         for j in range(n):\n...             if i != j:\n...                 L_i *= (x - x_data[j]) / (x_data[i] - x_data[j])\n...         result += y_data[i] * L_i\n...     return result\n>>> y_mid = eval_lagrange(0.5, x_test, y_test)\n>>> test_result = abs(y_mid - 3.5) < 1e-10\n>>> plt.close(fig_test)\n>>> bool(test_result)\nTrue",
         "hidden": false,
         "locked": false,
         "points": 1
        },
        {
         "code": ">>> x_test = np.array([0, 1, 2, 3])\n>>> y_test = np.array([0, 1, 8, 27])\n>>> fig_test = lagrange_interpolation(x_test, y_test)\n>>> ax = fig_test.axes[0]\n>>> has_scatter = len(ax.collections) > 0\n>>> has_line = len(ax.lines) > 0\n>>> has_xlabel = ax.get_xlabel() == 'x'\n>>> has_ylabel = ax.get_ylabel() == 'y'\n>>> has_title = 'Lagrange' in ax.get_title()\n>>> has_legend = ax.get_legend() is not None\n>>> plt.close(fig_test)\n>>> test_result = has_scatter and has_line and has_xlabel and has_ylabel and has_title and has_legend\n>>> test_result\nTrue",
         "hidden": false,
         "locked": false,
         "points": 1
        },
        {
         "code": ">>> x_test = np.array([-1, 0, 1])\n>>> y_test = np.array([1, 0, 1])\n>>> fig_test = lagrange_interpolation(x_test, y_test)\n>>> def eval_lagrange(x, x_data, y_data):\n...     n = len(x_data)\n...     result = 0\n...     for i in range(n):\n...         L_i = 1\n...         for j in range(n):\n...             if i != j:\n...                 L_i *= (x - x_data[j]) / (x_data[i] - x_data[j])\n...         result += y_data[i] * L_i\n...     return result\n>>> y_at_2 = eval_lagrange(2, x_test, y_test)\n>>> test_result = abs(y_at_2 - 4.0) < 1e-10\n>>> plt.close(fig_test)\n>>> bool(test_result)\nTrue",
         "hidden": false,
         "locked": false,
         "points": 1
        }
       ],
       "scored": true,
       "setup": "",
       "teardown": "",
       "type": "doctest"
      }
     ]
    }
   }
  }
 },
 "nbformat": 4,
 "nbformat_minor": 5
}

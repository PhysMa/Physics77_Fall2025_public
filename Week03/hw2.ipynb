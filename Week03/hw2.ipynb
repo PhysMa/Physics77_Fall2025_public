{
 "cells": [
  {
   "cell_type": "code",
   "execution_count": null,
   "id": "6369003f",
   "metadata": {
    "deletable": false,
    "editable": false
   },
   "outputs": [],
   "source": [
    "# Initialize Otter\n",
    "import otter\n",
    "grader = otter.Notebook(\"hw2.ipynb\")"
   ]
  },
  {
   "cell_type": "markdown",
   "id": "174e86c9",
   "metadata": {},
   "source": [
    "# Homework 2"
   ]
  },
  {
   "cell_type": "code",
   "execution_count": null,
   "id": "8a242589",
   "metadata": {},
   "outputs": [],
   "source": [
    "# Setup\n",
    "# You may import math if needed in your solutions.\n",
    "import math"
   ]
  },
  {
   "cell_type": "markdown",
   "id": "f70831e7",
   "metadata": {},
   "source": [
    "## **Question 1**: Conditional Logic - Projectile Motion Analysis"
   ]
  },
  {
   "cell_type": "markdown",
   "id": "b9455839",
   "metadata": {
    "deletable": false,
    "editable": false
   },
   "source": [
    "### Q1a: Projectile Launch Classification\n",
    "A projectile is launched with initial velocity components v_x (m/s) and v_y (m/s). Write a function `classify_projectile(v_x, v_y)` that returns a string classification:\n",
    "- \"vertical_up\" if v_x = 0 and v_y > 0\n",
    "- \"vertical_down\" if v_x = 0 and v_y < 0  \n",
    "- \"horizontal\" if v_x ≠ 0 and v_y = 0\n",
    "- \"oblique_up\" if v_x ≠ 0 and v_y > 0\n",
    "- \"oblique_down\" if v_x ≠ 0 and v_y < 0\n",
    "- \"stationary\" if v_x = 0 and v_y = 0"
   ]
  },
  {
   "cell_type": "code",
   "execution_count": null,
   "id": "0639fb7a",
   "metadata": {
    "tags": [
     "otter_answer_cell"
    ]
   },
   "outputs": [],
   "source": [
    "def classify_projectile(v_x, v_y):\n",
    "    # Write your code here!"
   ]
  },
  {
   "cell_type": "code",
   "execution_count": null,
   "id": "d45819b1",
   "metadata": {
    "deletable": false,
    "editable": false
   },
   "outputs": [],
   "source": [
    "grader.check(\"q1a\")"
   ]
  },
  {
   "cell_type": "markdown",
   "id": "7bbe0c00",
   "metadata": {
    "deletable": false,
    "editable": false
   },
   "source": [
    "### Q1b: Range and Flight Time Calculator\n",
    "Building on Q1a, write a function `calculate_projectile_motion(v_x, v_y, g=9.8)` that calculates projectile motion parameters. Use your `classify_projectile` function from Q1a and return different values based on the projectile type:\n",
    "\n",
    "- For \"stationary\": return (0, 0) for (range, flight_time)\n",
    "- For \"vertical_up\": return (0, flight_time) where flight_time = 2*|v_y|/g\n",
    "- For \"vertical_down\": return (0, 0) since it hits the ground immediately at launch height\n",
    "- For \"horizontal\": return (0, 0) since it hits the ground immediately at launch height\n",
    "- For \"oblique_up\": return (range, flight_time) where:\n",
    "  - flight_time = 2*v_y/g  \n",
    "  - range = v_x * flight_time\n",
    "- For \"oblique_down\": return (0, 0) since it hits the ground immediately\n",
    "\n",
    "Return a tuple (range, flight_time)."
   ]
  },
  {
   "cell_type": "code",
   "execution_count": null,
   "id": "94a592ba",
   "metadata": {
    "tags": [
     "otter_answer_cell"
    ]
   },
   "outputs": [],
   "source": [
    "def calculate_projectile_motion(v_x, v_y, g=9.8):\n",
    "    # Write your code here!\n",
    "    # Hint: Use your classify_projectile function from Q1a"
   ]
  },
  {
   "cell_type": "code",
   "execution_count": null,
   "id": "8e755608",
   "metadata": {
    "deletable": false,
    "editable": false
   },
   "outputs": [],
   "source": [
    "grader.check(\"q1b\")"
   ]
  },
  {
   "cell_type": "markdown",
   "id": "d4cab59f",
   "metadata": {
    "deletable": false,
    "editable": false
   },
   "source": [
    "### Q1c: Safety Assessment\n",
    "Building on your previous functions, write `assess_projectile_safety(v_x, v_y, max_range=100, max_height=50, g=9.8)` that determines if a projectile launch is safe. Use your previous functions and return a string:\n",
    "\n",
    "- \"SAFE\" if:\n",
    "  - The projectile is \"stationary\", OR\n",
    "  - For \"vertical_up\": maximum height ≤ max_height (max_height = v_y²/(2g)), OR\n",
    "  - For \"vertical_down\": always return \"SAFE\" (hits ground immediately), OR  \n",
    "  - For \"horizontal\": always return \"SAFE\" (hits ground immediately), OR\n",
    "  - For \"oblique_up\": range ≤ max_range AND max_height ≤ max_height, OR\n",
    "  - For \"oblique_down\": always return \"SAFE\" (hits ground immediately)\n",
    "\n",
    "- \"UNSAFE\" otherwise\n",
    "\n",
    "- For any trajectory that exceeds limits, return \"UNSAFE\""
   ]
  },
  {
   "cell_type": "code",
   "execution_count": null,
   "id": "315ba3e8",
   "metadata": {
    "tags": [
     "otter_answer_cell"
    ]
   },
   "outputs": [],
   "source": [
    "def assess_projectile_safety(v_x, v_y, max_range=100, max_height=50, g=9.8):\n",
    "    # Write your code here!\n",
    "    # Hint: Use your classify_projectile and calculate_projectile_motion functions"
   ]
  },
  {
   "cell_type": "code",
   "execution_count": null,
   "id": "a607436b",
   "metadata": {
    "deletable": false,
    "editable": false
   },
   "outputs": [],
   "source": [
    "grader.check(\"q1c\")"
   ]
  },
  {
   "cell_type": "markdown",
   "id": "710bfc47",
   "metadata": {},
   "source": [
    "## **Question 2**: For Loops - Oscillations and Wave Analysis"
   ]
  },
  {
   "cell_type": "markdown",
   "id": "426c2515",
   "metadata": {
    "deletable": false,
    "editable": false
   },
   "source": [
    "### Q2a: Simple Harmonic Motion Analysis\n",
    "Write a function `analyze_oscillation(amplitude, num_points, periods=1, T=1.0)` that calculates the position of a simple harmonic oscillator at equally spaced time intervals over the given number of `periods`.\n",
    "\n",
    "The position is given by: x(t) = amplitude * cos(2π * t / T) where T is the period.\n",
    "\n",
    "The time should range in even spaces between 0 and (periods * T) - (periods * T)/num_points\n",
    "\n",
    "Return a list of position values (floats). (`.append()` within the for loop can be useful here)"
   ]
  },
  {
   "cell_type": "code",
   "execution_count": null,
   "id": "b0071226",
   "metadata": {
    "tags": [
     "otter_answer_cell"
    ]
   },
   "outputs": [],
   "source": [
    "def analyze_oscillation(amplitude, num_points, periods=1, T=1.0):\n",
    "    # Write your code here!\n",
    "    # Use a for loop with range(num_points)"
   ]
  },
  {
   "cell_type": "code",
   "execution_count": null,
   "id": "3bb386e5",
   "metadata": {
    "deletable": false,
    "editable": false
   },
   "outputs": [],
   "source": [
    "grader.check(\"q2a\")"
   ]
  },
  {
   "cell_type": "markdown",
   "id": "e716e93b",
   "metadata": {
    "deletable": false,
    "editable": false
   },
   "source": [
    "### Q2b: Wave Interference Analysis\n",
    "Write a function `analyze_wave_interference(frequencies, amplitudes, time=0)` that calculates the total displacement from multiple interfering waves at a given time.\n",
    "\n",
    "Each wave follows: y_i(t) = A_i * sin(2π * f_i * t) where A_i is amplitude and f_i is frequency.\n",
    "\n",
    "The function takes:\n",
    "- `frequencies`: a list of wave frequencies (Hz)\n",
    "- `amplitudes`: a list of corresponding amplitudes (same length as frequencies)  \n",
    "- `time`: time at which to evaluate (default 0)\n",
    "\n",
    "Use a for loop to iterate over the frequency and amplitude lists simultaneously and sum all wave contributions.\n",
    "\n",
    "Return the total displacement (float).\n",
    "\n",
    "If empty lists are passed, the function should return 0 because there is no wave displacement."
   ]
  },
  {
   "cell_type": "code",
   "execution_count": null,
   "id": "fcc221ea",
   "metadata": {
    "tags": [
     "otter_answer_cell"
    ]
   },
   "outputs": [],
   "source": [
    "def analyze_wave_interference(frequencies, amplitudes, time=0):\n",
    "    # Write your code here!"
   ]
  },
  {
   "cell_type": "code",
   "execution_count": null,
   "id": "efc2c762",
   "metadata": {
    "deletable": false,
    "editable": false
   },
   "outputs": [],
   "source": [
    "grader.check(\"q2b\")"
   ]
  },
  {
   "cell_type": "markdown",
   "id": "2a61d3d6",
   "metadata": {
    "deletable": false,
    "editable": false
   },
   "source": [
    "If you accidentally make an infinite loop or infinite recursion in the following questions, you may be unable to run more cells. If this happens, restart the kernel, and if that doesn't fix it, save the notebook, and click the assignment link again on bCourses to start a new datahub session. "
   ]
  },
  {
   "cell_type": "markdown",
   "id": "03b78df7",
   "metadata": {
    "deletable": false,
    "editable": false
   },
   "source": [
    "## **Question 3**: Recursive Functions"
   ]
  },
  {
   "cell_type": "markdown",
   "id": "c40f7ce3",
   "metadata": {
    "deletable": false,
    "editable": false
   },
   "source": [
    "### Example: Recursive Factorial Function\n",
    "\n",
    "Recursion is a programming technique where a function calls itself to solve a problem by breaking it down into smaller, similar subproblems. A recursive function typically has two key components:\n",
    "\n",
    "1. **Base case**: A condition that stops the recursion\n",
    "2. **Recursive case**: The function calls itself with a modified input\n",
    "\n",
    "Here's an example of a recursive function to compute factorials:\n",
    "\n",
    "```python\n",
    "def factorial(n):\n",
    "    # Base case: factorial of 0 or 1 is 1\n",
    "    if n <= 1:\n",
    "        return 1\n",
    "    # Recursive case: n! = n * (n-1)!\n",
    "    else:\n",
    "        return n * factorial(n - 1)\n",
    "```\n",
    "\n",
    "This function works by recognizing that `n! = n × (n-1)!`, and continues calling itself with smaller values until it reaches the base case."
   ]
  },
  {
   "cell_type": "markdown",
   "id": "68b8ddb6",
   "metadata": {
    "deletable": false,
    "editable": false
   },
   "source": [
    "### Q3a: Recursive Fibonacci Function\n",
    "\n",
    "Write a recursive function `fibonacci(n)` that returns the nth Fibonacci number. The Fibonacci sequence is defined as:\n",
    "- F(0) = 0\n",
    "- F(1) = 1  \n",
    "- F(n) = F(n-1) + F(n-2) for n ≥ 2\n",
    "\n",
    "Your function should handle the base cases (n=0 and n=1) and use recursion for larger values.\n",
    "\n",
    "Return an integer."
   ]
  },
  {
   "cell_type": "code",
   "execution_count": null,
   "id": "a357f4cb",
   "metadata": {
    "tags": [
     "otter_answer_cell"
    ]
   },
   "outputs": [],
   "source": [
    "def fibonacci(n):\n",
    "    # Write your code here!"
   ]
  },
  {
   "cell_type": "code",
   "execution_count": null,
   "id": "c1675e12",
   "metadata": {
    "deletable": false,
    "editable": false
   },
   "outputs": [],
   "source": [
    "grader.check(\"q3a\")"
   ]
  },
  {
   "cell_type": "markdown",
   "id": "de247df4",
   "metadata": {
    "deletable": false,
    "editable": false
   },
   "source": [
    "### Q3b: Recursive List Sum\n",
    "\n",
    "Write a recursive function `recursive_sum(numbers)` that calculates the sum of all elements in a list of numbers using recursion.\n",
    "\n",
    "Your function should:\n",
    "- **Base case**: If the list is empty, return 0\n",
    "- **Recursive case**: Return the first element plus the sum of the rest of the list\n",
    "\n",
    "Hint: You can use `numbers[1:]` to get the list without the first element.\n",
    "\n",
    "Return a number (int or float)."
   ]
  },
  {
   "cell_type": "code",
   "execution_count": null,
   "id": "aa795d93",
   "metadata": {
    "tags": [
     "otter_answer_cell"
    ]
   },
   "outputs": [],
   "source": [
    "def recursive_sum(numbers):\n",
    "    # Write your code here!"
   ]
  },
  {
   "cell_type": "code",
   "execution_count": null,
   "id": "0064bd72",
   "metadata": {
    "deletable": false,
    "editable": false
   },
   "outputs": [],
   "source": [
    "grader.check(\"q3b\")"
   ]
  },
  {
   "cell_type": "markdown",
   "id": "7aa37061",
   "metadata": {
    "deletable": false,
    "editable": false
   },
   "source": [
    "## Question 4: While Loops - Physical System Simulation\n",
    "\n",
    "In physics, while loops are commonly used to simulate systems that evolve over time until certain conditions are met. This question explores two important applications of while loops in physics computations.\n",
    "\n",
    "---\n",
    "\n",
    "### Q4a: Radioactive Decay Simulation\n",
    "\n",
    "Write a function `radioactive_decay(initial_atoms, half_life, threshold)` that simulates radioactive decay using a while loop. The function should:\n",
    "\n",
    "- Start with `initial_atoms` radioactive atoms\n",
    "- Use a while loop that continues **while the number of atoms is greater than the threshold**\n",
    "- In each time step (representing one half-life period), reduce the number of atoms by half\n",
    "- Count how many half-life periods it takes to reach the threshold\n",
    "- Return a tuple `(final_atoms, time_periods)` where `final_atoms` is the remaining atoms and `time_periods` is the number of half-life periods elapsed\n",
    "\n",
    "**Physics Note**: Radioactive decay follows the equation N(t) = N₀ × (1/2)^(t/t₁/₂), where N₀ is initial atoms, t is time, and t₁/₂ is the half-life.\n",
    "\n",
    "Return a tuple of (int, int)."
   ]
  },
  {
   "cell_type": "code",
   "execution_count": null,
   "id": "338f89c7",
   "metadata": {
    "tags": [
     "otter_answer_cell"
    ]
   },
   "outputs": [],
   "source": [
    "def radioactive_decay(initial_atoms, half_life, threshold):\n",
    "    # Write your code here!"
   ]
  },
  {
   "cell_type": "code",
   "execution_count": null,
   "id": "1e8b4ddf",
   "metadata": {
    "deletable": false,
    "editable": false
   },
   "outputs": [],
   "source": [
    "grader.check(\"q4a\")"
   ]
  },
  {
   "cell_type": "markdown",
   "id": "9820beac",
   "metadata": {
    "deletable": false,
    "editable": false
   },
   "source": [
    "### Q4b: Chaotic System Analyzer\n",
    "\n",
    "In physics, chaotic systems exhibit sensitive dependence on initial conditions. The logistic map is a famous example: `x_next = r * x * (1 - x)`, where different values of `r` lead to different behaviors.\n",
    "\n",
    "First, we provide you with a function that implements the logistic map:\n",
    "\n",
    "```python\n",
    "def logistic_map(x, r):\n",
    "    \"\"\"Apply one iteration of the logistic map: x_next = r * x * (1 - x)\"\"\"\n",
    "    return r * x * (1 - x)\n",
    "```\n",
    "\n",
    "Now write a function `find_fixed_point(initial_x, r, tolerance=0.001, max_iterations=1000)` that uses the logistic map to find when the system reaches a fixed point (or gets close to one). The function should:\n",
    "\n",
    "- Start with the given `initial_x` value\n",
    "- Use `while True:` to create an infinite loop\n",
    "- In each iteration, apply the logistic map: `x = logistic_map(x, r)`\n",
    "- **Break the loop** when either:\n",
    "  - The change between consecutive iterations is less than `tolerance` (system has stabilized)\n",
    "  - OR when `max_iterations` is reached\n",
    "- Return a tuple `(final_x, iterations_used)` where `final_x` is the final x value and `iterations_used` is how many iterations it took. (this will be equal to the number of times you called the logistic map function)\n",
    "\n",
    "**Physics Note**: For r < 1, the system dies out. For 1 < r < 3, it converges to a fixed point. For r > 3, more complex behaviors emerge.\n",
    "\n",
    "Return a tuple of (float, int)."
   ]
  },
  {
   "cell_type": "code",
   "execution_count": null,
   "id": "815c9d63",
   "metadata": {
    "tags": [
     "otter_answer_cell"
    ]
   },
   "outputs": [],
   "source": [
    "# Provided helper function for the logistic map\n",
    "def logistic_map(x, r):\n",
    "    \"\"\"Apply one iteration of the logistic map: x_next = r * x * (1 - x)\"\"\"\n",
    "    return r * x * (1 - x)\n",
    "\n",
    "def find_fixed_point(initial_x, r, tolerance=0.001, max_iterations=1000):\n",
    "    # Write your code here!"
   ]
  },
  {
   "cell_type": "code",
   "execution_count": null,
   "id": "ae5534de",
   "metadata": {
    "deletable": false,
    "editable": false
   },
   "outputs": [],
   "source": [
    "grader.check(\"q4b\")"
   ]
  },
  {
   "cell_type": "markdown",
   "id": "6a0b1b9c",
   "metadata": {},
   "source": [
    "## Question 5: Package Usage and Documentation\n",
    "\n",
    "SciPy is one of the most important packages for scientific computing in Python. You'll use two key modules:\n",
    "- `scipy.integrate` for numerical integration\n",
    "- `scipy.special` for special mathematical functions\n",
    "\n",
    "**Documentation resources:**\n",
    "- [SciPy Integration Guide](https://docs.scipy.org/doc/scipy/tutorial/integrate.html)\n",
    "- [SciPy Special Functions](https://docs.scipy.org/doc/scipy/reference/special.html)\n",
    "\n",
    "Note: The datahub environment already has scipy in the environment, if you were doing this on a local environment, you would have to run something like $pip install scipy or $conda install scipy in the command line to be able to import scipy."
   ]
  },
  {
   "cell_type": "markdown",
   "id": "d3440f85",
   "metadata": {
    "deletable": false,
    "editable": false
   },
   "source": [
    "### Q5a: Numerical Integration (10 points)\n",
    "Write a function `calculate_work_done(force_func, x_start, x_end)` that calculates the work done by a variable force over a displacement using numerical integration.\n",
    "\n",
    "In physics, work done by a variable force F(x) from position x₁ to x₂ is:\n",
    "$$W = \\int_{x_1}^{x_2} F(x) \\, dx$$\n",
    "\n",
    "Your function should:\n",
    "- Take a force function `force_func` (that takes position x and returns force)\n",
    "- Take starting position `x_start` and ending position `x_end`\n",
    "- Use `scipy.integrate.quad` to compute the integral\n",
    "- Return the work done in Joules\n",
    "\n",
    "**Hint:** You'll need to import `scipy.integrate.quad`. Look at the documentation to understand how to use it!"
   ]
  },
  {
   "cell_type": "code",
   "execution_count": null,
   "id": "5d41d993",
   "metadata": {
    "tags": [
     "otter_answer_cell"
    ]
   },
   "outputs": [],
   "source": [
    "# Write your code here! \n",
    "#import relevant package and define function"
   ]
  },
  {
   "cell_type": "code",
   "execution_count": null,
   "id": "b829cb50",
   "metadata": {
    "deletable": false,
    "editable": false
   },
   "outputs": [],
   "source": [
    "grader.check(\"q5a\")"
   ]
  },
  {
   "cell_type": "markdown",
   "id": "63a65fd4",
   "metadata": {
    "deletable": false,
    "editable": false
   },
   "source": [
    "### Q5b: Special Functions (10 points)\n",
    "\n",
    "Write a function `quantum_harmonic_oscillator(n, x)` that calculates the normalized wavefunction of a quantum harmonic oscillator using Hermite polynomials from `scipy.special`.\n",
    "\n",
    "The normalized wavefunction is:\n",
    "$$\\psi_n(x) = \\left(\\frac{m\\omega}{\\pi\\hbar}\\right)^{1/4} \\frac{1}{\\sqrt{2^n n!}} H_n\\left(\\sqrt{\\frac{m\\omega}{\\hbar}}x\\right) e^{-\\frac{m\\omega x^2}{2\\hbar}}$$\n",
    "\n",
    "For simplicity, we'll use dimensionless units where $\\sqrt{\\frac{m\\omega}{\\hbar}} = 1$, so:\n",
    "$$\\psi_n(x) = \\frac{1}{\\sqrt{2^n n! \\sqrt{\\pi}}} H_n(x) e^{-x^2/2}$$\n",
    "\n",
    "Your function should:\n",
    "- Take quantum number `n` (0, 1, 2, ...) and position `x`\n",
    "- Use scipy to evaluate the physicist's Hermite polynomial (not probabilist's)\n",
    "- Use scipy for the factorial\n",
    "- Return the wavefunction value ψₙ(x)"
   ]
  },
  {
   "cell_type": "code",
   "execution_count": null,
   "id": "7ff159c0",
   "metadata": {
    "tags": [
     "otter_answer_cell"
    ]
   },
   "outputs": [],
   "source": [
    "# Write your code here!"
   ]
  },
  {
   "cell_type": "code",
   "execution_count": null,
   "id": "1ef7f532",
   "metadata": {
    "deletable": false,
    "editable": false
   },
   "outputs": [],
   "source": [
    "grader.check(\"q5b\")"
   ]
  },
  {
   "cell_type": "markdown",
   "id": "0729aa75",
   "metadata": {
    "deletable": false,
    "editable": false
   },
   "source": [
    "## Required disclosure of use of AI technology\n",
    "\n",
    "Please indicate whether you used AI to complete this homework. If you did, explain how you used it in the python cell below, as a comment."
   ]
  },
  {
   "cell_type": "code",
   "execution_count": null,
   "id": "1833b062",
   "metadata": {
    "tags": [
     "otter_answer_cell"
    ]
   },
   "outputs": [],
   "source": [
    "\"\"\"\n",
    "# write ai disclosure here:\n",
    "\n",
    "\"\"\""
   ]
  },
  {
   "cell_type": "markdown",
   "id": "da7cdba4",
   "metadata": {
    "deletable": false,
    "editable": false
   },
   "source": [
    "## Submission\n",
    "\n",
    "Make sure you have run all cells in your notebook in order before running the cell below, so that all images/graphs appear in the output. The cell below will generate a zip file for you to submit.\n",
    "\n",
    "Upload the .zip file to Gradescope!"
   ]
  },
  {
   "cell_type": "code",
   "execution_count": null,
   "id": "4686c1ed",
   "metadata": {
    "deletable": false,
    "editable": false
   },
   "outputs": [],
   "source": [
    "grader.export(pdf=False, force_save=True, run_tests=True)"
   ]
  },
  {
   "cell_type": "markdown",
   "id": "aa0c704c",
   "metadata": {},
   "source": [
    " "
   ]
  }
 ],
 "metadata": {
  "kernelspec": {
   "display_name": "otter_grading",
   "language": "python",
   "name": "python3"
  },
  "language_info": {
   "codemirror_mode": {
    "name": "ipython",
    "version": 3
   },
   "file_extension": ".py",
   "mimetype": "text/x-python",
   "name": "python",
   "nbconvert_exporter": "python",
   "pygments_lexer": "ipython3",
   "version": "3.12.11"
  },
  "otter": {
   "OK_FORMAT": true,
   "tests": {
    "q1a": {
     "name": "q1a",
     "points": null,
     "suites": [
      {
       "cases": [
        {
         "code": ">>> classify_projectile(0, 10) == 'vertical_up'\nTrue",
         "hidden": false,
         "locked": false,
         "points": 1
        },
        {
         "code": ">>> classify_projectile(5, 0) == 'horizontal'\nTrue",
         "hidden": false,
         "locked": false,
         "points": 1
        },
        {
         "code": ">>> classify_projectile(3, 4) == 'oblique_up'\nTrue",
         "hidden": false,
         "locked": false,
         "points": 1
        }
       ],
       "scored": true,
       "setup": "",
       "teardown": "",
       "type": "doctest"
      }
     ]
    },
    "q1b": {
     "name": "q1b",
     "points": null,
     "suites": [
      {
       "cases": [
        {
         "code": ">>> range_val, flight_time = calculate_projectile_motion(10, 9.8)\n>>> abs(range_val - 20.0) < 1e-10 and abs(flight_time - 2.0) < 1e-10\nTrue",
         "hidden": false,
         "locked": false,
         "points": 1
        },
        {
         "code": ">>> calculate_projectile_motion(5, 0) == (0, 0)\nTrue",
         "hidden": false,
         "locked": false,
         "points": 1
        },
        {
         "code": ">>> range_val, flight_time = calculate_projectile_motion(0, 19.6)\n>>> range_val == 0 and abs(flight_time - 4.0) < 1e-10\nTrue",
         "hidden": false,
         "locked": false,
         "points": 1
        }
       ],
       "scored": true,
       "setup": "",
       "teardown": "",
       "type": "doctest"
      }
     ]
    },
    "q1c": {
     "name": "q1c",
     "points": null,
     "suites": [
      {
       "cases": [
        {
         "code": ">>> assess_projectile_safety(10, 9.8, max_range=100, max_height=50) == 'SAFE'\nTrue",
         "hidden": false,
         "locked": false,
         "points": 1
        },
        {
         "code": ">>> assess_projectile_safety(5, 0) == 'SAFE'\nTrue",
         "hidden": false,
         "locked": false,
         "points": 1
        },
        {
         "code": ">>> assess_projectile_safety(0, 0) == 'SAFE'\nTrue",
         "hidden": false,
         "locked": false,
         "points": 1
        }
       ],
       "scored": true,
       "setup": "",
       "teardown": "",
       "type": "doctest"
      }
     ]
    },
    "q2a": {
     "name": "q2a",
     "points": null,
     "suites": [
      {
       "cases": [
        {
         "code": ">>> result = analyze_oscillation(1.0, 4, 1)\n>>> expected = [1.0, 0.0, -1.0, 0.0]\n>>> all((abs(result[i] - expected[i]) < 1e-10 for i in range(4)))\nTrue",
         "hidden": false,
         "locked": false,
         "points": 1
        },
        {
         "code": ">>> result = analyze_oscillation(2.0, 1, 1)\n>>> abs(result[0] - 2.0) < 1e-10\nTrue",
         "hidden": false,
         "locked": false,
         "points": 1
        }
       ],
       "scored": true,
       "setup": "",
       "teardown": "",
       "type": "doctest"
      }
     ]
    },
    "q2b": {
     "name": "q2b",
     "points": null,
     "suites": [
      {
       "cases": [
        {
         "code": ">>> result = analyze_wave_interference([1], [2], time=0.25)\n>>> abs(result - 2.0) < 1e-10\nTrue",
         "hidden": false,
         "locked": false,
         "points": 1
        },
        {
         "code": ">>> result = analyze_wave_interference([1, 2], [1, 2], time=0.125)\n>>> abs(result - (1.0 * math.sin(math.pi / 4) + 2.0 * math.sin(math.pi / 2))) < 1e-10\nTrue",
         "hidden": false,
         "locked": false,
         "points": 1
        }
       ],
       "scored": true,
       "setup": "",
       "teardown": "",
       "type": "doctest"
      }
     ]
    },
    "q3a": {
     "name": "q3a",
     "points": null,
     "suites": [
      {
       "cases": [
        {
         "code": ">>> fibonacci(0) == 0 and fibonacci(1) == 1\nTrue",
         "hidden": false,
         "locked": false,
         "points": 1
        },
        {
         "code": ">>> fibonacci(2) == 1 and fibonacci(3) == 2 and (fibonacci(4) == 3)\nTrue",
         "hidden": false,
         "locked": false,
         "points": 1
        }
       ],
       "scored": true,
       "setup": "",
       "teardown": "",
       "type": "doctest"
      }
     ]
    },
    "q3b": {
     "name": "q3b",
     "points": null,
     "suites": [
      {
       "cases": [
        {
         "code": ">>> recursive_sum([]) == 0\nTrue",
         "hidden": false,
         "locked": false,
         "points": 1
        },
        {
         "code": ">>> recursive_sum([5]) == 5 and recursive_sum([1, 2, 3]) == 6 and (recursive_sum([0, 0, 0]) == 0)\nTrue",
         "hidden": false,
         "locked": false,
         "points": 1
        }
       ],
       "scored": true,
       "setup": "",
       "teardown": "",
       "type": "doctest"
      }
     ]
    },
    "q4a": {
     "name": "q4a",
     "points": null,
     "suites": [
      {
       "cases": [
        {
         "code": ">>> radioactive_decay(1000, 5730, 100) == (62, 4)\nTrue",
         "hidden": false,
         "locked": false,
         "points": 1
        },
        {
         "code": ">>> radioactive_decay(100, 1000, 100) == (100, 0)\nTrue",
         "hidden": false,
         "locked": false,
         "points": 1
        }
       ],
       "scored": true,
       "setup": "",
       "teardown": "",
       "type": "doctest"
      }
     ]
    },
    "q4b": {
     "name": "q4b",
     "points": null,
     "suites": [
      {
       "cases": [
        {
         "code": ">>> result = find_fixed_point(0.5, 2.5, tolerance=0.001)\n>>> abs(result[0] - 0.6) < 0.01 and result[1] < 100\nTrue",
         "hidden": false,
         "locked": false,
         "points": 1
        },
        {
         "code": ">>> result = find_fixed_point(0.8, 0.5, tolerance=0.001)\n>>> abs(result[0] - 0.0) < 0.01\nTrue",
         "hidden": false,
         "locked": false,
         "points": 1
        },
        {
         "code": ">>> result = find_fixed_point(0.3, 4.0, tolerance=0.001, max_iterations=50)\n>>> result[1] == 50\nTrue",
         "hidden": false,
         "locked": false,
         "points": 1
        }
       ],
       "scored": true,
       "setup": "",
       "teardown": "",
       "type": "doctest"
      }
     ]
    },
    "q5a": {
     "name": "q5a",
     "points": null,
     "suites": [
      {
       "cases": [
        {
         "code": ">>> def test_spring_force(x):\n...     return -10 * x\n>>> spring_work = calculate_work_done(test_spring_force, 0, 0.5)\n>>> abs(spring_work - -1.25) < 1e-10\nTrue",
         "hidden": false,
         "locked": false,
         "points": 1
        },
        {
         "code": ">>> def test_constant_force(x):\n...     return 5.0\n>>> constant_work = calculate_work_done(test_constant_force, 2, 7)\n>>> abs(constant_work - 25.0) < 1e-10\nTrue",
         "hidden": false,
         "locked": false,
         "points": 1
        }
       ],
       "scored": true,
       "setup": "",
       "teardown": "",
       "type": "doctest"
      }
     ]
    },
    "q5b": {
     "name": "q5b",
     "points": null,
     "suites": [
      {
       "cases": [
        {
         "code": ">>> psi_0_0 = quantum_harmonic_oscillator(0, 0)\n>>> expected_0_0 = math.pi ** (-0.25)\n>>> bool(abs(psi_0_0 - expected_0_0) < 1e-10)\nTrue",
         "hidden": false,
         "locked": false,
         "points": 1
        },
        {
         "code": ">>> psi_1_0 = quantum_harmonic_oscillator(1, 0)\n>>> bool(abs(psi_1_0 - 0) < 1e-10)\nTrue",
         "hidden": false,
         "locked": false,
         "points": 1
        }
       ],
       "scored": true,
       "setup": "",
       "teardown": "",
       "type": "doctest"
      }
     ]
    }
   }
  }
 },
 "nbformat": 4,
 "nbformat_minor": 5
}

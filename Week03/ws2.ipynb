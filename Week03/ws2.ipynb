{
 "cells": [
  {
   "cell_type": "code",
   "execution_count": null,
   "id": "e049f3e7",
   "metadata": {
    "deletable": false,
    "editable": false
   },
   "outputs": [],
   "source": [
    "# Initialize Otter\n",
    "import otter\n",
    "grader = otter.Notebook(\"ws2.ipynb\")"
   ]
  },
  {
   "cell_type": "markdown",
   "id": "5f9aab9f",
   "metadata": {},
   "source": [
    "### Workshop 2"
   ]
  },
  {
   "cell_type": "code",
   "execution_count": null,
   "id": "75e708a2",
   "metadata": {},
   "outputs": [],
   "source": [
    "# Setup\n",
    "# You may import math if needed in your solutions.\n",
    "import math"
   ]
  },
  {
   "cell_type": "markdown",
   "id": "7ac2b95d",
   "metadata": {
    "deletable": false,
    "editable": false
   },
   "source": [
    "## **Question 1**: Conditional Logic"
   ]
  },
  {
   "cell_type": "markdown",
   "id": "302effa4",
   "metadata": {
    "deletable": false,
    "editable": false
   },
   "source": [
    "### Q1a: Charge Classification\n",
    "A charged particle has charge q (in Coulombs). Write a function `classify_charge(q)` that returns a string classification:\n",
    "- \"positive\" if q > 0\n",
    "- \"negative\" if q < 0  \n",
    "- \"neutral\" if q = 0"
   ]
  },
  {
   "cell_type": "code",
   "execution_count": null,
   "id": "67223093",
   "metadata": {
    "tags": [
     "otter_answer_cell"
    ]
   },
   "outputs": [],
   "source": [
    "def classify_charge(q):\n",
    "    # Write your code here!"
   ]
  },
  {
   "cell_type": "code",
   "execution_count": null,
   "id": "b4c606d4",
   "metadata": {
    "deletable": false,
    "editable": false
   },
   "outputs": [],
   "source": [
    "grader.check(\"q1a\")"
   ]
  },
  {
   "cell_type": "markdown",
   "id": "b506e4fa",
   "metadata": {
    "deletable": false,
    "editable": false
   },
   "source": [
    "### Q1b: Electric Field Strength Classification\n",
    "Write a function `classify_electric_field(E)` that classifies the strength of an electric field E (in N/C):\n",
    "- \"weak\" if 0 ≤ |E| < 1000\n",
    "- \"moderate\" if 1000 ≤ |E| < 10000  \n",
    "- \"strong\" if 10000 ≤ |E| < 100000\n",
    "- \"extreme\" if |E| ≥ 100000\n",
    "\n",
    "Note: Use the absolute value of E since field strength since it's always positive, regardless of direction."
   ]
  },
  {
   "cell_type": "code",
   "execution_count": null,
   "id": "a2d339f9",
   "metadata": {
    "tags": [
     "otter_answer_cell"
    ]
   },
   "outputs": [],
   "source": [
    "def classify_electric_field(E):\n",
    "    # Write your code here!"
   ]
  },
  {
   "cell_type": "code",
   "execution_count": null,
   "id": "ff448fb8",
   "metadata": {
    "deletable": false,
    "editable": false
   },
   "outputs": [],
   "source": [
    "grader.check(\"q1b\")"
   ]
  },
  {
   "cell_type": "markdown",
   "id": "41522aac",
   "metadata": {
    "deletable": false,
    "editable": false
   },
   "source": [
    "### Q1c: Electromagnetic Force Calculator\n",
    "Building on your previous functions, write a function `calculate_electromagnetic_force(q1, q2, distance, k=8.99e9)` that calculates and classifies the electromagnetic force between two charges.\n",
    "\n",
    "The function should:\n",
    "- Calculate the force using Coulomb's law: F = k|q1*q2|/r²\n",
    "- Use your `classify_charge` function to determine the charges' types\n",
    "- Return a tuple (force_magnitude, force_type) where:\n",
    "  - `force_magnitude` is the absolute force value in Newtons\n",
    "  - `force_type` is:\n",
    "    - \"repulsive\" if both charges have the same sign (both positive or both negative)\n",
    "    - \"attractive\" if charges have opposite signs  \n",
    "    - \"no_force\" if either charge is neutral\n",
    "\n",
    "Note: k is Coulomb's constant (8.99×10⁹ N⋅m²/C²)"
   ]
  },
  {
   "cell_type": "code",
   "execution_count": null,
   "id": "7d96d0a9",
   "metadata": {
    "tags": [
     "otter_answer_cell"
    ]
   },
   "outputs": [],
   "source": [
    "def calculate_electromagnetic_force(q1, q2, distance, k=8.99e9):\n",
    "    # Write your code here!\n",
    "    # Hint: Use your classify_charge function from Q1a"
   ]
  },
  {
   "cell_type": "code",
   "execution_count": null,
   "id": "e249022d",
   "metadata": {
    "deletable": false,
    "editable": false
   },
   "outputs": [],
   "source": [
    "grader.check(\"q1c\")"
   ]
  },
  {
   "cell_type": "markdown",
   "id": "69425195",
   "metadata": {
    "deletable": false,
    "editable": false
   },
   "source": [
    "## **Question 2**: Dictionaries and Iteration - Periodic Table Analysis"
   ]
  },
  {
   "cell_type": "markdown",
   "id": "3267fda9",
   "metadata": {
    "deletable": false,
    "editable": false,
    "vscode": {
     "languageId": "raw"
    }
   },
   "source": [
    "You may find `dict.keys()` and `dict.values()` useful."
   ]
  },
  {
   "cell_type": "code",
   "execution_count": null,
   "id": "49b968f2",
   "metadata": {
    "deletable": false,
    "editable": false
   },
   "outputs": [],
   "source": [
    "# Periodic table dictionary: atomic number -> element name\n",
    "periodic_table = {\n",
    "    1: \"Hydrogen\", 2: \"Helium\", 3: \"Lithium\", 4: \"Beryllium\", 5: \"Boron\",\n",
    "    6: \"Carbon\", 7: \"Nitrogen\", 8: \"Oxygen\", 9: \"Fluorine\", 10: \"Neon\",\n",
    "    11: \"Sodium\", 12: \"Magnesium\", 13: \"Aluminum\", 14: \"Silicon\", 15: \"Phosphorus\",\n",
    "    16: \"Sulfur\", 17: \"Chlorine\", 18: \"Argon\", 19: \"Potassium\", 20: \"Calcium\",\n",
    "    21: \"Scandium\", 22: \"Titanium\", 23: \"Vanadium\", 24: \"Chromium\", 25: \"Manganese\",\n",
    "    26: \"Iron\", 27: \"Cobalt\", 28: \"Nickel\", 29: \"Copper\", 30: \"Zinc\",\n",
    "    31: \"Gallium\", 32: \"Germanium\", 33: \"Arsenic\", 34: \"Selenium\", 35: \"Bromine\",\n",
    "    36: \"Krypton\", 37: \"Rubidium\", 38: \"Strontium\", 39: \"Yttrium\", 40: \"Zirconium\",\n",
    "    41: \"Niobium\", 42: \"Molybdenum\", 43: \"Technetium\", 44: \"Ruthenium\", 45: \"Rhodium\",\n",
    "    46: \"Palladium\", 47: \"Silver\", 48: \"Cadmium\", 49: \"Indium\", 50: \"Tin\",\n",
    "    51: \"Antimony\", 52: \"Tellurium\", 53: \"Iodine\", 54: \"Xenon\", 55: \"Cesium\",\n",
    "    56: \"Barium\", 57: \"Lanthanum\", 58: \"Cerium\", 59: \"Praseodymium\", 60: \"Neodymium\",\n",
    "    61: \"Promethium\", 62: \"Samarium\", 63: \"Europium\", 64: \"Gadolinium\", 65: \"Terbium\",\n",
    "    66: \"Dysprosium\", 67: \"Holmium\", 68: \"Erbium\", 69: \"Thulium\", 70: \"Ytterbium\",\n",
    "    71: \"Lutetium\", 72: \"Hafnium\", 73: \"Tantalum\", 74: \"Tungsten\", 75: \"Rhenium\",\n",
    "    76: \"Osmium\", 77: \"Iridium\", 78: \"Platinum\", 79: \"Gold\", 80: \"Mercury\",\n",
    "    81: \"Thallium\", 82: \"Lead\", 83: \"Bismuth\", 84: \"Polonium\", 85: \"Astatine\",\n",
    "    86: \"Radon\", 87: \"Francium\", 88: \"Radium\", 89: \"Actinium\", 90: \"Thorium\",\n",
    "    91: \"Protactinium\", 92: \"Uranium\", 93: \"Neptunium\", 94: \"Plutonium\", 95: \"Americium\",\n",
    "    96: \"Curium\", 97: \"Berkelium\", 98: \"Californium\", 99: \"Einsteinium\", 100: \"Fermium\",\n",
    "    101: \"Mendelevium\", 102: \"Nobelium\", 103: \"Lawrencium\"\n",
    "}"
   ]
  },
  {
   "cell_type": "markdown",
   "id": "ccdd6420",
   "metadata": {
    "deletable": false,
    "editable": false
   },
   "source": [
    "### Q2a: Element Name Lookup\n",
    "Write a function `get_element_info(atomic_numbers)` that takes a list of atomic numbers and returns a list of element names using the `periodic_table` dictionary.\n",
    "\n",
    "The function should:\n",
    "- Take a list of atomic numbers (integers from 1 to 103)\n",
    "- Use the `periodic_table` dictionary to look up each element name\n",
    "- Return a list of element names in the same order as the input\n",
    "- If an atomic number is not in the dictionary (outside range 1-103), include \"Unknown\" in the result list\n",
    "\n",
    "Example: `get_element_info([1, 6, 8])` should return `[\"Hydrogen\", \"Carbon\", \"Oxygen\"]`"
   ]
  },
  {
   "cell_type": "code",
   "execution_count": null,
   "id": "7afcba6a",
   "metadata": {
    "tags": [
     "otter_answer_cell"
    ]
   },
   "outputs": [],
   "source": [
    "def get_element_info(atomic_numbers):\n",
    "    # Write your code here!"
   ]
  },
  {
   "cell_type": "code",
   "execution_count": null,
   "id": "ee426bd0",
   "metadata": {
    "deletable": false,
    "editable": false
   },
   "outputs": [],
   "source": [
    "grader.check(\"q2a\")"
   ]
  },
  {
   "cell_type": "markdown",
   "id": "0715d0b4",
   "metadata": {
    "deletable": false,
    "editable": false
   },
   "source": [
    "### Q2b: Atomic Number Lookup\n",
    "Write a function `get_atomic_numbers(element_names)` that takes a list of element names (strings) and returns a list of their corresponding atomic numbers using the `periodic_table` dictionary.\n",
    "\n",
    "The function should:\n",
    "- Take a list of element names (strings like \"Hydrogen\", \"Carbon\", etc.)\n",
    "- Use the `periodic_table` dictionary to find each element's atomic number\n",
    "- Return a list of atomic numbers in the same order as the input\n",
    "- If an element name is not found in the dictionary, include -1 in the result list\n",
    "\n",
    "Example: `get_atomic_numbers([\"Hydrogen\", \"Carbon\", \"Oxygen\"])` should return `[1, 6, 8]`\n",
    "\n",
    "Note: This will be case sensitive, so `\"oxygen\"` adds -1 to the list.\n",
    "\n",
    "Hint: You'll need to search through the dictionary to find which key has the matching value."
   ]
  },
  {
   "cell_type": "code",
   "execution_count": null,
   "id": "f8a0b7e6",
   "metadata": {
    "tags": [
     "otter_answer_cell"
    ]
   },
   "outputs": [],
   "source": [
    "def get_atomic_numbers(element_names):\n",
    "    # Write your code here!\n",
    "    # Hint: For each name, search through periodic_table.items() to find the matching atomic number"
   ]
  },
  {
   "cell_type": "code",
   "execution_count": null,
   "id": "ba6041cd",
   "metadata": {
    "deletable": false,
    "editable": false
   },
   "outputs": [],
   "source": [
    "grader.check(\"q2b\")"
   ]
  },
  {
   "cell_type": "markdown",
   "id": "0a736c05",
   "metadata": {
    "deletable": false,
    "editable": false
   },
   "source": [
    "## **Question 3**: Metrics on R^n"
   ]
  },
  {
   "cell_type": "markdown",
   "id": "de0ed44b",
   "metadata": {
    "deletable": false,
    "editable": false
   },
   "source": [
    "### Q3a: Euclidean Distance\n",
    "Implement the Euclidean distance between two points in $\\mathbb{R}^n$. The Euclidean distance is defined as:\n",
    "\n",
    "$$d_{\\text{euclidean}}(\\mathbf{p}, \\mathbf{q}) = \\sqrt{\\sum_{i=1}^{n} (p_i - q_i)^2}$$\n",
    "\n",
    "where $\\mathbf{p} = (p_1, p_2, \\ldots, p_n)$ and $\\mathbf{q} = (q_1, q_2, \\ldots, q_n)$ are two points in $\\mathbb{R}^n$.\n",
    "\n",
    "Write a function `euclidean_distance(point1, point2)` that calculates the Euclidean distance between two points in n-dimensional space.\n",
    "\n",
    "The function should:\n",
    "- Take two tuples representing points in n-dimensional space (e.g., `(1, 2)` for 2D, `(1, 2, 3)` for 3D)\n",
    "- Calculate the Euclidean distance using the formula above\n",
    "- Return the distance as a float\n",
    "- Work for any number of dimensions (as long as both points have the same dimension)\n",
    "\n",
    "Example: `euclidean_distance((0, 0), (3, 4))` should return `5.0`"
   ]
  },
  {
   "cell_type": "code",
   "execution_count": null,
   "id": "92ebe1fc",
   "metadata": {
    "tags": [
     "otter_answer_cell"
    ]
   },
   "outputs": [],
   "source": [
    "def euclidean_distance(point1, point2):\n",
    "    # Write your code here!"
   ]
  },
  {
   "cell_type": "code",
   "execution_count": null,
   "id": "9d5c60f5",
   "metadata": {
    "deletable": false,
    "editable": false
   },
   "outputs": [],
   "source": [
    "grader.check(\"q3a\")"
   ]
  },
  {
   "cell_type": "markdown",
   "id": "78f665a9",
   "metadata": {
    "deletable": false,
    "editable": false
   },
   "source": [
    "### Q3b: Manhattan Distance\n",
    "Implement the taxicab distance (also known as Manhattan distance) between two points in $\\mathbb{R}^n$. The taxicab distance is defined as:\n",
    "\n",
    "$$d_{\\text{taxicab}}(\\mathbf{p}, \\mathbf{q}) = \\sum_{i=1}^{n} |p_i - q_i|$$\n",
    "\n",
    "where $\\mathbf{p} = (p_1, p_2, \\ldots, p_n)$ and $\\mathbf{q} = (q_1, q_2, \\ldots, q_n)$ are two points in $\\mathbb{R}^n$."
   ]
  },
  {
   "cell_type": "markdown",
   "id": "5e5aec22",
   "metadata": {
    "deletable": false,
    "editable": false
   },
   "source": [
    "Write a function `taxicab_distance(point1, point2)` that calculates the taxicab distance between two points in $\\mathbb{R}^n$.\n",
    "\n",
    "The function should:\n",
    "- Take two tuples representing points in n-dimensional space (e.g., `(1, 2)` for 2D, `(1, 2, 3)` for 3D)\n",
    "- Calculate the taxicab distance using the formula: d = Σ|x_i - y_i|\n",
    "- Return the distance as a float\n",
    "- Work for any number of dimensions (as long as both points have the same dimension)\n",
    "\n",
    "Example: `taxicab_distance((0, 0), (3, 4))` should return `7.0`"
   ]
  },
  {
   "cell_type": "code",
   "execution_count": null,
   "id": "2b7f32d8",
   "metadata": {
    "tags": [
     "otter_answer_cell"
    ]
   },
   "outputs": [],
   "source": [
    "def taxicab_distance(point1, point2):\n",
    "    # Write your code here!"
   ]
  },
  {
   "cell_type": "code",
   "execution_count": null,
   "id": "3420e8cd",
   "metadata": {
    "deletable": false,
    "editable": false
   },
   "outputs": [],
   "source": [
    "grader.check(\"q3b\")"
   ]
  },
  {
   "cell_type": "markdown",
   "id": "e430a51b",
   "metadata": {
    "deletable": false,
    "editable": false
   },
   "source": [
    "### Q3c: Distance Threshold\n",
    "Implement a function that filters points based on their distance from a reference point using a specified metric.\n",
    "\n",
    "Write a function `filter_points_by_distance(point, distance, point_list, metric)` that returns all points in `point_list` that are at most `distance` away from `point`, using the specified distance metric."
   ]
  },
  {
   "cell_type": "markdown",
   "id": "e612c7e9",
   "metadata": {
    "deletable": false,
    "editable": false
   },
   "source": [
    "The function should:\n",
    "- Take a reference point (tuple/list), maximum distance (float), list of candidate points, and metric string\n",
    "- Use the specified metric to calculate distances: \"euclidean\" or \"taxicab\"\n",
    "- Return a list of points that are within the specified distance (inclusive)\n",
    "- The returned list should maintain the original order of points from `point_list`\n",
    "\n",
    "Parameters:\n",
    "- `point`: Reference point (tuple/list)\n",
    "- `distance`: Maximum distance threshold (float)\n",
    "- `point_list`: List of candidate points to filter\n",
    "- `metric`: String specifying distance metric (\"euclidean\" or \"taxicab\")\n",
    "\n",
    "Example: `filter_points_by_distance((0, 0), 5.0, [(1, 1), (3, 4), (6, 8)], \"euclidean\")` should return `[(1, 1), (3, 4)]`"
   ]
  },
  {
   "cell_type": "code",
   "execution_count": null,
   "id": "31d53c3f",
   "metadata": {
    "tags": [
     "otter_answer_cell"
    ]
   },
   "outputs": [],
   "source": [
    "def filter_points_by_distance(point, distance, point_list, metric):\n",
    "    # Write your code here!"
   ]
  },
  {
   "cell_type": "code",
   "execution_count": null,
   "id": "1711a404",
   "metadata": {
    "deletable": false,
    "editable": false
   },
   "outputs": [],
   "source": [
    "grader.check(\"q3c\")"
   ]
  },
  {
   "cell_type": "markdown",
   "id": "e47350e9",
   "metadata": {
    "deletable": false,
    "editable": false
   },
   "source": [
    "## **Question 4**: Matrix Computations with SciPy\n",
    "\n",
    "In this question, you'll explore matrix operations using SciPy's linear algebra module. You'll need to import and use functions from `scipy.linalg` and represent matrices as NumPy arrays.\n",
    "\n",
    "**Documentation**: [SciPy Linear Algebra Documentation](https://docs.scipy.org/doc/scipy/reference/linalg.html)\n",
    "\n",
    "**Matrix Multiplication**: You can multiply matrices using `np.matmul(A, B)` or the `@` operator: `A @ B` when the matrices are represented by numpy arrays."
   ]
  },
  {
   "cell_type": "code",
   "execution_count": null,
   "id": "6a5864fa",
   "metadata": {
    "deletable": false,
    "editable": false
   },
   "outputs": [],
   "source": [
    "# Import necessary libraries for matrix computations\n",
    "import numpy as np\n",
    "import scipy.linalg"
   ]
  },
  {
   "cell_type": "markdown",
   "id": "55dbfe3e",
   "metadata": {
    "deletable": false,
    "editable": false
   },
   "source": [
    "### Q4a: Matrix Operations and Properties\n",
    "\n",
    "Write a function `analyze_matrix(A)` that computes several important properties of a square matrix using `scipy.linalg` functions.\n",
    "\n",
    "The function should:\n",
    "- Take a square matrix `A` (as a NumPy array)\n",
    "- Calculate the determinant of A\n",
    "- Calculate the trace of A (sum of diagonal elements)\n",
    "- Calculate the matrix norm of A (Frobenius Norm)\n",
    "- Return a tuple `(determinant, trace, norm)` as floats\n",
    "\n",
    "Look through the scipy.linalg documentation to find the appropriate functions for these calculations.\n",
    "\n",
    "Example: For a 2×2 identity matrix, the function should return `(1.0, 2.0, sqrt(2))`"
   ]
  },
  {
   "cell_type": "code",
   "execution_count": null,
   "id": "e37a30e7",
   "metadata": {
    "tags": [
     "otter_answer_cell"
    ]
   },
   "outputs": [],
   "source": [
    "def analyze_matrix(A):\n",
    "    # Write your code here!\n",
    "    # Hint: Look for det, trace, and norm functions in scipy.linalg documentation"
   ]
  },
  {
   "cell_type": "code",
   "execution_count": null,
   "id": "aa198486",
   "metadata": {
    "deletable": false,
    "editable": false
   },
   "outputs": [],
   "source": [
    "grader.check(\"q4a\")"
   ]
  },
  {
   "cell_type": "markdown",
   "id": "7fe4ac17",
   "metadata": {
    "deletable": false,
    "editable": false
   },
   "source": [
    "### Q4b: Eigenvalues and Eigenvectors\n",
    "\n",
    "Write a function `find_dominant_eigenvalue(A)` that finds the eigenvalue with the largest absolute value (magnitude) and its corresponding eigenvector.\n",
    "\n",
    "The function should:\n",
    "- Take a square matrix `A` (as a NumPy array)\n",
    "- Calculate all eigenvalues and eigenvectors of A\n",
    "- Find the eigenvalue with the largest absolute value (the \"dominant\" eigenvalue)\n",
    "- Return a tuple `(dominant_eigenvalue, corresponding_eigenvector)` where both are real numbers/arrays\n",
    "- If the dominant eigenvalue/eigenvector is complex, return its real part (You may find the numpy array methods .iscomplexobj and .real useful here)\n",
    "- The eigenvector should be normalized (unit length) (look into whether this is default for scipy function you end up using)\n",
    "- In the degenerate case, return just one of the eigenvectors\n",
    "\n",
    "Look through the scipy.linalg documentation to find functions for eigenvalue/eigenvector computation.\n",
    "\n",
    "Example: For the matrix `[[3, 1], [0, 2]]`, the dominant eigenvalue should be 3.0"
   ]
  },
  {
   "cell_type": "code",
   "execution_count": null,
   "id": "1a55096e",
   "metadata": {
    "tags": [
     "otter_answer_cell"
    ]
   },
   "outputs": [],
   "source": [
    "def find_dominant_eigenvalue(A):\n",
    "    # Write your code here!"
   ]
  },
  {
   "cell_type": "code",
   "execution_count": null,
   "id": "3681caac",
   "metadata": {
    "deletable": false,
    "editable": false
   },
   "outputs": [],
   "source": [
    "grader.check(\"q4b\")"
   ]
  },
  {
   "cell_type": "markdown",
   "id": "bd5808fa",
   "metadata": {
    "deletable": false,
    "editable": false
   },
   "source": [
    "### Q4c: Linear Regression using Matrix Operations\n",
    "\n",
    "Write a function `linear_regression(X, y)` that performs linear regression using matrix operations to find the best-fit coefficients.\n",
    "\n",
    "**Matrix Formula for Linear Regression:**\n",
    "$$\\boldsymbol{\\beta} = (\\mathbf{X}^T \\mathbf{X})^{-1} \\mathbf{X}^T \\mathbf{y}$$\n",
    "\n",
    "Where:\n",
    "- $\\mathbf{X}$ is the design matrix (already includes a column of ones for the intercept)\n",
    "- $\\mathbf{y}$ is the target vector\n",
    "- $\\boldsymbol{\\beta}$ contains the coefficients (intercept and slopes)\n",
    "\n",
    "The function should:\n",
    "- Take design matrix `X` (n×m array where n=samples, m=features including intercept column) and target vector `y` (n×1)\n",
    "- Use the matrix formula above with scipy.linalg functions to compute coefficients\n",
    "- Return the coefficient vector β as a NumPy array\n",
    "\n",
    "Use scipy.linalg functions for matrix operations (transpose, matrix multiplication, inverse)."
   ]
  },
  {
   "cell_type": "code",
   "execution_count": null,
   "id": "b039fcee",
   "metadata": {
    "tags": [
     "otter_answer_cell"
    ]
   },
   "outputs": [],
   "source": [
    "def linear_regression(X, y):\n",
    "    # Write your code here!"
   ]
  },
  {
   "cell_type": "code",
   "execution_count": null,
   "id": "0263e280",
   "metadata": {
    "deletable": false,
    "editable": false
   },
   "outputs": [],
   "source": [
    "grader.check(\"q4c\")"
   ]
  },
  {
   "cell_type": "markdown",
   "id": "1b155452",
   "metadata": {
    "deletable": false,
    "editable": false
   },
   "source": [
    "## Required disclosure of use of AI technology\n",
    "\n",
    "Please indicate whether you used AI to complete this homework. If you did, explain how you used it in the python cell below, as a comment."
   ]
  },
  {
   "cell_type": "code",
   "execution_count": null,
   "id": "1d088d33",
   "metadata": {
    "tags": [
     "otter_answer_cell"
    ]
   },
   "outputs": [],
   "source": [
    "\"\"\"\n",
    "# write ai disclosure here:\n",
    "\n",
    "\"\"\""
   ]
  },
  {
   "cell_type": "markdown",
   "id": "a92ce0fa",
   "metadata": {
    "deletable": false,
    "editable": false
   },
   "source": [
    "## Submission\n",
    "\n",
    "Make sure you have run all cells in your notebook in order before running the cell below, so that all images/graphs appear in the output. The cell below will generate a zip file for you to submit.\n",
    "\n",
    "Upload the .zip file to Gradescope!"
   ]
  },
  {
   "cell_type": "code",
   "execution_count": null,
   "id": "3df60da7",
   "metadata": {
    "deletable": false,
    "editable": false
   },
   "outputs": [],
   "source": [
    "grader.export(pdf=False, force_save=True, run_tests=True)"
   ]
  },
  {
   "cell_type": "markdown",
   "id": "246fda45",
   "metadata": {},
   "source": [
    " "
   ]
  }
 ],
 "metadata": {
  "kernelspec": {
   "display_name": "otter_grading",
   "language": "python",
   "name": "python3"
  },
  "language_info": {
   "codemirror_mode": {
    "name": "ipython",
    "version": 3
   },
   "file_extension": ".py",
   "mimetype": "text/x-python",
   "name": "python",
   "nbconvert_exporter": "python",
   "pygments_lexer": "ipython3",
   "version": "3.12.11"
  },
  "otter": {
   "OK_FORMAT": true,
   "tests": {
    "q1a": {
     "name": "q1a",
     "points": null,
     "suites": [
      {
       "cases": [
        {
         "code": ">>> classify_charge(1.6e-19) == 'positive'\nTrue",
         "hidden": false,
         "locked": false,
         "points": 1
        },
        {
         "code": ">>> classify_charge(-1.6e-19) == 'negative'\nTrue",
         "hidden": false,
         "locked": false,
         "points": 1
        },
        {
         "code": ">>> classify_charge(0) == 'neutral'\nTrue",
         "hidden": false,
         "locked": false,
         "points": 1
        }
       ],
       "scored": true,
       "setup": "",
       "teardown": "",
       "type": "doctest"
      }
     ]
    },
    "q1b": {
     "name": "q1b",
     "points": null,
     "suites": [
      {
       "cases": [
        {
         "code": ">>> classify_electric_field(500) == 'weak'\nTrue",
         "hidden": false,
         "locked": false,
         "points": 1
        },
        {
         "code": ">>> classify_electric_field(5000) == 'moderate'\nTrue",
         "hidden": false,
         "locked": false,
         "points": 1
        },
        {
         "code": ">>> classify_electric_field(50000) == 'strong'\nTrue",
         "hidden": false,
         "locked": false,
         "points": 1
        },
        {
         "code": ">>> classify_electric_field(200000) == 'extreme'\nTrue",
         "hidden": false,
         "locked": false,
         "points": 1
        },
        {
         "code": ">>> classify_electric_field(-75000) == 'strong'\nTrue",
         "hidden": false,
         "locked": false,
         "points": 1
        },
        {
         "code": ">>> classify_electric_field(0) == 'weak'\nTrue",
         "hidden": false,
         "locked": false,
         "points": 1
        }
       ],
       "scored": true,
       "setup": "",
       "teardown": "",
       "type": "doctest"
      }
     ]
    },
    "q1c": {
     "name": "q1c",
     "points": null,
     "suites": [
      {
       "cases": [
        {
         "code": ">>> force, force_type = calculate_electromagnetic_force(1e-06, 2e-06, 0.1)\n>>> abs(force - 1.798) < 0.01 and force_type == 'repulsive'\nTrue",
         "hidden": false,
         "locked": false,
         "points": 1
        },
        {
         "code": ">>> force, force_type = calculate_electromagnetic_force(1e-06, -1e-06, 0.1)\n>>> abs(force - 0.899) < 0.01 and force_type == 'attractive'\nTrue",
         "hidden": false,
         "locked": false,
         "points": 1
        },
        {
         "code": ">>> force, force_type = calculate_electromagnetic_force(0, 1e-06, 0.1)\n>>> force == 0 and force_type == 'no_force'\nTrue",
         "hidden": false,
         "locked": false,
         "points": 1
        },
        {
         "code": ">>> force, force_type = calculate_electromagnetic_force(-2e-06, -3e-06, 0.05)\n>>> abs(force - 21.576) < 0.1 and force_type == 'repulsive'\nTrue",
         "hidden": false,
         "locked": false,
         "points": 1
        },
        {
         "code": ">>> force, force_type = calculate_electromagnetic_force(0, 0, 0.1)\n>>> force == 0 and force_type == 'no_force'\nTrue",
         "hidden": false,
         "locked": false,
         "points": 1
        }
       ],
       "scored": true,
       "setup": "",
       "teardown": "",
       "type": "doctest"
      }
     ]
    },
    "q2a": {
     "name": "q2a",
     "points": null,
     "suites": [
      {
       "cases": [
        {
         "code": ">>> get_element_info([1, 6, 8]) == ['Hydrogen', 'Carbon', 'Oxygen']\nTrue",
         "hidden": false,
         "locked": false,
         "points": 1
        },
        {
         "code": ">>> get_element_info([2, 10, 18]) == ['Helium', 'Neon', 'Argon']\nTrue",
         "hidden": false,
         "locked": false,
         "points": 1
        },
        {
         "code": ">>> get_element_info([104, 200]) == ['Unknown', 'Unknown']\nTrue",
         "hidden": false,
         "locked": false,
         "points": 1
        },
        {
         "code": ">>> get_element_info([79, 104, 26]) == ['Gold', 'Unknown', 'Iron']\nTrue",
         "hidden": false,
         "locked": false,
         "points": 1
        },
        {
         "code": ">>> get_element_info([]) == [] and get_element_info([47]) == ['Silver']\nTrue",
         "hidden": false,
         "locked": false,
         "points": 1
        }
       ],
       "scored": true,
       "setup": "",
       "teardown": "",
       "type": "doctest"
      }
     ]
    },
    "q2b": {
     "name": "q2b",
     "points": null,
     "suites": [
      {
       "cases": [
        {
         "code": ">>> get_atomic_numbers(['Hydrogen', 'Carbon', 'Oxygen']) == [1, 6, 8]\nTrue",
         "hidden": false,
         "locked": false,
         "points": 1
        },
        {
         "code": ">>> get_atomic_numbers(['Helium', 'Neon', 'Argon']) == [2, 10, 18]\nTrue",
         "hidden": false,
         "locked": false,
         "points": 1
        },
        {
         "code": ">>> get_atomic_numbers(['Iron', 'Gold', 'Silver']) == [26, 79, 47]\nTrue",
         "hidden": false,
         "locked": false,
         "points": 1
        },
        {
         "code": ">>> get_atomic_numbers(['Unknownium', 'Fakium']) == [-1, -1]\nTrue",
         "hidden": false,
         "locked": false,
         "points": 1
        },
        {
         "code": ">>> get_atomic_numbers(['Lithium', 'Unknownium', 'Fluorine']) == [3, -1, 9]\nTrue",
         "hidden": false,
         "locked": false,
         "points": 1
        },
        {
         "code": ">>> get_atomic_numbers([]) == [] and get_atomic_numbers(['Uranium']) == [92]\nTrue",
         "hidden": false,
         "locked": false,
         "points": 1
        },
        {
         "code": ">>> get_atomic_numbers(['Lead', 'lawrencium']) == [82, -1]\nTrue",
         "hidden": false,
         "locked": false,
         "points": 1
        }
       ],
       "scored": true,
       "setup": "",
       "teardown": "",
       "type": "doctest"
      }
     ]
    },
    "q3a": {
     "name": "q3a",
     "points": null,
     "suites": [
      {
       "cases": [
        {
         "code": ">>> abs(euclidean_distance((0, 0), (3, 4)) - 5.0) < 1e-10\nTrue",
         "hidden": false,
         "locked": false,
         "points": 1
        },
        {
         "code": ">>> abs(euclidean_distance((0, 0, 0), (1, 1, 1)) - math.sqrt(3)) < 1e-10\nTrue",
         "hidden": false,
         "locked": false,
         "points": 1
        },
        {
         "code": ">>> euclidean_distance((2, 3), (2, 3)) == 0.0\nTrue",
         "hidden": false,
         "locked": false,
         "points": 1
        },
        {
         "code": ">>> abs(euclidean_distance((1, 2, 3, 4), (5, 6, 7, 8)) - 8.0) < 1e-10\nTrue",
         "hidden": false,
         "locked": false,
         "points": 1
        }
       ],
       "scored": true,
       "setup": "",
       "teardown": "",
       "type": "doctest"
      }
     ]
    },
    "q3b": {
     "name": "q3b",
     "points": null,
     "suites": [
      {
       "cases": [
        {
         "code": ">>> taxicab_distance((0, 0), (3, 4)) == 7.0\nTrue",
         "hidden": false,
         "locked": false,
         "points": 1
        },
        {
         "code": ">>> taxicab_distance((1, 2, 3), (4, 6, 8)) == 12.0\nTrue",
         "hidden": false,
         "locked": false,
         "points": 1
        },
        {
         "code": ">>> taxicab_distance((1, 2, 3, 4, 5), (6, 7, 8, 9, 10)) == 25.0\nTrue",
         "hidden": false,
         "locked": false,
         "points": 1
        },
        {
         "code": ">>> taxicab_distance((2, 3), (2, 3)) == 0.0\nTrue",
         "hidden": false,
         "locked": false,
         "points": 1
        },
        {
         "code": ">>> taxicab_distance((-1, -2), (1, 2)) == 6.0\nTrue",
         "hidden": false,
         "locked": false,
         "points": 1
        }
       ],
       "scored": true,
       "setup": "",
       "teardown": "",
       "type": "doctest"
      }
     ]
    },
    "q3c": {
     "name": "q3c",
     "points": null,
     "suites": [
      {
       "cases": [
        {
         "code": ">>> points = [(0, 0), (1, 1), (3, 4), (2, 2)]\n>>> result = filter_points_by_distance((0, 0), 2.5, points, 'euclidean')\n>>> result == [(0, 0), (1, 1)]\nTrue",
         "hidden": false,
         "locked": false,
         "points": 1
        },
        {
         "code": ">>> points = [(0, 0), (1, 1), (3, 4), (2, 2)]\n>>> result = filter_points_by_distance((0, 1), 4, points, 'taxicab')\n>>> result == [(0, 0), (1, 1), (2, 2)]\nTrue",
         "hidden": false,
         "locked": false,
         "points": 1
        },
        {
         "code": ">>> points = [(5, 5), (6, 6), (7, 7)]\n>>> result = filter_points_by_distance((0, 0), 1, points, 'euclidean')\n>>> result == []\nTrue",
         "hidden": false,
         "locked": false,
         "points": 1
        },
        {
         "code": ">>> points_3d = [(0, 0, 0), (1, 1, 1), (2, 0, 0), (0, 2, 0), (0, 0, 2), (2, 2, 0), (2, 2, 2)]\n>>> result = filter_points_by_distance((0, 0, 0), 3, points_3d, 'taxicab')\n>>> result == [(0, 0, 0), (1, 1, 1), (2, 0, 0), (0, 2, 0), (0, 0, 2)]\nTrue",
         "hidden": false,
         "locked": false,
         "points": 1
        },
        {
         "code": ">>> points_5d = [(1, 2, 3, 4, 5), (6, 7, 8, 9, 10), (2, 2, 2, 2, 2), (0, 0, 0, 0, 0)]\n>>> result = filter_points_by_distance((0, 0, 0, 0, 0), 10, points_5d, 'euclidean')\n>>> result == [(1, 2, 3, 4, 5), (2, 2, 2, 2, 2), (0, 0, 0, 0, 0)]\nTrue",
         "hidden": false,
         "locked": false,
         "points": 1
        }
       ],
       "scored": true,
       "setup": "",
       "teardown": "",
       "type": "doctest"
      }
     ]
    },
    "q4a": {
     "name": "q4a",
     "points": null,
     "suites": [
      {
       "cases": [
        {
         "code": ">>> I2 = np.eye(2)\n>>> det, trace, norm = analyze_matrix(I2)\n>>> bool(abs(det - 1.0) < 1e-10 and abs(trace - 2.0) < 1e-10 and (abs(norm - np.sqrt(2)) < 1e-10))\nTrue",
         "hidden": false,
         "locked": false,
         "points": 1
        },
        {
         "code": ">>> A = np.array([[1, 2], [3, 4]])\n>>> det, trace, norm = analyze_matrix(A)\n>>> abs(det - -2.0) < 1e-10 and abs(trace - 5.0) < 1e-10\nTrue",
         "hidden": false,
         "locked": false,
         "points": 1
        },
        {
         "code": ">>> B = np.array([[2, 0, 0], [0, 3, 0], [0, 0, 4]])\n>>> det, trace, norm = analyze_matrix(B)\n>>> bool(abs(det - 24.0) < 1e-10 and abs(trace - 9.0) < 1e-10 and (abs(norm - np.sqrt(29)) < 1e-10))\nTrue",
         "hidden": false,
         "locked": false,
         "points": 1
        }
       ],
       "scored": true,
       "setup": "",
       "teardown": "",
       "type": "doctest"
      }
     ]
    },
    "q4b": {
     "name": "q4b",
     "points": null,
     "suites": [
      {
       "cases": [
        {
         "code": ">>> A = np.array([[3, 1], [0, 2]])\n>>> dominant_eigenval, dominant_eigenvec = find_dominant_eigenvalue(A)\n>>> abs(dominant_eigenval - 3.0) < 1e-10 and abs(scipy.linalg.norm(dominant_eigenvec) - 1.0) < 1e-10\nTrue",
         "hidden": false,
         "locked": false,
         "points": 1
        },
        {
         "code": ">>> B = np.array([[5, 0], [0, -2]])\n>>> dominant_eigenval, dominant_eigenvec = find_dominant_eigenvalue(B)\n>>> abs(dominant_eigenval - 5.0) < 1e-10\nTrue",
         "hidden": false,
         "locked": false,
         "points": 1
        },
        {
         "code": ">>> C = np.array([[4, 0], [0, 1]])\n>>> dominant_eigenval, dominant_eigenvec = find_dominant_eigenvalue(C)\n>>> abs(scipy.linalg.norm(dominant_eigenvec) - 1.0) < 1e-10\nTrue",
         "hidden": false,
         "locked": false,
         "points": 1
        }
       ],
       "scored": true,
       "setup": "",
       "teardown": "",
       "type": "doctest"
      }
     ]
    },
    "q4c": {
     "name": "q4c",
     "points": null,
     "suites": [
      {
       "cases": [
        {
         "code": ">>> X_simple = np.array([[1, 1], [1, 2], [1, 3], [1, 4]])\n>>> y_simple = np.array([3, 5, 7, 9])\n>>> beta = linear_regression(X_simple, y_simple)\n>>> bool(abs(beta[0] - 1.0) < 1e-10 and abs(beta[1] - 2.0) < 1e-10)\nTrue",
         "hidden": false,
         "locked": false,
         "points": 1
        },
        {
         "code": ">>> X_multi = np.array([[1, 1, 1], [1, 2, 1], [1, 3, 2], [1, 4, 2]])\n>>> y_multi = np.array([6, 9, 14, 17])\n>>> beta = linear_regression(X_multi, y_multi)\n>>> bool(abs(beta[0] - 1.0) < 1e-10 and abs(beta[1] - 3.0) < 1e-10 and (abs(beta[2] - 2.0) < 1e-10))\nTrue",
         "hidden": false,
         "locked": false,
         "points": 4
        },
        {
         "code": ">>> X_const = np.array([[1, 1], [1, 2], [1, 3]])\n>>> y_const = np.array([5, 5, 5])\n>>> beta = linear_regression(X_const, y_const)\n>>> bool(abs(beta[0] - 5.0) < 1e-10 and abs(beta[1])) < 1e-10\nTrue",
         "hidden": false,
         "locked": false,
         "points": 3
        }
       ],
       "scored": true,
       "setup": "",
       "teardown": "",
       "type": "doctest"
      }
     ]
    }
   }
  }
 },
 "nbformat": 4,
 "nbformat_minor": 5
}

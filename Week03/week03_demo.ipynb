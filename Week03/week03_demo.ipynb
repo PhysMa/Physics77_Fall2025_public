{
 "cells": [
  {
   "cell_type": "markdown",
   "id": "a5b0a9ed",
   "metadata": {},
   "source": [
    "# Week 03 Live Coding Demo: Flow Control, Imports, and Programming Foundations\n",
    "Topics: if/elif/else; for & while loops; recursion; modules & packages; package discovery; Python bytecode and .pyc files; compiled vs interpreted (with C/assembly mockups); GIL; why NumPy is fast."
   ]
  },
  {
   "cell_type": "markdown",
   "id": "767e6914",
   "metadata": {},
   "source": [
    "## 1. if / elif / else — piecewise physics logic"
   ]
  },
  {
   "cell_type": "code",
   "execution_count": null,
   "id": "1f1fc64b",
   "metadata": {},
   "outputs": [],
   "source": [
    "# kinetic energy regime based on KE value\n",
    "# KE = 0.5 * m * v^2\n",
    "def ke_regime(mass_kg, speed_m_s):\n",
    "    E = 0.5 * mass_kg * speed_m_s**2\n",
    "    if E < 1.0:\n",
    "        return \"low\"\n",
    "    elif E < 100.0:\n",
    "        return \"moderate\"\n",
    "    else:\n",
    "        return \"high\"\n",
    "print(ke_regime(0.2, 1.0))\n",
    "print(ke_regime(1.0, 10.0))\n",
    "print(ke_regime(5.0, 30.0))\n"
   ]
  },
  {
   "cell_type": "code",
   "execution_count": null,
   "id": "fb0df9d1",
   "metadata": {},
   "outputs": [],
   "source": [
    "# Fluid dynamics drag regime based on Reynolds number\n",
    "# Re = (density * velocity * length) / viscosity\n",
    "def drag_regime(Re):\n",
    "    if Re < 1e3:\n",
    "        return \"laminar-ish\"\n",
    "    elif Re < 2e5:\n",
    "        return \"transitional\"\n",
    "    else:\n",
    "        return \"turbulent\"\n",
    "print(drag_regime(500.0))\n",
    "print(drag_regime(10_000.0))\n",
    "print(drag_regime(300_000.0))\n"
   ]
  },
  {
   "cell_type": "code",
   "execution_count": null,
   "id": "d0551729",
   "metadata": {},
   "outputs": [],
   "source": [
    "# Measurement quality based on reading, reference, and tolerance\n",
    "def quality(reading, ref, tol):\n",
    "    if reading < 0:\n",
    "        return \"invalid\"\n",
    "    elif abs(reading - ref) <= tol and (ref > 0):\n",
    "        return \"good\"\n",
    "    else:\n",
    "        return \"outlier\"\n",
    "print(quality(9.79, 9.81, 0.05))\n",
    "print(quality(-0.1,  1.00, 0.05))\n",
    "print(quality(1.2,   1.00, 0.05))\n"
   ]
  },
  {
   "cell_type": "markdown",
   "id": "2a95de2f",
   "metadata": {},
   "source": [
    "## 2. for Loops — counting, accumulation, and comprehensions"
   ]
  },
  {
   "cell_type": "code",
   "execution_count": null,
   "id": "3a0b27e4",
   "metadata": {},
   "outputs": [],
   "source": [
    "# accumulating a sum with a for loop\n",
    "N = 6\n",
    "total = 0\n",
    "for k in range(1, N+1):\n",
    "    total = total + k\n",
    "print(total)\n"
   ]
  },
  {
   "cell_type": "code",
   "execution_count": null,
   "id": "fa45c6b1",
   "metadata": {},
   "outputs": [],
   "source": [
    "# Kepler's Third Law: T = 2π * sqrt(r^3 / GM)\n",
    "# GM for Earth = 3.986004418e14 m^3/s^2\n",
    "GM = 3.986004418e14\n",
    "radii_m = [6.9e6, 1.0e7, 2.0e7]\n",
    "periods_s = []\n",
    "for r in radii_m:\n",
    "    T = 2*(3.141592653589793) * (r**3 / GM)**0.5\n",
    "    periods_s.append(T)\n",
    "print([round(T, 1) for T in periods_s])\n"
   ]
  },
  {
   "cell_type": "code",
   "execution_count": null,
   "id": "43dceecf",
   "metadata": {},
   "outputs": [],
   "source": [
    "# de Broglie wavelength of electrons accelerated through a potential V\n",
    "# λ = h / sqrt(2me eV), where e is elementary charge, me is electron mass, h is Planck's constant, V is in volts\n",
    "import math\n",
    "e = 1.602_176_634e-19\n",
    "m_e = 9.109_383_7015e-31\n",
    "V = [50, 100, 500, 1000]\n",
    "h = 6.626_070_15e-34\n",
    "lams_m = [h / math.sqrt(2*m_e*e*U) for U in V]\n",
    "print([f\"{lam*1e10:.2f} Å\" for lam in lams_m])\n"
   ]
  },
  {
   "cell_type": "code",
   "execution_count": null,
   "id": "969a2352",
   "metadata": {},
   "outputs": [],
   "source": [
    "# finding threshold crossings in a sine wave\n",
    "# y = A * sin(omega * t) > 1.5, for t in [0, 0.1, ..., 5.0]\n",
    "import math\n",
    "times_s = [t*0.1 for t in range(0, 51)]\n",
    "A, omega = 2.0, 3.0\n",
    "vals = [A * math.sin(omega*t) for t in times_s]\n",
    "positive_crossings = [t for t, y in zip(times_s, vals) if y > 1.5]\n",
    "print(positive_crossings[:5])\n"
   ]
  },
  {
   "cell_type": "markdown",
   "id": "c409ea4b",
   "metadata": {},
   "source": [
    "## 3. while Loops — sentinels and convergence"
   ]
  },
  {
   "cell_type": "code",
   "execution_count": null,
   "id": "e016162a",
   "metadata": {},
   "outputs": [],
   "source": [
    "# RC circuit discharging simulation\n",
    "# v(t+dt) = v(t) - (v(t)/(R*C))*dt\n",
    "V0 = 5.0\n",
    "R, C = 10_000.0, 1e-6\n",
    "dt = 0.0001\n",
    "v, t = V0, 0.0\n",
    "steps = 0\n",
    "threshold = 0.1 * V0\n",
    "while v > threshold:\n",
    "    v = v - (v/(R*C))*dt\n",
    "    t = t + dt\n",
    "    steps = steps + 1\n",
    "print(round(t, 4), round(v, 4), steps)\n"
   ]
  },
  {
   "cell_type": "code",
   "execution_count": null,
   "id": "ceff553e",
   "metadata": {},
   "outputs": [],
   "source": [
    "# approximating e with a while loop\n",
    "# e = limit as n->∞ of (1 + 1/n)^n\n",
    "# stop when change is less than 1e-10\n",
    "# report number of steps, final n, and value of e\n",
    "n = 1\n",
    "prev = 0.0\n",
    "steps = 0\n",
    "while True:\n",
    "    val = (1 + 1/n)**n\n",
    "    steps = steps + 1\n",
    "    if abs(val - prev) < 1e-10:\n",
    "        break\n",
    "    prev = val\n",
    "    n = n + 1\n",
    "print(steps, n, round(val, 12))\n"
   ]
  },
  {
   "cell_type": "code",
   "execution_count": null,
   "id": "6515c23f",
   "metadata": {},
   "outputs": [],
   "source": [
    "# finding the first reading above a threshold with a while loop\n",
    "# readings = [0.2, 0.3, 0.29, 0.31, 0.28]\n",
    "# find index of first reading >= 0.30, or -1 if none\n",
    "readings = [0.2, 0.3, 0.29, 0.31, 0.28]\n",
    "i = 0\n",
    "found_at = None\n",
    "while i < len(readings):\n",
    "    if readings[i] >= 0.30:\n",
    "        found_at = i\n",
    "        break\n",
    "    i = i + 1\n",
    "else:\n",
    "    found_at = -1\n",
    "print(found_at)\n"
   ]
  },
  {
   "cell_type": "markdown",
   "id": "94809ced",
   "metadata": {},
   "source": [
    "## 4. Recursion — resistor ladder equivalent resistance"
   ]
  },
  {
   "cell_type": "code",
   "execution_count": null,
   "id": "c6438af0",
   "metadata": {},
   "outputs": [],
   "source": [
    "# calculating the resistance of a resistor ladder network\n",
    "# R_total = R + (R * R_total) / (R + R_total)\n",
    "# where R is the resistance of each resistor, and R_total is the total resistance of the ladder\n",
    "def parallel(Ra, Rb):\n",
    "    return (Ra*Rb)/(Ra+Rb)\n",
    "def ladder_R(n, R=1000.0):\n",
    "    if n <= 1:\n",
    "        return R\n",
    "    return R + parallel(R, ladder_R(n-1, R))\n",
    "for depth in [1, 2, 3, 5]:\n",
    "    print(depth, round(ladder_R(depth), 4))\n"
   ]
  },
  {
   "cell_type": "markdown",
   "id": "03492303",
   "metadata": {},
   "source": [
    "## 5. Imports — module, from … import, alias (new examples)"
   ]
  },
  {
   "cell_type": "code",
   "execution_count": null,
   "id": "8d0cfb18",
   "metadata": {},
   "outputs": [],
   "source": [
    "from math import radians as to_rad, sin as s_sin\n",
    "angle_deg = 30\n",
    "print(to_rad(angle_deg))\n",
    "print(round(s_sin(to_rad(30)), 3))\n"
   ]
  },
  {
   "cell_type": "markdown",
   "id": "1470c82d",
   "metadata": {},
   "source": [
    "## 6. Tiny module you own — thermo_utils.py"
   ]
  },
  {
   "cell_type": "code",
   "execution_count": null,
   "id": "3ed02d6c",
   "metadata": {},
   "outputs": [],
   "source": [
    "mod_src = '''\n",
    "\"\"\"Tiny thermodynamics utilities (demo).\"\"\"\n",
    "def kelvin(T_c):\n",
    "    \"\"\"Convert Celsius to Kelvin.\"\"\"\n",
    "    return T_c + 273.15\n",
    "def ideal_gas_P(n_mol, T_K, V_m3, R=8.314462618):\n",
    "    \"\"\"Return pressure (Pa) from ideal gas law P = n R T / V.\"\"\"\n",
    "    return n_mol * R * T_K / V_m3\n",
    "'''\n",
    "with open(\"thermo_utils.py\", \"w\") as f:\n",
    "    _ = f.write(mod_src)\n",
    "print(\"thermo_utils.py written\")\n"
   ]
  },
  {
   "cell_type": "code",
   "execution_count": null,
   "id": "891addf4",
   "metadata": {},
   "outputs": [],
   "source": [
    "import thermo_utils\n",
    "print(thermo_utils.kelvin(25.0))\n",
    "print(round(thermo_utils.ideal_gas_P(0.5, 300.0, 0.01)))\n"
   ]
  },
  {
   "cell_type": "markdown",
   "id": "f4d72441",
   "metadata": {},
   "source": [
    "## 7. Relevant packages — quick one-liners (guarded)"
   ]
  },
  {
   "cell_type": "code",
   "execution_count": null,
   "id": "c55b5b46",
   "metadata": {},
   "outputs": [],
   "source": [
    "# testing imports with error handling\n",
    "def try_import(name):\n",
    "    try:\n",
    "        return __import__(name)\n",
    "    except Exception as e:\n",
    "        print(f\"{name} not available: {e}\")\n",
    "        return None\n",
    "import math, cmath, time, os\n",
    "print(math.isfinite(3.14))\n",
    "print(cmath.phase(1+1j))\n",
    "print(round(time.perf_counter(), 3))\n",
    "print(os.path.basename(os.getcwd()))\n",
    "np = try_import(\"numpy\")\n",
    "if np:\n",
    "    print(np.linspace(0, 1, 4))\n",
    "try:\n",
    "    from scipy import constants as sp_constants\n",
    "    print(getattr(sp_constants, 'c'))\n",
    "except Exception as e:\n",
    "    print(\"scipy not available:\", e)\n",
    "pd = try_import(\"pandas\")\n",
    "if pd:\n",
    "    print(pd.DataFrame({\"I_A\":[0.1, 0.2, 0.3]}))\n",
    "try:\n",
    "    import matplotlib.pyplot as plt\n",
    "    plt.figure(); plt.plot([0,1,2],[0,1,0]); plt.show()\n",
    "    print(\"matplotlib plot created\")\n",
    "except Exception as e:\n",
    "    print(\"matplotlib not available:\", e)\n"
   ]
  },
  {
   "cell_type": "markdown",
   "id": "4c272008",
   "metadata": {},
   "source": [
    "## 8. Searching, installing, and checking packages (programmatic checks)"
   ]
  },
  {
   "cell_type": "code",
   "execution_count": null,
   "id": "cb3234f7",
   "metadata": {},
   "outputs": [],
   "source": [
    "import sys, importlib.util, importlib.metadata as md, subprocess\n",
    "print(sys.executable)\n",
    "print(importlib.util.find_spec('matplotlib') is not None)\n",
    "for pkg in ['numpy', 'matplotlib', 'pandas', 'scipy']:\n",
    "    try:\n",
    "        print(pkg, md.version(pkg))\n",
    "    except md.PackageNotFoundError:\n",
    "        print(pkg, 'not installed')\n",
    "res = subprocess.run([sys.executable, \"-m\", \"pip\", \"show\", \"matplotlib\"],\n",
    "                     capture_output=True, text=True)\n",
    "print(\"matplotlib installed?\", res.returncode == 0)\n"
   ]
  },
  {
   "cell_type": "markdown",
   "id": "0fc70688",
   "metadata": {},
   "source": [
    "## 9. Programming foundations — Python bytecode & .pyc (real artifacts)"
   ]
  },
  {
   "cell_type": "code",
   "execution_count": null,
   "id": "078c4a03",
   "metadata": {},
   "outputs": [],
   "source": [
    "# examining bytecode of a simple function\n",
    "src = \"\"\"def energy_j(m_kg):\n",
    "    c = 2.99792458e8\n",
    "    return m_kg * c * c\n",
    "\"\"\"\n",
    "with open(\"demo_bytecode.py\", \"w\") as f:\n",
    "    _ = f.write(src)\n",
    "    \n",
    "import py_compile, importlib.util, dis, binascii, sys, os\n",
    "pyc_path = py_compile.compile(\"demo_bytecode.py\", cfile=None, doraise=True) # write .pyc file\n",
    "print(\"pyc written:\", os.path.basename(pyc_path))\n",
    "spec = importlib.util.spec_from_file_location(\"demo_bytecode\", \"demo_bytecode.py\") # load module from source\n",
    "mod = importlib.util.module_from_spec(spec); spec.loader.exec_module(mod) # execute module\n",
    "print(mod.energy_j(0.10))\n",
    "print(dis.code_info(mod.energy_j).splitlines()[0]) # first line of code info in pycodeobject\n",
    "disassembled = dis.dis(mod.energy_j) # disassemble bytecode to human-readable form\n",
    "print(disassembled)\n",
    "with open(pyc_path, \"rb\") as f:\n",
    "    head = f.read(24) # read first 24 bytes of .pyc file header\n",
    "print(\"pyc header (hex):\", binascii.hexlify(head).decode()) # header in hex\n",
    "print(\"MAGIC_NUMBER:\", binascii.hexlify(importlib.util.MAGIC_NUMBER).decode()) # which matches the first 4 bytes of the header, confirming Python version compatibility\n"
   ]
  },
  {
   "cell_type": "markdown",
   "id": "ec0b887e",
   "metadata": {},
   "source": [
    "## 10. Programming foundations — C source and assembly (mock text files)"
   ]
  },
  {
   "cell_type": "code",
   "execution_count": null,
   "id": "bff06917",
   "metadata": {},
   "outputs": [],
   "source": [
    "# --- step 1: write a simple C source file and mock assembly output ---\n",
    "# --- step 2: write mock assembly output as text file ---\n",
    "# simple_energy.c: compute E=mc^2 for m=0.1 kg, c=speed of light, print result\n",
    "# Compile with: cc -O2 -o energy simple_energy.c\n",
    "# Disassemble with: objdump -d energy > simple_energy.s.txt\n",
    "# Note: actual assembly and machine code will vary by system and compiler\n",
    "c_src = \"\"\"/* simple_energy.c (illustration) */\n",
    "#include <stdio.h>\n",
    "int main(void){\n",
    "    const double c = 2.99792458e8;\n",
    "    double m = 0.10;\n",
    "    double E = m * c * c;\n",
    "    printf(\"E = %.3e J\\n\", E);\n",
    "    return 0;\n",
    "}\n",
    "\"\"\"\n",
    "with open(\"simple_energy.c\", \"w\") as f:\n",
    "    _ = f.write(c_src)\n",
    "print(\"Wrote simple_energy.c (compile with: cc -O2 -o energy simple_energy.c)\")\n",
    "asm_text = \"\"\"; simple_energy.s (mock x86-64-ish assembly, illustrative)\n",
    "    .globl main\n",
    "main:\n",
    "    push    rbp\n",
    "    mov     rbp, rsp\n",
    "    ; ... load constants, multiply, call printf ...\n",
    "    mov     eax, 0\n",
    "    pop     rbp\n",
    "    ret\n",
    "\"\"\"\n",
    "with open(\"simple_energy.s.txt\", \"w\") as f:\n",
    "    _ = f.write(asm_text)\n",
    "print(\"Wrote simple_energy.s.txt (mock assembly text)\")\n",
    "\n",
    "# --- Mock assembler+linker output as hex bytes (text file) ---\n",
    "bytes_text = \"\"\"; simple_energy.bytes.txt (mock machine-code bytes as if in an .exe)\n",
    "; NOTE: this is illustrative hex, not a runnable binary\n",
    "\n",
    "# .text (code)\n",
    "55 48 89 E5                         # push rbp; mov rbp,rsp\n",
    "F2 0F 10 05 F4 0F 00 00             # movsd xmm0, [rip+0xFF4]  -> points to 0x2000\n",
    "F2 0F 10 0D F4 0F 00 00             # movsd xmm1, [rip+0xFF4]  -> points to 0x2008\n",
    "F2 0F 59 C0                         # mulsd xmm0, xmm0\n",
    "F2 0F 59 C1                         # mulsd xmm0, xmm1\n",
    "F2 0F 11 45 F8                      # movsd [rbp-0x8], xmm0\n",
    "B8 00 00 00 00                      # mov eax, 0\n",
    "5D                                  # pop rbp\n",
    "C3                                  # ret\n",
    "\n",
    "# .rodata (constants; IEEE-754 little-endian doubles)\n",
    "00 00 00 4A 78 DE B1 41             # 2.99792458e8\n",
    "9A 99 99 99 99 99 B9 3F             # 0.1\n",
    "\"\"\"\n",
    "with open(\"simple_energy.bytes.txt\", \"w\") as f:\n",
    "    _ = f.write(bytes_text)  # write mock machine-code bytes (text)\n",
    "print(\"Wrote simple_energy.bytes.txt (mock machine-code bytes)\")"
   ]
  },
  {
   "cell_type": "markdown",
   "id": "0c8ae78b",
   "metadata": {},
   "source": [
    "## 11. Python vs C — execution model, GIL note, and NumPy speed sketch"
   ]
  },
  {
   "cell_type": "code",
   "execution_count": null,
   "id": "478af194",
   "metadata": {},
   "outputs": [],
   "source": [
    "# performance comparison: pure Python vs. NumPy for sum of squares\n",
    "print(\"CPython uses a Global Interpreter Lock (GIL) to protect interpreter state;\")\n",
    "print(\"CPU-bound Python threads do not run in true parallel; use processes or vectorized libs.\")\n",
    "def py_sum_squares(n):\n",
    "    s = 0\n",
    "    for k in range(n):\n",
    "        s = s + k*k\n",
    "    return s\n",
    "N = 2_000_000\n",
    "import time\n",
    "t0 = time.perf_counter()\n",
    "_ = py_sum_squares(N)\n",
    "t1 = time.perf_counter()\n",
    "print(\"pure Python seconds:\", round(t1 - t0, 4))\n",
    "try:\n",
    "    import numpy as np\n",
    "    t2 = time.perf_counter()\n",
    "    arr = np.arange(N, dtype=np.int64)\n",
    "    _ = int((arr*arr).sum())\n",
    "    t3 = time.perf_counter()\n",
    "    print(\"NumPy seconds:\", round(t3 - t2, 4))\n",
    "except Exception as e:\n",
    "    print(\"NumPy not available for timing:\", e)\n"
   ]
  },
  {
   "cell_type": "code",
   "execution_count": null,
   "id": "b096fab8",
   "metadata": {},
   "outputs": [],
   "source": [
    "# performance comparison: single vs two threads for CPU-bound and I/O-bound tasks\n",
    "# Same task per thread, compare total time for single vs two threads\n",
    "from concurrent.futures import ThreadPoolExecutor\n",
    "\n",
    "# --- helpers ---\n",
    "def py_sum_squares(n):                     # pure Python loop (CPU-bound)\n",
    "    s = 0\n",
    "    for k in range(n):\n",
    "        s = s + k*k\n",
    "    return s\n",
    "\n",
    "def fake_io(seconds):                      # simulates blocking I/O (sleep releases the GIL)\n",
    "    time.sleep(seconds)\n",
    "    return seconds\n",
    "\n",
    "N = 5_000_000  # adjust for your machine; increase to make CPU work visible\n",
    "S = 1.0       # seconds of \"I/O\" per task\n",
    "\n",
    "print(\"## CPU-bound: single vs two threads\")\n",
    "t0 = time.perf_counter()\n",
    "_ = py_sum_squares(N)\n",
    "t1 = time.perf_counter()\n",
    "print(\"single thread (CPU)   :\", round(t1 - t0, 3), \"s\")\n",
    "\n",
    "# run two CPU tasks concurrently with threads\n",
    "t2 = time.perf_counter()\n",
    "with ThreadPoolExecutor(max_workers=2) as ex:\n",
    "    list(ex.map(py_sum_squares, [N, N]))   # start two CPU-heavy tasks\n",
    "t3 = time.perf_counter()\n",
    "print(\"two threads (CPU)     :\", round(t3 - t2, 3), \"s  # expect ~2× single (no speedup)\\n\")\n",
    "\n",
    "print(\"## I/O-bound: single vs two threads (sleep simulates I/O)\")\n",
    "t4 = time.perf_counter()\n",
    "_ = fake_io(S)\n",
    "t5 = time.perf_counter()\n",
    "print(\"single thread (I/O)   :\", round(t5 - t4, 3), \"s\")\n",
    "\n",
    "t6 = time.perf_counter()\n",
    "with ThreadPoolExecutor(max_workers=2) as ex:\n",
    "    list(ex.map(fake_io, [S, S]))          # start two I/O waits together\n",
    "t7 = time.perf_counter()\n",
    "print(\"two threads (I/O)     :\", round(t7 - t6, 3), \"s  # expect ~S, near 2× throughput\\n\")\n",
    "\n",
    "print(\"Note: Threads are used only as a small demo; no parallel speedup for CPU-bound Python due to the GIL.\")\n"
   ]
  },
  {
   "cell_type": "code",
   "execution_count": null,
   "id": "60df40d4",
   "metadata": {},
   "outputs": [],
   "source": [
    "# performance comparison: single vs two threads for CPU-bound and I/O-bound tasks\n",
    "# Same overall task, compare total time for single vs two threads -- Different throughputs\n",
    "def cpu_half(n):  # Half of the CPU work\n",
    "    s = 0\n",
    "    for k in range(n):\n",
    "        s += k*k\n",
    "    return s\n",
    "\n",
    "def io_half(t):   # Half of the I/O work\n",
    "    time.sleep(t)\n",
    "    return t\n",
    "\n",
    "N = 2_000_000     # enough to see effect\n",
    "S = 2.0           # seconds total simulated I/O\n",
    "\n",
    "# --- CPU-bound: split one big job into two halves ---\n",
    "print(\"## CPU-bound\")\n",
    "t0 = time.perf_counter()\n",
    "cpu_half(N*2)                                 # one thread does all\n",
    "t1 = time.perf_counter()\n",
    "with ThreadPoolExecutor(max_workers=2) as ex:\n",
    "    list(ex.map(cpu_half, [N, N]))            # two halves in threads\n",
    "t2 = time.perf_counter()\n",
    "print(\"Single thread:\", round(t1 - t0, 3), \"s\")\n",
    "print(\"Two threads  :\", round(t2 - t1, 3), \"s  # no speedup due to GIL\\n\")\n",
    "\n",
    "# --- I/O-bound: split one big job into two halves ---\n",
    "print(\"## I/O-bound\")\n",
    "t3 = time.perf_counter()\n",
    "io_half(S)                                    # one thread waits total S seconds\n",
    "t4 = time.perf_counter()\n",
    "with ThreadPoolExecutor(max_workers=2) as ex:\n",
    "    list(ex.map(io_half, [S/2, S/2]))         # two waits overlap\n",
    "t5 = time.perf_counter()\n",
    "print(\"Single thread:\", round(t4 - t3, 3), \"s\")\n",
    "print(\"Two threads  :\", round(t5 - t4, 3), \"s  # ~2× speedup because waits overlap\\n\")\n"
   ]
  }
 ],
 "metadata": {
  "kernelspec": {
   "display_name": "base",
   "language": "python",
   "name": "python3"
  },
  "language_info": {
   "codemirror_mode": {
    "name": "ipython",
    "version": 3
   },
   "file_extension": ".py",
   "mimetype": "text/x-python",
   "name": "python",
   "nbconvert_exporter": "python",
   "pygments_lexer": "ipython3",
   "version": "3.13.5"
  }
 },
 "nbformat": 4,
 "nbformat_minor": 5
}

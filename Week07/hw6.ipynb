{
 "cells": [
  {
   "cell_type": "code",
   "execution_count": null,
   "id": "e71a2da1",
   "metadata": {
    "deletable": false,
    "editable": false
   },
   "outputs": [],
   "source": [
    "# Initialize Otter\n",
    "import otter\n",
    "grader = otter.Notebook(\"hw6.ipynb\")"
   ]
  },
  {
   "cell_type": "code",
   "execution_count": null,
   "id": "a1afc09b",
   "metadata": {},
   "outputs": [],
   "source": [
    "rng_seed = 63"
   ]
  },
  {
   "cell_type": "code",
   "execution_count": null,
   "id": "cb690dc2",
   "metadata": {},
   "outputs": [],
   "source": [
    "#imports\n",
    "import numpy as np\n",
    "import matplotlib.pyplot as plt\n",
    "import scipy as sp\n",
    "#below line allows matplotlib plots to appear in cell output\n",
    "%matplotlib inline"
   ]
  },
  {
   "cell_type": "markdown",
   "id": "805298cf",
   "metadata": {
    "deletable": false,
    "editable": false
   },
   "source": [
    "## **Question 1**: Parameter Estimation and Visualization\n",
    "\n",
    "Write a function `analyze_normal_dataset(data, bins=30, show_plot=False)` that analyzes a dataset assumed to be drawn from a normal distribution.\n",
    "\n",
    "Your function should:\n",
    "1. Compute the sample mean and sample variance from the input data\n",
    "2. Create a histogram of the data samples\n",
    "3. Overlay the theoretical normal distribution PDF using the computed mean and variance\n",
    "4. Display the computed statistics on the plot\n",
    "\n",
    "**Requirements:**\n",
    "- Compute sample mean using `np.mean(data)`\n",
    "- Compute sample variance using `np.var(data, ddof=1)` (use Bessel's correction with ddof=1)\n",
    "- Create histogram using `ax.hist()` with:\n",
    "  - `bins=bins` parameter\n",
    "  - `density=True` to normalize the histogram\n",
    "  - `alpha=0.7` for transparency\n",
    "  - `color='lightblue'`\n",
    "  - `edgecolor='black'`\n",
    "  - `label='Data Histogram'`\n",
    "- For the PDF overlay:\n",
    "  - Create x-values spanning the data range: `x = np.linspace(data.min() - 2*sample_std, data.max() + 2*sample_std, 1000)`\n",
    "  - Calculate PDF using `scipy.stats.norm.pdf(x, loc=sample_mean, scale=sample_std)`\n",
    "  - Plot as a red line with `linewidth=2` and `label='Fitted Normal PDF'`\n",
    "- Add vertical lines for mean and mean±std:\n",
    "  - Mean line: `ax.axvline(sample_mean, color='green', linestyle='-', linewidth=2, label=f'Mean = {sample_mean:.3f}')`\n",
    "  - Mean±std lines: `ax.axvline(sample_mean ± sample_std, color='orange', linestyle='--', linewidth=1.5)`\n",
    "- Set labels and formatting:\n",
    "  - X-axis: \"Value\"  \n",
    "  - Y-axis: \"Density\"\n",
    "  - Title: f\"Normal Distribution Analysis\\\\nMean = {sample_mean:.3f}, Std = {sample_std:.3f}, Variance = {sample_var:.3f}\"\n",
    "  - Add legend with `ax.legend()`\n",
    "  - Add grid with `alpha=0.3`\n",
    "- Return both the figure object and a tuple of the computed statistics: `(sample_mean, sample_var, sample_std)`\n",
    "\n",
    "**Parameters:**\n",
    "- `data`: numpy array, the dataset to analyze (assumed normally distributed)\n",
    "- `bins`: int, default 30, number of bins for the histogram\n",
    "- `show_plot`: bool, default False. If True, call `plt.show()`\n",
    "\n",
    "**Returns:**\n",
    "- `fig`: matplotlib figure object\n",
    "- `stats`: tuple (sample_mean, sample_variance, sample_std)"
   ]
  },
  {
   "cell_type": "code",
   "execution_count": null,
   "id": "821a0d30",
   "metadata": {
    "tags": [
     "otter_answer_cell"
    ]
   },
   "outputs": [],
   "source": [
    "def analyze_normal_dataset(data, bins=30, show_plot=False):\n",
    "    # Compute sample statistics\n",
    "    sample_mean = np.mean(...)\n",
    "    sample_var = np.var(..., ddof=1)  # Use Bessel's correction\n",
    "    sample_std = ...\n",
    "    \n",
    "    # Create the plot\n",
    "    fig, ax = plt.subplots(figsize=(10, 6))\n",
    "    \n",
    "    # Create histogram\n",
    "    \n",
    "    # Overlay fitted normal PDF\n",
    "    \n",
    "    # Add vertical lines for mean and mean±std\n",
    "    \n",
    "    # Labels and formatting\n",
    "    \n",
    "    if show_plot:\n",
    "        plt.show()\n",
    "    \n",
    "    return fig, (sample_mean, sample_var, sample_std)"
   ]
  },
  {
   "cell_type": "code",
   "execution_count": null,
   "id": "56f5f7d3",
   "metadata": {
    "tags": [
     "otter_answer_cell"
    ]
   },
   "outputs": [],
   "source": [
    "# Cell to view plot - test the function with sample data\n",
    "rng = np.random.default_rng(rng_seed)\n",
    "test_data = rng.normal(loc=5.0, scale=2.0, size=1000)  # Generate test data from known normal distribution\n",
    "fig, stats = analyze_normal_dataset(test_data, bins=25, show_plot=True)\n",
    "print(f\"Computed statistics: Mean={stats[0]:.3f}, Variance={stats[1]:.3f}, Std={stats[2]:.3f}\")\n",
    "print(f\"True parameters: Mean=5.0, Variance=4.0, Std=2.0\")"
   ]
  },
  {
   "cell_type": "code",
   "execution_count": null,
   "id": "0fa5196e",
   "metadata": {
    "deletable": false,
    "editable": false
   },
   "outputs": [],
   "source": [
    "grader.check(\"q1\")"
   ]
  },
  {
   "cell_type": "markdown",
   "id": "b75f3d96",
   "metadata": {
    "deletable": false,
    "editable": false
   },
   "source": [
    "## **Question 2**: Random Walk Ensemble Simulation\n",
    "\n",
    "Write a function `plot_random_walks(p, N, M, show_plot=False)` that simulates and visualizes an ensemble of 1D random walks.\n",
    "\n",
    "Your function should:\n",
    "1. Simulate M independent random walks, each with N steps\n",
    "2. For each walk, at each step, move up (+1) with probability p or down (-1) with probability (1-p)\n",
    "3. Plot all M walks on the same figure as a function of step number\n",
    "4. Show the ensemble behavior and individual trajectories\n",
    "\n",
    "**Algorithm:**\n",
    "- For each of the M walks:\n",
    "  - Generate N random steps using Bernoulli distribution with probability p\n",
    "  - Convert Bernoulli outcomes (0,1) to step directions (-1,+1)\n",
    "  - Compute cumulative sum to get walk positions over time\n",
    "- Plot all walks with step number on x-axis and position on y-axis\n",
    "\n",
    "**Requirements:**\n",
    "- Use the seeded random number generator: `rng = np.random.default_rng(rng_seed)`\n",
    "- For each walk, generate steps using `rng.binomial(1, p, N)` to get 0s and 1s\n",
    "- Convert to step directions: `steps = 2 * bernoulli_steps - 1` (maps 0→-1, 1→+1)\n",
    "- Calculate walk positions using `np.cumsum()` with initial position 0\n",
    "- Create the plot with:\n",
    "  - X-axis: Step number (0 to N)\n",
    "  - Y-axis: Position\n",
    "  - Plot each walk as a line with `alpha=0.7` for transparency\n",
    "  - Use different colors or let matplotlib cycle through colors automatically\n",
    "- Add formatting:\n",
    "  - X-axis label: \"Step Number\"\n",
    "  - Y-axis label: \"Position\"\n",
    "  - Title: f\"Ensemble of {M} Random Walks (p = {p:.2f}, N = {N} steps)\"\n",
    "  - Grid with `alpha=0.3`\n",
    "  - Set reasonable axis limits based on data range\n",
    "- Return the matplotlib figure object\n",
    "\n",
    "**Parameters:**\n",
    "- `p`: float, probability of taking an upward step (+1)\n",
    "- `N`: int, number of steps in each walk\n",
    "- `M`: int, number of walks to simulate  \n",
    "- `show_plot`: bool, default False. If True, call `plt.show()`\n",
    "\n",
    "**Returns:**\n",
    "- `fig`: matplotlib figure object"
   ]
  },
  {
   "cell_type": "code",
   "execution_count": null,
   "id": "65251e2c",
   "metadata": {
    "tags": [
     "otter_answer_cell"
    ]
   },
   "outputs": [],
   "source": [
    "def plot_random_walks(p, N, M, show_plot=False):\n",
    "    # Use seeded random number generator\n",
    "    rng = np.random.default_rng(rng_seed)\n",
    "    \n",
    "    # Create the plot\n",
    "    fig, ax = plt.subplots(figsize=(10, 6))\n",
    "    \n",
    "    # Simulate M random walks\n",
    "    for walk_idx in range(M):\n",
    "        # Generate steps using Bernoulli distribution\n",
    "        bernoulli_steps = rng.binomial(...)\n",
    "        \n",
    "        # Convert to step directions (-1, +1)\n",
    "        steps = ...\n",
    "        \n",
    "        # Calculate cumulative positions\n",
    "        positions = ...\n",
    "        \n",
    "        # Plot this walk\n",
    "        step_numbers = ...\n",
    "        ax.plot(...)\n",
    "    \n",
    "    # Labels and formatting\n",
    "    \n",
    "    if show_plot:\n",
    "        plt.show()\n",
    "    \n",
    "    return fig"
   ]
  },
  {
   "cell_type": "code",
   "execution_count": null,
   "id": "8e21805a",
   "metadata": {
    "tags": [
     "otter_answer_cell"
    ]
   },
   "outputs": [],
   "source": [
    "# Cell to view plot - test the function with sample parameters\n",
    "fig1 = plot_random_walks(p=0.5, N=100, M=20, show_plot=True)  # Fair random walk\n",
    "fig2 = plot_random_walks(p=0.7, N=100, M=20, show_plot=True)  # Biased upward walk"
   ]
  },
  {
   "cell_type": "code",
   "execution_count": null,
   "id": "c67f6ea0",
   "metadata": {
    "deletable": false,
    "editable": false
   },
   "outputs": [],
   "source": [
    "grader.check(\"q2\")"
   ]
  },
  {
   "cell_type": "markdown",
   "id": "d1ffb32a",
   "metadata": {
    "deletable": false,
    "editable": false
   },
   "source": [
    "## **Question 3**: Monte Carlo Integration\n",
    "\n",
    "### Part a: Area Under Curve Estimation\n",
    "\n",
    "Write a function `monte_carlo_integration(func, a, b, n_points, show_plot=False)` that estimates the area under a curve using Monte Carlo methods.\n",
    "\n",
    "Your function should:\n",
    "1. Generate random points in the rectangular domain [a, b] × [0, max_y]\n",
    "2. Determine which points fall under the curve defined by the function\n",
    "3. Calculate the area using the ratio of points under the curve to total points\n",
    "4. Create a visualization showing the function, sampling points, and integration region\n",
    "\n",
    "**Algorithm:**\n",
    "- Find the maximum value of the function in the interval [a, b] to define the sampling rectangle\n",
    "- Generate random points uniformly in the rectangle [a, b] × [0, max_y]\n",
    "- For each point (x, y), check if y ≤ func(x) (point is under the curve)\n",
    "- Estimate area = (rectangle area) × (fraction of points under curve)\n",
    "- Area = (b - a) × max_y × (points_under_curve / total_points)\n",
    "\n",
    "**Requirements:**\n",
    "- Use the seeded random number generator: `rng = np.random.default_rng(rng_seed)`\n",
    "- To find max_y, evaluate the function on a dense grid: `x_eval = np.linspace(a, b, 1000)` and `max_y = np.max(func(x_eval))`\n",
    "- Generate random points using `rng.uniform()`:\n",
    "  - X coordinates: `rng.uniform(a, b, n_points)`\n",
    "  - Y coordinates: `rng.uniform(0, max_y, n_points)`\n",
    "- For each point, check if `y_random <= func(x_random)`\n",
    "- Count points under the curve and calculate area estimate\n",
    "- Create the plot with:\n",
    "  - Plot the function curve using `x_plot = np.linspace(a, b, 1000)` and `ax.plot(x_plot, func(x_plot), 'b-', linewidth=2, label='Function')`\n",
    "  - Plot points under curve as green dots: `ax.scatter(x_under, y_under, c='green', s=10, alpha=0.6, label='Under curve')`\n",
    "  - Plot points above curve as red dots: `ax.scatter(x_above, y_above, c='red', s=10, alpha=0.6, label='Above curve')`\n",
    "  - Fill area under curve: `ax.fill_between(x_plot, func(x_plot), alpha=0.3, color='lightblue', label='Integration region')`\n",
    "- Add formatting:\n",
    "  - X-axis label: \"x\"\n",
    "  - Y-axis label: \"f(x)\" \n",
    "  - Title: f\"Monte Carlo Integration: Area ≈ {area_estimate:.4f}\"\n",
    "  - Legend with `ax.legend()`\n",
    "  - Grid with `alpha=0.3`\n",
    "- Return both the area estimate and the figure object\n",
    "\n",
    "**Parameters:**\n",
    "- `func`: callable, function to integrate (assumed positive on [a, b])\n",
    "- `a`: float, left boundary of integration\n",
    "- `b`: float, right boundary of integration  \n",
    "- `n_points`: int, number of random points to generate\n",
    "- `show_plot`: bool, default False. If True, call `plt.show()`\n",
    "\n",
    "**Returns:**\n",
    "- `area_estimate`: float, estimated area under the curve\n",
    "- `fig`: matplotlib figure object"
   ]
  },
  {
   "cell_type": "code",
   "execution_count": null,
   "id": "cc0f5a52",
   "metadata": {
    "tags": [
     "otter_answer_cell"
    ]
   },
   "outputs": [],
   "source": [
    "def monte_carlo_integration(func, a, b, n_points, show_plot=False):\n",
    "    # Use seeded random number generator\n",
    "    rng = np.random.default_rng(rng_seed)\n",
    "    \n",
    "    # Find maximum y value for sampling rectangle\n",
    "    x_eval = np.linspace(a, b, 1000)\n",
    "    max_y = np.max(func(...))\n",
    "    \n",
    "    # Generate random points\n",
    "    x_random = rng.uniform(...)\n",
    "    y_random = rng.uniform(...)\n",
    "    \n",
    "    # Check which points are under the curve\n",
    "    under_curve = ...\n",
    "    \n",
    "    # Calculate area estimate\n",
    "    area_estimate = ...\n",
    "    \n",
    "    # Create the plot\n",
    "    fig, ax = plt.subplots(figsize=(10, 6))\n",
    "    \n",
    "    # Plot function and points\n",
    "    \n",
    "    # Labels and formatting\n",
    "    \n",
    "    if show_plot:\n",
    "        plt.show()\n",
    "    \n",
    "    return area_estimate, fig"
   ]
  },
  {
   "cell_type": "code",
   "execution_count": null,
   "id": "8a81d223",
   "metadata": {
    "tags": [
     "otter_answer_cell"
    ]
   },
   "outputs": [],
   "source": [
    "# Cell to view plot - test the function with sample functions\n",
    "# Test with quadratic function\n",
    "def test_func1(x):\n",
    "    return x**2\n",
    "\n",
    "area1, fig1 = monte_carlo_integration(test_func1, 0, 2, 5000, show_plot=True)\n",
    "print(f\"Estimated area under x² from 0 to 2: {area1:.4f}\")\n",
    "print(f\"Analytical result: {8/3:.4f}\")\n",
    "\n",
    "# Test with sine function\n",
    "def test_func2(x):\n",
    "    return np.sin(x) + 1  # Adding 1 to ensure positive\n",
    "\n",
    "area2, fig2 = monte_carlo_integration(test_func2, 0, np.pi, 3000, show_plot=True)\n",
    "print(f\"Estimated area under sin(x)+1 from 0 to π: {area2:.4f}\")\n",
    "print(f\"Analytical result: {np.pi + 2:.4f}\")"
   ]
  },
  {
   "cell_type": "code",
   "execution_count": null,
   "id": "f8c945d4",
   "metadata": {
    "deletable": false,
    "editable": false
   },
   "outputs": [],
   "source": [
    "grader.check(\"q3\")"
   ]
  },
  {
   "cell_type": "markdown",
   "id": "fc8c6862",
   "metadata": {
    "deletable": false,
    "editable": false
   },
   "source": [
    "## Required disclosure of use of AI technology\n",
    "\n",
    "Please indicate whether you used AI to complete this homework. If you did, explain how you used it in the python cell below, as a comment."
   ]
  },
  {
   "cell_type": "code",
   "execution_count": null,
   "id": "75fb2c11",
   "metadata": {
    "tags": [
     "otter_answer_cell"
    ]
   },
   "outputs": [],
   "source": [
    "\"\"\"\n",
    "# write ai disclosure here:\n",
    "\n",
    "\"\"\""
   ]
  },
  {
   "cell_type": "markdown",
   "id": "a476cd94",
   "metadata": {
    "deletable": false,
    "editable": false
   },
   "source": [
    "## Submission\n",
    "\n",
    "Make sure you have run all cells in your notebook in order before running the cell below, so that all images/graphs appear in the output. The cell below will generate a zip file for you to submit.\n",
    "\n",
    "Upload the .zip file to Gradescope!"
   ]
  },
  {
   "cell_type": "code",
   "execution_count": null,
   "id": "310b3ba6",
   "metadata": {
    "deletable": false,
    "editable": false
   },
   "outputs": [],
   "source": [
    "grader.export(pdf=False, force_save=True, run_tests=True)"
   ]
  },
  {
   "cell_type": "markdown",
   "id": "7612be6a",
   "metadata": {},
   "source": [
    " "
   ]
  }
 ],
 "metadata": {
  "kernelspec": {
   "display_name": "otter_grading",
   "language": "python",
   "name": "python3"
  },
  "language_info": {
   "codemirror_mode": {
    "name": "ipython",
    "version": 3
   },
   "file_extension": ".py",
   "mimetype": "text/x-python",
   "name": "python",
   "nbconvert_exporter": "python",
   "pygments_lexer": "ipython3",
   "version": "3.12.11"
  },
  "otter": {
   "OK_FORMAT": true,
   "tests": {
    "q1": {
     "name": "q1",
     "points": null,
     "suites": [
      {
       "cases": [
        {
         "code": ">>> rng = np.random.default_rng(rng_seed)\n>>> test_data = rng.normal(0, 1, 100)\n>>> fig, stats = analyze_normal_dataset(test_data)\n>>> import matplotlib.figure\n>>> test_result = isinstance(fig, matplotlib.figure.Figure) and isinstance(stats, tuple) and (len(stats) == 3)\n>>> plt.close(fig)\n>>> test_result\nTrue",
         "hidden": false,
         "locked": false,
         "points": 1
        },
        {
         "code": ">>> rng = np.random.default_rng(rng_seed)\n>>> test_data = rng.normal(10, 3, 10000)\n>>> fig, stats = analyze_normal_dataset(test_data)\n>>> sample_mean, sample_var, sample_std = stats\n>>> mean_close = abs(sample_mean - 10) < 0.2\n>>> var_close = abs(sample_var - 9) < 0.5\n>>> std_close = abs(sample_std - 3) < 0.2\n>>> std_var_consistent = abs(sample_std - np.sqrt(sample_var)) < 1e-10\n>>> plt.close(fig)\n>>> (mean_close, var_close, std_close, std_var_consistent)\n(np.True_, np.True_, np.True_, np.True_)",
         "hidden": false,
         "locked": false,
         "points": 1
        }
       ],
       "scored": true,
       "setup": "",
       "teardown": "",
       "type": "doctest"
      }
     ]
    },
    "q2": {
     "name": "q2",
     "points": null,
     "suites": [
      {
       "cases": [
        {
         "code": ">>> np.random.seed(rng_seed)\n>>> fig = plot_random_walks(p=0.5, N=10, M=5)\n>>> import matplotlib.figure\n>>> test_result = isinstance(fig, matplotlib.figure.Figure)\n>>> plt.close(fig)\n>>> test_result\nTrue",
         "hidden": false,
         "locked": false,
         "points": 1
        },
        {
         "code": ">>> np.random.seed(rng_seed)\n>>> fig = plot_random_walks(p=0.4, N=15, M=3)\n>>> ax = fig.axes[0]\n>>> lines = ax.get_lines()\n>>> correct_lengths = all((len(line.get_xdata()) == 16 for line in lines))\n>>> start_positions = [line.get_ydata()[0] for line in lines]\n>>> all_start_zero = all((pos == 0 for pos in start_positions))\n>>> xlim = ax.get_xlim()\n>>> correct_xlim = xlim[0] <= 0 and xlim[1] >= 15\n>>> plt.close(fig)\n>>> (correct_lengths, all_start_zero, correct_xlim)\n(True, True, np.True_)",
         "hidden": false,
         "locked": false,
         "points": 1
        }
       ],
       "scored": true,
       "setup": "",
       "teardown": "",
       "type": "doctest"
      }
     ]
    },
    "q3": {
     "name": "q3",
     "points": null,
     "suites": [
      {
       "cases": [
        {
         "code": ">>> np.random.seed(rng_seed)\n>>> def simple_func(x):\n...     return x + 1\n>>> area, fig = monte_carlo_integration(simple_func, 0, 1, 100)\n>>> import matplotlib.figure\n>>> test_result = isinstance(area, (int, float, np.floating)) and isinstance(fig, matplotlib.figure.Figure)\n>>> plt.close(fig)\n>>> test_result\nTrue",
         "hidden": false,
         "locked": false,
         "points": 1
        },
        {
         "code": ">>> np.random.seed(rng_seed)\n>>> def quadratic_func(x):\n...     return x ** 2\n>>> area, fig = monte_carlo_integration(quadratic_func, 0, 2, 500)\n>>> ax = fig.axes[0]\n>>> lines = ax.get_lines()\n>>> has_function_line = len(lines) >= 1\n>>> collections = ax.collections\n>>> has_scatter_points = len(collections) >= 1\n>>> has_xlabel = ax.get_xlabel() == 'x'\n>>> has_ylabel = ax.get_ylabel() == 'f(x)'\n>>> title = ax.get_title()\n>>> has_area_in_title = 'Monte Carlo Integration' in title and 'Area' in title\n>>> has_legend = ax.get_legend() is not None\n>>> has_grid = ax.xaxis.get_gridlines()[0].get_visible()\n>>> plt.close(fig)\n>>> (has_function_line, has_scatter_points, has_xlabel, has_ylabel, has_area_in_title, has_legend, has_grid)\n(True, True, True, True, True, True, True)",
         "hidden": false,
         "locked": false,
         "points": 1
        }
       ],
       "scored": true,
       "setup": "",
       "teardown": "",
       "type": "doctest"
      }
     ]
    }
   }
  }
 },
 "nbformat": 4,
 "nbformat_minor": 5
}

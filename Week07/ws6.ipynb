{
 "cells": [
  {
   "cell_type": "code",
   "execution_count": null,
   "id": "9be2dc6c",
   "metadata": {
    "deletable": false,
    "editable": false
   },
   "outputs": [],
   "source": [
    "# Initialize Otter\n",
    "import otter\n",
    "grader = otter.Notebook(\"ws6.ipynb\")"
   ]
  },
  {
   "cell_type": "code",
   "execution_count": null,
   "id": "98d5c628",
   "metadata": {},
   "outputs": [],
   "source": [
    "rng_seed = 88"
   ]
  },
  {
   "cell_type": "code",
   "execution_count": null,
   "id": "e96e4578",
   "metadata": {},
   "outputs": [],
   "source": [
    "#imports\n",
    "import numpy as np\n",
    "import matplotlib.pyplot as plt\n",
    "import scipy as sp\n",
    "#below line allows matplotlib plots to appear in cell output\n",
    "%matplotlib inline"
   ]
  },
  {
   "cell_type": "markdown",
   "id": "82fc7057",
   "metadata": {
    "deletable": false,
    "editable": false
   },
   "source": [
    "## **Question 1**: Statistical Distributions - Sampling and Visualization\n",
    "\n",
    "In this question, you'll work with different statistical distributions by sampling from them and visualizing the results with histograms overlaid with their exact probability density functions (PDFs) or probability mass functions (PMFs)."
   ]
  },
  {
   "cell_type": "markdown",
   "id": "b2e1f90f",
   "metadata": {
    "deletable": false,
    "editable": false
   },
   "source": [
    "### Part a: Normal Distribution\n",
    "\n",
    "Write a function `plot_normal_distribution(n_samples, mean, std, bins, show_plot=False)` that:\n",
    "1. Generates `n_samples` random samples from a normal (Gaussian) distribution with specified mean and standard deviation\n",
    "2. Creates a histogram of the samples \n",
    "3. Overlays the exact probability density function (PDF)\n",
    "4. Adds a vertical line at the theoretical mean\n",
    "\n",
    "**Requirements:**\n",
    "- Use `np.random.normal(mean, std, n_samples)` to generate samples\n",
    "- Create histogram using `ax.hist()` with:\n",
    "  - `bins=bins` parameter\n",
    "  - `density=True` to normalize the histogram (so it matches the PDF scale)\n",
    "  - `alpha=0.7` for transparency\n",
    "  - `color='skyblue'`\n",
    "  - `edgecolor='black'`\n",
    "- For the PDF overlay:\n",
    "  - Create x-values using `np.linspace(mean - 4*std, mean + 4*std, 1000)`\n",
    "  - Calculate PDF using `scipy.stats.norm.pdf(x, loc=mean, scale=std)`\n",
    "  - Plot as a red line with `linewidth=2`\n",
    "- Add a vertical line at the mean using `ax.axvline(mean, color='green', linestyle='--', linewidth=2, label='Mean')`\n",
    "- Set labels and formatting:\n",
    "  - X-axis: \"Value\"\n",
    "  - Y-axis: \"Density\"\n",
    "  - Title: \"Normal Distribution: mu={mean:.1f}, sigma={std:.1f}\" (use f-string formatting)\n",
    "  - Add legend with `ax.legend()`\n",
    "  - Add grid with `alpha=0.3`\n",
    "- Return the matplotlib figure object\n",
    "\n",
    "**Parameters:**\n",
    "- `n_samples`: int, number of random samples to generate\n",
    "- `mean`: float, mean of the normal distribution\n",
    "- `std`: float, standard deviation of the normal distribution  \n",
    "- `bins`: int, number of bins for the histogram\n",
    "- `show_plot`: bool, default False. If True, call `plt.show()`\n",
    "\n",
    "**Returns:**\n",
    "- `fig`: matplotlib figure object"
   ]
  },
  {
   "cell_type": "code",
   "execution_count": null,
   "id": "d64365f1",
   "metadata": {
    "tags": [
     "otter_answer_cell"
    ]
   },
   "outputs": [],
   "source": [
    "def plot_normal_distribution(n_samples, mean, std, bins, show_plot=False):\n",
    "    # Generate samples and create plot\n",
    "    #seeding rng for predictable testing\n",
    "    rng = np.random.default_rng(rng_seed)\n",
    "    samples = rng.normal(...)\n",
    "    \n",
    "    fig, ax = plt.subplots(figsize=(10, 6))\n",
    "    \n",
    "    # Create histogram\n",
    "    \n",
    "    # Overlay PDF\n",
    "    \n",
    "    # Add mean line\n",
    "    \n",
    "    # Labels and formatting\n",
    "    \n",
    "    if show_plot:\n",
    "        plt.show()\n",
    "    \n",
    "    return fig"
   ]
  },
  {
   "cell_type": "code",
   "execution_count": null,
   "id": "96bf672b",
   "metadata": {
    "tags": [
     "otter_answer_cell"
    ]
   },
   "outputs": [],
   "source": [
    "# Cell to view plot\n",
    "np.random.seed(rng_seed)  # Set seed for reproducibility\n",
    "plot_normal_distribution(1000, 2.0, 1.5, 30, show_plot=True);"
   ]
  },
  {
   "cell_type": "code",
   "execution_count": null,
   "id": "36c22896",
   "metadata": {
    "deletable": false,
    "editable": false
   },
   "outputs": [],
   "source": [
    "grader.check(\"q1a\")"
   ]
  },
  {
   "cell_type": "markdown",
   "id": "f0336cb7",
   "metadata": {
    "deletable": false,
    "editable": false
   },
   "source": [
    "### Part b: Uniform Distribution\n",
    "\n",
    "Write a function `plot_uniform_distribution(n_samples, a, b, bins, show_plot=False)` that:\n",
    "1. Generates `n_samples` random samples from a uniform distribution on the interval [a, b]\n",
    "2. Creates a histogram of the samples \n",
    "3. Overlays the exact probability density function (PDF)\n",
    "4. Adds a vertical line at the theoretical mean\n",
    "\n",
    "**Requirements:**\n",
    "- Use `np.random.uniform(a, b, n_samples)` to generate samples\n",
    "- Create histogram using `ax.hist()` with:\n",
    "  - `bins=bins` parameter\n",
    "  - `density=True` to normalize the histogram\n",
    "  - `alpha=0.7` for transparency\n",
    "  - `color='lightcoral'`\n",
    "  - `edgecolor='black'`\n",
    "- For the PDF overlay:\n",
    "  - Create x-values using `np.linspace(a - 0.5*(b-a), b + 0.5*(b-a), 1000)`\n",
    "  - Calculate PDF using `scipy.stats.uniform.pdf(x, loc=a, scale=b-a)`\n",
    "  - Plot as a blue line with `linewidth=2`\n",
    "- Calculate the theoretical mean: `mean = (a + b) / 2`\n",
    "- Add a vertical line at the mean using `ax.axvline(mean, color='green', linestyle='--', linewidth=2, label='Mean')`\n",
    "- Set labels and formatting:\n",
    "  - X-axis: \"Value\"\n",
    "  - Y-axis: \"Density\"  \n",
    "  - Title: \"Uniform Distribution: [a={a:.1f}, b={b:.1f}]\" (use f-string formatting)\n",
    "  - Add legend with `ax.legend()`\n",
    "  - Add grid with `alpha=0.3`\n",
    "- Return the matplotlib figure object\n",
    "\n",
    "**Parameters:**\n",
    "- `n_samples`: int, number of random samples to generate\n",
    "- `a`: float, lower bound of the uniform distribution\n",
    "- `b`: float, upper bound of the uniform distribution\n",
    "- `bins`: int, number of bins for the histogram\n",
    "- `show_plot`: bool, default False. If True, call `plt.show()`\n",
    "\n",
    "**Returns:**\n",
    "- `fig`: matplotlib figure object"
   ]
  },
  {
   "cell_type": "code",
   "execution_count": null,
   "id": "54905350",
   "metadata": {
    "tags": [
     "otter_answer_cell"
    ]
   },
   "outputs": [],
   "source": [
    "def plot_uniform_distribution(n_samples, a, b, bins, show_plot=False):\n",
    "    # Generate samples and create plot\n",
    "    rng = np.random.default_rng(rng_seed)\n",
    "    samples = rng.uniform(...)\n",
    "    \n",
    "    fig, ax = plt.subplots(figsize=(10, 6))\n",
    "    \n",
    "    # Create histogram\n",
    "    \n",
    "    # Overlay PDF\n",
    "    \n",
    "    # Calculate mean and add mean line\n",
    "    \n",
    "    # Labels and formatting\n",
    "    \n",
    "    if show_plot:\n",
    "        plt.show()\n",
    "    \n",
    "    return fig"
   ]
  },
  {
   "cell_type": "code",
   "execution_count": null,
   "id": "a2f85b8f",
   "metadata": {
    "tags": [
     "otter_answer_cell"
    ]
   },
   "outputs": [],
   "source": [
    "# Cell to view plot\n",
    "np.random.seed(rng_seed)  # Set seed for reproducibility\n",
    "plot_uniform_distribution(1000, -2.0, 4.0, 25, show_plot=True);"
   ]
  },
  {
   "cell_type": "code",
   "execution_count": null,
   "id": "505cc4be",
   "metadata": {
    "deletable": false,
    "editable": false
   },
   "outputs": [],
   "source": [
    "grader.check(\"q1b\")"
   ]
  },
  {
   "cell_type": "markdown",
   "id": "aa105de2",
   "metadata": {
    "deletable": false,
    "editable": false
   },
   "source": [
    "### Part c: Poisson Distribution\n",
    "\n",
    "Write a function `plot_poisson_distribution(n_samples, lam, bins, show_plot=False)` that:\n",
    "1. Generates `n_samples` random samples from a Poisson distribution with parameter λ (lambda)\n",
    "2. Creates a histogram of the samples \n",
    "3. Overlays the exact probability mass function (PMF)\n",
    "4. Adds a vertical line at the theoretical mean\n",
    "\n",
    "**Requirements:**\n",
    "- Use `np.random.poisson(lam, n_samples)` to generate samples\n",
    "- Create histogram using `ax.hist()` with:\n",
    "  - `bins=bins` parameter\n",
    "  - `density=True` to normalize the histogram\n",
    "  - `alpha=0.7` for transparency\n",
    "  - `color='lightgreen'`\n",
    "  - `edgecolor='black'`\n",
    "- For the PMF overlay:\n",
    "  - Create integer x-values using `np.arange(0, int(lam + 5*np.sqrt(lam)) + 1)` (this covers the relevant range)\n",
    "  - Calculate PMF using `scipy.stats.poisson.pmf(x, mu=lam)`\n",
    "  - Plot as orange points connected by lines using `ax.plot(x, pmf, 'o-', color='orange', linewidth=2, markersize=4, label='PMF')`\n",
    "- For Poisson distribution, the theoretical mean equals λ\n",
    "- Add a vertical line at the mean using `ax.axvline(lam, color='green', linestyle='--', linewidth=2, label='Mean')`\n",
    "- Set labels and formatting:\n",
    "  - X-axis: \"Value\"\n",
    "  - Y-axis: \"Density\"  \n",
    "  - Title: \"Poisson Distribution: lambda={lam:.1f}\" (use f-string formatting)\n",
    "  - Add legend with `ax.legend()`\n",
    "  - Add grid with `alpha=0.3`\n",
    "- Return the matplotlib figure object\n",
    "\n",
    "**Parameters:**\n",
    "- `n_samples`: int, number of random samples to generate\n",
    "- `lam`: float, rate parameter λ of the Poisson distribution\n",
    "- `bins`: int, number of bins for the histogram\n",
    "- `show_plot`: bool, default False. If True, call `plt.show()`\n",
    "\n",
    "**Returns:**\n",
    "- `fig`: matplotlib figure object\n",
    "\n",
    "**Note:** Since Poisson is a discrete distribution, we plot the PMF as points connected by lines rather than a continuous curve."
   ]
  },
  {
   "cell_type": "code",
   "execution_count": null,
   "id": "537a66a8",
   "metadata": {
    "tags": [
     "otter_answer_cell"
    ]
   },
   "outputs": [],
   "source": [
    "def plot_poisson_distribution(n_samples, lam, bins, show_plot=False):\n",
    "    # Generate samples and create plot\n",
    "    rng = np.random.default_rng(rng_seed)\n",
    "    samples = rng.poisson(...)\n",
    "    \n",
    "    fig, ax = plt.subplots(figsize=(10, 6))\n",
    "    \n",
    "    # Create histogram\n",
    "    \n",
    "    # Overlay PMF\n",
    "    \n",
    "    # Add mean line (mean = λ for Poisson)\n",
    "    \n",
    "    # Labels and formatting\n",
    "    \n",
    "    if show_plot:\n",
    "        plt.show()\n",
    "    \n",
    "    return fig"
   ]
  },
  {
   "cell_type": "code",
   "execution_count": null,
   "id": "efedb398",
   "metadata": {
    "tags": [
     "otter_answer_cell"
    ]
   },
   "outputs": [],
   "source": [
    "# Cell to view plot\n",
    "np.random.seed(rng_seed)  # Set seed for reproducibility\n",
    "plot_poisson_distribution(1000, 3.5, 12, show_plot=True);"
   ]
  },
  {
   "cell_type": "code",
   "execution_count": null,
   "id": "a7fea501",
   "metadata": {
    "deletable": false,
    "editable": false
   },
   "outputs": [],
   "source": [
    "grader.check(\"q1c\")"
   ]
  },
  {
   "cell_type": "markdown",
   "id": "35cfb7bd",
   "metadata": {
    "deletable": false,
    "editable": false
   },
   "source": [
    "## **Question 2**: Monte Carlo Estimation of π\n",
    "\n",
    "In this question, you'll use the Monte Carlo method to estimate the value of π by randomly scattering points in a unit square and determining which ones fall inside a quarter circle."
   ]
  },
  {
   "cell_type": "markdown",
   "id": "9878cd24",
   "metadata": {
    "deletable": false,
    "editable": false
   },
   "source": [
    "### Part a: Monte Carlo π Estimator\n",
    "\n",
    "Write a function `estimate_pi_monte_carlo(n_points)` that estimates the value of π using the Monte Carlo method.\n",
    "\n",
    "**Method:**\n",
    "The approach is based on the ratio of areas:\n",
    "- A unit square has area 1\n",
    "- A quarter circle with radius 1 inscribed in the unit square has area π/4\n",
    "- Therefore, the ratio of points inside the quarter circle to total points should approximate π/4\n",
    "\n",
    "**Algorithm:**\n",
    "1. Generate `n_points` random points (x, y) uniformly distributed in the unit square [0,1] × [0,1]\n",
    "2. For each point, check if it falls inside the quarter circle: x² + y² ≤ 1\n",
    "3. Count how many points fall inside the quarter circle\n",
    "4. Estimate π using: π ≈ 4 × (points_inside_circle / total_points)\n",
    "\n",
    "**Requirements:**\n",
    "- Use the seeded random number generator: `rng = np.random.default_rng(rng_seed)`\n",
    "- Generate random points using `rng.uniform(0, 1, (n_points, 2))`\n",
    "- Calculate distances from origin using vectorized operations\n",
    "- Count points inside the quarter circle (distance ≤ 1)\n",
    "- Return the estimated value of π\n",
    "\n",
    "**Parameters:**\n",
    "- `n_points`: int, number of random points to generate\n",
    "\n",
    "**Returns:**\n",
    "- `pi_estimate`: float, estimated value of π\n",
    "\n",
    "**Mathematical Background:**\n",
    "For a quarter circle of radius 1:\n",
    "- Area of quarter circle = π/4\n",
    "- Area of unit square = 1\n",
    "- Probability that a random point falls in quarter circle = (π/4) / 1 = π/4\n",
    "- Therefore: π = 4 × P(point in circle) ≈ 4 × (count_inside / total_points)"
   ]
  },
  {
   "cell_type": "code",
   "execution_count": null,
   "id": "fb85857b",
   "metadata": {
    "tags": [
     "otter_answer_cell"
    ]
   },
   "outputs": [],
   "source": [
    "def estimate_pi_monte_carlo(n_points):\n",
    "    # Use seeded random number generator\n",
    "    rng = np.random.default_rng(rng_seed)\n",
    "    \n",
    "    # Generate random points and estimate π\n",
    "    \n",
    "    return pi_estimate"
   ]
  },
  {
   "cell_type": "code",
   "execution_count": null,
   "id": "7d45c205",
   "metadata": {
    "tags": [
     "otter_answer_cell"
    ]
   },
   "outputs": [],
   "source": [
    "# Test the function with a few values\n",
    "print(\"Monte Carlo π estimates:\")\n",
    "for n in [100, 1000, 10000, 100000]:\n",
    "    pi_est = estimate_pi_monte_carlo(n)\n",
    "    error = abs(pi_est - np.pi)\n",
    "    print(f\"N = {n:6d}: π ≈ {pi_est:.6f}, error = {error:.6f}\")\n",
    "print(f\"True π = {np.pi:.6f}\")"
   ]
  },
  {
   "cell_type": "code",
   "execution_count": null,
   "id": "a6d932a4",
   "metadata": {
    "deletable": false,
    "editable": false
   },
   "outputs": [],
   "source": [
    "grader.check(\"q2a\")"
   ]
  },
  {
   "cell_type": "markdown",
   "id": "9ea33a77",
   "metadata": {
    "deletable": false,
    "editable": false
   },
   "source": [
    "### Part b: Convergence Analysis Plot\n",
    "\n",
    "Write a function `plot_pi_convergence(n_values, show_plot=False)` that creates a plot showing how the Monte Carlo estimate of π converges as the number of sample points increases.\n",
    "\n",
    "This function should use the `estimate_pi_monte_carlo()` function from Part a to compute π estimates for different values of N and visualize the convergence behavior.\n",
    "\n",
    "**Requirements:**\n",
    "- Use the `estimate_pi_monte_carlo()` function from Part a to compute π estimates for each N in `n_values`\n",
    "- Create a plot with:\n",
    "  - X-axis: Number of points (log scale) - use `ax.set_xscale('log')`\n",
    "  - Y-axis: Estimated value of π\n",
    "  - Plot the estimates as blue circles connected by lines: `ax.plot(n_values, pi_estimates, 'bo-', linewidth=2, markersize=6)`\n",
    "- Add a horizontal reference line for the true value of π:\n",
    "  - Use `ax.axhline(np.pi, color='red', linestyle='--', linewidth=2, label='True π')`\n",
    "- Set labels and formatting:\n",
    "  - X-axis: \"Number of Points\"\n",
    "  - Y-axis: \"Estimated π\"\n",
    "  - Title: \"Monte Carlo Convergence to π\"\n",
    "  - Add legend with `ax.legend()`\n",
    "  - Add grid with `alpha=0.3`\n",
    "- Set y-axis limits to show the convergence clearly: `ax.set_ylim([2.8, 3.5])`\n",
    "- Return the matplotlib figure object\n",
    "\n",
    "**Parameters:**\n",
    "- `n_values`: array-like, list of N values to test (should be integers)\n",
    "- `show_plot`: bool, default False. If True, call `plt.show()`\n",
    "\n",
    "**Returns:**\n",
    "- `fig`: matplotlib figure object\n",
    "\n",
    "**Note:** The log scale on the x-axis helps visualize how the estimate improves with increasing sample size. You should expect to see the estimates generally converging toward the true value of π ≈ 3.14159 as N increases."
   ]
  },
  {
   "cell_type": "code",
   "execution_count": null,
   "id": "a54f8dd1",
   "metadata": {
    "tags": [
     "otter_answer_cell"
    ]
   },
   "outputs": [],
   "source": [
    "def plot_pi_convergence(n_values, show_plot=False):\n",
    "    # Calculate π estimates for different N values\n",
    "    np.random.seed(rng_seed)\n",
    "    \n",
    "    # Create plot with log scale x-axis\n",
    "    fig, ax = plt.subplots(figsize=(10, 6))\n",
    "    \n",
    "    # Plot estimates and true π line\n",
    "    \n",
    "    # Labels and formatting\n",
    "    \n",
    "    if show_plot:\n",
    "        plt.show()\n",
    "    \n",
    "    return fig"
   ]
  },
  {
   "cell_type": "code",
   "execution_count": null,
   "id": "d3cb0f16",
   "metadata": {
    "tags": [
     "otter_answer_cell"
    ]
   },
   "outputs": [],
   "source": [
    "# Cell to view plot\n",
    "np.random.seed(rng_seed)\n",
    "n_test_values = [100, 300, 1000, 3000, 10000, 30000, 100000]\n",
    "plot_pi_convergence(n_test_values, show_plot=True);"
   ]
  },
  {
   "cell_type": "code",
   "execution_count": null,
   "id": "e460de2e",
   "metadata": {
    "deletable": false,
    "editable": false
   },
   "outputs": [],
   "source": [
    "grader.check(\"q2b\")"
   ]
  },
  {
   "cell_type": "markdown",
   "id": "42dcb1d0",
   "metadata": {
    "deletable": false,
    "editable": false
   },
   "source": [
    "## **Question 3**: Biased Coin Simulation\n",
    "\n",
    "In this question, you'll simulate a biased coin and analyze how the observed probability of heads converges to the theoretical value as the number of flips increases."
   ]
  },
  {
   "cell_type": "markdown",
   "id": "f9a091cd",
   "metadata": {
    "deletable": false,
    "editable": false
   },
   "source": [
    "### Part a: Biased Coin Flip Simulator\n",
    "\n",
    "Write a function `simulate_coin_flips(p, n_flips)` that simulates flipping a biased coin.\n",
    "\n",
    "**Method:**\n",
    "A biased coin has probability `p` of landing heads and probability `(1-p)` of landing tails. This follows a Bernoulli distribution where:\n",
    "- Success (heads) occurs with probability `p`\n",
    "- Failure (tails) occurs with probability `1-p`\n",
    "\n",
    "**Requirements:**\n",
    "- Use the seeded random number generator: `rng = np.random.default_rng(rng_seed)`\n",
    "- Generate random samples from the Bernoulli distribution using `rng.binomial(...)`\n",
    "- Return a list or array where 1 represents heads and 0 represents tails\n",
    "- The function should work for any probability `p` between 0 and 1\n",
    "\n",
    "**Parameters:**\n",
    "- `p`: float, probability of heads (between 0 and 1)\n",
    "- `n_flips`: int, number of coin flips to simulate\n",
    "\n",
    "**Returns:**\n",
    "- `flips`: numpy array or list, sequence of 1s (heads) and 0s (tails)"
   ]
  },
  {
   "cell_type": "code",
   "execution_count": null,
   "id": "dfc0c5aa",
   "metadata": {
    "tags": [
     "otter_answer_cell"
    ]
   },
   "outputs": [],
   "source": [
    "def simulate_coin_flips(p, n_flips):\n",
    "    # Use seeded random number generator\n",
    "    rng = np.random.default_rng(rng_seed)\n",
    "    \n",
    "    # Generate coin flips from Bernoulli distribution\n",
    "    \n",
    "    return flips"
   ]
  },
  {
   "cell_type": "code",
   "execution_count": null,
   "id": "ec7c4b8f",
   "metadata": {
    "tags": [
     "otter_answer_cell"
    ]
   },
   "outputs": [],
   "source": [
    "# Test the function with different probabilities\n",
    "np.random.seed(rng_seed)\n",
    "print(\"Biased coin simulation tests:\")\n",
    "for p in [0.3, 0.5, 0.7]:\n",
    "    flips = simulate_coin_flips(p, 1000)\n",
    "    observed_p = np.mean(flips)\n",
    "    error = abs(observed_p - p)\n",
    "    print(f\"p = {p:.1f}: observed = {observed_p:.3f}, error = {error:.3f}\")\n",
    "    print(f\"  First 20 flips: {flips[:20]}\")"
   ]
  },
  {
   "cell_type": "code",
   "execution_count": null,
   "id": "14247f3f",
   "metadata": {
    "deletable": false,
    "editable": false
   },
   "outputs": [],
   "source": [
    "grader.check(\"q3a\")"
   ]
  },
  {
   "cell_type": "markdown",
   "id": "330e5400",
   "metadata": {
    "deletable": false,
    "editable": false
   },
   "source": [
    "### Part b: Coin Flip Convergence Analysis\n",
    "\n",
    "Write a function `plot_coin_convergence(p, n_values, show_plot=False)` that creates a plot showing how the observed proportion of heads converges to the theoretical probability as the number of flips increases.\n",
    "\n",
    "This function should use the `simulate_coin_flips()` function from Part a to simulate coin flips for different numbers of flips and visualize the convergence behavior.\n",
    "\n",
    "**Requirements:**\n",
    "- Use the `simulate_coin_flips()` function from Part a to simulate coin flips for each N in `n_values`\n",
    "- For each N, calculate the observed proportion of heads: `proportion = np.mean(flips)`\n",
    "- Create a plot with:\n",
    "  - X-axis: Number of flips (log scale) - use `ax.set_xscale('log')`\n",
    "  - Y-axis: Observed proportion of heads\n",
    "  - Plot the proportions as green circles connected by lines: `ax.plot(n_values, proportions, 'go-', linewidth=2, markersize=6)`\n",
    "- Add a horizontal reference line for the theoretical probability:\n",
    "  - Use `ax.axhline(p, color='red', linestyle='--', linewidth=2, label=f'Theoretical p = {p:.2f}')`\n",
    "- Set labels and formatting:\n",
    "  - X-axis: \"Number of Flips\"\n",
    "  - Y-axis: \"Observed Proportion of Heads\"\n",
    "  - Title: f\"Coin Flip Convergence (p = {p:.2f})\"\n",
    "  - Add legend with `ax.legend()`\n",
    "  - Add grid with `alpha=0.3`\n",
    "- Set y-axis limits based on the probability: `ax.set_ylim([max(0, p-0.3), min(1, p+0.3)])`\n",
    "- Return the matplotlib figure object\n",
    "\n",
    "**Parameters:**\n",
    "- `p`: float, true probability of heads for the biased coin\n",
    "- `n_values`: array-like, list of N values to test (number of flips)\n",
    "- `show_plot`: bool, default False. If True, call `plt.show()`\n",
    "\n",
    "**Returns:**\n",
    "- `fig`: matplotlib figure object\n",
    "\n",
    "**Note:** This demonstrates the Law of Large Numbers - as the number of trials increases, the observed frequency approaches the theoretical probability."
   ]
  },
  {
   "cell_type": "code",
   "execution_count": null,
   "id": "62697752",
   "metadata": {
    "tags": [
     "otter_answer_cell"
    ]
   },
   "outputs": [],
   "source": [
    "def plot_coin_convergence(p, n_values, show_plot=False):\n",
    "    # Calculate observed proportions for different N values\n",
    "    np.random.seed(rng_seed)\n",
    "    \n",
    "    # Create plot with log scale x-axis\n",
    "    fig, ax = plt.subplots(figsize=(10, 6))\n",
    "    \n",
    "    # Plot proportions and theoretical line\n",
    "    \n",
    "    # Labels and formatting\n",
    "    \n",
    "    if show_plot:\n",
    "        plt.show()\n",
    "    \n",
    "    return fig"
   ]
  },
  {
   "cell_type": "code",
   "execution_count": null,
   "id": "f3cf7abf",
   "metadata": {
    "tags": [
     "otter_answer_cell"
    ]
   },
   "outputs": [],
   "source": [
    "# Cell to view plot\n",
    "np.random.seed(rng_seed)\n",
    "n_flip_values = [50, 200, 500, 2000, 5000, 20000, 50000]\n",
    "plot_coin_convergence(0.3, n_flip_values, show_plot=True);"
   ]
  },
  {
   "cell_type": "code",
   "execution_count": null,
   "id": "039b795a",
   "metadata": {
    "deletable": false,
    "editable": false
   },
   "outputs": [],
   "source": [
    "grader.check(\"q3b\")"
   ]
  },
  {
   "cell_type": "markdown",
   "id": "74857067",
   "metadata": {
    "deletable": false,
    "editable": false
   },
   "source": [
    "## Required disclosure of use of AI technology\n",
    "\n",
    "Please indicate whether you used AI to complete this homework. If you did, explain how you used it in the python cell below, as a comment."
   ]
  },
  {
   "cell_type": "code",
   "execution_count": null,
   "id": "73151caa",
   "metadata": {
    "tags": [
     "otter_answer_cell"
    ]
   },
   "outputs": [],
   "source": [
    "\"\"\"\n",
    "# write ai disclosure here:\n",
    "\n",
    "\"\"\""
   ]
  },
  {
   "cell_type": "markdown",
   "id": "cdc11070",
   "metadata": {
    "deletable": false,
    "editable": false
   },
   "source": [
    "## Submission\n",
    "\n",
    "Make sure you have run all cells in your notebook in order before running the cell below, so that all images/graphs appear in the output. The cell below will generate a zip file for you to submit.\n",
    "\n",
    "Upload the .zip file to Gradescope!"
   ]
  },
  {
   "cell_type": "code",
   "execution_count": null,
   "id": "1f157d43",
   "metadata": {
    "deletable": false,
    "editable": false
   },
   "outputs": [],
   "source": [
    "grader.export(pdf=False, force_save=True, run_tests=True)"
   ]
  },
  {
   "cell_type": "markdown",
   "id": "a4019c22",
   "metadata": {},
   "source": [
    " "
   ]
  }
 ],
 "metadata": {
  "kernelspec": {
   "display_name": "otter_grading",
   "language": "python",
   "name": "python3"
  },
  "language_info": {
   "codemirror_mode": {
    "name": "ipython",
    "version": 3
   },
   "file_extension": ".py",
   "mimetype": "text/x-python",
   "name": "python",
   "nbconvert_exporter": "python",
   "pygments_lexer": "ipython3",
   "version": "3.12.11"
  },
  "otter": {
   "OK_FORMAT": true,
   "tests": {
    "q1a": {
     "name": "q1a",
     "points": null,
     "suites": [
      {
       "cases": [
        {
         "code": ">>> np.random.seed(rng_seed)\n>>> fig_test = plot_normal_distribution(100, 0, 1, 20)\n>>> import matplotlib.figure\n>>> temp = isinstance(fig_test, matplotlib.figure.Figure)\n>>> plt.close(fig_test)\n>>> temp\nTrue",
         "hidden": false,
         "locked": false,
         "points": 1
        },
        {
         "code": ">>> np.random.seed(rng_seed)\n>>> fig_normal = plot_normal_distribution(500, 1, 2, 25)\n>>> ax = fig_normal.axes[0]\n>>> has_histogram = len(ax.patches) > 0\n>>> lines = ax.get_lines()\n>>> has_pdf_line = len(lines) >= 1\n>>> has_vertical_line = len(ax.collections) > 0 or any(('axvline' in str(type(child)) for child in ax.get_children()))\n>>> has_xlabel = ax.get_xlabel() == 'Value'\n>>> has_ylabel = ax.get_ylabel() == 'Density'\n>>> plt.close(fig_normal)\n>>> (has_histogram, has_pdf_line, has_xlabel, has_ylabel)\n(True, True, True, True)",
         "hidden": false,
         "locked": false,
         "points": 1
        },
        {
         "code": ">>> np.random.seed(42)\n>>> fig_title = plot_normal_distribution(200, 3.5, 0.8, 15)\n>>> ax = fig_title.axes[0]\n>>> title = ax.get_title()\n>>> has_correct_title = 'Normal Distribution' in title and '3.5' in title and ('0.8' in title)\n>>> has_legend = ax.get_legend() is not None\n>>> has_grid = ax.xaxis.get_gridlines()[0].get_visible()\n>>> plt.close(fig_title)\n>>> (has_correct_title, has_legend, has_grid)\n(True, True, True)",
         "hidden": false,
         "locked": false,
         "points": 1
        }
       ],
       "scored": true,
       "setup": "",
       "teardown": "",
       "type": "doctest"
      }
     ]
    },
    "q1b": {
     "name": "q1b",
     "points": null,
     "suites": [
      {
       "cases": [
        {
         "code": ">>> np.random.seed(rng_seed)\n>>> fig_test = plot_uniform_distribution(100, 0, 5, 20)\n>>> import matplotlib.figure\n>>> temp = isinstance(fig_test, matplotlib.figure.Figure)\n>>> plt.close(fig_test)\n>>> temp\nTrue",
         "hidden": false,
         "locked": false,
         "points": 1
        },
        {
         "code": ">>> np.random.seed(rng_seed)\n>>> fig_uniform = plot_uniform_distribution(500, 1, 7, 20)\n>>> ax = fig_uniform.axes[0]\n>>> has_histogram = len(ax.patches) > 0\n>>> lines = ax.get_lines()\n>>> has_pdf_line = len(lines) >= 1\n>>> has_xlabel = ax.get_xlabel() == 'Value'\n>>> has_ylabel = ax.get_ylabel() == 'Density'\n>>> plt.close(fig_uniform)\n>>> (has_histogram, has_pdf_line, has_xlabel, has_ylabel)\n(True, True, True, True)",
         "hidden": false,
         "locked": false,
         "points": 1
        },
        {
         "code": ">>> np.random.seed(rng_seed)\n>>> fig_title = plot_uniform_distribution(200, -1.5, 2.5, 15)\n>>> ax = fig_title.axes[0]\n>>> title = ax.get_title()\n>>> has_correct_title = 'Uniform Distribution' in title and '-1.5' in title and ('2.5' in title)\n>>> has_legend = ax.get_legend() is not None\n>>> has_grid = ax.xaxis.get_gridlines()[0].get_visible()\n>>> plt.close(fig_title)\n>>> (has_correct_title, has_legend, has_grid)\n(True, True, True)",
         "hidden": false,
         "locked": false,
         "points": 1
        }
       ],
       "scored": true,
       "setup": "",
       "teardown": "",
       "type": "doctest"
      }
     ]
    },
    "q1c": {
     "name": "q1c",
     "points": null,
     "suites": [
      {
       "cases": [
        {
         "code": ">>> np.random.seed(rng_seed)\n>>> fig_test = plot_poisson_distribution(100, 2.5, 15)\n>>> import matplotlib.figure\n>>> temp = isinstance(fig_test, matplotlib.figure.Figure)\n>>> plt.close(fig_test)\n>>> temp\nTrue",
         "hidden": false,
         "locked": false,
         "points": 1
        },
        {
         "code": ">>> np.random.seed(rng_seed)\n>>> fig_poisson = plot_poisson_distribution(500, 4.0, 20)\n>>> ax = fig_poisson.axes[0]\n>>> has_histogram = len(ax.patches) > 0\n>>> lines = ax.get_lines()\n>>> has_pmf_line = len(lines) >= 1\n>>> has_xlabel = ax.get_xlabel() == 'Value'\n>>> has_ylabel = ax.get_ylabel() == 'Density'\n>>> plt.close(fig_poisson)\n>>> (has_histogram, has_pmf_line, has_xlabel, has_ylabel)\n(True, True, True, True)",
         "hidden": false,
         "locked": false,
         "points": 1
        },
        {
         "code": ">>> np.random.seed(rng_seed)\n>>> fig_title = plot_poisson_distribution(200, 2.8, 12)\n>>> ax = fig_title.axes[0]\n>>> title = ax.get_title()\n>>> has_correct_title = 'Poisson Distribution' in title and '2.8' in title\n>>> has_legend = ax.get_legend() is not None\n>>> has_grid = ax.xaxis.get_gridlines()[0].get_visible()\n>>> lines = ax.get_lines()\n>>> has_markers = len(lines) > 0 and any((line.get_marker() != 'None' for line in lines))\n>>> plt.close(fig_title)\n>>> (has_correct_title, has_legend, has_grid, has_markers)\n(True, True, True, True)",
         "hidden": false,
         "locked": false,
         "points": 1
        }
       ],
       "scored": true,
       "setup": "",
       "teardown": "",
       "type": "doctest"
      }
     ]
    },
    "q2a": {
     "name": "q2a",
     "points": null,
     "suites": [
      {
       "cases": [
        {
         "code": ">>> np.random.seed(rng_seed)\n>>> pi_est_small = estimate_pi_monte_carlo(1000)\n>>> test_result = isinstance(pi_est_small, (int, float, np.floating, np.integer)) and 2.0 < pi_est_small < 4.0\n>>> test_result\nnp.True_",
         "hidden": false,
         "locked": false,
         "points": 1
        },
        {
         "code": ">>> np.random.seed(rng_seed)\n>>> pi_est_10k = estimate_pi_monte_carlo(10000)\n>>> pi_est_100k = estimate_pi_monte_carlo(100000)\n>>> error_10k = abs(pi_est_10k - np.pi)\n>>> error_100k = abs(pi_est_100k - np.pi)\n>>> bool(error_100k < error_10k)\nTrue",
         "hidden": false,
         "locked": false,
         "points": 1
        },
        {
         "code": ">>> np.random.seed(rng_seed)\n>>> pi_est1 = estimate_pi_monte_carlo(5000)\n>>> pi_est2 = estimate_pi_monte_carlo(5000)\n>>> test_result = np.isclose(pi_est1, pi_est2, rtol=1e-10)\n>>> bool(test_result)\nTrue",
         "hidden": false,
         "locked": false,
         "points": 1
        }
       ],
       "scored": true,
       "setup": "",
       "teardown": "",
       "type": "doctest"
      }
     ]
    },
    "q2b": {
     "name": "q2b",
     "points": null,
     "suites": [
      {
       "cases": [
        {
         "code": ">>> np.random.seed(rng_seed)\n>>> test_n_values = [100, 1000, 10000]\n>>> fig_test = plot_pi_convergence(test_n_values)\n>>> import matplotlib.figure\n>>> temp = isinstance(fig_test, matplotlib.figure.Figure)\n>>> plt.close(fig_test)\n>>> temp\nTrue",
         "hidden": false,
         "locked": false,
         "points": 1
        },
        {
         "code": ">>> np.random.seed(rng_seed)\n>>> test_n_values = [500, 2000, 8000]\n>>> fig_conv = plot_pi_convergence(test_n_values)\n>>> ax = fig_conv.axes[0]\n>>> lines = ax.get_lines()\n>>> has_data_line = len(lines) >= 1\n>>> has_reference_line = len(lines) >= 2\n>>> has_log_scale = ax.get_xscale() == 'log'\n>>> has_xlabel = ax.get_xlabel() == 'Number of Points'\n>>> has_ylabel = ax.get_ylabel() == 'Estimated π'\n>>> plt.close(fig_conv)\n>>> (has_data_line, has_reference_line, has_log_scale, has_xlabel, has_ylabel)\n(True, True, True, True, True)",
         "hidden": false,
         "locked": false,
         "points": 1
        },
        {
         "code": ">>> np.random.seed(rng_seed)\n>>> test_n_values = [200, 1000, 5000]\n>>> fig_format = plot_pi_convergence(test_n_values)\n>>> ax = fig_format.axes[0]\n>>> has_title = 'Monte Carlo' in ax.get_title() and 'π' in ax.get_title()\n>>> has_legend = ax.get_legend() is not None\n>>> ylim = ax.get_ylim()\n>>> correct_ylim = ylim[0] <= 2.8 and ylim[1] >= 3.5\n>>> has_grid = ax.xaxis.get_gridlines()[0].get_visible()\n>>> plt.close(fig_format)\n>>> (has_title, has_legend, correct_ylim, has_grid)\n(True, True, np.True_, True)",
         "hidden": false,
         "locked": false,
         "points": 1
        }
       ],
       "scored": true,
       "setup": "",
       "teardown": "",
       "type": "doctest"
      }
     ]
    },
    "q3a": {
     "name": "q3a",
     "points": null,
     "suites": [
      {
       "cases": [
        {
         "code": ">>> np.random.seed(rng_seed)\n>>> flips_test = simulate_coin_flips(0.6, 100)\n>>> test_result = len(flips_test) == 100 and isinstance(flips_test, np.ndarray) and np.all(np.isin(flips_test, [0, 1]))\n>>> test_result\nnp.True_",
         "hidden": false,
         "locked": false,
         "points": 1
        },
        {
         "code": ">>> np.random.seed(rng_seed)\n>>> flips_fair = simulate_coin_flips(0.5, 10000)\n>>> flips_biased = simulate_coin_flips(0.8, 10000)\n>>> fair_prop = np.mean(flips_fair)\n>>> biased_prop = np.mean(flips_biased)\n>>> test_result = 0.45 < fair_prop < 0.55 and 0.75 < biased_prop < 0.85 and (biased_prop > fair_prop)\n>>> bool(test_result)\nTrue",
         "hidden": false,
         "locked": false,
         "points": 1
        },
        {
         "code": ">>> np.random.seed(rng_seed)\n>>> flips1 = simulate_coin_flips(0.3, 500)\n>>> flips2 = simulate_coin_flips(0.3, 500)\n>>> test_result = np.array_equal(flips1, flips2)\n>>> bool(test_result)\nTrue",
         "hidden": false,
         "locked": false,
         "points": 1
        }
       ],
       "scored": true,
       "setup": "",
       "teardown": "",
       "type": "doctest"
      }
     ]
    },
    "q3b": {
     "name": "q3b",
     "points": null,
     "suites": [
      {
       "cases": [
        {
         "code": ">>> test_n_values = [100, 1000, 10000]\n>>> fig_test = plot_coin_convergence(0.4, test_n_values)\n>>> import matplotlib.figure\n>>> temp = isinstance(fig_test, matplotlib.figure.Figure)\n>>> plt.close(fig_test)\n>>> temp\nTrue",
         "hidden": false,
         "locked": false,
         "points": 1
        },
        {
         "code": ">>> test_n_values = [500, 2000, 8000]\n>>> fig_conv = plot_coin_convergence(0.7, test_n_values)\n>>> ax = fig_conv.axes[0]\n>>> lines = ax.get_lines()\n>>> has_data_line = len(lines) >= 1\n>>> has_reference_line = len(lines) >= 2\n>>> has_log_scale = ax.get_xscale() == 'log'\n>>> has_xlabel = ax.get_xlabel() == 'Number of Flips'\n>>> has_ylabel = ax.get_ylabel() == 'Observed Proportion of Heads'\n>>> plt.close(fig_conv)\n>>> (has_data_line, has_reference_line, has_log_scale, has_xlabel, has_ylabel)\n(True, True, True, True, True)",
         "hidden": false,
         "locked": false,
         "points": 1
        },
        {
         "code": ">>> test_n_values = [200, 1000, 5000]\n>>> fig_format = plot_coin_convergence(0.25, test_n_values)\n>>> ax = fig_format.axes[0]\n>>> title = ax.get_title()\n>>> has_correct_title = 'Coin Flip Convergence' in title and '0.25' in title\n>>> has_legend = ax.get_legend() is not None\n>>> ylim = ax.get_ylim()\n>>> reasonable_ylim = ylim[0] >= 0 and ylim[1] <= 1 and (ylim[1] - ylim[0] <= 0.7)\n>>> has_grid = ax.xaxis.get_gridlines()[0].get_visible()\n>>> plt.close(fig_format)\n>>> (has_correct_title, has_legend, reasonable_ylim, has_grid)\n(True, True, np.True_, True)",
         "hidden": false,
         "locked": false,
         "points": 1
        }
       ],
       "scored": true,
       "setup": "",
       "teardown": "",
       "type": "doctest"
      }
     ]
    }
   }
  }
 },
 "nbformat": 4,
 "nbformat_minor": 5
}

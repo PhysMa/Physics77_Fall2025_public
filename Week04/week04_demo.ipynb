{
 "cells": [
  {
   "cell_type": "markdown",
   "id": "68d20ce8",
   "metadata": {},
   "source": [
    "# Week 04 Live Coding Demo — NumPy, Number Formats, Big-O, Parallel Computing\n",
    "Guiding ideas: work with **arrays**, avoid Python loops where possible, and understand how **precision** and **algorithmic complexity** impact results and performance."
   ]
  },
  {
   "cell_type": "markdown",
   "id": "ebfff496",
   "metadata": {},
   "source": [
    "## 1. Array Creation — beyond the basics"
   ]
  },
  {
   "cell_type": "code",
   "execution_count": null,
   "id": "a708bedc",
   "metadata": {},
   "outputs": [],
   "source": [
    "import numpy as np\n",
    "import matplotlib.pyplot as plt\n",
    "\n",
    "# --- grids ---\n",
    "L = 0.04                                   # spatial domain length [m]\n",
    "Nx, Nt = 256, 200                          # grid sizes\n",
    "x = np.linspace(-L/2, L/2, Nx)             # x in [-L/2, L/2]\n",
    "T = 0.02                                   \n",
    "t = np.linspace(0.0, T, Nt)                # time in [0, T]\n",
    "\n",
    "# --- wave parameters ---\n",
    "k = 2*np.pi / L                            # wavenumber [rad/m]\n",
    "omega = 2*np.pi * 50                       # 50 Hz angular freq [rad/s]\n",
    "\n",
    "# --- separable space–time field: sin(k x) * cos(ω t) ---\n",
    "spatial = np.sin(k * x)                    # shape (Nx,)\n",
    "temporal = np.cos(omega * t)               # shape (Nt,)\n",
    "field = temporal[:, None] * spatial[None, :]  # broadcast -> shape (Nt, Nx)\n",
    "\n",
    "print(field.shape)                         # (200, 256)\n",
    "print(np.round(field[:3, :5], 3))          # first 3 times × first 5 x nodes\n",
    "# example ->\n",
    "# [[-0.   -0.078 -0.156 -0.232 -0.306]\n",
    "#  [-0.   -0.071 -0.144 -0.215 -0.283]\n",
    "#  [-0.   -0.058 -0.119 -0.178 -0.234]]\n",
    "\n",
    "# optional: snapshot at t0\n",
    "t0 = 0.003                                 # 3 ms\n",
    "i0 = np.argmin(np.abs(t - t0))             # nearest time index\n",
    "snapshot = field[i0]                       # 1D spatial profile at t ≈ t0\n",
    "print('Snapshot at t0:', snapshot)\n",
    "\n",
    "plt.imshow(field, aspect='auto', cmap='bwr')\n",
    "plt.xlabel('x [m]')\n",
    "plt.ylabel('t [s]')\n",
    "plt.colorbar()\n",
    "plt.show()\n"
   ]
  },
  {
   "cell_type": "code",
   "execution_count": null,
   "id": "1dec6b50",
   "metadata": {},
   "outputs": [],
   "source": [
    "A = np.triu(np.ones((4,4)))\n",
    "print(A)\n",
    "B = np.block([[A, 2*A],[3*A, 4*A]])\n",
    "print(B)\n",
    "print(B.shape)\n",
    "print(B[:3,:6])\n"
   ]
  },
  {
   "cell_type": "markdown",
   "id": "9a37cef4",
   "metadata": {},
   "source": [
    "## 2. Indexing & Slicing — 1D/2D/3D practice"
   ]
  },
  {
   "cell_type": "code",
   "execution_count": null,
   "id": "cd65ddeb",
   "metadata": {},
   "outputs": [],
   "source": [
    "sig = np.sin(np.linspace(0, 4*np.pi, 13))\n",
    "ds = (sig[2:] - sig[:-2]) / 2.0\n",
    "print(np.round(sig, 3))\n",
    "print(np.round(ds, 3))\n"
   ]
  },
  {
   "cell_type": "code",
   "execution_count": null,
   "id": "e0c57753",
   "metadata": {},
   "outputs": [],
   "source": [
    "# 2D indexing, img is 10x12 pixels\n",
    "img = np.arange(10*12).reshape(10,12) \n",
    "crop = img[2:8, 3:9]\n",
    "coarse = img[::2, ::3]\n",
    "flipped = img[::-1, ::-1]\n",
    "print(crop.shape, coarse.shape, flipped.shape)\n",
    "print(crop[:2,:4])\n"
   ]
  },
  {
   "cell_type": "code",
   "execution_count": null,
   "id": "5497c35e",
   "metadata": {},
   "outputs": [],
   "source": [
    "nx, ny, nz = 6, 5, 4\n",
    "F = np.arange(nx*ny*nz).reshape(nx, ny, nz)\n",
    "slice_yz = F[3, :, :]\n",
    "print(F.shape, slice_yz.shape)\n",
    "print(slice_yz)\n"
   ]
  },
  {
   "cell_type": "markdown",
   "id": "bc7f7f63",
   "metadata": {},
   "source": [
    "## 3. Masks & Fancy Indexing — threshold and selection"
   ]
  },
  {
   "cell_type": "code",
   "execution_count": null,
   "id": "25eeb976",
   "metadata": {},
   "outputs": [],
   "source": [
    "# mask and fancy indexing returns a copy\n",
    "E = np.array([0.05, 0.2, 0.8, 1.6, 2.5, 3.1])\n",
    "mask_pass = (E >= 0.5) & (E <= 2.0)\n",
    "print(mask_pass)\n",
    "passed = E[mask_pass]\n",
    "ix = [1, 3, 5]\n",
    "picked = E[ix]\n",
    "print(passed)\n",
    "print(picked)\n"
   ]
  },
  {
   "cell_type": "code",
   "execution_count": null,
   "id": "283dc452",
   "metadata": {},
   "outputs": [],
   "source": [
    "# putmask returns a copy, ~mask_pass is a boolean array\n",
    "window = E.copy()\n",
    "np.putmask(window, ~mask_pass, 0.0)\n",
    "print(window)\n"
   ]
  },
  {
   "cell_type": "markdown",
   "id": "5b3c4ff1",
   "metadata": {},
   "source": [
    "## 4. Broadcasting & Vectorized Ops — small physics model"
   ]
  },
  {
   "cell_type": "code",
   "execution_count": null,
   "id": "f048108a",
   "metadata": {},
   "outputs": [],
   "source": [
    "# broadcasting and vectorized operations\n",
    "# B is Planck function for blackbody radiation, T is temperature, lam is wavelength\n",
    "lam = np.linspace(300e-9, 1200e-9, 19)\n",
    "T = np.array([3000.0, 6000.0])\n",
    "c2 = 1.438776877e-2\n",
    "B = 1.0 / (lam[None,:]**5 * (np.exp(c2/(lam[None,:]*T[:,None])) - 1.0))\n",
    "print(B.shape)\n",
    "print(np.round(B[:, ::2] / B[:, ::2].max(axis=1, keepdims=True), 3))\n",
    "plt.plot(lam, B[0], label='T=3000 K')\n",
    "plt.plot(lam, B[1], label='T=6000 K')\n",
    "plt.xlabel('Wavelength [m]')\n",
    "plt.ylabel('Spectral radiance [W/m^2/sr/m]')\n",
    "plt.legend()\n",
    "plt.show()\n"
   ]
  },
  {
   "cell_type": "code",
   "execution_count": null,
   "id": "851ca3d2",
   "metadata": {},
   "outputs": [],
   "source": [
    "# damped harmonic oscillator\n",
    "t = np.linspace(0, 2.0, 100)\n",
    "f0 = 2.5\n",
    "zeta = 0.2\n",
    "y = np.exp(-zeta*2*np.pi*f0*t) * np.cos(2*np.pi*f0*np.sqrt(1-zeta**2)*t)\n",
    "print(np.round(y, 4))\n",
    "plt.plot(t, y)\n",
    "plt.xlabel('Time [s]')\n",
    "plt.ylabel('Displacement [m]')\n",
    "plt.show()\n"
   ]
  },
  {
   "cell_type": "markdown",
   "id": "2a2ac586",
   "metadata": {},
   "source": [
    "## 5. Reductions & Axis — summarize along dimensions"
   ]
  },
  {
   "cell_type": "code",
   "execution_count": null,
   "id": "522419aa",
   "metadata": {},
   "outputs": [],
   "source": [
    "A = np.arange(2*3*4).reshape(2,3,4)\n",
    "col_sum = A.sum(axis=2)\n",
    "row_max = A.max(axis=1, keepdims=True)\n",
    "print(col_sum.shape, row_max.shape)\n",
    "print(col_sum[0], row_max[0,0])\n"
   ]
  },
  {
   "cell_type": "code",
   "execution_count": null,
   "id": "e010ec8a",
   "metadata": {},
   "outputs": [],
   "source": [
    "# +-2 sigma of a Gaussian with mean 0 and std 0.5 covers ~95.5% of the distribution\n",
    "noise = np.random.RandomState(0).normal(0, 0.5, size=(4, 1000))\n",
    "counts = (np.abs(noise) > 1.0).sum(axis=1) # True/False -> 1/0 -> sum over axis=1\n",
    "print(counts)\n"
   ]
  },
  {
   "cell_type": "markdown",
   "id": "a1351f96",
   "metadata": {},
   "source": [
    "## 6. Performance — Python loop vs NumPy vectorization"
   ]
  },
  {
   "cell_type": "code",
   "execution_count": null,
   "id": "9f7c4b32",
   "metadata": {},
   "outputs": [],
   "source": [
    "import time\n",
    "N = 3_000_000\n",
    "t0 = time.perf_counter()\n",
    "s = 0\n",
    "for k in range(N):\n",
    "    s += k*k\n",
    "t1 = time.perf_counter()\n",
    "print(\"Python sumsq:\", s, \"time(s):\", round(t1 - t0, 4))\n",
    "\n",
    "import numpy as np\n",
    "t2 = time.perf_counter()\n",
    "arr = np.arange(N, dtype=np.int64)\n",
    "s_np = int((arr*arr).sum())\n",
    "t3 = time.perf_counter()\n",
    "print(\"NumPy sumsq :\", s_np, \"time(s):\", round(t3 - t2, 4))\n"
   ]
  },
  {
   "cell_type": "markdown",
   "id": "ae61419b",
   "metadata": {},
   "source": [
    "## 7. Number Formats — precision (ε) and dynamic range"
   ]
  },
  {
   "cell_type": "code",
   "execution_count": null,
   "id": "0b378150",
   "metadata": {},
   "outputs": [],
   "source": [
    "import numpy as np\n",
    "print(\"eps16:\", np.finfo(np.float16).eps)\n",
    "print(\"eps32:\", np.finfo(np.float32).eps)\n",
    "print(\"eps64:\", np.finfo(np.float64).eps)\n",
    "print(\"tiny32:\", np.finfo(np.float32).tiny, \"max32:\", np.finfo(np.float32).max)\n",
    "print(\"tiny64:\", np.finfo(np.float64).tiny, \"max64:\", np.finfo(np.float64).max)\n"
   ]
  },
  {
   "cell_type": "code",
   "execution_count": null,
   "id": "cfadc704",
   "metadata": {},
   "outputs": [],
   "source": [
    "x = np.float32(100.0)  # 32-bit float scalar\n",
    "\n",
    "# Compute exp(±100) in float32 to illustrate limited dynamic range\n",
    "y = np.float32(np.exp(np.float32(100)))   # exp(100) overflows float32 → inf (RuntimeWarning)\n",
    "z = np.float32(np.exp(np.float32(-100)))  # exp(-100) underflows to a subnormal (~3.8e-44)\n",
    "\n",
    "print(\"exp32(100):\", y, \"exp32(-100):\", z)\n",
    "\n",
    "# In float64, exp(100) is finite and representable\n",
    "x64 = 100.0  # default dtype is float64\n",
    "print(\"exp64(100):\", np.exp(x64), \"exp64(-100):\", np.exp(-1 * x64))\n"
   ]
  },
  {
   "cell_type": "code",
   "execution_count": null,
   "id": "eb21b6e3",
   "metadata": {},
   "outputs": [],
   "source": [
    "# sum of 0.1 in float32 vs float64\n",
    "n = 100_000\n",
    "a32 = np.float32(0.1)\n",
    "s32 = np.float32(0.0)\n",
    "for _ in range(n):\n",
    "    s32 += a32\n",
    "a64 = np.float64(0.1)\n",
    "s64 = np.float64(0.0)\n",
    "for _ in range(n):\n",
    "    s64 += a64\n",
    "print(\"sum32:\", s32)\n",
    "print(\"sum64:\", s64)\n"
   ]
  },
  {
   "cell_type": "markdown",
   "id": "2e565081",
   "metadata": {},
   "source": [
    "## 8. Modern formats — FP16, bfloat16, and TF32 (emulated)"
   ]
  },
  {
   "cell_type": "code",
   "execution_count": null,
   "id": "caa58c94",
   "metadata": {},
   "outputs": [],
   "source": [
    "import numpy as np\n",
    "h = np.array([1.0, 1e-3, 1e3], dtype=np.float16)\n",
    "print(\"float16:\", h, h.dtype)\n",
    "try:\n",
    "    bf = np.array([1.0, 1e-3, 1e3], dtype=np.dtype('bfloat16'))\n",
    "    print(\"bfloat16 available:\", True, bf.dtype)\n",
    "except Exception as e:\n",
    "    print(\"bfloat16 available:\", False, e)\n"
   ]
  },
  {
   "cell_type": "code",
   "execution_count": null,
   "id": "886a5510",
   "metadata": {},
   "outputs": [],
   "source": [
    "# TF32 is a modern format that is not natively supported by NumPy\n",
    "# but can be emulated using bit manipulation\n",
    "import numpy as np\n",
    "\n",
    "def tf32_round(x32, keep=10):\n",
    "    a = np.asarray(x32, dtype=np.float32)            # ensure float32\n",
    "    ui = a.view(np.uint32)                           # bit view of the same memory\n",
    "\n",
    "    drop = np.uint32(23 - keep)                      # how many mantissa bits to drop\n",
    "    if drop == 0:                                    # nothing to round\n",
    "        return a.copy()\n",
    "\n",
    "    round_bit = np.uint32(1) << np.uint32(drop - 1)  # half-ulp at the cut (uint32)\n",
    "    mask = np.uint32(0xFFFFFFFF) << drop             # keep high bits, zero low bits (uint32)\n",
    "\n",
    "    rounded = (ui + round_bit) & mask                # add-round and clear low bits\n",
    "    return rounded.view(np.float32)                  # back to float32\n",
    "\n",
    "# quick check\n",
    "vals = np.array([0.12345679, 123.5679, -0.9876543], dtype=np.float32)\n",
    "approx = tf32_round(vals)\n",
    "print(\"float32:\", vals)       # float32: [ 1.2345679e-01  1.2356790e+02 -9.8765433e-01]\n",
    "print(\"TF32~  :\", approx)     # TF32~  : [ 1.2347412e-01  1.2356250e+02 -9.8779297e-01]\n",
    "print(\"abs err:\", np.abs(vals - approx))  # abs err: [1.7330050e-05 5.4016113e-03 1.3864040e-04]\n",
    "\n"
   ]
  },
  {
   "cell_type": "markdown",
   "id": "c0c69acb",
   "metadata": {},
   "source": [
    "## 9. Memory Footprint — dtype and nbytes"
   ]
  },
  {
   "cell_type": "code",
   "execution_count": null,
   "id": "04bd755a",
   "metadata": {},
   "outputs": [],
   "source": [
    "N = 2_000_000\n",
    "a32 = np.ones(N, dtype=np.float32)\n",
    "a64 = np.ones(N, dtype=np.float64)\n",
    "print(\"a32 bytes:\", a32.nbytes, \"a64 bytes:\", a64.nbytes)\n",
    "print(\"C-contiguous?\", a32.flags['C_CONTIGUOUS'], a64.flags['C_CONTIGUOUS'])\n"
   ]
  },
  {
   "cell_type": "markdown",
   "id": "3dc93937",
   "metadata": {},
   "source": [
    "## 10. Integer Overflow — wrap-around warning"
   ]
  },
  {
   "cell_type": "code",
   "execution_count": null,
   "id": "02422e7a",
   "metadata": {},
   "outputs": [],
   "source": [
    "x = np.array([2**31 - 1], dtype=np.int32)\n",
    "print(\"before:\", x[0])\n",
    "print(\"after :\", (x + 1)[0])\n"
   ]
  },
  {
   "cell_type": "markdown",
   "id": "3b16a942",
   "metadata": {},
   "source": [
    "## 11. Big-O timing sketches — scaling behavior"
   ]
  },
  {
   "cell_type": "code",
   "execution_count": null,
   "id": "03cf69cc",
   "metadata": {},
   "outputs": [],
   "source": [
    "import time, math, numpy as np\n",
    "def time_sum(N):\n",
    "    x = np.arange(N, dtype=np.float64)\n",
    "    t0 = time.perf_counter(); _ = x.sum(); t1 = time.perf_counter()\n",
    "    return t1 - t0\n",
    "def time_sort(N):\n",
    "    x = np.random.RandomState(0).rand(N)\n",
    "    t0 = time.perf_counter(); _ = np.sort(x); t1 = time.perf_counter()\n",
    "    return t1 - t0\n",
    "def time_pairs(N):\n",
    "    pts = np.random.RandomState(0).rand(N, 2)\n",
    "    t0 = time.perf_counter()\n",
    "    D2 = ((pts[:,None,:] - pts[None,:,:])**2).sum(axis=2)\n",
    "    t1 = time.perf_counter()\n",
    "    return t1 - t0, D2.shape\n",
    "N_list = [1_000, 10_000, 100_000]\n",
    "for N in N_list:\n",
    "    print(\"O(N) sum   \", N, \"sec:\", round(time_sum(N), 5))\n",
    "for N in N_list:\n",
    "    print(\"O(N log N) \", N, \"sec:\", round(time_sort(N), 5))\n",
    "for N in N_list:\n",
    "    dt, shape = time_pairs(N)\n",
    "    print(\"O(N^2) pairs\", N, shape, \"sec:\", round(dt, 5))\n"
   ]
  },
  {
   "cell_type": "markdown",
   "id": "a344e5c2",
   "metadata": {},
   "source": [
    "## 12. Parallel Computing — matrix multiply may use threaded BLAS"
   ]
  },
  {
   "cell_type": "code",
   "execution_count": null,
   "id": "9dd83094",
   "metadata": {},
   "outputs": [],
   "source": [
    "import numpy as np, time\n",
    "n = 800\n",
    "A = np.random.RandomState(0).rand(n, n)\n",
    "B = np.random.RandomState(1).rand(n, n)\n",
    "t0 = time.perf_counter()\n",
    "C = A @ B\n",
    "t1 = time.perf_counter()\n",
    "print(\"C shape:\", C.shape, \"time(s):\", round(t1 - t0, 3))\n"
   ]
  },
  {
   "cell_type": "markdown",
   "id": "2c77c167",
   "metadata": {},
   "source": [
    "Three quick ways to check (and prove) whether your A @ B used multiple threads: 'num_threads'>1?, cpu/wall>1?, slow down with thread limit=1?"
   ]
  },
  {
   "cell_type": "code",
   "execution_count": null,
   "id": "445a8012",
   "metadata": {},
   "outputs": [],
   "source": [
    "import numpy as np, time\n",
    "from threadpoolctl import threadpool_info, threadpool_limits  # pip install threadpoolctl\n",
    "\n",
    "# --- helper: do one matmul and return wall and CPU times ---\n",
    "def run_once(n=3000):\n",
    "    rng = np.random.RandomState(0); A = rng.rand(n, n); B = rng.rand(n, n)  # contiguous, BLAS-friendly\n",
    "    t0 = time.perf_counter(); c0 = time.process_time()                      # wall vs process CPU time\n",
    "    A @ B                                                                    # NumPy calls GEMM in BLAS\n",
    "    t1 = time.perf_counter(); c1 = time.process_time()\n",
    "    return t1 - t0, c1 - c0\n",
    "\n",
    "# (1) Inspect active threadpools\n",
    "print(threadpool_info())  # shows MKL/OpenBLAS/Accelerate and num_threads\n",
    "\n",
    "# (2) Measure wall vs CPU time (CPU > wall ⇒ parallel native threads)\n",
    "_ = run_once()                         # warm-up\n",
    "wall, cpu = run_once()\n",
    "print(f\"wall={wall:.3f}s  cpu={cpu:.3f}s  cpu/wall≈{cpu/wall:.1f}x\")  # >1 means multi-threaded BLAS\n",
    "\n",
    "# (3) Force 1 thread and compare (proof by experiment)\n",
    "with threadpool_limits(limits=1):      # set MKL/OPENBLAS/Accelerate threads to 1 for this block\n",
    "    wall1, cpu1 = run_once()\n",
    "print(f\"1-thread wall={wall1:.3f}s  speedup≈{wall1/wall:.1f}x vs default\")  # >1 confirms parallelism before\n"
   ]
  },
  {
   "cell_type": "markdown",
   "id": "0016f4c7",
   "metadata": {},
   "source": [
    "## 13. Vectorize vs np.vectorize — convenience vs speed"
   ]
  },
  {
   "cell_type": "code",
   "execution_count": null,
   "id": "aa319776",
   "metadata": {},
   "outputs": [],
   "source": [
    "import numpy as np, time\n",
    "x = np.linspace(0, 1, 400_000)\n",
    "f_loop = lambda arr: [t**0.5 for t in arr]\n",
    "f_true = lambda arr: arr**0.5\n",
    "f_wrap = np.vectorize(lambda t: t**0.5)\n",
    "for name, func in [('Python loop', f_loop), ('True ufunc', f_true), ('np.vectorize', f_wrap)]:\n",
    "    t0 = time.perf_counter(); _ = func(x); dt = time.perf_counter() - t0\n",
    "    print(f\"{name:13s} {dt: .4f} s\")\n"
   ]
  }
 ],
 "metadata": {
  "kernelspec": {
   "display_name": "base",
   "language": "python",
   "name": "python3"
  },
  "language_info": {
   "codemirror_mode": {
    "name": "ipython",
    "version": 3
   },
   "file_extension": ".py",
   "mimetype": "text/x-python",
   "name": "python",
   "nbconvert_exporter": "python",
   "pygments_lexer": "ipython3",
   "version": "3.13.5"
  }
 },
 "nbformat": 4,
 "nbformat_minor": 5
}

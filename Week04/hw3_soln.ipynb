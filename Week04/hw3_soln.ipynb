{
 "cells": [
  {
   "cell_type": "code",
   "execution_count": null,
   "id": "de35351c",
   "metadata": {
    "deletable": false,
    "editable": false
   },
   "outputs": [],
   "source": [
    "# Initialize Otter\n",
    "import otter\n",
    "grader = otter.Notebook(\"hw3.ipynb\")"
   ]
  },
  {
   "cell_type": "markdown",
   "id": "673581a3",
   "metadata": {},
   "source": [
    "# Homework 3"
   ]
  },
  {
   "cell_type": "code",
   "execution_count": 1,
   "id": "3b5ac6f5",
   "metadata": {},
   "outputs": [],
   "source": [
    "# Setup\n",
    "# You may import math if needed in your solutions.\n",
    "import math\n",
    "import numpy as np"
   ]
  },
  {
   "cell_type": "markdown",
   "id": "88037e72",
   "metadata": {},
   "source": [
    "## **Question 1**: NumPy Array Creation\n",
    "\n",
    "NumPy arrays are fundamental for scientific computing and physics simulations. This question explores different methods of creating numpy arrays for physics applications."
   ]
  },
  {
   "cell_type": "markdown",
   "id": "9f8e9be3",
   "metadata": {
    "deletable": false,
    "editable": false
   },
   "source": [
    "### Q1a: Arrays from Python Objects\n",
    "A physics lab collects experimental data as Python lists. Write a function `create_physics_arrays(positions, velocities, forces)` that converts the physics data into numpy arrays and returns them as a tuple.\n",
    "\n",
    "The function should:\n",
    "- Convert the `positions` list (in meters) to a numpy array\n",
    "- Convert the `velocities` list (in m/s) to a numpy array  \n",
    "- Convert the `forces` list (in Newtons) to a numpy array\n",
    "- Return a tuple: `(position_array, velocity_array, force_array)`\n",
    "\n",
    "Example: If given positions=[1.0, 2.5, 3.2], velocities=[0.5, 1.2, 0.8], forces=[10.0, 15.5, 12.3], return the corresponding numpy arrays."
   ]
  },
  {
   "cell_type": "code",
   "execution_count": 2,
   "id": "acc5428e",
   "metadata": {
    "tags": [
     "otter_assign_solution_cell"
    ]
   },
   "outputs": [],
   "source": [
    "def create_physics_arrays(positions, velocities, forces):\n",
    "    # BEGIN SOLUTION NO PROMPT\n",
    "    position_array = np.array(positions)\n",
    "    velocity_array = np.array(velocities)\n",
    "    force_array = np.array(forces)\n",
    "    return (position_array, velocity_array, force_array)\n",
    "    # END SOLUTION\n",
    "    \"\"\" # BEGIN PROMPT\n",
    "    # Write your code here!\n",
    "    return (position_array, velocity_array, force_array)\n",
    "    \"\"\"; # END PROMPT"
   ]
  },
  {
   "cell_type": "code",
   "execution_count": null,
   "id": "4fc37083",
   "metadata": {
    "deletable": false,
    "editable": false
   },
   "outputs": [],
   "source": [
    "grader.check(\"q1a\")"
   ]
  },
  {
   "cell_type": "markdown",
   "id": "6aa1965b",
   "metadata": {
    "deletable": false,
    "editable": false
   },
   "source": [
    "### Q1b: Built-in Array Creation Functions\n",
    "In quantum mechanics and linear transformations, we often need special matrices. Write a function `create_physics_matrices(n)` that creates fundamental matrices used in physics simulations.\n",
    "\n",
    "[Numpy array creation documentation](https://numpy.org/doc/2.3/reference/routines.array-creation.html)\n",
    "\n",
    "The function should create and return a tuple of three n×n matrices (as numpy arrays):\n",
    "1. **Zero matrix**: Represents initial conditions where all values are zero.\n",
    "2. **Identity matrix**: Represents the identity transformation.\n",
    "3. **Ones matrix**: Matrix where all values are 1.\n",
    "\n",
    "Return a tuple: `(zero_matrix, identity_matrix, ones_matrix)`\n",
    "\n",
    "Example: For n=3, return (3×3 zero matrix, 3×3 identity matrix, 3×3 ones matrix)"
   ]
  },
  {
   "cell_type": "code",
   "execution_count": 8,
   "id": "2ba276b0",
   "metadata": {
    "tags": [
     "otter_assign_solution_cell"
    ]
   },
   "outputs": [],
   "source": [
    "def create_physics_matrices(n):\n",
    "    # BEGIN SOLUTION NO PROMPT\n",
    "    zero_matrix = np.zeros((n, n))\n",
    "    identity_matrix = np.eye(n)\n",
    "    ones_matrix = np.ones((n, n))\n",
    "    return (zero_matrix, identity_matrix, ones_matrix)\n",
    "    # END SOLUTION\n",
    "    \"\"\" # BEGIN PROMPT\n",
    "    # Write your code here!\n",
    "    return (zero_matrix, identity_matrix, ones_matrix)\n",
    "    \"\"\"; # END PROMPT"
   ]
  },
  {
   "cell_type": "code",
   "execution_count": null,
   "id": "fda26b2f",
   "metadata": {
    "deletable": false,
    "editable": false
   },
   "outputs": [],
   "source": [
    "grader.check(\"q1b\")"
   ]
  },
  {
   "cell_type": "markdown",
   "id": "49c0a226",
   "metadata": {
    "deletable": false,
    "editable": false
   },
   "source": [
    "### Q1c: Array-like Functions\n",
    "In computational physics, we often need to create arrays with the same shape as existing data but with different values. Write a function `simulate_field_interactions(electric_field, magnetic_field)` that creates related fields with the same dimensions.\n",
    "\n",
    "[Numpy array creation documentation](https://numpy.org/doc/2.3/reference/routines.array-creation.html)\n",
    "\n",
    "\n",
    "Given existing `electric_field` and `magnetic_field` numpy arrays, the function should:\n",
    "1. Create a **zero potential field** with the same shape as `electric_field`\n",
    "2. Create a **unit charge density** with the same shape as `electric_field` (1 for each entry)\n",
    "3. Create a **constant force field** with the same shape as `magnetic_field`, filled with the value 9.8 for all entries (representing gravity)\n",
    "\n",
    "Return a tuple: `(potential_field, charge_density, force_field)` (all three should be numpy arrays)\n",
    "\n",
    "Note: The original arrays can have any shape (1D, 2D, 3D, etc.) and the new arrays should match exactly. The arrays returned should be new arrays, not views.\n",
    "\n",
    "Hint: use the *_like family of numpy functions"
   ]
  },
  {
   "cell_type": "code",
   "execution_count": 14,
   "id": "b8c1b413",
   "metadata": {
    "tags": [
     "otter_assign_solution_cell"
    ]
   },
   "outputs": [],
   "source": [
    "def simulate_field_interactions(electric_field, magnetic_field):\n",
    "    # BEGIN SOLUTION NO PROMPT\n",
    "    potential_field = np.zeros_like(electric_field)\n",
    "    charge_density = np.ones_like(electric_field)\n",
    "    force_field = np.full_like(magnetic_field, 9.8)\n",
    "    return (potential_field, charge_density, force_field)\n",
    "    # END SOLUTION\n",
    "    \"\"\" # BEGIN PROMPT\n",
    "    # Write your code here!\n",
    "    return (potential_field, charge_density, force_field)\n",
    "    \"\"\"; # END PROMPT"
   ]
  },
  {
   "cell_type": "code",
   "execution_count": null,
   "id": "ea63773e",
   "metadata": {
    "deletable": false,
    "editable": false
   },
   "outputs": [],
   "source": [
    "grader.check(\"q1c\")"
   ]
  },
  {
   "cell_type": "markdown",
   "id": "5ac22e8e",
   "metadata": {
    "vscode": {
     "languageId": "raw"
    }
   },
   "source": [
    "## **Question 2**: NumPy Array Generation and Mathematical Operations\n",
    "\n",
    "NumPy provides powerful functions for creating arrays with specific patterns and supports vectorized mathematical operations. This question explores creating arrays and performing calculations efficiently."
   ]
  },
  {
   "cell_type": "markdown",
   "id": "36c1945f",
   "metadata": {
    "deletable": false,
    "editable": false
   },
   "source": [
    "### Q2a: Linear Motion Analysis with `linspace`\n",
    "A projectile follows a parabolic trajectory. Write a function `analyze_projectile_motion(v0, angle, t_max, num_points=50)` that calculates the position and velocity components over time.\n",
    "\n",
    "The function should:\n",
    "1. Create a time array from 0 to `t_max` with `num_points` evenly spaced values using `np.linspace`\n",
    "2. Calculate horizontal position: `x(t) = v0 * cos(angle) * t`\n",
    "3. Calculate vertical position: `y(t) = v0 * sin(angle) * t - 0.5 * 9.8 * t²`\n",
    "4. Calculate horizontal velocity: `vx(t) = v0 * cos(angle)` (constant array)\n",
    "5. Calculate vertical velocity: `vy(t) = v0 * sin(angle) - 9.8 * t`\n",
    "\n",
    "Parameters:\n",
    "- `v0`: initial velocity magnitude (m/s)\n",
    "- `angle`: launch angle in radians\n",
    "- `t_max`: maximum time (seconds)\n",
    "- `num_points`: number of time points (default 50)\n",
    "\n",
    "Return a tuple: `(time_array, x_positions, y_positions, x_velocities, y_velocities)` (all numpy arrays)\n",
    "\n",
    "Hint: You don't need any for loops for this question, just vectorized elementwise numpy operations"
   ]
  },
  {
   "cell_type": "code",
   "execution_count": 21,
   "id": "d831f529",
   "metadata": {
    "tags": [
     "otter_assign_solution_cell"
    ]
   },
   "outputs": [],
   "source": [
    "def analyze_projectile_motion(v0, angle, t_max, num_points=50):\n",
    "    # BEGIN SOLUTION NO PROMPT\n",
    "    # Create time array using linspace\n",
    "    time_array = np.linspace(0, t_max, num_points)\n",
    "    \n",
    "    # Calculate position components using array operations\n",
    "    x_positions = v0 * np.cos(angle) * time_array\n",
    "    y_positions = v0 * np.sin(angle) * time_array - 0.5 * 9.8 * time_array**2\n",
    "    \n",
    "    # Calculate velocity components using array operations\n",
    "    x_velocities = np.full_like(time_array, v0 * np.cos(angle))  # constant horizontal velocity\n",
    "    y_velocities = v0 * np.sin(angle) - 9.8 * time_array\n",
    "    \n",
    "    return (time_array, x_positions, y_positions, x_velocities, y_velocities)\n",
    "    # END SOLUTION\n",
    "    \"\"\" # BEGIN PROMPT\n",
    "    # Write your code here!\n",
    "    return (time_array, x_positions, y_positions, x_velocities, y_velocities)\n",
    "    \"\"\"; # END PROMPT"
   ]
  },
  {
   "cell_type": "code",
   "execution_count": null,
   "id": "eb1d55c9",
   "metadata": {
    "deletable": false,
    "editable": false
   },
   "outputs": [],
   "source": [
    "grader.check(\"q2a\")"
   ]
  },
  {
   "cell_type": "markdown",
   "id": "cae840fd",
   "metadata": {
    "deletable": false,
    "editable": false
   },
   "source": [
    "### Q2b: Exponential Decay Analysis with `logspace`\n",
    "Radioactive decay follows an exponential law. Write a function `analyze_exponential_decay(N0, half_life, decades=5, num_points=20)` that models radioactive decay over logarithmic time scales.\n",
    "\n",
    "The function should:\n",
    "1. Create a time array spanning `decades` orders of magnitude using `np.logspace`, from 1 year to 10^`decades` years\n",
    "2. Calculate the decay constant: `lambda = ln(2) / half_life`\n",
    "3. Calculate the remaining atoms: `N(t) = N0 * exp(-lambda * t)`\n",
    "4. Calculate the decay rate: `R(t) = lambda * N(t)` (decays per year)\n",
    "5. Calculate the activity ratio: `A(t) = N(t) / N0` (fraction remaining)\n",
    "\n",
    "Parameters:\n",
    "- `N0`: initial number of atoms\n",
    "- `half_life`: half-life in years\n",
    "- `decades`: number of decades to span (default 5, so 1 to 10^5 years)\n",
    "- `num_points`: number of logarithmically spaced time points (default 20)\n",
    "\n",
    "Return a tuple: `(time_array, atoms_remaining, decay_rates, activity_ratios)` (all numpy arrays)\n",
    "\n",
    "Hint: np.exp() will exponientiate an array elementwise, efficiently"
   ]
  },
  {
   "cell_type": "code",
   "execution_count": 27,
   "id": "55631abd",
   "metadata": {
    "tags": [
     "otter_assign_solution_cell"
    ]
   },
   "outputs": [],
   "source": [
    "def analyze_exponential_decay(N0, half_life, decades=5, num_points=20):\n",
    "    # BEGIN SOLUTION NO PROMPT\n",
    "    # Create logarithmic time array using logspace\n",
    "    time_array = np.logspace(0, decades, num_points)  # 10^0 to 10^decades years\n",
    "    \n",
    "    # Calculate decay constant\n",
    "    decay_constant = np.log(2) / half_life\n",
    "    \n",
    "    # Calculate quantities using array operations\n",
    "    atoms_remaining = N0 * np.exp(-decay_constant * time_array)\n",
    "    decay_rates = decay_constant * atoms_remaining\n",
    "    activity_ratios = atoms_remaining / N0\n",
    "    \n",
    "    return (time_array, atoms_remaining, decay_rates, activity_ratios)\n",
    "    # END SOLUTION\n",
    "    \"\"\" # BEGIN PROMPT\n",
    "    # Write your code here!\n",
    "    return (time_array, atoms_remaining, decay_rates, activity_ratios)\n",
    "    \"\"\"; # END PROMPT"
   ]
  },
  {
   "cell_type": "code",
   "execution_count": null,
   "id": "5cd2885c",
   "metadata": {
    "deletable": false,
    "editable": false
   },
   "outputs": [],
   "source": [
    "grader.check(\"q2b\")"
   ]
  },
  {
   "cell_type": "markdown",
   "id": "b6b63a33",
   "metadata": {
    "deletable": false,
    "editable": false
   },
   "source": [
    "### Q2c: Wave Interference with `arange` and Array Operations\n",
    "Two waves with different frequencies create interference patterns. Write a function `calculate_wave_interference(f1, f2, amplitude, duration, sample_rate=100)` that calculates the combined wave and analyzes its properties.\n",
    "\n",
    "The function should:\n",
    "1. Create a time array using `np.arange` from 0 to `duration` with step size `1/sample_rate`\n",
    "2. Calculate wave 1: `y1(t) = amplitude * sin(2π * f1 * t)`\n",
    "3. Calculate wave 2: `y2(t) = amplitude * sin(2π * f2 * t)`\n",
    "4. Calculate the combined wave: `y_total(t) = y1(t) + y2(t)`\n",
    "5. Calculate the instantaneous power: `P(t) = y_total(t)²`\n",
    "6. Calculate the RMS amplitude: `A_rms = sqrt(mean(y_total²))`\n",
    "\n",
    "Parameters:\n",
    "- `f1`, `f2`: frequencies of the two waves (Hz)\n",
    "- `amplitude`: amplitude of each individual wave (same amplitude)\n",
    "- `duration`: total time duration (seconds)\n",
    "- `sample_rate`: samples per second (default 100 Hz)\n",
    "\n",
    "Return a tuple: `(time_array, wave1, wave2, combined_wave, power, rms_amplitude)` \n",
    "Note: `rms_amplitude` should be a single float value, others are arrays.\n",
    "\n",
    "Note: looping over arrays is unnecessary, look up numpy functions that perform operations you need to keep it efficient."
   ]
  },
  {
   "cell_type": "code",
   "execution_count": 33,
   "id": "9fac1c50",
   "metadata": {
    "tags": [
     "otter_assign_solution_cell"
    ]
   },
   "outputs": [],
   "source": [
    "def calculate_wave_interference(f1, f2, amplitude, duration, sample_rate=100):\n",
    "    # BEGIN SOLUTION NO PROMPT\n",
    "    # Create time array using arange\n",
    "    time_step = 1.0 / sample_rate\n",
    "    time_array = np.arange(0, duration, time_step)\n",
    "    \n",
    "    # Calculate individual waves using array operations\n",
    "    wave1 = amplitude * np.sin(2 * np.pi * f1 * time_array)\n",
    "    wave2 = amplitude * np.sin(2 * np.pi * f2 * time_array)\n",
    "    \n",
    "    # Calculate combined wave and derived quantities\n",
    "    combined_wave = wave1 + wave2\n",
    "    power = combined_wave**2\n",
    "    rms_amplitude = np.sqrt(np.mean(combined_wave**2))\n",
    "    \n",
    "    return (time_array, wave1, wave2, combined_wave, power, rms_amplitude)\n",
    "    # END SOLUTION\n",
    "    \"\"\" # BEGIN PROMPT\n",
    "    # Write your code here!\n",
    "    return (time_array, wave1, wave2, combined_wave, power, rms_amplitude)\n",
    "    \"\"\"; # END PROMPT"
   ]
  },
  {
   "cell_type": "code",
   "execution_count": null,
   "id": "7cf9f3d4",
   "metadata": {
    "deletable": false,
    "editable": false
   },
   "outputs": [],
   "source": [
    "grader.check(\"q2c\")"
   ]
  },
  {
   "cell_type": "markdown",
   "id": "97311292",
   "metadata": {
    "vscode": {
     "languageId": "raw"
    }
   },
   "source": [
    "## **Question 3**: NumPy Array Indexing and Slicing "
   ]
  },
  {
   "cell_type": "markdown",
   "id": "2b635ac0",
   "metadata": {
    "deletable": false,
    "editable": false
   },
   "source": [
    "### Q3a: Time Series Data Analysis with 1D Indexing\n",
    "A motion sensor records position data over time. Write a function `analyze_motion_data(positions, sample_rate)` that extracts key information from the position array using indexing and slicing.\n",
    "\n",
    "The function should extract:\n",
    "1. **Initial position**: The first element of the array\n",
    "2. **Final position**: The last element of the array\n",
    "3. **Middle section**: The middle third of the data (from 1/3 to 2/3 of total length)\n",
    "4. **Every 10th sample**: Every 10th data point starting from index 0\n",
    "5. **Last 5 seconds of data**: Extract data from the last 5 seconds (use `sample_rate` to determine how many samples)\n",
    "\n",
    "Parameters:\n",
    "- `positions`: 1D numpy array of position measurements (meters)\n",
    "- `sample_rate`: sampling frequency (samples per second)\n",
    "\n",
    "Return a tuple: `(initial_pos, final_pos, middle_section, every_10th, last_5_seconds)`\n",
    "\n",
    "Note: For the middle section, use `int(n/3)` to `int(2*n/3)` where n is array length to get starting and ending indices, include the element at `int(n/3)` and exclude the element at `int(2*n/3)` (this is default for slicing). For last 5 seconds, calculate the number of samples as `5 * sample_rate` and slice from the end (similarly start at `int(5*sample_rate)` from the end)."
   ]
  },
  {
   "cell_type": "code",
   "execution_count": 40,
   "id": "30358c75",
   "metadata": {
    "tags": [
     "otter_assign_solution_cell"
    ]
   },
   "outputs": [],
   "source": [
    "def analyze_motion_data(positions, sample_rate):\n",
    "    # BEGIN SOLUTION NO PROMPT\n",
    "    # Extract initial and final positions using indexing\n",
    "    initial_pos = positions[0]\n",
    "    final_pos = positions[-1]\n",
    "    \n",
    "    # Extract middle third using slicing\n",
    "    n = len(positions)\n",
    "    start_idx = int(n / 3)\n",
    "    end_idx = int(2 * n / 3)\n",
    "    middle_section = positions[start_idx:end_idx]\n",
    "    \n",
    "    # Extract every 10th sample using step slicing\n",
    "    every_10th = positions[::10]\n",
    "    \n",
    "    # Extract last 5 seconds of data\n",
    "    samples_in_5_sec = int(5 * sample_rate)\n",
    "    last_5_seconds = positions[-samples_in_5_sec:]\n",
    "    \n",
    "    return (initial_pos, final_pos, middle_section, every_10th, last_5_seconds)\n",
    "    # END SOLUTION\n",
    "    \"\"\" # BEGIN PROMPT\n",
    "    # Write your code here!\n",
    "    return (initial_pos, final_pos, middle_section, every_10th, last_5_seconds)\n",
    "    \"\"\"; # END PROMPT"
   ]
  },
  {
   "cell_type": "code",
   "execution_count": null,
   "id": "f74dd7da",
   "metadata": {
    "deletable": false,
    "editable": false
   },
   "outputs": [],
   "source": [
    "grader.check(\"q3a\")"
   ]
  },
  {
   "cell_type": "markdown",
   "id": "0890fb1f",
   "metadata": {
    "deletable": false,
    "editable": false
   },
   "source": [
    "### Q3b: 2D Temperature Field Analysis\n",
    "A thermal imaging camera captures temperature measurements in a 2D grid. Write a function `analyze_temperature_field(temp_field)` that extracts specific regions and measurements from the 2D temperature array.\n",
    "\n",
    "The function should extract:\n",
    "1. **Corner temperatures**: The four corner values [top-left, top-right, bottom-left, bottom-right] (as an array)\n",
    "2. **Center region**: A 3×3 subarray centered on the middle of the field\n",
    "3. **Top row**: The entire first row of temperature measurements  \n",
    "4. **Right column**: The entire last column of temperature measurements\n",
    "5. **Diagonal temperatures**: The main diagonal elements (from top-left to bottom-right)\n",
    "\n",
    "All of the outputs in the tuple should be numpy arrays\n",
    "\n",
    "Parameters:\n",
    "- `temp_field`: 2D numpy array of temperature measurements (rows = y-positions, columns = x-positions)\n",
    "\n",
    "Return a tuple: `(corners, center_region, top_row, right_column, diagonal)`\n",
    "\n",
    "Note: For the center region, assume the input array has odd side lengths."
   ]
  },
  {
   "cell_type": "code",
   "execution_count": 46,
   "id": "da140213",
   "metadata": {
    "tags": [
     "otter_assign_solution_cell"
    ]
   },
   "outputs": [],
   "source": [
    "def analyze_temperature_field(temp_field):\n",
    "    # BEGIN SOLUTION NO PROMPT\n",
    "    # Extract corner temperatures using 2D indexing\n",
    "    corners = np.array([\n",
    "        temp_field[0, 0],    # top-left\n",
    "        temp_field[0, -1],   # top-right\n",
    "        temp_field[-1, 0],   # bottom-left\n",
    "        temp_field[-1, -1]   # bottom-right\n",
    "    ])\n",
    "    \n",
    "    # Extract center 3x3 region\n",
    "    rows, cols = temp_field.shape\n",
    "    center_row, center_col = rows // 2, cols // 2\n",
    "    center_region = temp_field[center_row-1:center_row+2, center_col-1:center_col+2]\n",
    "    \n",
    "    # Extract top row and right column\n",
    "    top_row = temp_field[0, :]\n",
    "    right_column = temp_field[:, -1]\n",
    "    \n",
    "    # Extract main diagonal\n",
    "    diagonal = np.diag(temp_field)\n",
    "    \n",
    "    return (corners, center_region, top_row, right_column, diagonal)\n",
    "    # END SOLUTION\n",
    "    \"\"\" # BEGIN PROMPT\n",
    "    # Write your code here!\n",
    "    return (corners, center_region, top_row, right_column, diagonal)\n",
    "    \"\"\"; # END PROMPT"
   ]
  },
  {
   "cell_type": "code",
   "execution_count": null,
   "id": "0490692c",
   "metadata": {
    "deletable": false,
    "editable": false
   },
   "outputs": [],
   "source": [
    "grader.check(\"q3b\")"
   ]
  },
  {
   "cell_type": "markdown",
   "id": "a87e7d03",
   "metadata": {},
   "source": [
    "## **Question 4**: NumPy Boolean Masks and Conditional Operations"
   ]
  },
  {
   "cell_type": "markdown",
   "id": "dfa1b9b2",
   "metadata": {
    "deletable": false,
    "editable": false
   },
   "source": [
    "### Q4a: Particle Detection and Filtering\n",
    "A particle detector measures the energy and velocity of particles passing through it. Write a function `filter_particle_data(energies, velocities, min_energy, max_velocity)` that uses boolean masks to filter and analyze the particle data.\n",
    "\n",
    "The function should:\n",
    "1. Create a **high-energy mask**: Boolean array where `energies >= min_energy`\n",
    "2. Create a **slow-particle mask**: Boolean array where `velocities <= max_velocity` \n",
    "3. Create a **valid-particle mask**: Combine both conditions (high energy AND slow velocity)\n",
    "4. Filter the **valid energies**: Use the valid-particle mask to extract energies that meet both criteria\n",
    "5. Filter the **valid velocities**: Use the valid-particle mask to extract velocities that meet both criteria\n",
    "6. Calculate the **detection efficiency**: Fraction of particles that meet both criteria\n",
    "\n",
    "Parameters:\n",
    "- `energies`: 1D numpy array of particle energies (GeV)\n",
    "- `velocities`: 1D numpy array of particle velocities (km/s)\n",
    "- `min_energy`: minimum energy threshold (GeV)\n",
    "- `max_velocity`: maximum velocity threshold (km/s)\n",
    "\n",
    "Return a tuple: `(high_energy_mask, slow_particle_mask, valid_particle_mask, valid_energies, valid_velocities, detection_efficiency)`\n",
    "\n",
    "Note: `detection_efficiency` should be a float between 0 and 1."
   ]
  },
  {
   "cell_type": "code",
   "execution_count": 51,
   "id": "1cf43f72",
   "metadata": {
    "tags": [
     "otter_assign_solution_cell"
    ]
   },
   "outputs": [],
   "source": [
    "def filter_particle_data(energies, velocities, min_energy, max_velocity):\n",
    "    # BEGIN SOLUTION NO PROMPT\n",
    "    # Create boolean masks using comparison operators\n",
    "    high_energy_mask = energies >= min_energy\n",
    "    slow_particle_mask = velocities <= max_velocity\n",
    "    \n",
    "    # Combine conditions using logical AND\n",
    "    valid_particle_mask = high_energy_mask & slow_particle_mask\n",
    "    \n",
    "    # Filter arrays using the boolean mask\n",
    "    valid_energies = energies[valid_particle_mask]\n",
    "    valid_velocities = velocities[valid_particle_mask]\n",
    "    \n",
    "    # Calculate detection efficiency\n",
    "    detection_efficiency = np.sum(valid_particle_mask) / len(energies)\n",
    "    \n",
    "    return (high_energy_mask, slow_particle_mask, valid_particle_mask, \n",
    "            valid_energies, valid_velocities, detection_efficiency)\n",
    "    # END SOLUTION\n",
    "    \"\"\" # BEGIN PROMPT\n",
    "    # Write your code here!\n",
    "    return (high_energy_mask, slow_particle_mask, valid_particle_mask, \n",
    "            valid_energies, valid_velocities, detection_efficiency)\n",
    "    \"\"\"; # END PROMPT"
   ]
  },
  {
   "cell_type": "code",
   "execution_count": null,
   "id": "1bd75452",
   "metadata": {
    "deletable": false,
    "editable": false
   },
   "outputs": [],
   "source": [
    "grader.check(\"q4a\")"
   ]
  },
  {
   "cell_type": "markdown",
   "id": "d5bc42e1",
   "metadata": {
    "deletable": false,
    "editable": false
   },
   "source": [
    "### Q4b: Experimental Data Quality Control\n",
    "A physics experiment collects temperature and pressure measurements, but some readings may be invalid due to sensor errors. Write a function `analyze_sensor_data(temperatures, pressures, temp_tolerance=5.0, pressure_range=(0.8, 1.2))` that uses boolean operations to identify and replace invalid measurements.\n",
    "\n",
    "The function should:\n",
    "1. **Identify temperature outliers**: Create a boolean mask for temperatures that deviate more than `temp_tolerance` from the median temperature\n",
    "2. **Identify pressure outliers**: Create a boolean mask for pressures outside the valid range `[pressure_range[0], pressure_range[1]]`\n",
    "3. **Create valid data mask**: Boolean array where BOTH temperature and pressure are valid (not outliers)\n",
    "4. **Clean temperatures**: Replace invalid temperatures with the median temperature of valid readings\n",
    "5. **Clean pressures**: Replace invalid pressures with 1.0 (atmospheric pressure)\n",
    "6. **Calculate data quality**: Fraction of measurements that were originally valid\n",
    "\n",
    "Parameters:\n",
    "- `temperatures`: 1D numpy array of temperature measurements (°C)\n",
    "- `pressures`: 1D numpy array of pressure measurements (atm)\n",
    "- `temp_tolerance`: maximum allowed deviation from median temperature (default 5.0°C)\n",
    "- `pressure_range`: tuple of (min_pressure, max_pressure) for valid range (default (0.8, 1.2))\n",
    "\n",
    "Return a tuple: `(temp_outlier_mask, pressure_outlier_mask, valid_data_mask, clean_temperatures, clean_pressures, data_quality)`\n",
    "\n",
    "Hint: Use `np.where()` to conditionally replace values, and `np.median()` to find the median.\n",
    "\n",
    "Hint: with boolean arrays, `~` is not, `&` is and, and `|` is or"
   ]
  },
  {
   "cell_type": "code",
   "execution_count": 57,
   "id": "6c48d2ec",
   "metadata": {
    "tags": [
     "otter_assign_solution_cell"
    ]
   },
   "outputs": [],
   "source": [
    "def analyze_sensor_data(temperatures, pressures, temp_tolerance=5.0, pressure_range=(0.8, 1.2)):\n",
    "    # BEGIN SOLUTION NO PROMPT\n",
    "    # Calculate median temperature for outlier detection\n",
    "    temp_median = np.median(temperatures)\n",
    "    \n",
    "    # Create boolean masks for outliers\n",
    "    temp_outlier_mask = np.abs(temperatures - temp_median) > temp_tolerance\n",
    "    pressure_outlier_mask = (pressures < pressure_range[0]) | (pressures > pressure_range[1])\n",
    "    \n",
    "    # Create valid data mask (NOT outliers for both)\n",
    "    valid_data_mask = ~temp_outlier_mask & ~pressure_outlier_mask\n",
    "    \n",
    "    # Clean the data using np.where\n",
    "    # For temperatures: replace outliers with median of valid temperatures\n",
    "    valid_temp_median = np.median(temperatures[~temp_outlier_mask])\n",
    "    clean_temperatures = np.where(temp_outlier_mask, valid_temp_median, temperatures)\n",
    "    \n",
    "    # For pressures: replace outliers with 1.0 atm\n",
    "    clean_pressures = np.where(pressure_outlier_mask, 1.0, pressures)\n",
    "    \n",
    "    # Calculate data quality\n",
    "    data_quality = np.sum(valid_data_mask) / len(temperatures)\n",
    "    \n",
    "    return (temp_outlier_mask, pressure_outlier_mask, valid_data_mask,\n",
    "            clean_temperatures, clean_pressures, data_quality)\n",
    "    # END SOLUTION\n",
    "    \"\"\" # BEGIN PROMPT\n",
    "    # Write your code here!\n",
    "    return (temp_outlier_mask, pressure_outlier_mask, valid_data_mask,\n",
    "            clean_temperatures, clean_pressures, data_quality)\n",
    "    \"\"\"; # END PROMPT"
   ]
  },
  {
   "cell_type": "code",
   "execution_count": null,
   "id": "8be21b9e",
   "metadata": {
    "deletable": false,
    "editable": false
   },
   "outputs": [],
   "source": [
    "grader.check(\"q4b\")"
   ]
  },
  {
   "cell_type": "raw",
   "id": "dd01eb08",
   "metadata": {},
   "source": []
  },
  {
   "cell_type": "markdown",
   "id": "ac7f1073",
   "metadata": {},
   "source": [
    "## **Question 5**: Electric Field Calculations with Broadcasting"
   ]
  },
  {
   "cell_type": "markdown",
   "id": "d4b4a4c0",
   "metadata": {
    "deletable": false,
    "editable": false
   },
   "source": [
    "In electrostatics, we need to calculate the electric field at multiple observation points due to multiple point charges. Write a function `calculate_electric_field(charges, charge_positions, observation_points)` that uses broadcasting to efficiently compute the electric field vectors.\n",
    "\n",
    "The function should:\n",
    "1. **Calculate displacement vectors**: For each observation point, find the displacement vector from each charge position (use broadcasting to avoid loops)\n",
    "2. **Calculate distances**: Find the distance from each charge to each observation point \n",
    "3. **Calculate unit vectors**: Normalize the displacement vectors to get unit direction vectors\n",
    "4. **Calculate field magnitudes**: Use Coulomb's law: `E = k * |q| / r²` where k = 8.99e9 N⋅m²/C²\n",
    "5. **Calculate field vectors**: Multiply field magnitudes by unit vectors and sum contributions from all charges\n",
    "6. **Calculate total field magnitude**: Find the magnitude of the total electric field at each observation point\n",
    "\n",
    "Parameters:\n",
    "- `charges`: 1D array of point charges (Coulombs) - shape (N,)\n",
    "- `charge_positions`: 2D array of charge positions (meters) - shape (N, 2) for x,y coordinates  \n",
    "- `observation_points`: 2D array of observation points (meters) - shape (M, 2) for x,y coordinates\n",
    "\n",
    "Return a tuple: `(displacement_vectors, distances, field_vectors, total_field_magnitudes)`\n",
    "- `displacement_vectors`: shape (M, N, 2) - displacement from each charge to each observation point\n",
    "- `distances`: shape (M, N) - distance from each charge to each observation point  \n",
    "- `field_vectors`: shape (M, 2) - total electric field vector at each observation point\n",
    "- `total_field_magnitudes`: shape (M,) - magnitude of total field at each observation point\n",
    "\n",
    "Note: Use broadcasting to avoid explicit loops. The displacement calculation should use `observation_points[:, np.newaxis, :] - charge_positions[np.newaxis, :, :]`."
   ]
  },
  {
   "cell_type": "code",
   "execution_count": 61,
   "id": "93418aba",
   "metadata": {
    "tags": [
     "otter_assign_solution_cell"
    ]
   },
   "outputs": [],
   "source": [
    "def calculate_electric_field(charges, charge_positions, observation_points):\n",
    "    # BEGIN SOLUTION NO PROMPT\n",
    "    k = 8.99e9  # Coulomb's constant in N⋅m²/C²\n",
    "    \n",
    "    # Use broadcasting to calculate displacement vectors: (M, N, 2)\n",
    "    # observation_points is (M, 2), charge_positions is (N, 2)\n",
    "    displacement_vectors = observation_points[:, np.newaxis, :] - charge_positions[np.newaxis, :, :]\n",
    "    \n",
    "    # Calculate distances: (M, N)\n",
    "    distances = np.linalg.norm(displacement_vectors, axis=2)\n",
    "    \n",
    "    # Calculate unit vectors (avoiding division by zero)\n",
    "    unit_vectors = displacement_vectors / distances[:, :, np.newaxis]\n",
    "    \n",
    "    # Calculate field magnitudes using Coulomb's law: (M, N)\n",
    "    field_magnitudes = k * np.abs(charges)[np.newaxis, :] / (distances**2)\n",
    "    \n",
    "    # Account for charge sign in field direction\n",
    "    charge_signs = np.sign(charges)[np.newaxis, :, np.newaxis]\n",
    "    \n",
    "    # Calculate individual field vectors: (M, N, 2)\n",
    "    individual_fields = field_magnitudes[:, :, np.newaxis] * unit_vectors * charge_signs\n",
    "    \n",
    "    # Sum contributions from all charges: (M, 2)\n",
    "    field_vectors = np.sum(individual_fields, axis=1)\n",
    "    \n",
    "    # Calculate total field magnitudes: (M,)\n",
    "    total_field_magnitudes = np.linalg.norm(field_vectors, axis=1)\n",
    "    \n",
    "    return (displacement_vectors, distances, field_vectors, total_field_magnitudes)\n",
    "    # END SOLUTION\n",
    "    \"\"\" # BEGIN PROMPT\n",
    "    # Write your code here!\n",
    "    return (displacement_vectors, distances, field_vectors, total_field_magnitudes)\n",
    "    \"\"\"; # END PROMPT"
   ]
  },
  {
   "cell_type": "code",
   "execution_count": null,
   "id": "259101fd",
   "metadata": {
    "deletable": false,
    "editable": false
   },
   "outputs": [],
   "source": [
    "grader.check(\"q5\")"
   ]
  },
  {
   "cell_type": "markdown",
   "id": "15803a7f",
   "metadata": {
    "deletable": false,
    "editable": false
   },
   "source": [
    "## Required disclosure of use of AI technology\n",
    "\n",
    "Please indicate whether you used AI to complete this homework. If you did, explain how you used it in the python cell below, as a comment."
   ]
  },
  {
   "cell_type": "code",
   "execution_count": 67,
   "id": "3e8f6038",
   "metadata": {
    "tags": [
     "otter_assign_solution_cell"
    ]
   },
   "outputs": [],
   "source": [
    "# BEGIN SOLUTION NO PROMPT\n",
    "# END SOLUTION\n",
    "\"\"\" # BEGIN PROMPT\n",
    "\"\"\"\n",
    "# write ai disclosure here:\n",
    "\n",
    "\"\"\"\n",
    "\"\"\"; # END PROMPT"
   ]
  },
  {
   "cell_type": "markdown",
   "id": "c82dab98",
   "metadata": {
    "deletable": false,
    "editable": false
   },
   "source": [
    "## Submission\n",
    "\n",
    "Make sure you have run all cells in your notebook in order before running the cell below, so that all images/graphs appear in the output. The cell below will generate a zip file for you to submit.\n",
    "\n",
    "Upload the .zip file to Gradescope!"
   ]
  },
  {
   "cell_type": "code",
   "execution_count": null,
   "id": "66b18714",
   "metadata": {
    "deletable": false,
    "editable": false
   },
   "outputs": [],
   "source": [
    "grader.export(pdf=False, force_save=True, run_tests=True)"
   ]
  },
  {
   "cell_type": "markdown",
   "id": "a2ec5ab9",
   "metadata": {},
   "source": [
    " "
   ]
  }
 ],
 "metadata": {
  "kernelspec": {
   "display_name": "otter_grading",
   "language": "python",
   "name": "python3"
  },
  "language_info": {
   "codemirror_mode": {
    "name": "ipython",
    "version": 3
   },
   "file_extension": ".py",
   "mimetype": "text/x-python",
   "name": "python",
   "nbconvert_exporter": "python",
   "pygments_lexer": "ipython3",
   "version": "3.12.11"
  },
  "otter": {
   "OK_FORMAT": true,
   "tests": {
    "q1a": {
     "name": "q1a",
     "points": null,
     "suites": [
      {
       "cases": [
        {
         "code": ">>> pos, vel, force = create_physics_arrays([1.0, 2.0], [0.5, 1.0], [10.0, 20.0])\n>>> isinstance(pos, np.ndarray) and isinstance(vel, np.ndarray) and isinstance(force, np.ndarray)\nTrue",
         "hidden": false,
         "locked": false,
         "points": 1
        },
        {
         "code": ">>> pos, vel, force = create_physics_arrays([1.5, 2.5, 3.5], [0.1, 0.2, 0.3], [5.0, 10.0, 15.0])\n>>> np.allclose(pos, [1.5, 2.5, 3.5]) and np.allclose(vel, [0.1, 0.2, 0.3]) and np.allclose(force, [5.0, 10.0, 15.0])\nTrue",
         "hidden": false,
         "locked": false,
         "points": 1
        },
        {
         "code": ">>> pos, vel, force = create_physics_arrays([3.14], [2.71], [9.8])\n>>> bool(pos[0] == 3.14 and vel[0] == 2.71 and (force[0] == 9.8))\nTrue",
         "hidden": true,
         "locked": false,
         "points": 1
        },
        {
         "code": ">>> pos, vel, force = create_physics_arrays([], [], [])\n>>> len(pos) == 0 and len(vel) == 0 and (len(force) == 0) and isinstance(pos, np.ndarray)\nTrue",
         "hidden": false,
         "locked": false,
         "points": 1
        },
        {
         "code": ">>> pos, vel, force = create_physics_arrays([1, 2.5, 3], [0.5, 1, 1.5], [10, 15.5, 20])\n>>> bool(pos.dtype == np.float64 and vel.dtype == np.float64 and (force.dtype == np.float64) and np.allclose(pos, [1.0, 2.5, 3.0]))\nTrue",
         "hidden": true,
         "locked": false,
         "points": 1
        }
       ],
       "scored": true,
       "setup": "",
       "teardown": "",
       "type": "doctest"
      }
     ]
    },
    "q1b": {
     "name": "q1b",
     "points": null,
     "suites": [
      {
       "cases": [
        {
         "code": ">>> zeros, identity, ones = create_physics_matrices(2)\n>>> zeros.shape == (2, 2) and identity.shape == (2, 2) and (ones.shape == (2, 2))\nTrue",
         "hidden": false,
         "locked": false,
         "points": 1
        },
        {
         "code": ">>> zeros, identity, ones = create_physics_matrices(3)\n>>> np.allclose(zeros, np.zeros((3, 3))) and np.allclose(identity, np.eye(3)) and np.allclose(ones, np.ones((3, 3)))\nTrue",
         "hidden": false,
         "locked": false,
         "points": 1
        },
        {
         "code": ">>> zeros, identity, ones = create_physics_matrices(4)\n>>> bool(np.all(np.diag(identity) == 1) and np.sum(identity) == 4)\nTrue",
         "hidden": true,
         "locked": false,
         "points": 1
        },
        {
         "code": ">>> zeros, identity, ones = create_physics_matrices(1)\n>>> bool(zeros[0, 0] == 0.0 and identity[0, 0] == 1.0 and (ones[0, 0] == 1.0))\nTrue",
         "hidden": false,
         "locked": false,
         "points": 1
        },
        {
         "code": ">>> zeros, identity, ones = create_physics_matrices(5)\n>>> bool(zeros.dtype == np.float64 and np.count_nonzero(zeros) == 0 and (np.sum(ones) == 25))\nTrue",
         "hidden": true,
         "locked": false,
         "points": 1
        }
       ],
       "scored": true,
       "setup": "",
       "teardown": "",
       "type": "doctest"
      }
     ]
    },
    "q1c": {
     "name": "q1c",
     "points": null,
     "suites": [
      {
       "cases": [
        {
         "code": ">>> e_field = np.array([1.0, 2.0, 3.0])\n>>> b_field = np.array([4.0, 5.0])\n>>> potential, charge, force = simulate_field_interactions(e_field, b_field)\n>>> potential.shape == (3,) and charge.shape == (3,) and (force.shape == (2,))\nTrue",
         "hidden": false,
         "locked": false,
         "points": 1
        },
        {
         "code": ">>> e_field = np.array([[1.0, 2.0], [3.0, 4.0]])\n>>> b_field = np.array([5.0, 6.0, 7.0])\n>>> potential, charge, force = simulate_field_interactions(e_field, b_field)\n>>> np.allclose(potential, 0.0) and np.allclose(charge, 1.0) and np.allclose(force, 9.8)\nTrue",
         "hidden": false,
         "locked": false,
         "points": 1
        },
        {
         "code": ">>> e_field_3d = np.ones((2, 3, 4))\n>>> b_field_3d = np.zeros((5, 2))\n>>> potential, charge, force = simulate_field_interactions(e_field_3d, b_field_3d)\n>>> potential.shape == (2, 3, 4) and charge.shape == (2, 3, 4) and (force.shape == (5, 2)) and np.allclose(force, 9.8)\nTrue",
         "hidden": true,
         "locked": false,
         "points": 1
        },
        {
         "code": ">>> e_field = np.array([1, 2, 3], dtype=np.int32)\n>>> b_field = np.array([1.0, 2.0], dtype=np.float64)\n>>> potential, charge, force = simulate_field_interactions(e_field, b_field)\n>>> potential.dtype == e_field.dtype and charge.dtype == e_field.dtype and (force.dtype == b_field.dtype) and np.allclose(force, 9.8)\nTrue",
         "hidden": true,
         "locked": false,
         "points": 1
        },
        {
         "code": ">>> e_field_scalar = np.array(5.0)\n>>> b_field_scalar = np.array(2.0)\n>>> potential, charge, force = simulate_field_interactions(e_field_scalar, b_field_scalar)\n>>> potential.shape == () and charge.shape == () and (force.shape == ()) and (float(force) == 9.8)\nTrue",
         "hidden": false,
         "locked": false,
         "points": 1
        },
        {
         "code": ">>> e_field = np.array([1.0, 2.0])\n>>> b_field = np.array([3.0, 4.0])\n>>> potential, charge, force = simulate_field_interactions(e_field, b_field)\n>>> potential[0] = 999\n>>> bool(e_field[0] == 1.0 and potential[0] == 999)\nTrue",
         "hidden": true,
         "locked": false,
         "points": 1
        }
       ],
       "scored": true,
       "setup": "",
       "teardown": "",
       "type": "doctest"
      }
     ]
    },
    "q2a": {
     "name": "q2a",
     "points": null,
     "suites": [
      {
       "cases": [
        {
         "code": ">>> t, x, y, vx, vy = analyze_projectile_motion(10, np.pi / 4, 2.0, num_points=10)\n>>> len(t) == 10 and len(x) == 10 and (len(y) == 10) and (len(vx) == 10) and (len(vy) == 10)\nTrue",
         "hidden": false,
         "locked": false,
         "points": 1
        },
        {
         "code": ">>> t, x, y, vx, vy = analyze_projectile_motion(20, np.pi / 6, 3.0)\n>>> bool(abs(x[0] - 0.0) < 1e-10 and abs(y[0] - 0.0) < 1e-10 and (abs(vx[0] - 20 * np.cos(np.pi / 6)) < 1e-10))\nTrue",
         "hidden": false,
         "locked": false,
         "points": 1
        },
        {
         "code": ">>> t, x, y, vx, vy = analyze_projectile_motion(15, np.pi / 3, 4.0, num_points=25)\n>>> bool(np.allclose(vx, vx[0]) and abs(t[0] - 0.0) < 1e-10 and (abs(t[-1] - 4.0) < 1e-10))\nTrue",
         "hidden": true,
         "locked": false,
         "points": 1
        },
        {
         "code": ">>> t, x, y, vx, vy = analyze_projectile_motion(10, np.pi / 2, 2.0, num_points=100)\n>>> peak_index = np.argmin(np.abs(vy))\n>>> bool(abs(vy[peak_index]) < 0.5)\nTrue",
         "hidden": false,
         "locked": false,
         "points": 1
        },
        {
         "code": ">>> t, x, y, vx, vy = analyze_projectile_motion(19.6, np.pi / 2, 4.0)\n>>> max_height = np.max(y)\n>>> bool(abs(max_height - 19.6) < 1.0)\nTrue",
         "hidden": true,
         "locked": false,
         "points": 1
        }
       ],
       "scored": true,
       "setup": "",
       "teardown": "",
       "type": "doctest"
      }
     ]
    },
    "q2b": {
     "name": "q2b",
     "points": null,
     "suites": [
      {
       "cases": [
        {
         "code": ">>> t, N, R, A = analyze_exponential_decay(1000, 100, decades=3, num_points=10)\n>>> len(t) == 10 and len(N) == 10 and (len(R) == 10) and (len(A) == 10)\nTrue",
         "hidden": false,
         "locked": false,
         "points": 1
        },
        {
         "code": ">>> t, N, R, A = analyze_exponential_decay(1000, 50)\n>>> bool(abs(A[0] - np.exp(-np.log(2) / 50)) < 1e-10 and abs(N[0] - 1000 * np.exp(-np.log(2) / 50)) < 1e-10)\nTrue",
         "hidden": false,
         "locked": false,
         "points": 1
        },
        {
         "code": ">>> t, N, R, A = analyze_exponential_decay(500, 25, decades=2, num_points=5)\n>>> decay_lambda = np.log(2) / 25\n>>> np.allclose(R, decay_lambda * N) and np.allclose(A, N / 500)\nTrue",
         "hidden": true,
         "locked": false,
         "points": 1
        },
        {
         "code": ">>> t, N, R, A = analyze_exponential_decay(1000, 50, decades=3, num_points=4)\n>>> t[0] == 1.0 and t[-1] == 1000.0 and (len(t) == 4)\nTrue",
         "hidden": false,
         "locked": false,
         "points": 1
        },
        {
         "code": ">>> t, N, R, A = analyze_exponential_decay(1000, 100, decades=2, num_points=100)\n>>> half_life_idx = np.argmin(np.abs(t - 100))\n>>> bool(abs(N[half_life_idx] - 500) < 50)\nTrue",
         "hidden": true,
         "locked": false,
         "points": 1
        }
       ],
       "scored": true,
       "setup": "",
       "teardown": "",
       "type": "doctest"
      }
     ]
    },
    "q2c": {
     "name": "q2c",
     "points": null,
     "suites": [
      {
       "cases": [
        {
         "code": ">>> t, y1, y2, y_total, P, A_rms = calculate_wave_interference(1, 2, 1.0, 1.0, sample_rate=50)\n>>> len(t) == 50 and len(y1) == 50 and (len(y2) == 50) and (len(y_total) == 50) and (len(P) == 50)\nTrue",
         "hidden": false,
         "locked": false,
         "points": 1
        },
        {
         "code": ">>> t, y1, y2, y_total, P, A_rms = calculate_wave_interference(0, 0, 2.0, 2.0)\n>>> np.allclose(y1, 0.0) and np.allclose(y2, 0.0) and np.allclose(y_total, 0.0)\nTrue",
         "hidden": false,
         "locked": false,
         "points": 1
        },
        {
         "code": ">>> t, y1, y2, y_total, P, A_rms = calculate_wave_interference(1, 1, 1.0, 4.0)\n>>> np.allclose(P, y_total ** 2) and isinstance(A_rms, (int, float, np.number))\nTrue",
         "hidden": true,
         "locked": false,
         "points": 1
        },
        {
         "code": ">>> t, y1, y2, y_total, P, A_rms = calculate_wave_interference(5, 10, 1.5, 0.5, sample_rate=200)\n>>> bool(abs(t[1] - t[0] - 1.0 / 200) < 1e-10 and t[-1] < 0.5)\nTrue",
         "hidden": true,
         "locked": false,
         "points": 1
        },
        {
         "code": ">>> t, y1, y2, y_total, P, A_rms = calculate_wave_interference(1, 1, 1.0, 2.0)\n>>> np.allclose(y_total, 2.0 * y1)\nTrue",
         "hidden": false,
         "locked": false,
         "points": 1
        },
        {
         "code": ">>> t, y1, y2, y_total, P, A_rms = calculate_wave_interference(0, 0, 3.0, 1.0)\n>>> expected_rms = 0.0\n>>> bool(abs(A_rms - expected_rms) < 1e-10)\nTrue",
         "hidden": true,
         "locked": false,
         "points": 1
        }
       ],
       "scored": true,
       "setup": "",
       "teardown": "",
       "type": "doctest"
      }
     ]
    },
    "q3a": {
     "name": "q3a",
     "points": null,
     "suites": [
      {
       "cases": [
        {
         "code": ">>> pos_data = np.array([0.0, 1.0, 2.0, 3.0, 4.0, 5.0, 6.0, 7.0, 8.0, 9.0])\n>>> initial, final, middle, every_10th, last_5sec = analyze_motion_data(pos_data, 2)\n>>> bool(initial == 0.0 and final == 9.0)\nTrue",
         "hidden": false,
         "locked": false,
         "points": 1
        },
        {
         "code": ">>> pos_data = np.arange(12)\n>>> initial, final, middle, every_10th, last_5sec = analyze_motion_data(pos_data, 1)\n>>> np.array_equal(middle, np.array([4, 5, 6, 7]))\nTrue",
         "hidden": false,
         "locked": false,
         "points": 1
        },
        {
         "code": ">>> pos_data = np.arange(20)\n>>> initial, final, middle, every_10th, last_5sec = analyze_motion_data(pos_data, 2)\n>>> np.array_equal(every_10th, np.array([0, 10])) and len(last_5sec) == 10\nTrue",
         "hidden": true,
         "locked": false,
         "points": 1
        },
        {
         "code": ">>> pos_data = np.array([1.0, 2.0, 3.0])\n>>> initial, final, middle, every_10th, last_5sec = analyze_motion_data(pos_data, 10)\n>>> bool(initial == 1.0 and final == 3.0 and (len(middle) == 1) and (middle[0] == 2.0))\nTrue",
         "hidden": false,
         "locked": false,
         "points": 1
        },
        {
         "code": ">>> pos_data = np.arange(25)\n>>> initial, final, middle, every_10th, last_5sec = analyze_motion_data(pos_data, 3.5)\n>>> bool(len(every_10th) == 3 and every_10th[0] == 0 and (every_10th[1] == 10) and (every_10th[2] == 20))\nTrue",
         "hidden": true,
         "locked": false,
         "points": 1
        }
       ],
       "scored": true,
       "setup": "",
       "teardown": "",
       "type": "doctest"
      }
     ]
    },
    "q3b": {
     "name": "q3b",
     "points": null,
     "suites": [
      {
       "cases": [
        {
         "code": ">>> temp_data = np.array([[1, 2, 3], [4, 5, 6], [7, 8, 9]])\n>>> corners, center, top, right, diag = analyze_temperature_field(temp_data)\n>>> np.array_equal(corners, [1, 3, 7, 9])\nTrue",
         "hidden": false,
         "locked": false,
         "points": 1
        },
        {
         "code": ">>> temp_data = np.array([[1, 2, 3], [4, 5, 6], [7, 8, 9]])\n>>> corners, center, top, right, diag = analyze_temperature_field(temp_data)\n>>> np.array_equal(top, [1, 2, 3]) and np.array_equal(right, [3, 6, 9])\nTrue",
         "hidden": false,
         "locked": false,
         "points": 1
        },
        {
         "code": ">>> temp_data = np.arange(25).reshape(5, 5)\n>>> corners, center, top, right, diag = analyze_temperature_field(temp_data)\n>>> center.shape == (3, 3) and np.array_equal(diag, [0, 6, 12, 18, 24])\nTrue",
         "hidden": true,
         "locked": false,
         "points": 1
        },
        {
         "code": ">>> temp_data = np.ones((7, 7)) * 10\n>>> temp_data[2:5, 2:5] = 99\n>>> corners, center, top, right, diag = analyze_temperature_field(temp_data)\n>>> np.allclose(center, 99) and center.shape == (3, 3)\nTrue",
         "hidden": true,
         "locked": false,
         "points": 1
        }
       ],
       "scored": true,
       "setup": "",
       "teardown": "",
       "type": "doctest"
      }
     ]
    },
    "q4a": {
     "name": "q4a",
     "points": null,
     "suites": [
      {
       "cases": [
        {
         "code": ">>> energies = np.array([1.0, 5.0, 3.0, 8.0, 2.0])\n>>> velocities = np.array([100, 200, 150, 250, 120])\n>>> he_mask, sp_mask, vp_mask, ve, vv, eff = filter_particle_data(energies, velocities, 3.0, 200)\n>>> np.array_equal(he_mask, [False, True, True, True, False]) and np.array_equal(sp_mask, [True, True, True, False, True])\nTrue",
         "hidden": false,
         "locked": false,
         "points": 1
        },
        {
         "code": ">>> energies = np.array([1.0, 5.0, 3.0, 8.0, 2.0])\n>>> velocities = np.array([100, 200, 150, 250, 120])\n>>> he_mask, sp_mask, vp_mask, ve, vv, eff = filter_particle_data(energies, velocities, 3.0, 200)\n>>> np.array_equal(vp_mask, [False, True, True, False, False]) and np.array_equal(ve, [5.0, 3.0]) and np.array_equal(vv, [200, 150])\nTrue",
         "hidden": false,
         "locked": false,
         "points": 1
        },
        {
         "code": ">>> energies = np.array([10.0, 2.0, 8.0, 1.0])\n>>> velocities = np.array([50, 100, 60, 120])\n>>> he_mask, sp_mask, vp_mask, ve, vv, eff = filter_particle_data(energies, velocities, 5.0, 100)\n>>> bool(abs(eff - 0.5) < 1e-10)\nTrue",
         "hidden": true,
         "locked": false,
         "points": 1
        },
        {
         "code": ">>> energies = np.array([10.0, 15.0, 12.0])\n>>> velocities = np.array([50, 80, 60])\n>>> he_mask, sp_mask, vp_mask, ve, vv, eff = filter_particle_data(energies, velocities, 5.0, 100)\n>>> eff == 1.0 and len(ve) == 3 and np.array_equal(ve, energies)\nTrue",
         "hidden": false,
         "locked": false,
         "points": 1
        },
        {
         "code": ">>> energies = np.array([1.0, 2.0, 3.0])\n>>> velocities = np.array([200, 300, 250])\n>>> he_mask, sp_mask, vp_mask, ve, vv, eff = filter_particle_data(energies, velocities, 10.0, 100)\n>>> eff == 0.0 and len(ve) == 0 and (len(vv) == 0)\nTrue",
         "hidden": true,
         "locked": false,
         "points": 1
        }
       ],
       "scored": true,
       "setup": "",
       "teardown": "",
       "type": "doctest"
      }
     ]
    },
    "q4b": {
     "name": "q4b",
     "points": null,
     "suites": [
      {
       "cases": [
        {
         "code": ">>> temps = np.array([20.0, 22.0, 25.0, 30.0, 21.0])\n>>> pressures = np.array([1.0, 0.5, 1.1, 1.5, 0.9])\n>>> t_out, p_out, valid, clean_t, clean_p, quality = analyze_sensor_data(temps, pressures)\n>>> np.array_equal(t_out, [False, False, False, True, False]) and np.array_equal(p_out, [False, True, False, True, False])\nTrue",
         "hidden": false,
         "locked": false,
         "points": 1
        },
        {
         "code": ">>> temps = np.array([10.0, 12.0, 15.0, 25.0])\n>>> pressures = np.array([1.0, 1.1, 0.7, 0.9])\n>>> t_out, p_out, valid, clean_t, clean_p, quality = analyze_sensor_data(temps, pressures, temp_tolerance=5.0)\n>>> bool(np.array_equal(valid, [True, True, False, False]) and abs(quality - 0.5) < 1e-10)\nTrue",
         "hidden": true,
         "locked": false,
         "points": 1
        },
        {
         "code": ">>> temps = np.array([50.0, 52.0, 49.0, 60.0])\n>>> pressures = np.array([2.0, 2.1, 1.9, 2.5])\n>>> t_out, p_out, valid, clean_t, clean_p, quality = analyze_sensor_data(temps, pressures, temp_tolerance=2.0, pressure_range=(1.8, 2.2))\n>>> bool(np.array_equal(valid, [True, True, True, False]) and abs(quality - 0.75) < 1e-10)\nTrue",
         "hidden": true,
         "locked": false,
         "points": 1
        }
       ],
       "scored": true,
       "setup": "",
       "teardown": "",
       "type": "doctest"
      }
     ]
    },
    "q5": {
     "name": "q5",
     "points": null,
     "suites": [
      {
       "cases": [
        {
         "code": ">>> charges = np.array([1e-09, -2e-09])\n>>> charge_pos = np.array([[0, 0], [1, 0]])\n>>> obs_points = np.array([[0.5, 0], [0.5, 1]])\n>>> disp, dist, field, mag = calculate_electric_field(charges, charge_pos, obs_points)\n>>> disp.shape == (2, 2, 2) and dist.shape == (2, 2) and (field.shape == (2, 2)) and (mag.shape == (2,))\nTrue",
         "hidden": false,
         "locked": false,
         "points": 1
        },
        {
         "code": ">>> charges = np.array([1e-09])\n>>> charge_pos = np.array([[0, 0]])\n>>> obs_points = np.array([[3, 4]])\n>>> disp, dist, field, mag = calculate_electric_field(charges, charge_pos, obs_points)\n>>> bool(np.allclose(disp[0, 0], [3, 4]) and abs(dist[0, 0] - 5.0) < 1e-10)\nTrue",
         "hidden": false,
         "locked": false,
         "points": 1
        },
        {
         "code": ">>> charges = np.array([1e-09])\n>>> charge_pos = np.array([[0, 0]])\n>>> obs_points = np.array([[1, 0]])\n>>> disp, dist, field, mag = calculate_electric_field(charges, charge_pos, obs_points)\n>>> k = 8990000000.0\n>>> expected_field_mag = k * 1e-09 / 1.0 ** 2\n>>> bool(abs(mag[0] - expected_field_mag) < 1e-06 and field[0, 0] > 0 and (abs(field[0, 1]) < 1e-10))\nTrue",
         "hidden": true,
         "locked": false,
         "points": 1
        },
        {
         "code": ">>> charges = np.array([1e-09, -1e-09])\n>>> charge_pos = np.array([[0, 0], [2, 0]])\n>>> obs_points = np.array([[1, 0]])\n>>> disp, dist, field, mag = calculate_electric_field(charges, charge_pos, obs_points)\n>>> bool(mag[0] > 0)\nTrue",
         "hidden": false,
         "locked": false,
         "points": 1
        },
        {
         "code": ">>> charges = np.array([-2e-09])\n>>> charge_pos = np.array([[0, 0]])\n>>> obs_points = np.array([[1, 0], [-1, 0]])\n>>> disp, dist, field, mag = calculate_electric_field(charges, charge_pos, obs_points)\n>>> field[0, 0] < 0 and field[1, 0] > 0 and np.allclose(mag, mag[0])\nTrue",
         "hidden": true,
         "locked": false,
         "points": 1
        }
       ],
       "scored": true,
       "setup": "",
       "teardown": "",
       "type": "doctest"
      }
     ]
    }
   }
  }
 },
 "nbformat": 4,
 "nbformat_minor": 5
}

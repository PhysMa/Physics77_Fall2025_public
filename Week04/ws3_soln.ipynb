{
 "cells": [
  {
   "cell_type": "code",
   "execution_count": null,
   "id": "3c07b3d5",
   "metadata": {
    "deletable": false,
    "editable": false
   },
   "outputs": [],
   "source": [
    "# Initialize Otter\n",
    "import otter\n",
    "grader = otter.Notebook(\"ws3.ipynb\")"
   ]
  },
  {
   "cell_type": "markdown",
   "id": "eafd9c2c",
   "metadata": {
    "vscode": {
     "languageId": "raw"
    }
   },
   "source": [
    "# Workshop 3"
   ]
  },
  {
   "cell_type": "code",
   "execution_count": 1,
   "id": "7ee07334",
   "metadata": {},
   "outputs": [],
   "source": [
    "# Setup\n",
    "import math\n",
    "import numpy as np"
   ]
  },
  {
   "cell_type": "markdown",
   "id": "0261c14e",
   "metadata": {
    "deletable": false,
    "editable": false
   },
   "source": [
    "## **Question 1**: NumPy Array Creation for Physics Applications"
   ]
  },
  {
   "cell_type": "markdown",
   "id": "a3404c2d",
   "metadata": {
    "deletable": false,
    "editable": false
   },
   "source": [
    "### Q1a: Temperature Measurements Array\n",
    "\n",
    "Write a function `create_temperature_array(temp_list)` that:\n",
    "- Takes a Python list of temperature values\n",
    "- Returns a NumPy array made from the list\n",
    "\n",
    "Example: `create_temperature_array([20.5, 25.3, 30.1])` should return a NumPy array with those values."
   ]
  },
  {
   "cell_type": "code",
   "execution_count": 2,
   "id": "bc800e1e",
   "metadata": {
    "tags": [
     "otter_assign_solution_cell"
    ]
   },
   "outputs": [],
   "source": [
    "import numpy as np #so numpy is visible as np to otter grader\n",
    "\n",
    "def create_temperature_array(temp_list):\n",
    "    # BEGIN SOLUTION NO PROMPT\n",
    "    return np.array(temp_list)\n",
    "    # END SOLUTION\n",
    "    \"\"\" # BEGIN PROMPT\n",
    "    # Write your code here!\n",
    "    \"\"\"; # END PROMPT"
   ]
  },
  {
   "cell_type": "code",
   "execution_count": null,
   "id": "8c068550",
   "metadata": {
    "deletable": false,
    "editable": false
   },
   "outputs": [],
   "source": [
    "grader.check(\"q1a\")"
   ]
  },
  {
   "cell_type": "markdown",
   "id": "723b1f5c",
   "metadata": {
    "deletable": false,
    "editable": false
   },
   "source": [
    "### Q1b: Time and Frequency Arrays for Wave Analysis\n",
    "For analyzing electromagnetic waves, we need to create arrays representing time intervals and frequency ranges.\n",
    "\n",
    "[Numpy array creation documentation](https://numpy.org/doc/stable/reference/routines.array-creation.html)\n",
    "\n",
    "Write a function `create_wave_arrays(t_start, t_end, num_points, f_min, f_max, num_freq)` that:\n",
    "- Creates a time array from `t_start` to `t_end` with `num_points` evenly spaced values\n",
    "- Creates a frequency array from `f_min` to `f_max` with `num_freq` logarithmically spaced values\n",
    "- Returns a tuple `(time_array, frequency_array)`\n",
    "\n",
    "Note: For the loagrithmic spacing, you'll need to decide whether to use `np.log10(f_min)` and `np.log10(f_max)` or `f_min` and `f_max` as the start and stop values in the numpy loagarithm spacing array creation function.\n",
    "\n",
    "Example: `create_wave_arrays(0, 1, 5, 1, 1000, 4)` should return time array [0, 0.25, 0.5, 0.75, 1] and frequency array [1, 10, 100, 1000]."
   ]
  },
  {
   "cell_type": "code",
   "execution_count": 6,
   "id": "077d43d8",
   "metadata": {
    "tags": [
     "otter_assign_solution_cell"
    ]
   },
   "outputs": [],
   "source": [
    "import numpy as np #so numpy is visible as np to otter grader\n",
    "\n",
    "def create_wave_arrays(t_start, t_end, num_points, f_min, f_max, num_freq):\n",
    "    # BEGIN SOLUTION NO PROMPT\n",
    "    time_array = np.linspace(t_start, t_end, num_points)\n",
    "    frequency_array = np.logspace(np.log10(f_min), np.log10(f_max), num_freq)\n",
    "    return (time_array, frequency_array)\n",
    "    # END SOLUTION\n",
    "    \"\"\" # BEGIN PROMPT\n",
    "    # Write your code here!\n",
    "    return (time_array, frequency_array)\n",
    "    \"\"\"; # END PROMPT"
   ]
  },
  {
   "cell_type": "code",
   "execution_count": null,
   "id": "19c9bd12",
   "metadata": {
    "deletable": false,
    "editable": false
   },
   "outputs": [],
   "source": [
    "grader.check(\"q1b\")"
   ]
  },
  {
   "cell_type": "markdown",
   "id": "43b5fe1d",
   "metadata": {
    "deletable": false,
    "editable": false
   },
   "source": [
    "### Q1c: Initializing Measurement Arrays for Data Collection\n",
    "\n",
    "[Numpy array creation documentation](https://numpy.org/doc/stable/reference/routines.array-creation.html)\n",
    "\n",
    "Write a function `initialize_experiment_arrays(reference_array, initial_voltage)` that:\n",
    "- Takes a `reference_array` (existing NumPy array) and an `initial_voltage` value\n",
    "- Creates a zeros array with the same shape as `reference_array`\n",
    "- Creates an array filled with `initial_voltage` values with the same shape as `reference_array`\n",
    "- Creates a separate 1D zeros array of length 10\n",
    "- Returns a tuple `(zeros_array, voltage_array, data_buffer)` where `data_buffer` is the 1D zeros array\n",
    "\n",
    "Example: If `reference_array` has shape (3,) and `initial_voltage` is 5.0, the function should return three arrays:\n",
    "- A zeros array of shape (3,)\n",
    "- A voltage array of shape (3,) filled with 5.0\n",
    "- A 1D zeros array of length 10\n",
    "\n",
    "Note: For the `voltage_array`, the input may be all ints, and the initial voltage may not be an int. The usual numpy function for this purpose by default inherits the datatype of the array whose shape you're copying, but this can result in floats being rounded to ints and giving unexpected results, for this reason, make sure the `voltage_array` has float datatype."
   ]
  },
  {
   "cell_type": "code",
   "execution_count": 10,
   "id": "0f6bc84f",
   "metadata": {
    "tags": [
     "otter_assign_solution_cell"
    ]
   },
   "outputs": [],
   "source": [
    "import numpy as np #so numpy is visible as np to otter grader\n",
    "\n",
    "def initialize_experiment_arrays(reference_array, initial_voltage):\n",
    "    # BEGIN SOLUTION NO PROMPT\n",
    "    zeros_array = np.zeros_like(reference_array)\n",
    "    voltage_array = np.full_like(reference_array, initial_voltage, dtype=float)\n",
    "    data_buffer = np.zeros(10)\n",
    "    return (zeros_array, voltage_array, data_buffer)\n",
    "    # END SOLUTION\n",
    "    \"\"\" # BEGIN PROMPT\n",
    "    # Write your code here!\n",
    "    return (zeros_array, voltage_array, data_buffer)\n",
    "    \"\"\"; # END PROMPT"
   ]
  },
  {
   "cell_type": "code",
   "execution_count": null,
   "id": "27d8efb3",
   "metadata": {
    "deletable": false,
    "editable": false
   },
   "outputs": [],
   "source": [
    "grader.check(\"q1c\")"
   ]
  },
  {
   "cell_type": "markdown",
   "id": "462f9cb3",
   "metadata": {
    "deletable": false,
    "editable": false
   },
   "source": [
    "## **Question 2**: NumPy Array Indexing and Slicing"
   ]
  },
  {
   "cell_type": "markdown",
   "id": "963efad6",
   "metadata": {
    "deletable": false,
    "editable": false
   },
   "source": [
    "### Q2a: Stellar Magnitude Analysis\n",
    "Astronomers have collected magnitude measurements (brightness) of stars in different wavelength bands. The data is stored as a 1D array where each element represents the magnitude of a star.\n",
    "\n",
    "Given a stellar magnitude array, write a function `analyze_stellar_magnitudes(magnitudes, bright_threshold)` that:\n",
    "- Takes a 1D NumPy array `magnitudes` and a float `bright_threshold`\n",
    "- Extracts the first 3 magnitude values using slicing\n",
    "- Extracts the last 2 magnitude values using negative indexing/slicing\n",
    "- Finds all stars brighter than the threshold (magnitude < threshold, since lower magnitude = brighter star)\n",
    "- Returns a tuple `(first_three, last_two, bright_stars)` \n",
    "\n",
    "Example: For magnitudes `[2.1, 4.5, 1.8, 6.2, 3.7, 5.1]` and threshold `4.0`, the function should return:\n",
    "- First three: `[2.1, 4.5, 1.8]`\n",
    "- Last two: `[3.7, 5.1]` \n",
    "- Bright stars: `[2.1, 1.8, 3.7]` (all values < 4.0)"
   ]
  },
  {
   "cell_type": "code",
   "execution_count": 14,
   "id": "959f1c40",
   "metadata": {
    "tags": [
     "otter_assign_solution_cell"
    ]
   },
   "outputs": [],
   "source": [
    "import numpy as np #so numpy is visible as np to otter grader\n",
    "\n",
    "def analyze_stellar_magnitudes(magnitudes, bright_threshold):\n",
    "    # BEGIN SOLUTION NO PROMPT\n",
    "    first_three = magnitudes[:3]\n",
    "    last_two = magnitudes[-2:]\n",
    "    bright_stars = magnitudes[magnitudes < bright_threshold]\n",
    "    return (first_three, last_two, bright_stars)\n",
    "    # END SOLUTION\n",
    "    \"\"\" # BEGIN PROMPT\n",
    "    # Write your code here!\n",
    "    return (first_three, last_two, bright_stars)\n",
    "    \"\"\"; # END PROMPT"
   ]
  },
  {
   "cell_type": "code",
   "execution_count": null,
   "id": "0cbe9180",
   "metadata": {
    "deletable": false,
    "editable": false
   },
   "outputs": [],
   "source": [
    "grader.check(\"q2a\")"
   ]
  },
  {
   "cell_type": "markdown",
   "id": "912a66e2",
   "metadata": {
    "deletable": false,
    "editable": false
   },
   "source": [
    "### Q2b: Galaxy Image Processing\n",
    "Astronomers use 2D arrays to represent digital images of galaxies. Each element represents the brightness intensity at that pixel location.\n",
    "\n",
    "Write a function `process_galaxy_image(image_data)` that takes a 2D NumPy array representing a galaxy image and performs the following operations:\n",
    "- Extract the central 2x2 region (assuming the image is at least 4x4, and even side length)\n",
    "- Extract the entire first row of the image\n",
    "- Extract the entire last column of the image  \n",
    "- Extract every other row (rows 0, 2, 4, etc.) using step slicing\n",
    "- Extract every other column (columns 0, 2, 4, etc.) using step slicing\n",
    "- Returns a tuple `(central_region, first_row, last_column, every_other_row, every_other_column)`\n",
    "\n",
    "For a 4x4 image, the central 2x2 region would be the elements at rows 1-2 and columns 1-2.\n",
    "\n",
    "Example: For a 4x4 image:\n",
    "```\n",
    "[[10, 20, 30, 40],\n",
    " [50, 60, 70, 80], \n",
    " [90, 100, 110, 120],\n",
    " [130, 140, 150, 160]]\n",
    "```\n",
    "The central 2x2 region should be `[[60, 70], [100, 110]]`\n",
    "\n",
    "Note: For an NxN image array, the shape of `every_other_row` should be `(N/2,N)` and the shape of `every_other_column` should be `(N, N/2)`"
   ]
  },
  {
   "cell_type": "code",
   "execution_count": 18,
   "id": "8bab1c5e",
   "metadata": {
    "tags": [
     "otter_assign_solution_cell"
    ]
   },
   "outputs": [],
   "source": [
    "import numpy as np #so numpy is visible as np to otter grader\n",
    "\n",
    "def process_galaxy_image(image_data):\n",
    "    # BEGIN SOLUTION NO PROMPT\n",
    "    rows, cols = image_data.shape\n",
    "    \n",
    "    # Central 2x2 region (assuming image is at least 4x4)\n",
    "    center_row_start = rows // 2 - 1\n",
    "    center_col_start = cols // 2 - 1\n",
    "    central_region = image_data[center_row_start:center_row_start+2, center_col_start:center_col_start+2]\n",
    "    \n",
    "    # First row\n",
    "    first_row = image_data[0, :]\n",
    "    \n",
    "    # Last column  \n",
    "    last_column = image_data[:, -1]\n",
    "    \n",
    "    # Every other row (0, 2, 4, ...)\n",
    "    every_other_row = image_data[::2, :]\n",
    "    \n",
    "    # Every other column (0, 2, 4, ...)\n",
    "    every_other_column = image_data[:, ::2]\n",
    "    \n",
    "    return (central_region, first_row, last_column, every_other_row, every_other_column)\n",
    "    # END SOLUTION\n",
    "    \"\"\" # BEGIN PROMPT\n",
    "    # Write your code here!\n",
    "    return (central_region, first_row, last_column, every_other_row, every_other_column)\n",
    "    \"\"\"; # END PROMPT"
   ]
  },
  {
   "cell_type": "code",
   "execution_count": null,
   "id": "07edc176",
   "metadata": {
    "deletable": false,
    "editable": false
   },
   "outputs": [],
   "source": [
    "grader.check(\"q2b\")"
   ]
  },
  {
   "cell_type": "markdown",
   "id": "beb994db",
   "metadata": {
    "deletable": false,
    "editable": false
   },
   "source": [
    "## **Question 3**: Algorithm Time Complexity\n",
    "\n",
    "For each of the following algorithm examples, analyze the time complexity and assign the correct Big O notation to the specified variable.\n",
    "\n",
    "**Available time complexity options:**\n",
    "- `\"O(1)\"` - Constant time\n",
    "- `\"O(log n)\"` - Logarithmic time  \n",
    "- `\"O(n)\"` - Linear time\n",
    "- `\"O(n log n)\"` - Linearithmic time\n",
    "- `\"O(n^2)\"` - Quadratic time\n",
    "- `\"O(n^3)\"` - Cubic time\n",
    "- `\"O(2^n)\"` - Exponential time\n",
    "\n",
    "**Important:** Your answer must be one of the exact strings listed above."
   ]
  },
  {
   "cell_type": "markdown",
   "id": "f41ffb44",
   "metadata": {
    "deletable": false,
    "editable": false
   },
   "source": [
    "### Q3a: Matrix Element Access\n",
    "Consider this function that accesses a specific element in a matrix:\n",
    "\n",
    "```python\n",
    "def get_particle_energy(energy_matrix, particle_id):\n",
    "    \"\"\"\n",
    "    Gets the energy of a specific particle from a pre-computed energy matrix.\n",
    "    energy_matrix: 2D numpy array of size n x n\n",
    "    particle_id: integer index of the particle\n",
    "    \"\"\"\n",
    "    row = particle_id // len(energy_matrix)\n",
    "    col = particle_id % len(energy_matrix)\n",
    "    return energy_matrix[row][col]\n",
    "```\n",
    "\n",
    "Analyze the time complexity of this function with respect to the size of the energy matrix (n × n). \n",
    "\n",
    "Set the variable `q3a_complexity` to the correct time complexity string."
   ]
  },
  {
   "cell_type": "code",
   "execution_count": 23,
   "id": "cded7e9a",
   "metadata": {
    "tags": [
     "otter_assign_solution_cell"
    ]
   },
   "outputs": [],
   "source": [
    "# BEGIN SOLUTION NO PROMPT\n",
    "q3a_complexity = \"O(1)\"\n",
    "# END SOLUTION\n",
    "\"\"\" # BEGIN PROMPT\n",
    "# Analyze the time complexity and set q3a_complexity to the correct string\n",
    "q3a_complexity = # Your answer here\n",
    "\"\"\"; # END PROMPT"
   ]
  },
  {
   "cell_type": "code",
   "execution_count": null,
   "id": "a48df3a8",
   "metadata": {
    "deletable": false,
    "editable": false
   },
   "outputs": [],
   "source": [
    "grader.check(\"q3a\")"
   ]
  },
  {
   "cell_type": "markdown",
   "id": "df246d5a",
   "metadata": {
    "deletable": false,
    "editable": false
   },
   "source": [
    "### Q3b: Linear Search for Maximum Temperature\n",
    "Consider this function that finds the maximum temperature in a list of measurements:\n",
    "\n",
    "```python\n",
    "def find_max_temperature(temperature_readings):\n",
    "    \"\"\"\n",
    "    Finds the maximum temperature from a list of n temperature readings.\n",
    "    temperature_readings: list of n floating point temperature values\n",
    "    \"\"\"\n",
    "    max_temp = temperature_readings[0]\n",
    "    for i in range(1, len(temperature_readings)):\n",
    "        if temperature_readings[i] > max_temp:\n",
    "            max_temp = temperature_readings[i]\n",
    "    return max_temp\n",
    "```\n",
    "\n",
    "Analyze the time complexity of this function with respect to the number of temperature readings (n).\n",
    "\n",
    "Set the variable `q3b_complexity` to the correct time complexity string."
   ]
  },
  {
   "cell_type": "code",
   "execution_count": 25,
   "id": "c78d3707",
   "metadata": {
    "tags": [
     "otter_assign_solution_cell"
    ]
   },
   "outputs": [],
   "source": [
    "# BEGIN SOLUTION NO PROMPT\n",
    "q3b_complexity = \"O(n)\"\n",
    "# END SOLUTION\n",
    "\"\"\" # BEGIN PROMPT\n",
    "# Analyze the time complexity and set q3b_complexity to the correct string\n",
    "q3b_complexity = # Your answer here\n",
    "\"\"\"; # END PROMPT"
   ]
  },
  {
   "cell_type": "code",
   "execution_count": null,
   "id": "23932da5",
   "metadata": {
    "deletable": false,
    "editable": false
   },
   "outputs": [],
   "source": [
    "grader.check(\"q3b\")"
   ]
  },
  {
   "cell_type": "markdown",
   "id": "caf66b03",
   "metadata": {
    "deletable": false,
    "editable": false
   },
   "source": [
    "### Q3c: Nested Loop Matrix Multiplication\n",
    "Consider this function that performs matrix multiplication for two matrices:\n",
    "\n",
    "```python\n",
    "def multiply_matrices(matrix_A, matrix_B):\n",
    "    \"\"\"\n",
    "    Multiplies two n x n matrices using the standard algorithm.\n",
    "    matrix_A: n x n matrix \n",
    "    matrix_B: n x n matrix\n",
    "    Returns: n x n result matrix\n",
    "    \"\"\"\n",
    "    n = len(matrix_A)\n",
    "    result = [[0 for _ in range(n)] for _ in range(n)]\n",
    "    \n",
    "    for i in range(n):\n",
    "        for j in range(n):\n",
    "            for k in range(n):\n",
    "                result[i][j] += matrix_A[i][k] * matrix_B[k][j]\n",
    "    \n",
    "    return result\n",
    "```\n",
    "\n",
    "Analyze the time complexity of this function with respect to the size of the matrices (n × n).\n",
    "\n",
    "Set the variable `q3c_complexity` to the correct time complexity string."
   ]
  },
  {
   "cell_type": "code",
   "execution_count": 27,
   "id": "33d92b14",
   "metadata": {
    "tags": [
     "otter_assign_solution_cell"
    ]
   },
   "outputs": [],
   "source": [
    "# BEGIN SOLUTION NO PROMPT\n",
    "q3c_complexity = \"O(n^3)\"\n",
    "# END SOLUTION\n",
    "\"\"\" # BEGIN PROMPT\n",
    "# Analyze the time complexity and set q3c_complexity to the correct string\n",
    "q3c_complexity = # Your answer here\n",
    "\"\"\"; # END PROMPT"
   ]
  },
  {
   "cell_type": "code",
   "execution_count": null,
   "id": "32b7c95c",
   "metadata": {
    "deletable": false,
    "editable": false
   },
   "outputs": [],
   "source": [
    "grader.check(\"q3c\")"
   ]
  },
  {
   "cell_type": "markdown",
   "id": "a2d2e3f4",
   "metadata": {
    "deletable": false,
    "editable": false
   },
   "source": [
    "## **Question 4**: NumPy Broadcasting and Boolean Masking"
   ]
  },
  {
   "cell_type": "markdown",
   "id": "c424e8cb",
   "metadata": {
    "deletable": false,
    "editable": false
   },
   "source": [
    "In a particle physics experiment, researchers have collected energy measurements from different particle detectors. The data needs to be analyzed using NumPy broadcasting and boolean masking techniques.\n",
    "\n",
    "[NumPy Broadcasting Documentation](https://numpy.org/doc/stable/user/basics.broadcasting.html)\n",
    "\n",
    "Write a function `analyze_particle_energies(energies, backgrounds, threshold_energy, calibration_factors)` that:\n",
    "\n",
    "**Parameters:**\n",
    "- `energies`: 2D array of shape (n_detectors, n_measurements) containing raw energy readings\n",
    "- `backgrounds`: 1D array of shape (n_detectors,) containing background energy levels for each detector  \n",
    "- `threshold_energy`: scalar value representing the minimum energy to consider as a valid particle detection\n",
    "- `calibration_factors`: 1D array of shape (n_detectors,) containing calibration factors for each detector\n",
    "\n",
    "**Operations to perform:**\n",
    "1. **Background Subtraction with Broadcasting**: Subtract the background energy from each detector's measurements using NumPy broadcasting\n",
    "2. **Calibration with Broadcasting**: Multiply each detector's background-subtracted energies by its calibration factor using broadcasting\n",
    "3. **Boolean Masking**: Create a boolean mask to identify measurements above the threshold energy (after subtracting background and applying calibration)\n",
    "4. **Filtering**: Use the boolean mask to extract only the valid particle detections (above threshold)\n",
    "5. **Statistics**: Calculate the mean energy of valid detections for each detector\n",
    "\n",
    "**Returns:**\n",
    "- A tuple `(corrected_energies, valid_detections, detector_means)` where:\n",
    "  - `corrected_energies`: 2D array of background-subtracted and calibrated energies (same shape as input)\n",
    "  - `valid_detections`: 1D array containing only the energy values above threshold (flattened)\n",
    "  - `detector_means`: 1D array of mean energies for each detector (only counting valid detections) (if there are no valid detections for a detector, set the corresponding value to `np.nan`)\n",
    "\n",
    "**Example:**\n",
    "```python\n",
    "energies = np.array([[100, 150, 80], [120, 200, 90]])  # 2 detectors, 3 measurements each\n",
    "backgrounds = np.array([50, 60])  # background for each detector\n",
    "threshold = 70\n",
    "calibration = np.array([1.1, 1.2])  # calibration factor for each detector\n",
    "\n",
    "# Expected process:\n",
    "# 1. Subtract backgrounds: [[50, 100, 30], [60, 140, 30]]\n",
    "# 2. Apply calibration: [[55, 110, 33], [72, 168, 36]]\n",
    "# 3. Find valid (>70): [[False, True, False], [True, True, False]]\n",
    "# 4. Extract valid values: [110, 72, 168]\n",
    "# 5. Calculate means per detector: [110, 120] (detector 0: 110/1, detector 1: (72+168)/2)\n",
    "```\n",
    "\n",
    "Hint: You may want to use `np.newaxis`"
   ]
  },
  {
   "cell_type": "code",
   "execution_count": 29,
   "id": "036f94ad",
   "metadata": {
    "tags": [
     "otter_assign_solution_cell"
    ]
   },
   "outputs": [],
   "source": [
    "import numpy as np #so numpy is visible as np to otter grader\n",
    "\n",
    "def analyze_particle_energies(energies, backgrounds, threshold_energy, calibration_factors):\n",
    "    # BEGIN SOLUTION NO PROMPT\n",
    "    # Step 1: Background subtraction using broadcasting\n",
    "    # backgrounds is (n_detectors,) and energies is (n_detectors, n_measurements)\n",
    "    # NumPy automatically broadcasts backgrounds to match energies shape\n",
    "    background_subtracted = energies - backgrounds[:, np.newaxis]\n",
    "    \n",
    "    # Step 2: Apply calibration factors using broadcasting\n",
    "    corrected_energies = background_subtracted * calibration_factors[:, np.newaxis]\n",
    "    \n",
    "    # Step 3: Create boolean mask for values above threshold\n",
    "    valid_mask = corrected_energies > threshold_energy\n",
    "    \n",
    "    # Step 4: Extract valid detections (flatten and filter)\n",
    "    valid_detections = corrected_energies[valid_mask]\n",
    "    \n",
    "    # Step 5: Calculate mean for each detector (only counting valid detections)\n",
    "    detector_means = []\n",
    "    for i in range(len(calibration_factors)):\n",
    "        detector_valid = corrected_energies[i][valid_mask[i]]\n",
    "        if len(detector_valid) > 0:\n",
    "            detector_means.append(np.mean(detector_valid))\n",
    "        else:\n",
    "            detector_means.append(np.nan)  # No valid detections for this detector\n",
    "    \n",
    "    detector_means = np.array(detector_means)\n",
    "    \n",
    "    return (corrected_energies, valid_detections, detector_means)\n",
    "    # END SOLUTION\n",
    "    \"\"\" # BEGIN PROMPT\n",
    "    # Write your code here!\n",
    "    return (corrected_energies, valid_detections, detector_means)\n",
    "    \"\"\"; # END PROMPT"
   ]
  },
  {
   "cell_type": "code",
   "execution_count": null,
   "id": "88324918",
   "metadata": {
    "deletable": false,
    "editable": false
   },
   "outputs": [],
   "source": [
    "grader.check(\"q4\")"
   ]
  },
  {
   "cell_type": "markdown",
   "id": "a2229656",
   "metadata": {
    "deletable": false,
    "editable": false
   },
   "source": [
    "## Required disclosure of use of AI technology\n",
    "\n",
    "Please indicate whether you used AI to complete this homework. If you did, explain how you used it in the python cell below, as a comment."
   ]
  },
  {
   "cell_type": "code",
   "execution_count": 35,
   "id": "dca66276",
   "metadata": {
    "tags": [
     "otter_assign_solution_cell"
    ]
   },
   "outputs": [],
   "source": [
    "# BEGIN SOLUTION NO PROMPT\n",
    "# END SOLUTION\n",
    "\"\"\" # BEGIN PROMPT\n",
    "\"\"\"\n",
    "# write ai disclosure here:\n",
    "\n",
    "\"\"\"\n",
    "\"\"\"; # END PROMPT"
   ]
  },
  {
   "cell_type": "markdown",
   "id": "ccd1df93",
   "metadata": {
    "deletable": false,
    "editable": false
   },
   "source": [
    "## Submission\n",
    "\n",
    "Make sure you have run all cells in your notebook in order before running the cell below, so that all images/graphs appear in the output. The cell below will generate a zip file for you to submit.\n",
    "\n",
    "Upload the .zip file to Gradescope!"
   ]
  },
  {
   "cell_type": "code",
   "execution_count": null,
   "id": "555e9024",
   "metadata": {
    "deletable": false,
    "editable": false
   },
   "outputs": [],
   "source": [
    "grader.export(pdf=False, force_save=True, run_tests=True)"
   ]
  },
  {
   "cell_type": "markdown",
   "id": "5e17959d",
   "metadata": {},
   "source": [
    " "
   ]
  }
 ],
 "metadata": {
  "kernelspec": {
   "display_name": "otter_grading",
   "language": "python",
   "name": "python3"
  },
  "language_info": {
   "codemirror_mode": {
    "name": "ipython",
    "version": 3
   },
   "file_extension": ".py",
   "mimetype": "text/x-python",
   "name": "python",
   "nbconvert_exporter": "python",
   "pygments_lexer": "ipython3",
   "version": "3.12.11"
  },
  "otter": {
   "OK_FORMAT": true,
   "tests": {
    "q1a": {
     "name": "q1a",
     "points": null,
     "suites": [
      {
       "cases": [
        {
         "code": ">>> temp_array = create_temperature_array([20.5, 25.3, 30.1])\n>>> isinstance(temp_array, np.ndarray) and np.allclose(temp_array, [20.5, 25.3, 30.1])\nTrue",
         "hidden": false,
         "locked": false,
         "points": 1
        },
        {
         "code": ">>> empty_array = create_temperature_array([])\n>>> isinstance(empty_array, np.ndarray) and len(empty_array) == 0\nTrue",
         "hidden": false,
         "locked": false,
         "points": 1
        },
        {
         "code": ">>> single_array = create_temperature_array([23.7])\n>>> isinstance(single_array, np.ndarray) and np.allclose(single_array, [23.7])\nTrue",
         "hidden": false,
         "locked": false,
         "points": 1
        }
       ],
       "scored": true,
       "setup": "",
       "teardown": "",
       "type": "doctest"
      }
     ]
    },
    "q1b": {
     "name": "q1b",
     "points": null,
     "suites": [
      {
       "cases": [
        {
         "code": ">>> time_arr, freq_arr = create_wave_arrays(0, 1, 5, 1, 1000, 4)\n>>> np.allclose(time_arr, [0, 0.25, 0.5, 0.75, 1.0])\nTrue",
         "hidden": false,
         "locked": false,
         "points": 1
        },
        {
         "code": ">>> time_arr, freq_arr = create_wave_arrays(0, 1, 5, 1, 1000, 4)\n>>> np.allclose(freq_arr, [1, 10, 100, 1000])\nTrue",
         "hidden": false,
         "locked": false,
         "points": 1
        },
        {
         "code": ">>> time_arr2, freq_arr2 = create_wave_arrays(-1, 1, 3, 100, 10000, 3)\n>>> len(time_arr2) == 3 and len(freq_arr2) == 3 and np.allclose(time_arr2, [-1, 0, 1])\nTrue",
         "hidden": false,
         "locked": false,
         "points": 1
        }
       ],
       "scored": true,
       "setup": "",
       "teardown": "",
       "type": "doctest"
      }
     ]
    },
    "q1c": {
     "name": "q1c",
     "points": null,
     "suites": [
      {
       "cases": [
        {
         "code": ">>> ref_1d = np.array([1, 2, 3])\n>>> zeros_arr, voltage_arr, buffer = initialize_experiment_arrays(ref_1d, 5.0)\n>>> zeros_arr.shape == (3,) and np.allclose(zeros_arr, [0, 0, 0]) and np.allclose(voltage_arr, [5.0, 5.0, 5.0])\nTrue",
         "hidden": false,
         "locked": false,
         "points": 1
        },
        {
         "code": ">>> ref_2d = np.array([[1, 2], [3, 4]])\n>>> zeros_arr, voltage_arr, buffer = initialize_experiment_arrays(ref_2d, -2.5)\n>>> zeros_arr.shape == (2, 2) and np.allclose(voltage_arr, [[-2.5, -2.5], [-2.5, -2.5]])\nTrue",
         "hidden": false,
         "locked": false,
         "points": 1
        },
        {
         "code": ">>> ref_any = np.array([1, 2, 3, 4, 5])\n>>> zeros_arr, voltage_arr, buffer = initialize_experiment_arrays(ref_any, 0)\n>>> buffer.shape == (10,) and np.allclose(buffer, np.zeros(10))\nTrue",
         "hidden": false,
         "locked": false,
         "points": 1
        }
       ],
       "scored": true,
       "setup": "",
       "teardown": "",
       "type": "doctest"
      }
     ]
    },
    "q2a": {
     "name": "q2a",
     "points": null,
     "suites": [
      {
       "cases": [
        {
         "code": ">>> mags = np.array([2.1, 4.5, 1.8, 6.2, 3.7, 5.1])\n>>> first, last, bright = analyze_stellar_magnitudes(mags, 4.0)\n>>> np.allclose(first, [2.1, 4.5, 1.8]) and np.allclose(last, [3.7, 5.1])\nTrue",
         "hidden": false,
         "locked": false,
         "points": 1
        },
        {
         "code": ">>> mags = np.array([2.1, 4.5, 1.8, 6.2, 3.7, 5.1])\n>>> first, last, bright = analyze_stellar_magnitudes(mags, 4.0)\n>>> np.allclose(bright, [2.1, 1.8, 3.7])\nTrue",
         "hidden": false,
         "locked": false,
         "points": 1
        },
        {
         "code": ">>> mags2 = np.array([1.5, 3.2, 5.7, 2.8, 4.1])\n>>> first, last, bright = analyze_stellar_magnitudes(mags2, 3.0)\n>>> len(bright) == 2 and np.allclose(bright, [1.5, 2.8])\nTrue",
         "hidden": false,
         "locked": false,
         "points": 1
        }
       ],
       "scored": true,
       "setup": "",
       "teardown": "",
       "type": "doctest"
      }
     ]
    },
    "q2b": {
     "name": "q2b",
     "points": null,
     "suites": [
      {
       "cases": [
        {
         "code": ">>> image_4x4 = np.array([[10, 20, 30, 40], [50, 60, 70, 80], [90, 100, 110, 120], [130, 140, 150, 160]])\n>>> central, first_row, last_col, every_row, every_col = process_galaxy_image(image_4x4)\n>>> np.array_equal(central, [[60, 70], [100, 110]])\nTrue",
         "hidden": false,
         "locked": false,
         "points": 1
        },
        {
         "code": ">>> image_4x4 = np.array([[10, 20, 30, 40], [50, 60, 70, 80], [90, 100, 110, 120], [130, 140, 150, 160]])\n>>> central, first_row, last_col, every_row, every_col = process_galaxy_image(image_4x4)\n>>> np.array_equal(first_row, [10, 20, 30, 40]) and np.array_equal(last_col, [40, 80, 120, 160])\nTrue",
         "hidden": false,
         "locked": false,
         "points": 1
        },
        {
         "code": ">>> image_4x4 = np.array([[10, 20, 30, 40], [50, 60, 70, 80], [90, 100, 110, 120], [130, 140, 150, 160]])\n>>> central, first_row, last_col, every_row, every_col = process_galaxy_image(image_4x4)\n>>> expected_every_row = [[10, 20, 30, 40], [90, 100, 110, 120]]\n>>> expected_every_col = [[10, 30], [50, 70], [90, 110], [130, 150]]\n>>> np.array_equal(every_row, expected_every_row) and np.array_equal(every_col, expected_every_col)\nTrue",
         "hidden": false,
         "locked": false,
         "points": 1
        },
        {
         "code": ">>> image_6x6 = np.arange(36).reshape(6, 6)\n>>> central, first_row, last_col, every_row, every_col = process_galaxy_image(image_6x6)\n>>> central.shape == (2, 2) and every_row.shape == (3, 6) and (every_col.shape == (6, 3))\nTrue",
         "hidden": false,
         "locked": false,
         "points": 1
        }
       ],
       "scored": true,
       "setup": "",
       "teardown": "",
       "type": "doctest"
      }
     ]
    },
    "q3a": {
     "name": "q3a",
     "points": null,
     "suites": [
      {
       "cases": [
        {
         "code": ">>> q3a_complexity == 'O(1)'\nTrue",
         "hidden": false,
         "locked": false,
         "points": 1
        }
       ],
       "scored": true,
       "setup": "",
       "teardown": "",
       "type": "doctest"
      }
     ]
    },
    "q3b": {
     "name": "q3b",
     "points": null,
     "suites": [
      {
       "cases": [
        {
         "code": ">>> q3b_complexity == 'O(n)'\nTrue",
         "hidden": false,
         "locked": false,
         "points": 1
        }
       ],
       "scored": true,
       "setup": "",
       "teardown": "",
       "type": "doctest"
      }
     ]
    },
    "q3c": {
     "name": "q3c",
     "points": null,
     "suites": [
      {
       "cases": [
        {
         "code": ">>> q3c_complexity == 'O(n^3)'\nTrue",
         "hidden": false,
         "locked": false,
         "points": 1
        }
       ],
       "scored": true,
       "setup": "",
       "teardown": "",
       "type": "doctest"
      }
     ]
    },
    "q4": {
     "name": "q4",
     "points": null,
     "suites": [
      {
       "cases": [
        {
         "code": ">>> energies = np.array([[10, 15, 8, 12], [20, 18, 6, 14], [16, 22, 19, 11]])\n>>> backgrounds = np.array([2, 3, 1])\n>>> threshold_energy = 10\n>>> calibration_factors = np.array([1.0, 1.2, 0.9])\n>>> corrected, valid, means = analyze_particle_energies(energies, backgrounds, threshold_energy, calibration_factors)\n>>> expected_corrected = np.array([[8.0, 13.0, 6.0, 10.0], [20.4, 18.0, 3.6, 13.2], [13.5, 18.9, 16.2, 9.0]])\n>>> np.allclose(corrected, expected_corrected)\nTrue",
         "hidden": false,
         "locked": false,
         "points": 1
        },
        {
         "code": ">>> energies = np.array([[10, 15, 8, 12], [20, 18, 6, 14], [16, 22, 19, 11]])\n>>> backgrounds = np.array([2, 3, 1])\n>>> threshold_energy = 10\n>>> calibration_factors = np.array([1.0, 1.2, 0.9])\n>>> corrected, valid, means = analyze_particle_energies(energies, backgrounds, threshold_energy, calibration_factors)\n>>> expected_valid = np.array([13.0, 20.4, 18.0, 13.2, 13.5, 18.9, 16.2])\n>>> len(valid) == 7 and np.allclose(np.sort(valid), np.sort(expected_valid))\nTrue",
         "hidden": false,
         "locked": false,
         "points": 1
        },
        {
         "code": ">>> energies = np.array([[10, 15, 8, 12], [20, 18, 6, 14], [16, 22, 19, 11]])\n>>> backgrounds = np.array([2, 3, 1])\n>>> threshold_energy = 10\n>>> calibration_factors = np.array([1.0, 1.2, 0.9])\n>>> corrected, valid, means = analyze_particle_energies(energies, backgrounds, threshold_energy, calibration_factors)\n>>> expected_means = np.array([13.0, 17.2, 16.2])\n>>> np.allclose(means, expected_means)\nTrue",
         "hidden": false,
         "locked": false,
         "points": 1
        },
        {
         "code": ">>> energies_edge = np.array([[5, 3, 2, 4], [15, 18, 12, 20], [8, 6, 7, 5]])\n>>> backgrounds_edge = np.array([1, 2, 3])\n>>> threshold_edge = 12\n>>> calibration_edge = np.array([1.5, 1.0, 2.0])\n>>> corrected_edge, valid_edge, means_edge = analyze_particle_energies(energies_edge, backgrounds_edge, threshold_edge, calibration_edge)\n>>> expected_corrected_edge = np.array([[6.0, 3.0, 1.5, 4.5], [13.0, 16.0, 10.0, 18.0], [10.0, 6.0, 8.0, 4.0]])\n>>> bool(np.allclose(corrected_edge, expected_corrected_edge) and len(valid_edge) == 3 and np.isnan(means_edge[0]) and np.isnan(means_edge[2]))\nTrue",
         "hidden": false,
         "locked": false,
         "points": 1
        },
        {
         "code": ">>> energies_broadcast = np.array([[100, 200], [300, 400]])\n>>> backgrounds_broadcast = np.array([10, 20])\n>>> threshold_broadcast = 150\n>>> calibration_broadcast = np.array([0.5, 2.0])\n>>> corrected_broadcast, valid_broadcast, means_broadcast = analyze_particle_energies(energies_broadcast, backgrounds_broadcast, threshold_broadcast, calibration_broadcast)\n>>> expected_corrected_broadcast = np.array([[45.0, 95.0], [560.0, 760.0]])\n>>> expected_valid_broadcast = np.array([560.0, 760.0])\n>>> np.allclose(corrected_broadcast, expected_corrected_broadcast) and len(valid_broadcast) == 2 and np.allclose(valid_broadcast, expected_valid_broadcast)\nTrue",
         "hidden": false,
         "locked": false,
         "points": 1
        }
       ],
       "scored": true,
       "setup": "",
       "teardown": "",
       "type": "doctest"
      }
     ]
    }
   }
  }
 },
 "nbformat": 4,
 "nbformat_minor": 5
}

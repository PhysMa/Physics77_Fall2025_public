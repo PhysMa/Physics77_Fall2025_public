{
 "cells": [
  {
   "cell_type": "code",
   "execution_count": null,
   "id": "4d381188",
   "metadata": {
    "deletable": false,
    "editable": false
   },
   "outputs": [],
   "source": [
    "# Initialize Otter\n",
    "import otter\n",
    "grader = otter.Notebook(\"ws5.ipynb\")"
   ]
  },
  {
   "cell_type": "code",
   "execution_count": null,
   "id": "88136b1b",
   "metadata": {},
   "outputs": [],
   "source": [
    "#imports\n",
    "import numpy as np\n",
    "import matplotlib.pyplot as plt\n",
    "#below line allows matplotlib plots to appear in cell output\n",
    "%matplotlib inline"
   ]
  },
  {
   "cell_type": "markdown",
   "id": "44c28a70",
   "metadata": {
    "deletable": false,
    "editable": false
   },
   "source": [
    "## **Question 1**: Data Input/Output\n",
    "\n",
    "In this question, you'll work with data from a physics simulation of projectile motion with air resistance. The data is stored in a CSV file and you'll learn to convert it to NumPy's compressed format."
   ]
  },
  {
   "cell_type": "markdown",
   "id": "3a62ef23",
   "metadata": {
    "deletable": false,
    "editable": false
   },
   "source": [
    "### Part a: Reading CSV and Saving as NPZ\n",
    "\n",
    "[np.savez documentation](https://numpy.org/doc/2.3/reference/generated/numpy.savez.html)\n",
    "\n",
    "Write a function `convert_csv_to_npz(csv_filename, npz_filename)` that:\n",
    "1. Reads data from a CSV file using `np.genfromtxt()` or `np.loadtxt()`\n",
    "2. Extracts the columns into separate numpy arrays\n",
    "3. Saves the arrays to a compressed `.npz` file using `np.savez()`\n",
    "\n",
    "The CSV file `projectile_simulation.csv` contains simulation data for projectile motion with air resistance. It has 3 header lines (starting with '#') followed by a column header line, then the data rows with 6 columns:\n",
    "- `time_s`: Time in seconds\n",
    "- `x_position_m`: Horizontal position in meters\n",
    "- `y_position_m`: Vertical position in meters\n",
    "- `x_velocity_m/s`: Horizontal velocity in m/s\n",
    "- `y_velocity_m/s`: Vertical velocity in m/s\n",
    "- `kinetic_energy_J`: Kinetic energy in Joules\n",
    "\n",
    "**Requirements:**\n",
    "- Skip the first 4 lines (3 comment lines + 1 column header line)\n",
    "- Use `delimiter=','` when loading the CSV\n",
    "- Save to the NPZ file with these exact array names:\n",
    "  - `'time'` for time data\n",
    "  - `'x_pos'` for x position\n",
    "  - `'y_pos'` for y position\n",
    "  - `'x_vel'` for x velocity\n",
    "  - `'y_vel'` for y velocity\n",
    "  - `'ke'` for kinetic energy\n",
    "\n",
    "**Parameters:**\n",
    "- `csv_filename`: string, path to the CSV file to read\n",
    "- `npz_filename`: string, path to the NPZ file to create\n",
    "\n",
    "**Returns:**\n",
    "- None (but creates the .npz file) (no return statement needed)"
   ]
  },
  {
   "cell_type": "code",
   "execution_count": null,
   "id": "ba45dd5a",
   "metadata": {
    "tags": [
     "otter_answer_cell"
    ]
   },
   "outputs": [],
   "source": [
    "def convert_csv_to_npz(csv_filename, npz_filename):\n",
    "    # Write your code here!\n",
    "    pass"
   ]
  },
  {
   "cell_type": "code",
   "execution_count": null,
   "id": "3378fb24",
   "metadata": {
    "deletable": false,
    "editable": false
   },
   "outputs": [],
   "source": [
    "grader.check(\"q1a\")"
   ]
  },
  {
   "cell_type": "markdown",
   "id": "7fe03d1f",
   "metadata": {
    "deletable": false,
    "editable": false
   },
   "source": [
    "### Part b: Loading NPZ and Computing Physics Quantities\n",
    "\n",
    "Write a function `analyze_projectile_data(npz_filename)` that:\n",
    "1. Loads the NPZ file created in Part a\n",
    "2. Performs calculations on the projectile motion data\n",
    "3. Returns key physics quantities\n",
    "\n",
    "The function should calculate and return:\n",
    "- **Maximum height**: The maximum value of y_position (in meters)\n",
    "- **Range**: The maximum value of x_position (in meters)\n",
    "- **Flight time**: The total time from launch to when the projectile returns to ground level (y_position ≈ 0)\n",
    "- **Energy loss**: The difference between initial and final kinetic energy (in Joules)\n",
    "\n",
    "**Requirements:**\n",
    "- Load the NPZ file using `np.load()`\n",
    "- Access arrays using the keys: `'time'`, `'x_pos'`, `'y_pos'`, `'ke'`\n",
    "- For flight time: find the last time where y_position is still positive (> 0.01 m to account for numerical precision)\n",
    "- Calculate energy_loss = initial_ke - final_ke\n",
    "\n",
    "**Parameters:**\n",
    "- `npz_filename`: string, path to the NPZ file to load\n",
    "\n",
    "**Returns:**\n",
    "- Tuple `(max_height, range_distance, flight_time, energy_loss)` where:\n",
    "  - `max_height`: float, maximum vertical position in meters\n",
    "  - `range_distance`: float, maximum horizontal position in meters\n",
    "  - `flight_time`: float, time of flight in seconds\n",
    "  - `energy_loss`: float, kinetic energy lost due to air resistance in Joules\n",
    "\n",
    "Note: Make sure you call your .npz file `projectile_data.npz` so that test cases work."
   ]
  },
  {
   "cell_type": "code",
   "execution_count": null,
   "id": "68a8e4ef",
   "metadata": {
    "tags": [
     "otter_answer_cell"
    ]
   },
   "outputs": [],
   "source": [
    "def analyze_projectile_data(npz_filename):\n",
    "    # Load the NPZ file\n",
    "    data = np.load(npz_filename)\n",
    "\n",
    "    # Write your code here!\n",
    "    \n",
    "    return (max_height, range_distance, flight_time, energy_loss)"
   ]
  },
  {
   "cell_type": "code",
   "execution_count": null,
   "id": "e673403c",
   "metadata": {
    "deletable": false,
    "editable": false
   },
   "outputs": [],
   "source": [
    "grader.check(\"q1b\")"
   ]
  },
  {
   "cell_type": "markdown",
   "id": "8f485341",
   "metadata": {
    "deletable": false,
    "editable": false
   },
   "source": [
    "## **Question 2**: Polynomial and 2D Function Plotting"
   ]
  },
  {
   "cell_type": "markdown",
   "id": "4d9e75f5",
   "metadata": {
    "deletable": false,
    "editable": false
   },
   "source": [
    "### Part a: General Polynomial Plotter\n",
    "\n",
    "Write a function `plot_polynomial(coeff, show_plot=False)` that plots a polynomial of arbitrary degree based on the coefficients provided.\n",
    "\n",
    "The polynomial is defined as:\n",
    "$$P(x) = c_0 + c_1 x + c_2 x^2 + c_3 x^3 + \\cdots + c_n x^n$$\n",
    "\n",
    "where `coeff = [c_0, c_1, c_2, ..., c_n]` is an array of coefficients. The degree of the polynomial is determined by the length of the coefficient array.\n",
    "\n",
    "**Requirements:**\n",
    "- Use `np.linspace(-3, 3, 200)` to create 200 x-values in the range [-3, 3]\n",
    "- Calculate the polynomial using vectorized NumPy operations (use powers of x)\n",
    "- Create a plot with:\n",
    "  - X-axis label: \"x\"\n",
    "  - Y-axis label: \"P(x)\"\n",
    "  - Title: \"Polynomial of Degree N\" (where N is the actual degree)\n",
    "  - Grid with alpha=0.3\n",
    "  - Blue line with linewidth=2\n",
    "- Set xlim to [-3, 3]\n",
    "- The function should return the matplotlib figure object\n",
    "\n",
    "**Parameters:**\n",
    "- `coeff`: numpy array or list of floats, polynomial coefficients [c_0, c_1, c_2, ...]\n",
    "- `show_plot`: boolean, default False. If True, call `plt.show()` to display the plot\n",
    "\n",
    "**Returns:**\n",
    "- `fig`: matplotlib figure object\n",
    "\n",
    "**Hint:** To evaluate the polynomial, use a loop or `np.polyval()` with reversed coefficients, or calculate each term c_i * x**i and sum them."
   ]
  },
  {
   "cell_type": "code",
   "execution_count": null,
   "id": "4d42d00b",
   "metadata": {
    "tags": [
     "otter_answer_cell"
    ]
   },
   "outputs": [],
   "source": [
    "def plot_polynomial(coeff, show_plot=False):\n",
    "   \n",
    "    #do calculation to make array to plot\n",
    "\n",
    "    #plotting\n",
    "    fig, ax = plt.subplots(figsize=(10, 6))\n",
    "    ...\n",
    "    \n",
    "    # Show plot if requested\n",
    "    if show_plot:\n",
    "        plt.show()\n",
    "    \n",
    "    return fig"
   ]
  },
  {
   "cell_type": "code",
   "execution_count": null,
   "id": "c4422800",
   "metadata": {
    "tags": [
     "otter_answer_cell"
    ]
   },
   "outputs": [],
   "source": [
    "#cell to view plot\n",
    "coeff = [1,-5,2,-4] #feel free to change this\n",
    "plot_polynomial(coeff, show_plot=True);"
   ]
  },
  {
   "cell_type": "code",
   "execution_count": null,
   "id": "915ee161",
   "metadata": {
    "deletable": false,
    "editable": false
   },
   "outputs": [],
   "source": [
    "grader.check(\"q2a\")"
   ]
  },
  {
   "cell_type": "markdown",
   "id": "ea2ce951",
   "metadata": {
    "deletable": false,
    "editable": false
   },
   "source": [
    "### Part b: 2D Function Heatmap\n",
    "\n",
    "Write a function `plot_2d_function(show_plot=False)` that creates a heatmap visualization of a 2D function.\n",
    "\n",
    "The function to visualize is:\n",
    "$$z = f(x, y) = \\sin(2x) \\cos(3y) + \\cos(x) \\sin(y)$$\n",
    "\n",
    "This combination of sine and cosine functions creates an interesting interference pattern.\n",
    "\n",
    "**Requirements:**\n",
    "- Create a grid of (x, y) values:\n",
    "  - x ranges from -π to π with 100 points\n",
    "  - y ranges from -π to π with 100 points\n",
    "  - Use `np.meshgrid()` to create the 2D grid\n",
    "- Calculate z = f(x, y) on the grid\n",
    "- Create a heatmap using `plt.imshow()` with:\n",
    "  - Colormap: 'RdBu_r' (red-blue reversed)\n",
    "  - `origin='lower'` to have y increasing upwards\n",
    "  - `extent=[-np.pi, np.pi, -np.pi, np.pi]` to set axis limits correctly\n",
    "  - `aspect='auto'` for proper scaling\n",
    "- Add a colorbar with label \"f(x, y)\"\n",
    "can be done with:  \n",
    "```\n",
    "cbar = plt.colorbar(im, ax=ax)\n",
    "cbar.set_label('f(x, y)')\n",
    "```\n",
    "(`im` is the output of `ax.imshow`)\n",
    "- Set axis labels:\n",
    "  - X-axis: \"x\"\n",
    "  - Y-axis: \"y\"\n",
    "- Set title: \"Heatmap: sin(2x)cos(3y) + cos(x)sin(y)\"\n",
    "- The function should return the matplotlib figure object\n",
    "\n",
    "**Parameters:**\n",
    "- `show_plot`: boolean, default False. If True, call `plt.show()` to display the plot\n",
    "\n",
    "**Returns:**\n",
    "- `fig`: matplotlib figure object\n",
    "\n",
    "**Hint:** After creating the meshgrid X, Y, you can compute the function directly using NumPy: `Z = np.sin(2*X) * np.cos(3*Y) + np.cos(X) * np.sin(Y)`"
   ]
  },
  {
   "cell_type": "code",
   "execution_count": null,
   "id": "60871df6",
   "metadata": {
    "tags": [
     "otter_answer_cell"
    ]
   },
   "outputs": [],
   "source": [
    "def plot_2d_function(show_plot=False):\n",
    "   \n",
    "    #do calculation to make array to plot\n",
    "\n",
    "    #plotting\n",
    "    fig, ax = plt.subplots(figsize=(10, 8))\n",
    "    ...\n",
    "    \n",
    "    # Show plot if requested\n",
    "    if show_plot:\n",
    "        plt.show()\n",
    "    \n",
    "    return fig\n"
   ]
  },
  {
   "cell_type": "code",
   "execution_count": null,
   "id": "e31a6c73",
   "metadata": {
    "tags": [
     "otter_answer_cell"
    ]
   },
   "outputs": [],
   "source": [
    "plot_2d_function(show_plot=True);"
   ]
  },
  {
   "cell_type": "code",
   "execution_count": null,
   "id": "03515a78",
   "metadata": {
    "deletable": false,
    "editable": false
   },
   "outputs": [],
   "source": [
    "grader.check(\"q2b\")"
   ]
  },
  {
   "cell_type": "markdown",
   "id": "87cb00fe",
   "metadata": {
    "deletable": false,
    "editable": false
   },
   "source": [
    "## **Question 3**: Scatter Plot with Distance-Based Colormap\n",
    "\n",
    "In this question, you'll visualize 2D position data using a scatter plot where the color of each point depends on its distance from the origin."
   ]
  },
  {
   "cell_type": "markdown",
   "id": "39891492",
   "metadata": {
    "deletable": false,
    "editable": false
   },
   "source": [
    "Write a function `plot_position_scatter(filename, show_plot=False)` that creates a scatter plot of 2D position data with colors representing the distance from the origin.\n",
    "\n",
    "The data file contains two columns:\n",
    "- Column 1: x-position\n",
    "- Column 2: y-position\n",
    "\n",
    "Each point should be colored according to its distance from the origin: $r = \\sqrt{x^2 + y^2}$\n",
    "\n",
    "**Requirements:**\n",
    "- Load the data using `np.loadtxt()` with `skiprows=3` (to skip the header lines)\n",
    "- Extract x and y positions from the columns\n",
    "- Calculate the distance from origin for each point: $r = \\sqrt{x^2 + y^2}$\n",
    "- Create a scatter plot using `ax.scatter()` with:\n",
    "  - `c=distances` to color by distance\n",
    "  - `cmap='viridis'` for the colormap\n",
    "  - `s=30` for marker size\n",
    "  - `alpha=0.6` for transparency\n",
    "- Add a colorbar with label \"Distance from Origin\"\n",
    "- Set axis labels:\n",
    "  - X-axis: \"x position\"\n",
    "  - Y-axis: \"y position\"\n",
    "- Set title: \"2D Position Data Colored by Distance\"\n",
    "- Set equal aspect ratio using `ax.set_aspect('equal')`\n",
    "- Add a grid with `alpha=0.3`\n",
    "- The function should return the matplotlib figure object\n",
    "\n",
    "**Parameters:**\n",
    "- `filename`: string, path to the data file to read\n",
    "- `show_plot`: boolean, default False. If True, call `plt.show()` to display the plot\n",
    "\n",
    "**Returns:**\n",
    "- `fig`: matplotlib figure object\n"
   ]
  },
  {
   "cell_type": "code",
   "execution_count": null,
   "id": "f32cc21c",
   "metadata": {
    "tags": [
     "otter_answer_cell"
    ]
   },
   "outputs": [],
   "source": [
    "def plot_position_scatter(filename, show_plot=False):\n",
    "   \n",
    "    # Load data and calculate distances\n",
    "    \n",
    "    # Create scatter plot\n",
    "    fig, ax = plt.subplots(figsize=(10, 10))\n",
    "    ...\n",
    "    \n",
    "    # Show plot if requested\n",
    "    if show_plot:\n",
    "        plt.show()\n",
    "    \n",
    "    return fig\n"
   ]
  },
  {
   "cell_type": "code",
   "execution_count": null,
   "id": "61dbb3d1",
   "metadata": {
    "tags": [
     "otter_answer_cell"
    ]
   },
   "outputs": [],
   "source": [
    "# Cell to view plot\n",
    "plot_position_scatter('position_data.txt', show_plot=True);"
   ]
  },
  {
   "cell_type": "code",
   "execution_count": null,
   "id": "70a81454",
   "metadata": {
    "deletable": false,
    "editable": false
   },
   "outputs": [],
   "source": [
    "grader.check(\"q3\")"
   ]
  },
  {
   "cell_type": "markdown",
   "id": "73374047",
   "metadata": {
    "deletable": false,
    "editable": false
   },
   "source": [
    "## Required disclosure of use of AI technology\n",
    "\n",
    "Please indicate whether you used AI to complete this homework. If you did, explain how you used it in the python cell below, as a comment."
   ]
  },
  {
   "cell_type": "code",
   "execution_count": null,
   "id": "fe2d15b0",
   "metadata": {
    "tags": [
     "otter_answer_cell"
    ]
   },
   "outputs": [],
   "source": [
    "\"\"\"\n",
    "# write ai disclosure here:\n",
    "\n",
    "\"\"\""
   ]
  },
  {
   "cell_type": "markdown",
   "id": "e523f083",
   "metadata": {
    "deletable": false,
    "editable": false
   },
   "source": [
    "## Submission\n",
    "\n",
    "Make sure you have run all cells in your notebook in order before running the cell below, so that all images/graphs appear in the output. The cell below will generate a zip file for you to submit.\n",
    "\n",
    "Upload the .zip file to Gradescope!"
   ]
  },
  {
   "cell_type": "code",
   "execution_count": null,
   "id": "2f1a23df",
   "metadata": {
    "deletable": false,
    "editable": false
   },
   "outputs": [],
   "source": [
    "grader.export(pdf=False, force_save=True, run_tests=True)"
   ]
  },
  {
   "cell_type": "markdown",
   "id": "6365be4b",
   "metadata": {},
   "source": [
    " "
   ]
  }
 ],
 "metadata": {
  "kernelspec": {
   "display_name": "otter_grading",
   "language": "python",
   "name": "python3"
  },
  "language_info": {
   "codemirror_mode": {
    "name": "ipython",
    "version": 3
   },
   "file_extension": ".py",
   "mimetype": "text/x-python",
   "name": "python",
   "nbconvert_exporter": "python",
   "pygments_lexer": "ipython3",
   "version": "3.12.11"
  },
  "otter": {
   "OK_FORMAT": true,
   "tests": {
    "q1a": {
     "name": "q1a",
     "points": null,
     "suites": [
      {
       "cases": [
        {
         "code": ">>> import os\n>>> try:\n...     convert_csv_to_npz('projectile_simulation.csv', 'projectile_data.npz')\n...     test_result = os.path.exists('projectile_data.npz')\n...     if test_result:\n...         data = np.load('projectile_data.npz')\n...         test_result = all((key in data for key in ['time', 'x_pos', 'y_pos', 'x_vel', 'y_vel', 'ke']))\n... except:\n...     test_result = False\n>>> test_result\nTrue",
         "hidden": false,
         "locked": false,
         "points": 1
        },
        {
         "code": ">>> try:\n...     data = np.load('projectile_data.npz')\n...     test_result = len(data['time']) == 100 and len(data['x_pos']) == 100 and (data['time'][0] == 0.0) and (data['ke'][0] > 200) and (data['ke'][0] < 230)\n... except:\n...     test_result = False\n>>> bool(test_result)\nTrue",
         "hidden": false,
         "locked": false,
         "points": 1
        }
       ],
       "scored": true,
       "setup": "",
       "teardown": "",
       "type": "doctest"
      }
     ]
    },
    "q1b": {
     "name": "q1b",
     "points": null,
     "suites": [
      {
       "cases": [
        {
         "code": ">>> try:\n...     result = analyze_projectile_data('projectile_data.npz')\n...     test_result = isinstance(result, tuple) and len(result) == 4 and all((isinstance(x, (int, float, np.floating, np.integer)) for x in result))\n... except:\n...     test_result = False\n>>> test_result\nTrue",
         "hidden": false,
         "locked": false,
         "points": 1
        },
        {
         "code": ">>> try:\n...     max_height, range_distance, flight_time, energy_loss = analyze_projectile_data('projectile_data.npz')\n...     test_result = 15.0 < max_height < 18.0 and 50.0 < range_distance < 60.0 and (3.0 < flight_time < 5.0) and (200.0 < energy_loss < 230.0)\n... except:\n...     test_result = False\n>>> bool(test_result)\nTrue",
         "hidden": false,
         "locked": false,
         "points": 1
        },
        {
         "code": ">>> try:\n...     max_height, range_distance, flight_time, energy_loss = analyze_projectile_data('projectile_data.npz')\n...     test_result = energy_loss > 0 and range_distance > max_height and (flight_time > 0)\n... except:\n...     test_result = False\n>>> bool(test_result)\nTrue",
         "hidden": false,
         "locked": false,
         "points": 1
        }
       ],
       "scored": true,
       "setup": "",
       "teardown": "",
       "type": "doctest"
      }
     ]
    },
    "q2a": {
     "name": "q2a",
     "points": null,
     "suites": [
      {
       "cases": [
        {
         "code": ">>> fig_test = plot_polynomial([1, 2, -1])\n>>> import matplotlib.figure\n>>> temp = isinstance(fig_test, matplotlib.figure.Figure)\n>>> plt.close(fig_test)\n>>> temp\nTrue",
         "hidden": false,
         "locked": false,
         "points": 1
        },
        {
         "code": ">>> fig_quad = plot_polynomial([2, 0, -1])\n>>> ax = fig_quad.axes[0]\n>>> has_one_line = len(ax.get_lines()) == 1\n>>> xlim = ax.get_xlim()\n>>> has_correct_xlim = np.isclose(xlim[0], -3, atol=0.1) and np.isclose(xlim[1], 3, atol=0.1)\n>>> has_xlabel = ax.get_xlabel() == 'x'\n>>> has_ylabel = ax.get_ylabel() == 'P(x)'\n>>> has_grid = ax.xaxis.get_gridlines()[0].get_visible()\n>>> plt.close(fig_quad)\n>>> (has_one_line, has_correct_xlim, has_xlabel, has_ylabel, has_grid)\n(True, np.True_, True, True, True)",
         "hidden": false,
         "locked": false,
         "points": 1
        },
        {
         "code": ">>> fig_linear = plot_polynomial([1, 2])\n>>> ax = fig_linear.axes[0]\n>>> line_data = ax.get_lines()[0]\n>>> x_data = line_data.get_xdata()\n>>> y_data = line_data.get_ydata()\n>>> idx_zero = np.argmin(np.abs(x_data))\n>>> correct_intercept = np.isclose(y_data[idx_zero], 1.0, atol=0.1)\n>>> slope_avg = np.mean(np.diff(y_data) / np.diff(x_data))\n>>> correct_slope = np.isclose(slope_avg, 2.0, atol=0.1)\n>>> has_correct_title = 'Polynomial of Degree 1' in ax.get_title()\n>>> plt.close(fig_linear)\n>>> (correct_intercept, correct_slope, has_correct_title)\n(np.True_, np.True_, True)",
         "hidden": false,
         "locked": false,
         "points": 1
        }
       ],
       "scored": true,
       "setup": "",
       "teardown": "",
       "type": "doctest"
      }
     ]
    },
    "q2b": {
     "name": "q2b",
     "points": null,
     "suites": [
      {
       "cases": [
        {
         "code": ">>> fig_2d = plot_2d_function()\n>>> import matplotlib.figure\n>>> ax = fig_2d.axes[0]\n>>> images = ax.get_images()\n>>> plt.close(fig_2d)\n>>> isinstance(fig_2d, matplotlib.figure.Figure) and len(images) == 1\nTrue",
         "hidden": false,
         "locked": false,
         "points": 1
        },
        {
         "code": ">>> fig_2d_test = plot_2d_function()\n>>> ax = fig_2d_test.axes[0]\n>>> has_xlabel = ax.get_xlabel() == 'x'\n>>> has_ylabel = ax.get_ylabel() == 'y'\n>>> title = ax.get_title()\n>>> has_title = 'sin(2x)cos(3y)' in title or 'Heatmap' in title\n>>> has_colorbar = len(fig_2d_test.axes) >= 2\n>>> im = ax.get_images()[0]\n>>> extent = im.get_extent()\n>>> correct_extent = np.isclose(extent[0], -np.pi, atol=0.1) and np.isclose(extent[1], np.pi, atol=0.1) and np.isclose(extent[2], -np.pi, atol=0.1) and np.isclose(extent[3], np.pi, atol=0.1)\n>>> plt.close(fig_2d_test)\n>>> (has_xlabel, has_ylabel, has_title, has_colorbar, correct_extent)\n(True, True, True, True, np.True_)",
         "hidden": false,
         "locked": false,
         "points": 1
        }
       ],
       "scored": true,
       "setup": "",
       "teardown": "",
       "type": "doctest"
      }
     ]
    },
    "q3": {
     "name": "q3",
     "points": null,
     "suites": [
      {
       "cases": [
        {
         "code": ">>> fig_scatter = plot_position_scatter('position_data.txt')\n>>> import matplotlib.figure\n>>> ax = fig_scatter.axes[0]\n>>> collections = ax.collections\n>>> plt.close(fig_scatter)\n>>> isinstance(fig_scatter, matplotlib.figure.Figure) and len(collections) > 0\nTrue",
         "hidden": false,
         "locked": false,
         "points": 1
        },
        {
         "code": ">>> fig_test = plot_position_scatter('position_data.txt')\n>>> ax = fig_test.axes[0]\n>>> has_xlabel = ax.get_xlabel() == 'x position'\n>>> has_ylabel = ax.get_ylabel() == 'y position'\n>>> has_title = '2D Position Data' in ax.get_title() or 'Distance' in ax.get_title()\n>>> has_colorbar = len(fig_test.axes) >= 2\n>>> has_equal_aspect = ax.get_aspect() == 1.0 or ax.get_aspect() == 'equal'\n>>> plt.close(fig_test)\n>>> (has_xlabel, has_ylabel, has_title, has_colorbar, has_equal_aspect)\n(True, True, True, True, True)",
         "hidden": false,
         "locked": false,
         "points": 1
        },
        {
         "code": ">>> fig_dist = plot_position_scatter('position_data.txt')\n>>> ax = fig_dist.axes[0]\n>>> scatter_collection = ax.collections[0]\n>>> color_array = scatter_collection.get_array()\n>>> has_colors = color_array is not None and len(color_array) == 500\n>>> if has_colors:\n...     reasonable_range = np.all(color_array >= 0) and np.all(color_array <= 1.5)\n... else:\n...     reasonable_range = False\n>>> plt.close(fig_dist)\n>>> (has_colors, reasonable_range)\n(True, np.True_)",
         "hidden": false,
         "locked": false,
         "points": 1
        },
        {
         "code": ">>> fig_count = plot_position_scatter('position_data.txt')\n>>> ax = fig_count.axes[0]\n>>> scatter_collection = ax.collections[0]\n>>> offsets = scatter_collection.get_offsets()\n>>> correct_count = len(offsets) == 500\n>>> has_grid = ax.xaxis.get_gridlines()[0].get_visible()\n>>> plt.close(fig_count)\n>>> (correct_count, has_grid)\n(True, True)",
         "hidden": false,
         "locked": false,
         "points": 1
        }
       ],
       "scored": true,
       "setup": "",
       "teardown": "",
       "type": "doctest"
      }
     ]
    }
   }
  }
 },
 "nbformat": 4,
 "nbformat_minor": 5
}

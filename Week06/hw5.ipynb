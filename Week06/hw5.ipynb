{
 "cells": [
  {
   "cell_type": "code",
   "execution_count": null,
   "id": "467efbc2",
   "metadata": {
    "deletable": false,
    "editable": false
   },
   "outputs": [],
   "source": [
    "# Initialize Otter\n",
    "import otter\n",
    "grader = otter.Notebook(\"hw5.ipynb\")"
   ]
  },
  {
   "cell_type": "code",
   "execution_count": null,
   "id": "eb6684ae",
   "metadata": {},
   "outputs": [],
   "source": [
    "#imports\n",
    "import numpy as np\n",
    "import matplotlib.pyplot as plt\n",
    "#below line allows matplotlib plots to appear in cell output\n",
    "%matplotlib inline"
   ]
  },
  {
   "cell_type": "markdown",
   "id": "54d9b897",
   "metadata": {
    "deletable": false,
    "editable": false
   },
   "source": [
    "## **Question 1**: Reading Data"
   ]
  },
  {
   "cell_type": "markdown",
   "id": "b17b96b4",
   "metadata": {
    "deletable": false,
    "editable": false
   },
   "source": [
    "### Part a: Data Loading Function\n",
    "\n",
    "[np.loadtxt documentation](https://numpy.org/doc/1.19/reference/generated/numpy.loadtxt.html)\n",
    "\n",
    "Write a function `load_pendulum_data(filename)` that loads experimental pendulum data from a text file using `np.loadtxt()`. The data file contains three columns:\n",
    "1. Length of pendulum (meters)\n",
    "2. Measured period (seconds) \n",
    "3. Uncertainty in period measurement (seconds)\n",
    "\n",
    "The file has header lines starting with '#' that should be skipped.\n",
    "\n",
    "**Requirements:**\n",
    "- Use `np.loadtxt()` with appropriate parameters to skip header lines\n",
    "- Return a tuple of three numpy arrays: `(lengths, periods, uncertainties)`\n",
    "\n",
    "**Parameters:**\n",
    "- `filename`: string path to the data file\n",
    "\n",
    "**Returns:**\n",
    "- Tuple `(lengths, periods, uncertainties)` where each is a 1D numpy array"
   ]
  },
  {
   "cell_type": "code",
   "execution_count": null,
   "id": "56c0ab12",
   "metadata": {
    "tags": [
     "otter_answer_cell"
    ]
   },
   "outputs": [],
   "source": [
    "def load_pendulum_data(filename):\n",
    "    # Write your code here!\n",
    "    return (lengths, periods, uncertainties)"
   ]
  },
  {
   "cell_type": "code",
   "execution_count": null,
   "id": "33a94194",
   "metadata": {
    "deletable": false,
    "editable": false
   },
   "outputs": [],
   "source": [
    "grader.check(\"q1a\")"
   ]
  },
  {
   "cell_type": "markdown",
   "id": "ba1ff2d4",
   "metadata": {
    "deletable": false,
    "editable": false
   },
   "source": [
    "### Part b: Gravity Calculation from Pendulum Data\n",
    "\n",
    "Using the data loading function from Part 1, write a function `calculate_gravity_from_pendulum(filename)` that:\n",
    "\n",
    "1. **Loads the pendulum data** using your `load_pendulum_data()` function\n",
    "2. **Calculates gravitational acceleration** from each measurement using the pendulum formula:\n",
    "   $$g = \\frac{4\\pi^2 L}{T^2}$$\n",
    "   This is from:\n",
    "   $$T = 2\\pi\\sqrt{\\frac{L}{g}}$$\n",
    "   where L is length (m) and T is period (s)\n",
    "3. **Computes statistics** on the calculated g values:\n",
    "   - Mean value of g\n",
    "   - Standard deviation of g values\n",
    "   - Weighted mean using measurement uncertainties (optional: you can assume equal weights)\n",
    "\n",
    "**Parameters:**\n",
    "- `filename`: string path to the pendulum data file\n",
    "\n",
    "**Returns:**\n",
    "- Tuple `(mean_g, std_g, individual_g_values)` where:\n",
    "  - `mean_g`: float, mean gravitational acceleration (m/s²)\n",
    "  - `std_g`: float, standard deviation of g values (m/s²)\n",
    "  - `individual_g_values`: numpy array of all calculated g values (m/s²)\n",
    "\n",
    "**Hint:** Use `np.mean()` and `np.std()` for statistics calculations."
   ]
  },
  {
   "cell_type": "code",
   "execution_count": null,
   "id": "ca73ecb2",
   "metadata": {
    "tags": [
     "otter_answer_cell"
    ]
   },
   "outputs": [],
   "source": [
    "def calculate_gravity_from_pendulum(filename):\n",
    "    # Write your code here!\n",
    "    return (mean_g, std_g, individual_g_values)"
   ]
  },
  {
   "cell_type": "code",
   "execution_count": null,
   "id": "9304de76",
   "metadata": {
    "deletable": false,
    "editable": false
   },
   "outputs": [],
   "source": [
    "grader.check(\"q1b\")"
   ]
  },
  {
   "cell_type": "markdown",
   "id": "4b2a19b7",
   "metadata": {
    "deletable": false,
    "editable": false
   },
   "source": [
    "## **Question 2**: Plotting with Matplotlib"
   ]
  },
  {
   "cell_type": "markdown",
   "id": "0b9387bf",
   "metadata": {
    "deletable": false,
    "editable": false
   },
   "source": [
    "### Part a: Polynomial Functions Plot\n",
    "\n",
    "Write a function `plot_polynomial_functions(show_plot=False)` that creates a plot of three polynomial functions on the interval [-1, 1]:\n",
    "- f₁(x) = x\n",
    "- f₂(x) = x²\n",
    "- f₃(x) = x³\n",
    "\n",
    "**Requirements:**\n",
    "- Use `np.linspace(-1, 1, 100)` to create the x-values\n",
    "- Plot all three functions on the same figure\n",
    "- Include a legend with labels \"x\", \"x²\", \"x³\" (use `label=r\"$x^2$\"` in `ax.plot(...)`)\n",
    "- Add appropriate axis labels and a title\n",
    "- The function should return the matplotlib figure object\n",
    "\n",
    "**Parameters:**\n",
    "- `show_plot`: boolean, default False. If True, call `plt.show()` to display the plot\n",
    "\n",
    "**Returns:**\n",
    "- `fig`: matplotlib figure object"
   ]
  },
  {
   "cell_type": "code",
   "execution_count": null,
   "id": "11fd8593",
   "metadata": {
    "tags": [
     "otter_answer_cell"
    ]
   },
   "outputs": [],
   "source": [
    "def plot_polynomial_functions(show_plot=False):\n",
    "    # Create x values using linspace\n",
    "    x = np.linspace(-1, 1, 100)\n",
    "    #create the plot object\n",
    "    fig, ax = plt.subplots(figsize=(8, 6))\n",
    "    # Write your code here!\n",
    "    \n",
    "    # Show plot if requested\n",
    "    if show_plot:\n",
    "        plt.show()\n",
    "    \n",
    "    return fig"
   ]
  },
  {
   "cell_type": "code",
   "execution_count": null,
   "id": "12bfa3ce",
   "metadata": {
    "deletable": false,
    "editable": false
   },
   "outputs": [],
   "source": [
    "#cell to view the plot\n",
    "plot_polynomial_functions(show_plot=True);"
   ]
  },
  {
   "cell_type": "code",
   "execution_count": null,
   "id": "8a92acb6",
   "metadata": {
    "deletable": false,
    "editable": false
   },
   "outputs": [],
   "source": [
    "grader.check(\"q2a\")"
   ]
  },
  {
   "cell_type": "markdown",
   "id": "7800aa05",
   "metadata": {
    "deletable": false,
    "editable": false
   },
   "source": [
    "### Part b: Sine Wave Modes Plot\n",
    "\n",
    "Write a function `plot_sine_modes(n_modes, show_plot=False)` that plots sine wave modes on the unit interval [0, 1]. These represent standing wave patterns that are zero at both endpoints (x=0 and x=1).\n",
    "\n",
    "The nth mode is given by:\n",
    "$$f_n(x) = \\sin(n\\pi x)$$\n",
    "\n",
    "This ensures that f_n(0) = 0 and f_n(1) = 0 for all positive integer values of n.\n",
    "\n",
    "**Requirements:**\n",
    "- Use `np.linspace(0, 1, 100)` to create x-values on the unit interval\n",
    "- Plot the first `n_modes` sine modes (n = 1, 2, 3, ..., n_modes)\n",
    "- Include a legend with labels \"Mode 1\", \"Mode 2\", etc.\n",
    "- Set x-axis label to \"Position\"\n",
    "- Set y-axis label to \"Amplitude\"\n",
    "- Set title to \"Sine Wave Modes\"\n",
    "- Set xlim to [0, 1] and ylim to [-1.1, 1.1]\n",
    "- The function should return the matplotlib figure object\n",
    "\n",
    "**Parameters:**\n",
    "- `n_modes`: integer, number of ascending sine modes to plot (starting from n=1)\n",
    "- `show_plot`: boolean, default False. If True, call `plt.show()` to display the plot\n",
    "\n",
    "**Returns:**\n",
    "- `fig`: matplotlib figure object\n",
    "\n",
    "Hint: Put your `ax.plot(...)` statement in a for loop so the plotting function works for general n"
   ]
  },
  {
   "cell_type": "code",
   "execution_count": null,
   "id": "cfa85af3",
   "metadata": {
    "tags": [
     "otter_answer_cell"
    ]
   },
   "outputs": [],
   "source": [
    "def plot_sine_modes(n_modes, show_plot=False):\n",
    "    # Create x values on the unit interval [0, 1]\n",
    "    x = np.linspace(0, 1, 100)\n",
    "    \n",
    "    # Create the plot\n",
    "    fig, ax = plt.subplots(figsize=(10, 6))\n",
    "\n",
    "    # Write your code here!\n",
    "    # Show plot if requested\n",
    "    if show_plot:\n",
    "        plt.show()\n",
    "    \n",
    "    return fig"
   ]
  },
  {
   "cell_type": "code",
   "execution_count": null,
   "id": "93d24a4d",
   "metadata": {
    "deletable": false,
    "editable": false
   },
   "outputs": [],
   "source": [
    "#cell to view your plot\n",
    "n = 5 #try different values here\n",
    "plot_sine_modes(n, show_plot=True);"
   ]
  },
  {
   "cell_type": "code",
   "execution_count": null,
   "id": "6e3a088d",
   "metadata": {
    "deletable": false,
    "editable": false
   },
   "outputs": [],
   "source": [
    "grader.check(\"q2b\")"
   ]
  },
  {
   "cell_type": "markdown",
   "id": "b42f613e",
   "metadata": {
    "deletable": false,
    "editable": false
   },
   "source": [
    "## **Question 3**: Error Bar Plotting\n",
    "\n",
    "Write a function `plot_pendulum_data(filename, show_plot=False)` that creates an error bar plot of the pendulum experimental data using `plt.errorbar()`.\n",
    "\n",
    "[plt.errorbar documentation](https://matplotlib.org/stable/api/_as_gen/matplotlib.pyplot.errorbar.html)\n",
    "\n",
    "**Requirements:**\n",
    "- Load the pendulum data using your `load_pendulum_data()` function from Question 1\n",
    "- Create an error bar plot with:\n",
    "  - X-axis: pendulum length (m)\n",
    "  - Y-axis: period (s) \n",
    "  - Error bars: period uncertainties (s)\n",
    "- Set x-axis label to \"Pendulum Length (m)\"\n",
    "- Set y-axis label to \"Period (s)\"\n",
    "- Set title to \"Pendulum Period vs Length\"\n",
    "- Set xlim to [0.2, 1.05] and ylim to [0.8, 2.2]\n",
    "- Use marker style 'o' and set capsize=5 for error bar caps\n",
    "- Add a grid with alpha=0.3\n",
    "- The function should return the matplotlib figure object\n",
    "\n",
    "**Parameters:**\n",
    "- `filename`: string path to the pendulum data file\n",
    "- `show_plot`: boolean, default False. If True, call `plt.show()` to display the plot\n",
    "\n",
    "**Returns:**\n",
    "- `fig`: matplotlib figure object\n",
    "\n",
    "**Hint:** `ax.errorbar(x, y, yerr=uncertainties, fmt='o', capsize=5)` for the error bar plot."
   ]
  },
  {
   "cell_type": "code",
   "execution_count": null,
   "id": "2bc2c15c",
   "metadata": {
    "tags": [
     "otter_answer_cell"
    ]
   },
   "outputs": [],
   "source": [
    "def plot_pendulum_data(filename, show_plot=False):\n",
    "    # Load the pendulum data using the function from Question 1\n",
    "    lengths, periods, uncertainties = load_pendulum_data(filename)\n",
    "    \n",
    "    # Create the plot\n",
    "    fig, ax = plt.subplots(figsize=(10, 8))\n",
    "    \n",
    "    # Write your code here!\n",
    "    \n",
    "    # Show plot if requested\n",
    "    if show_plot:\n",
    "        plt.show()\n",
    "    \n",
    "    return fig"
   ]
  },
  {
   "cell_type": "code",
   "execution_count": null,
   "id": "d201fd4a",
   "metadata": {
    "deletable": false,
    "editable": false
   },
   "outputs": [],
   "source": [
    "# Cell to view your plot\n",
    "plot_pendulum_data('pendulum_data.txt', show_plot=True);"
   ]
  },
  {
   "cell_type": "code",
   "execution_count": null,
   "id": "01f23c69",
   "metadata": {
    "deletable": false,
    "editable": false
   },
   "outputs": [],
   "source": [
    "grader.check(\"q3\")"
   ]
  },
  {
   "cell_type": "markdown",
   "id": "9d04fff6",
   "metadata": {
    "deletable": false,
    "editable": false
   },
   "source": [
    "## **Question 4**: 2D Data Visualization"
   ]
  },
  {
   "cell_type": "markdown",
   "id": "1588a329",
   "metadata": {
    "deletable": false,
    "editable": false
   },
   "source": [
    "### Part a: 2D Data Loading Function\n",
    "\n",
    "Write a function `load_heat_data(filename)` that loads 2D temperature data from a text file using `np.loadtxt()`. The data file represents temperature measurements on a 2D plate, where each row corresponds to a y-position and each column corresponds to an x-position.\n",
    "\n",
    "The file has header lines starting with '#' that should be skipped.\n",
    "\n",
    "**Requirements:**\n",
    "- Use `np.loadtxt()` with appropriate parameters to skip header lines\n",
    "- Return the data as a 2D numpy array where `data[i, j]` represents temperature at position (x=j, y=i)\n",
    "\n",
    "**Parameters:**\n",
    "- `filename`: string path to the data file\n",
    "\n",
    "**Returns:**\n",
    "- `data`: 2D numpy array containing the temperature data"
   ]
  },
  {
   "cell_type": "code",
   "execution_count": null,
   "id": "20904499",
   "metadata": {
    "tags": [
     "otter_answer_cell"
    ]
   },
   "outputs": [],
   "source": [
    "def load_heat_data(filename):\n",
    "    # Write your code here!\n",
    "    return data"
   ]
  },
  {
   "cell_type": "code",
   "execution_count": null,
   "id": "f8d4ae8f",
   "metadata": {
    "deletable": false,
    "editable": false
   },
   "outputs": [],
   "source": [
    "grader.check(\"q4a\")"
   ]
  },
  {
   "cell_type": "markdown",
   "id": "1ea060ed",
   "metadata": {
    "deletable": false,
    "editable": false
   },
   "source": [
    "### Part b: Heatmap Visualization\n",
    "\n",
    "Write a function `plot_heat_heatmap(filename, show_plot=False)` that creates a heatmap visualization of the 2D temperature data using `plt.imshow()`.\n",
    "\n",
    "[plt.imshow documentation](https://matplotlib.org/stable/api/_as_gen/matplotlib.pyplot.imshow.html)\n",
    "\n",
    "**Requirements:**\n",
    "- Load the heat data using your `load_heat_data()` function from Part a\n",
    "- Create a heatmap using `plt.imshow()` with:\n",
    "  - Colormap: 'hot' (use `cmap='hot'`)\n",
    "  - Origin at lower-left: `origin='lower'`\n",
    "  - Aspect ratio: 'equal'\n",
    "- Add a colorbar with label \"Temperature (°C)\"\n",
    "- Set x-axis label to \"X Position\"\n",
    "- Set y-axis label to \"Y Position\"  \n",
    "- Set title to \"Temperature Distribution Heatmap\"\n",
    "- The function should return the matplotlib figure object\n",
    "\n",
    "**Parameters:**\n",
    "- `filename`: string path to the heat data file\n",
    "- `show_plot`: boolean, default False. If True, call `plt.show()` to display the plot\n",
    "\n",
    "**Returns:**\n",
    "- `fig`: matplotlib figure object\n",
    "\n",
    "**Hint:** Use `plt.colorbar(im, label='Temperature (°C)')` where `im` is the result of `ax.imshow()`."
   ]
  },
  {
   "cell_type": "code",
   "execution_count": null,
   "id": "ac887182",
   "metadata": {
    "tags": [
     "otter_answer_cell"
    ]
   },
   "outputs": [],
   "source": [
    "def plot_heat_heatmap(filename, show_plot=False):\n",
    "    # Load the heat data using the function from Part a\n",
    "    data = load_heat_data(filename)\n",
    "    \n",
    "    # Create the plot\n",
    "    fig, ax = plt.subplots(figsize=(10, 8))\n",
    "    \n",
    "    # Write your code here!\n",
    "    \n",
    "    # Show plot if requested\n",
    "    if show_plot:\n",
    "        plt.show()\n",
    "    \n",
    "    return fig"
   ]
  },
  {
   "cell_type": "code",
   "execution_count": null,
   "id": "d00bc8da",
   "metadata": {
    "deletable": false,
    "editable": false
   },
   "outputs": [],
   "source": [
    "# Cell to view your heatmap\n",
    "plot_heat_heatmap('heat_plate_data.txt', show_plot=True);"
   ]
  },
  {
   "cell_type": "code",
   "execution_count": null,
   "id": "9366fff7",
   "metadata": {
    "deletable": false,
    "editable": false
   },
   "outputs": [],
   "source": [
    "grader.check(\"q4b\")"
   ]
  },
  {
   "cell_type": "markdown",
   "id": "eb8ad066",
   "metadata": {
    "deletable": false,
    "editable": false
   },
   "source": [
    "### Part c: 3D Surface Plot\n",
    "\n",
    "Write a function `plot_heat_surface(filename, show_plot=False)` that creates a 3D surface plot of the temperature data using `ax.plot_surface()`.\n",
    "\n",
    "**Requirements:**\n",
    "- Load the heat data using your `load_heat_data()` function from Part a\n",
    "- Create coordinate meshgrids using `np.meshgrid()` for the x and y coordinates\n",
    "- Create a 3D subplot using `fig.add_subplot(111, projection='3d')`\n",
    "- Create a surface plot using `ax.plot_surface()` with:\n",
    "  - Colormap: 'coolwarm' (use `cmap='coolwarm'`)\n",
    "  - Alpha: 0.9\n",
    "- Set x-axis label to \"X Position\"\n",
    "- Set y-axis label to \"Y Position\"\n",
    "- Set z-axis label to \"Temperature (°C)\"\n",
    "- Set title to \"3D Temperature Distribution\"\n",
    "- The function should return the matplotlib figure object\n",
    "\n",
    "**Parameters:**\n",
    "- `filename`: string path to the heat data file\n",
    "- `show_plot`: boolean, default False. If True, call `plt.show()` to display the plot\n",
    "\n",
    "**Returns:**\n",
    "- `fig`: matplotlib figure object"
   ]
  },
  {
   "cell_type": "code",
   "execution_count": null,
   "id": "040047c9",
   "metadata": {
    "tags": [
     "otter_answer_cell"
    ]
   },
   "outputs": [],
   "source": [
    "def plot_heat_surface(filename, show_plot=False):\n",
    "    # Load the heat data using the function from Part a\n",
    "    data = load_heat_data(filename)\n",
    "    \n",
    "    # Create coordinate meshgrids\n",
    "    X, Y = np.meshgrid(range(data.shape[1]), range(data.shape[0]))\n",
    "    \n",
    "    # Create the figure and 3D subplot\n",
    "    fig = plt.figure(figsize=(16, 9))\n",
    "    ax = fig.add_subplot(111, projection='3d')\n",
    "    \n",
    "    # Write your code here!\n",
    "    \n",
    "    # Adjust aspect ratio to prevent label cutoff\n",
    "    ax.set_box_aspect((1, 1, 1))\n",
    "    \n",
    "    # Show plot if requested\n",
    "    if show_plot:\n",
    "        plt.show()\n",
    "    \n",
    "    return fig"
   ]
  },
  {
   "cell_type": "code",
   "execution_count": null,
   "id": "482b1d09",
   "metadata": {
    "deletable": false,
    "editable": false
   },
   "outputs": [],
   "source": [
    "# Cell to view your 3D surface plot\n",
    "plot_heat_surface('heat_plate_data.txt', show_plot=True);"
   ]
  },
  {
   "cell_type": "code",
   "execution_count": null,
   "id": "5c6961cd",
   "metadata": {
    "deletable": false,
    "editable": false
   },
   "outputs": [],
   "source": [
    "grader.check(\"q4c\")"
   ]
  },
  {
   "cell_type": "markdown",
   "id": "f3fff412",
   "metadata": {
    "deletable": false,
    "editable": false
   },
   "source": [
    "## **Question 5**"
   ]
  },
  {
   "cell_type": "markdown",
   "id": "74d7e171",
   "metadata": {
    "deletable": false,
    "editable": false
   },
   "source": [
    "### Part a: Gaussian Data Loading Function\n",
    "\n",
    "Write a function `load_gaussian_data(filename)` that loads Gaussian distribution samples from a text file using `np.loadtxt()`. The data file contains one sample per line, representing values drawn from a Gaussian (normal) distribution.\n",
    "\n",
    "The file has header lines starting with '#' that should be skipped.\n",
    "\n",
    "**Requirements:**\n",
    "- Use `np.loadtxt()` with appropriate parameters to skip header lines\n",
    "- Return a 1D numpy array containing the sample values\n",
    "\n",
    "**Parameters:**\n",
    "- `filename`: string path to the data file\n",
    "\n",
    "**Returns:**\n",
    "- `data`: 1D numpy array containing the Gaussian samples"
   ]
  },
  {
   "cell_type": "code",
   "execution_count": null,
   "id": "6173220c",
   "metadata": {
    "tags": [
     "otter_answer_cell"
    ]
   },
   "outputs": [],
   "source": [
    "def load_gaussian_data(filename):\n",
    "    # Write your code here!\n",
    "    return data"
   ]
  },
  {
   "cell_type": "code",
   "execution_count": null,
   "id": "4b4c33f2",
   "metadata": {
    "deletable": false,
    "editable": false
   },
   "outputs": [],
   "source": [
    "grader.check(\"q5a\")"
   ]
  },
  {
   "cell_type": "markdown",
   "id": "bb964540",
   "metadata": {
    "deletable": false,
    "editable": false
   },
   "source": [
    "### Part b: Histogram and PDF Comparison Plot\n",
    "\n",
    "Write a function `plot_gaussian_histogram(filename, show_plot=False)` that creates a histogram of the Gaussian data samples and overlays the theoretical probability density function (PDF) of the original Gaussian distribution.\n",
    "\n",
    "The data was generated from a Gaussian distribution with:\n",
    "- **Mean (μ) = 5.2**\n",
    "- **Variance (σ²) = 2.8**\n",
    "\n",
    "The probability density function for a Gaussian distribution is:\n",
    "$$f(x) = \\frac{1}{\\sigma\\sqrt{2\\pi}} e^{-\\frac{(x-\\mu)^2}{2\\sigma^2}}$$\n",
    "\n",
    "**Requirements:**\n",
    "- Load the Gaussian data using your `load_gaussian_data()` function from Part a\n",
    "- Create a histogram of the data with 30 bins using `plt.hist()` with `density=True` to normalize\n",
    "- Calculate the theoretical PDF using the given mean and variance\n",
    "- Plot the PDF as a smooth curve over the same x-range as the histogram\n",
    "- Use `np.linspace()` to create x-values for the PDF curve (suggest 200 points)\n",
    "- Set x-axis label to \"Value\"\n",
    "- Set y-axis label to \"Density\"\n",
    "- Set title to \"Gaussian Data Histogram vs Theoretical PDF\"\n",
    "- Add a legend with labels \"Data Histogram\" and \"Theoretical PDF\"\n",
    "- The function should return the matplotlib figure object\n",
    "\n",
    "**Parameters:**\n",
    "- `filename`: string path to the Gaussian data file\n",
    "- `show_plot`: boolean, default False. If True, call `plt.show()` to display the plot\n",
    "\n",
    "**Returns:**\n",
    "- `fig`: matplotlib figure object\n",
    "\n",
    "**Hint:** Use numpy functions to vectorize your calculation of the gaussian PDF function. Plot histogram using ax.hist()"
   ]
  },
  {
   "cell_type": "code",
   "execution_count": null,
   "id": "849585f1",
   "metadata": {
    "tags": [
     "otter_answer_cell"
    ]
   },
   "outputs": [],
   "source": [
    "def plot_gaussian_histogram(filename, show_plot=False):\n",
    "    # Load the Gaussian data using the function from Part a\n",
    "    data = load_gaussian_data(filename)\n",
    "    \n",
    "    # Given parameters from the original distribution\n",
    "    mu = 5.2  # mean\n",
    "    variance = 2.8  # variance\n",
    "    sigma = np.sqrt(variance)  # standard deviation\n",
    "    \n",
    "    # Create the plot\n",
    "    fig, ax = plt.subplots(figsize=(10, 8))\n",
    "    \n",
    "    # Write your code here!\n",
    "    \n",
    "    # Show plot if requested\n",
    "    if show_plot:\n",
    "        plt.show()\n",
    "    \n",
    "    return fig"
   ]
  },
  {
   "cell_type": "code",
   "execution_count": null,
   "id": "a3ce4ec5",
   "metadata": {
    "deletable": false,
    "editable": false
   },
   "outputs": [],
   "source": [
    "# Cell to view your plot\n",
    "plot_gaussian_histogram('gaussian_data.txt', show_plot=True);"
   ]
  },
  {
   "cell_type": "code",
   "execution_count": null,
   "id": "d5e2c9ae",
   "metadata": {
    "deletable": false,
    "editable": false
   },
   "outputs": [],
   "source": [
    "grader.check(\"q5b\")"
   ]
  },
  {
   "cell_type": "markdown",
   "id": "82b25df2",
   "metadata": {
    "deletable": false,
    "editable": false
   },
   "source": [
    "## Required disclosure of use of AI technology\n",
    "\n",
    "Please indicate whether you used AI to complete this homework. If you did, explain how you used it in the python cell below, as a comment."
   ]
  },
  {
   "cell_type": "code",
   "execution_count": null,
   "id": "409027f3",
   "metadata": {
    "tags": [
     "otter_answer_cell"
    ]
   },
   "outputs": [],
   "source": [
    "\"\"\"\n",
    "# write ai disclosure here:\n",
    "\n",
    "\"\"\""
   ]
  },
  {
   "cell_type": "markdown",
   "id": "86a3317f",
   "metadata": {
    "deletable": false,
    "editable": false
   },
   "source": [
    "## Submission\n",
    "\n",
    "Make sure you have run all cells in your notebook in order before running the cell below, so that all images/graphs appear in the output. The cell below will generate a zip file for you to submit.\n",
    "\n",
    "Upload the .zip file to Gradescope!"
   ]
  },
  {
   "cell_type": "code",
   "execution_count": null,
   "id": "c980f086",
   "metadata": {
    "deletable": false,
    "editable": false
   },
   "outputs": [],
   "source": [
    "grader.export(pdf=False, force_save=True, run_tests=True)"
   ]
  },
  {
   "cell_type": "markdown",
   "id": "e2636e0d",
   "metadata": {},
   "source": [
    " "
   ]
  }
 ],
 "metadata": {
  "kernelspec": {
   "display_name": "otter_grading",
   "language": "python",
   "name": "python3"
  },
  "language_info": {
   "codemirror_mode": {
    "name": "ipython",
    "version": 3
   },
   "file_extension": ".py",
   "mimetype": "text/x-python",
   "name": "python",
   "nbconvert_exporter": "python",
   "pygments_lexer": "ipython3",
   "version": "3.12.11"
  },
  "otter": {
   "OK_FORMAT": true,
   "tests": {
    "q1a": {
     "name": "q1a",
     "points": null,
     "suites": [
      {
       "cases": [
        {
         "code": ">>> try:\n...     lengths, periods, uncertainties = load_pendulum_data('pendulum_data.txt')\n...     test_result = isinstance(lengths, np.ndarray) and isinstance(periods, np.ndarray) and isinstance(uncertainties, np.ndarray) and (len(lengths) > 0)\n... except:\n...     test_result = False\n>>> test_result\nTrue",
         "hidden": false,
         "locked": false,
         "points": 1
        }
       ],
       "scored": true,
       "setup": "",
       "teardown": "",
       "type": "doctest"
      }
     ]
    },
    "q1b": {
     "name": "q1b",
     "points": null,
     "suites": [
      {
       "cases": [
        {
         "code": ">>> try:\n...     mean_g, std_g, individual_g = calculate_gravity_from_pendulum('pendulum_data.txt')\n...     test_result = isinstance(mean_g, (float, np.floating)) and isinstance(std_g, (float, np.floating)) and isinstance(individual_g, np.ndarray)\n... except:\n...     test_result = False\n>>> test_result\nTrue",
         "hidden": false,
         "locked": false,
         "points": 1
        }
       ],
       "scored": true,
       "setup": "",
       "teardown": "",
       "type": "doctest"
      }
     ]
    },
    "q2a": {
     "name": "q2a",
     "points": null,
     "suites": [
      {
       "cases": [
        {
         "code": ">>> fig = plot_polynomial_functions(show_plot=False)\n>>> import matplotlib.figure\n>>> plt.close(fig)\n>>> isinstance(fig, matplotlib.figure.Figure)\nTrue",
         "hidden": false,
         "locked": false,
         "points": 1
        },
        {
         "code": ">>> fig = plot_polynomial_functions(show_plot=False)\n>>> ax = fig.get_axes()[0]\n>>> plt.close(fig)\n>>> len(ax.get_lines()) == 3\nTrue",
         "hidden": false,
         "locked": false,
         "points": 1
        }
       ],
       "scored": true,
       "setup": "",
       "teardown": "",
       "type": "doctest"
      }
     ]
    },
    "q2b": {
     "name": "q2b",
     "points": null,
     "suites": [
      {
       "cases": [
        {
         "code": ">>> fig = plot_sine_modes(3, show_plot=False)\n>>> import matplotlib.figure\n>>> plt.close(fig)\n>>> isinstance(fig, matplotlib.figure.Figure)\nTrue",
         "hidden": false,
         "locked": false,
         "points": 1
        },
        {
         "code": ">>> fig = plot_sine_modes(7, show_plot=False)\n>>> ax = fig.get_axes()[0]\n>>> plt.close(fig)\n>>> len(ax.get_lines()) == 7\nTrue",
         "hidden": false,
         "locked": false,
         "points": 1
        },
        {
         "code": ">>> fig = plot_sine_modes(2, show_plot=False)\n>>> ax = fig.get_axes()[0]\n>>> has_correct_title = ax.get_title() == 'Sine Wave Modes'\n>>> has_correct_xlabel = ax.get_xlabel() == 'Position'\n>>> has_correct_ylabel = ax.get_ylabel() == 'Amplitude'\n>>> xlim = ax.get_xlim()\n>>> ylim = ax.get_ylim()\n>>> has_correct_xlim = abs(xlim[0] - 0.0) < 0.01 and abs(xlim[1] - 1.0) < 0.01\n>>> has_correct_ylim = abs(ylim[0] - -1.1) < 0.01 and abs(ylim[1] - 1.1) < 0.01\n>>> plt.close(fig)\n>>> bool(has_correct_title and has_correct_xlabel and has_correct_ylabel and has_correct_xlim and has_correct_ylim)\nTrue",
         "hidden": false,
         "locked": false,
         "points": 1
        }
       ],
       "scored": true,
       "setup": "",
       "teardown": "",
       "type": "doctest"
      }
     ]
    },
    "q3": {
     "name": "q3",
     "points": null,
     "suites": [
      {
       "cases": [
        {
         "code": ">>> fig = plot_pendulum_data('pendulum_data.txt', show_plot=False)\n>>> import matplotlib.figure\n>>> plt.close(fig)\n>>> isinstance(fig, matplotlib.figure.Figure)\nTrue",
         "hidden": false,
         "locked": false,
         "points": 1
        },
        {
         "code": ">>> fig = plot_pendulum_data('pendulum_data.txt', show_plot=False)\n>>> ax = fig.get_axes()[0]\n>>> has_correct_title = ax.get_title() == 'Pendulum Period vs Length'\n>>> has_correct_xlabel = ax.get_xlabel() == 'Pendulum Length (m)'\n>>> has_correct_ylabel = ax.get_ylabel() == 'Period (s)'\n>>> plt.close(fig)\n>>> bool(has_correct_title and has_correct_xlabel and has_correct_ylabel)\nTrue",
         "hidden": false,
         "locked": false,
         "points": 1
        },
        {
         "code": ">>> fig = plot_pendulum_data('pendulum_data.txt', show_plot=False)\n>>> ax = fig.get_axes()[0]\n>>> xlim = ax.get_xlim()\n>>> ylim = ax.get_ylim()\n>>> has_correct_xlim = abs(xlim[0] - 0.2) < 0.01 and abs(xlim[1] - 1.05) < 0.01\n>>> has_correct_ylim = abs(ylim[0] - 0.8) < 0.01 and abs(ylim[1] - 2.2) < 0.01\n>>> plt.close(fig)\n>>> bool(has_correct_xlim and has_correct_ylim)\nTrue",
         "hidden": false,
         "locked": false,
         "points": 1
        }
       ],
       "scored": true,
       "setup": "",
       "teardown": "",
       "type": "doctest"
      }
     ]
    },
    "q4a": {
     "name": "q4a",
     "points": null,
     "suites": [
      {
       "cases": [
        {
         "code": ">>> try:\n...     data = load_heat_data('heat_plate_data.txt')\n...     test_result = isinstance(data, np.ndarray) and data.ndim == 2\n... except:\n...     test_result = False\n>>> test_result\nTrue",
         "hidden": false,
         "locked": false,
         "points": 1
        }
       ],
       "scored": true,
       "setup": "",
       "teardown": "",
       "type": "doctest"
      }
     ]
    },
    "q4b": {
     "name": "q4b",
     "points": null,
     "suites": [
      {
       "cases": [
        {
         "code": ">>> fig = plot_heat_heatmap('heat_plate_data.txt', show_plot=False)\n>>> import matplotlib.figure\n>>> plt.close(fig)\n>>> isinstance(fig, matplotlib.figure.Figure)\nTrue",
         "hidden": false,
         "locked": false,
         "points": 1
        },
        {
         "code": ">>> fig = plot_heat_heatmap('heat_plate_data.txt', show_plot=False)\n>>> ax = fig.get_axes()[0]\n>>> has_correct_title = ax.get_title() == 'Temperature Distribution Heatmap'\n>>> has_correct_xlabel = ax.get_xlabel() == 'X Position'\n>>> has_correct_ylabel = ax.get_ylabel() == 'Y Position'\n>>> plt.close(fig)\n>>> bool(has_correct_title and has_correct_xlabel and has_correct_ylabel)\nTrue",
         "hidden": false,
         "locked": false,
         "points": 1
        }
       ],
       "scored": true,
       "setup": "",
       "teardown": "",
       "type": "doctest"
      }
     ]
    },
    "q4c": {
     "name": "q4c",
     "points": null,
     "suites": [
      {
       "cases": [
        {
         "code": ">>> fig = plot_heat_surface('heat_plate_data.txt', show_plot=False)\n>>> import matplotlib.figure\n>>> plt.close(fig)\n>>> isinstance(fig, matplotlib.figure.Figure)\nTrue",
         "hidden": false,
         "locked": false,
         "points": 1
        },
        {
         "code": ">>> fig = plot_heat_surface('heat_plate_data.txt', show_plot=False)\n>>> ax = fig.get_axes()[0]\n>>> has_correct_title = ax.get_title() == '3D Temperature Distribution'\n>>> has_correct_xlabel = ax.get_xlabel() == 'X Position'\n>>> has_correct_ylabel = ax.get_ylabel() == 'Y Position'\n>>> has_correct_zlabel = ax.get_zlabel() == 'Temperature (°C)'\n>>> is_3d = hasattr(ax, 'zaxis')\n>>> plt.close(fig)\n>>> bool(has_correct_title and has_correct_xlabel and has_correct_ylabel and has_correct_zlabel and is_3d)\nTrue",
         "hidden": false,
         "locked": false,
         "points": 1
        }
       ],
       "scored": true,
       "setup": "",
       "teardown": "",
       "type": "doctest"
      }
     ]
    },
    "q5a": {
     "name": "q5a",
     "points": null,
     "suites": [
      {
       "cases": [
        {
         "code": ">>> try:\n...     data = load_gaussian_data('gaussian_data.txt')\n...     test_result = isinstance(data, np.ndarray) and data.ndim == 1\n... except:\n...     test_result = False\n>>> test_result\nTrue",
         "hidden": false,
         "locked": false,
         "points": 1
        }
       ],
       "scored": true,
       "setup": "",
       "teardown": "",
       "type": "doctest"
      }
     ]
    },
    "q5b": {
     "name": "q5b",
     "points": null,
     "suites": [
      {
       "cases": [
        {
         "code": ">>> fig = plot_gaussian_histogram('gaussian_data.txt', show_plot=False)\n>>> import matplotlib.figure\n>>> plt.close(fig)\n>>> isinstance(fig, matplotlib.figure.Figure)\nTrue",
         "hidden": false,
         "locked": false,
         "points": 1
        },
        {
         "code": ">>> fig = plot_gaussian_histogram('gaussian_data.txt', show_plot=False)\n>>> ax = fig.get_axes()[0]\n>>> has_correct_title = ax.get_title() == 'Gaussian Data Histogram vs Theoretical PDF'\n>>> has_correct_xlabel = ax.get_xlabel() == 'Value'\n>>> has_correct_ylabel = ax.get_ylabel() == 'Density'\n>>> plt.close(fig)\n>>> bool(has_correct_title and has_correct_xlabel and has_correct_ylabel)\nTrue",
         "hidden": false,
         "locked": false,
         "points": 1
        },
        {
         "code": ">>> fig = plot_gaussian_histogram('gaussian_data.txt', show_plot=False)\n>>> ax = fig.get_axes()[0]\n>>> has_histogram = len([p for p in ax.patches if hasattr(p, 'get_height')]) > 20\n>>> has_line = len(ax.get_lines()) > 0\n>>> plt.close(fig)\n>>> bool(has_histogram and has_line)\nTrue",
         "hidden": false,
         "locked": false,
         "points": 1
        }
       ],
       "scored": true,
       "setup": "",
       "teardown": "",
       "type": "doctest"
      }
     ]
    }
   }
  }
 },
 "nbformat": 4,
 "nbformat_minor": 5
}

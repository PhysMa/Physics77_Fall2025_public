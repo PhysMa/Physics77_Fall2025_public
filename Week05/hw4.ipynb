{
 "cells": [
  {
   "cell_type": "code",
   "execution_count": null,
   "id": "6232ebbb",
   "metadata": {
    "deletable": false,
    "editable": false
   },
   "outputs": [],
   "source": [
    "# Initialize Otter\n",
    "import otter\n",
    "grader = otter.Notebook(\"hw4.ipynb\")"
   ]
  },
  {
   "cell_type": "code",
   "execution_count": null,
   "id": "9a6ec2e2",
   "metadata": {},
   "outputs": [],
   "source": [
    "# Setup\n",
    "# You may import math if needed in your solutions.\n",
    "import math\n",
    "import numpy as np\n",
    "import scipy as sp\n",
    "from dataclasses import dataclass"
   ]
  },
  {
   "cell_type": "markdown",
   "id": "fbd35610",
   "metadata": {},
   "source": [
    "## **Question 1**: Using Objects"
   ]
  },
  {
   "cell_type": "code",
   "execution_count": null,
   "id": "a7069ac5",
   "metadata": {
    "deletable": false,
    "editable": false
   },
   "outputs": [],
   "source": [
    "# CLASS DEFINITION - Use this class in your solution below\n",
    "class SimplePendulum:\n",
    "    \"\"\"\n",
    "    A class representing a simple pendulum for physics calculations.\n",
    "    \"\"\"\n",
    "    \n",
    "    def __init__(self, length, mass, gravity=9.81):\n",
    "        \"\"\"\n",
    "        Initialize a simple pendulum.\n",
    "        \n",
    "        Parameters:\n",
    "        - length: length of the pendulum string (meters)\n",
    "        - mass: mass of the pendulum bob (kg)\n",
    "        - gravity: acceleration due to gravity (m/s^2, default 9.81)\n",
    "        \"\"\"\n",
    "        self.length = length\n",
    "        self.mass = mass\n",
    "        self.gravity = gravity\n",
    "        self.angle = 0.0  # current angle in radians\n",
    "        self.angular_velocity = 0.0  # current angular velocity in rad/s\n",
    "    \n",
    "    def set_initial_conditions(self, initial_angle, initial_angular_velocity=0.0):\n",
    "        \"\"\"\n",
    "        Set the initial angle and angular velocity of the pendulum.\n",
    "        \n",
    "        Parameters:\n",
    "        - initial_angle: initial angle in radians\n",
    "        - initial_angular_velocity: initial angular velocity in rad/s (default 0)\n",
    "        \"\"\"\n",
    "        self.angle = initial_angle\n",
    "        self.angular_velocity = initial_angular_velocity\n",
    "    \n",
    "    def natural_frequency(self):\n",
    "        \"\"\"\n",
    "        Calculate the natural frequency of small oscillations.\n",
    "        \n",
    "        Returns:\n",
    "        - frequency in Hz (cycles per second)\n",
    "        \"\"\"\n",
    "        omega = math.sqrt(self.gravity / self.length)\n",
    "        return omega / (2 * math.pi)\n",
    "    \n",
    "    def period(self):\n",
    "        \"\"\"\n",
    "        Calculate the period of small oscillations.\n",
    "        \n",
    "        Returns:\n",
    "        - period in seconds\n",
    "        \"\"\"\n",
    "        return 2 * math.pi * math.sqrt(self.length / self.gravity)\n",
    "    \n",
    "    def potential_energy(self):\n",
    "        \"\"\"\n",
    "        Calculate the gravitational potential energy at current angle.\n",
    "        Uses the reference point at the lowest position of the swing.\n",
    "        \n",
    "        Returns:\n",
    "        - potential energy in Joules\n",
    "        \"\"\"\n",
    "        height = self.length * (1 - math.cos(self.angle))\n",
    "        return self.mass * self.gravity * height\n",
    "    \n",
    "    def kinetic_energy(self):\n",
    "        \"\"\"\n",
    "        Calculate the kinetic energy at current angular velocity.\n",
    "        \n",
    "        Returns:\n",
    "        - kinetic energy in Joules\n",
    "        \"\"\"\n",
    "        linear_velocity = self.angular_velocity * self.length\n",
    "        return 0.5 * self.mass * linear_velocity**2\n",
    "    \n",
    "    def total_energy(self):\n",
    "        \"\"\"\n",
    "        Calculate the total mechanical energy (kinetic + potential).\n",
    "        \n",
    "        Returns:\n",
    "        - total energy in Joules\n",
    "        \"\"\"\n",
    "        return self.kinetic_energy() + self.potential_energy()"
   ]
  },
  {
   "cell_type": "markdown",
   "id": "25432be1",
   "metadata": {
    "deletable": false,
    "editable": false
   },
   "source": [
    "### Pendulum Energy Analysis\n",
    "\n",
    "Using the `SimplePendulum` class defined above, write a function `analyze_pendulum_swing(length, mass, max_angle, num_positions=50)` that analyzes the energy distribution during a complete swing.\n",
    "\n",
    "The function should:\n",
    "1. **Create a pendulum object** using the given length and mass\n",
    "2. **Simulate swing positions**: Create an array of angles from `-max_angle` to `+max_angle` with `num_positions` evenly spaced points\n",
    "3. **Calculate energy at each position**: For each angle, set the pendulum to that position with zero angular velocity, then calculate:\n",
    "   - Potential energy at that position\n",
    "   - Kinetic energy needed to maintain total energy conservation (assuming the pendulum started from rest at `max_angle`)\n",
    "4. **Find energy conservation properties**:\n",
    "   - Total mechanical energy (should be constant)\n",
    "   - Maximum kinetic energy (occurs at bottom of swing)\n",
    "   - Maximum potential energy (occurs at maximum displacement)\n",
    "\n",
    "Parameters:\n",
    "- `length`: pendulum length in meters\n",
    "- `mass`: pendulum mass in kg  \n",
    "- `max_angle`: maximum swing angle in radians\n",
    "- `num_positions`: number of positions to analyze (default 50)\n",
    "\n",
    "Return a tuple: `(angles, potential_energies, kinetic_energies, total_energy, max_kinetic, max_potential)`\n",
    "- `angles`: numpy array of angle positions (radians)\n",
    "- `potential_energies`: numpy array of potential energies at each position (Joules)\n",
    "- `kinetic_energies`: numpy array of kinetic energies at each position (Joules)  \n",
    "- `total_energy`: single value of total mechanical energy (Joules)\n",
    "- `max_kinetic`: maximum kinetic energy in the swing (Joules)\n",
    "- `max_potential`: maximum potential energy in the swing (Joules)\n",
    "\n",
    "**Hint**: Use `np.linspace()` to create the angle array and use the pendulum's methods to calculate energies."
   ]
  },
  {
   "cell_type": "code",
   "execution_count": null,
   "id": "773313b6",
   "metadata": {
    "tags": [
     "otter_answer_cell"
    ]
   },
   "outputs": [],
   "source": [
    "def analyze_pendulum_swing(length, mass, max_angle, num_positions=50):\n",
    "    # Write your code here!\n",
    "    return (angles, potential_energies, kinetic_energies, total_energy, max_kinetic, max_potential)"
   ]
  },
  {
   "cell_type": "code",
   "execution_count": null,
   "id": "54d798a9",
   "metadata": {
    "deletable": false,
    "editable": false
   },
   "outputs": [],
   "source": [
    "grader.check(\"q1\")"
   ]
  },
  {
   "cell_type": "markdown",
   "id": "625963f7",
   "metadata": {
    "deletable": false,
    "editable": false
   },
   "source": [
    "## **Question 2**: Creating a Spring-Mass System Class\n",
    "\n",
    "In this problem, you will create your own class to model a spring-mass system, one of the fundamental systems in physics. \n",
    "\n",
    "Create a class called `SpringMassSystem` that models a mass attached to a spring. Your class should:\n",
    "\n",
    "**Constructor `__init__(self, mass, spring_constant, damping_coefficient=0.0)`:**\n",
    "- `mass`: mass of the object (kg)\n",
    "- `spring_constant`: spring constant k (N/m) \n",
    "- `damping_coefficient`: damping coefficient b (kg/s), default 0.0 for no damping\n",
    "- Initialize `position` and `velocity` attributes to 0.0\n",
    "\n",
    "**Methods to implement:**\n",
    "\n",
    "1. **`set_initial_conditions(self, position, velocity=0.0)`**\n",
    "   - Set the initial position (m) and velocity (m/s) of the mass\n",
    "\n",
    "2. **`natural_frequency(self)`**\n",
    "   - Return the natural angular frequency ω₀ = √(k/m) in rad/s\n",
    "   - For undamped systems only\n",
    "\n",
    "3. **`period(self)`**\n",
    "   - Return the period T = 2π/ω₀ in seconds\n",
    "   - For undamped systems only\n",
    "\n",
    "4. **`potential_energy(self)`**\n",
    "   - Return the elastic potential energy: PE = ½kx² in Joules\n",
    "   - Use the current position\n",
    "\n",
    "5. **`kinetic_energy(self)`**\n",
    "   - Return the kinetic energy: KE = ½mv² in Joules  \n",
    "   - Use the current velocity\n",
    "\n",
    "6. **`total_energy(self)`**\n",
    "   - Return the total mechanical energy (KE + PE) in Joules\n",
    "\n",
    "Write your class definition below:"
   ]
  },
  {
   "cell_type": "code",
   "execution_count": null,
   "id": "552a2927",
   "metadata": {
    "tags": [
     "otter_answer_cell"
    ]
   },
   "outputs": [],
   "source": [
    "class SpringMassSystem:\n",
    "    # Write your SpringMassSystem class here!"
   ]
  },
  {
   "cell_type": "code",
   "execution_count": null,
   "id": "5d644f46",
   "metadata": {
    "deletable": false,
    "editable": false
   },
   "outputs": [],
   "source": [
    "grader.check(\"q2\")"
   ]
  },
  {
   "cell_type": "markdown",
   "id": "8d346235",
   "metadata": {
    "deletable": false,
    "editable": false
   },
   "source": [
    "## **Question 3**: Creating a Normal Distribution Class\n",
    "\n",
    "Create a class called `NormalDistribution` that models a normal distribution with a given mean and variance. Your class should:\n",
    "\n",
    "**Constructor `__init__(self, mean, variance)`:**\n",
    "- `mean`: the mean μ of the distribution\n",
    "- `variance`: the variance σ² of the distribution \n",
    "- Store these as instance attributes\n",
    "\n",
    "**Methods to implement:**\n",
    "\n",
    "1. **`pdf(self, x)`**\n",
    "   - Return the probability density function (PDF) evaluated at all points in array `x`\n",
    "   - The Gaussian PDF is: $f(x) = \\frac{1}{\\sqrt{2\\pi\\sigma^2}} e^{-\\frac{(x-\\mu)^2}{2\\sigma^2}}$\n",
    "   - Should work with both single values and numpy arrays\n",
    "\n",
    "2. **`cdf(self, x)`**\n",
    "   - Return the cumulative distribution function (CDF) evaluated at all points in array `x`  \n",
    "   - The Gaussian CDF is: $F(x) = \\frac{1}{2}\\left[1 + \\text{erf}\\left(\\frac{x-\\mu}{\\sigma\\sqrt{2}}\\right)\\right]$\n",
    "   - Use `scipy.special.erf` for the error function\n",
    "   - Should work with both single values and numpy arrays\n",
    "\n",
    "**Mathematical Background:**\n",
    "- The standard deviation σ is the square root of the variance: σ = √(σ²)\n",
    "- The error function `erf(z)` is available as `scipy.special.erf(z)`\n",
    "\n",
    "Write your class definition below:"
   ]
  },
  {
   "cell_type": "code",
   "execution_count": null,
   "id": "0436aefe",
   "metadata": {
    "tags": [
     "otter_answer_cell"
    ]
   },
   "outputs": [],
   "source": [
    "class NormalDistribution:\n",
    "    # Write your NormalDistribution class here!"
   ]
  },
  {
   "cell_type": "code",
   "execution_count": null,
   "id": "4b9e23da",
   "metadata": {
    "deletable": false,
    "editable": false
   },
   "outputs": [],
   "source": [
    "grader.check(\"q3\")"
   ]
  },
  {
   "cell_type": "raw",
   "id": "bec78064",
   "metadata": {},
   "source": []
  },
  {
   "cell_type": "markdown",
   "id": "cf3bf81b",
   "metadata": {
    "deletable": false,
    "editable": false
   },
   "source": [
    "## **Question 4**: Error Handling\n",
    "\n",
    "Write a function `safe_relativistic_kinetic_energy(mass, velocity, c=299792458)` that calculates the relativistic kinetic energy using the formula:\n",
    "\n",
    "$$KE_{rel} = (\\gamma - 1)mc^2$$\n",
    "\n",
    "where $\\gamma = \\frac{1}{\\sqrt{1 - \\frac{v^2}{c^2}}}$ is the Lorentz factor.\n",
    "\n",
    "**Your function must implement comprehensive error handling using try/except/else/finally blocks:**\n",
    "\n",
    "**Required Error Checks:**\n",
    "1. **Type validation**: All inputs must be numbers (int or float)\n",
    "2. **Physical constraints**: \n",
    "   - Mass must be positive (m > 0)\n",
    "   - Velocity must be non-negative and less than the speed of light (0 ≤ v < c)\n",
    "   - Speed of light must be positive (c > 0)\n",
    "3. **Mathematical issues**: Handle potential division by zero or domain errors\n",
    "\n",
    "**Return behavior:**\n",
    "- **Success**: Return the relativistic kinetic energy in Joules\n",
    "- **Any error**: Return the string `\"Error: [descriptive error message]\"`\n",
    "\n",
    "**Structure requirements:**\n",
    "- Use `try` block for the main calculation\n",
    "- Use `except` blocks to catch and handle different types of errors \n",
    "\n",
    "**Parameters:**\n",
    "- `mass`: rest mass in kg\n",
    "- `velocity`: velocity in m/s  \n",
    "- `c`: speed of light in m/s (default: 299,792,458 m/s)\n",
    "\n",
    "Write your function below:\n",
    "Hint: your except blocks can look like:  \n",
    "    `except TypeError:`  \n",
    "        &emsp;`return \"Error: Invalid data types for calculation\"`  \n",
    "    `except ValueError as e:`  \n",
    "        &emsp;`return f\"Error: Mathematical error - {str(e)}\"`  \n",
    "    `except ZeroDivisionError:`  \n",
    "        &emsp;`return \"Error: Division by zero in calculation\"`  \n",
    "    `except OverflowError:`  \n",
    "        &emsp;`return \"Error: Number too large for calculation\"`  \n",
    "    `except Exception as e:`  \n",
    "        &emsp;`return f\"Error: Unexpected error - {str(e)}\"`  "
   ]
  },
  {
   "cell_type": "code",
   "execution_count": null,
   "id": "fa5c4793",
   "metadata": {
    "tags": [
     "otter_answer_cell"
    ]
   },
   "outputs": [],
   "source": [
    "def safe_relativistic_kinetic_energy(mass, velocity, c=299792458):\n",
    "    # Write your safe_relativistic_kinetic_energy function here!\n",
    "    pass"
   ]
  },
  {
   "cell_type": "code",
   "execution_count": null,
   "id": "b19a50d0",
   "metadata": {
    "deletable": false,
    "editable": false
   },
   "outputs": [],
   "source": [
    "grader.check(\"q4\")"
   ]
  },
  {
   "cell_type": "raw",
   "id": "0348a06f",
   "metadata": {},
   "source": []
  },
  {
   "cell_type": "markdown",
   "id": "8fd8f46c",
   "metadata": {
    "deletable": false,
    "editable": false
   },
   "source": [
    "## **Question 5**: N-Body Simulation with Dataclasses\n",
    "\n",
    "In computational physics, N-body simulations track the positions and momenta of multiple particles over time. Python's `@dataclass` decorator provides a clean way to define classes that primarily hold data.\n",
    "\n",
    "In this problem, you will create a dataclass to represent a snapshot of an N-body simulation and write a function to analyze the system's properties.\n",
    "\n",
    "**Part 1: Create the dataclass**\n",
    "\n",
    "Create a dataclass called `NBodySnapshot` using the `@dataclass` decorator with the following attributes:\n",
    "\n",
    "- `positions`: numpy array of shape (N, 3) representing 3D positions of N particles (in meters)\n",
    "- `momenta`: numpy array of shape (N, 3) representing 3D momenta of N particles (in kg⋅m/s)  \n",
    "- `masses`: numpy array of shape (N,) representing masses of N particles (in kg)\n",
    "- `time`: float representing the simulation time (in seconds)\n",
    "\n",
    "**Part 2: Create the analysis function**\n",
    "\n",
    "Write a function `analyze_system(snapshot)` that takes an `NBodySnapshot` object and returns system properties:\n",
    "\n",
    "- **Average position**: The center of mass position vector (3D numpy array)\n",
    "  $$\\vec{r}_{cm} = \\frac{1}{M} \\sum_{i=1}^{N} m_i \\vec{r}_i$$\n",
    "  where M is the total mass of the system\n",
    "\n",
    "- **Average velocity**: The center of mass velocity vector (3D numpy array)  \n",
    "  $$\\vec{v}_{cm} = \\frac{1}{M} \\sum_{i=1}^{N} m_i \\vec{v}_i = \\frac{1}{M} \\sum_{i=1}^{N} \\vec{p}_i$$\n",
    "  where $\\vec{p}_i$ is the momentum of particle i\n",
    "\n",
    "**Return format**: The function should return a tuple `(avg_position, avg_velocity)` where both are numpy arrays of shape (3,).\n",
    "\n",
    "Note: Use vectorized numpy operations for efficiency\n",
    "\n",
    "Hint: numpy array datatype is given by `np.ndarray`\n",
    "\n",
    "Write your dataclass and function below:"
   ]
  },
  {
   "cell_type": "code",
   "execution_count": null,
   "id": "9b763073",
   "metadata": {
    "tags": [
     "otter_answer_cell"
    ]
   },
   "outputs": [],
   "source": [
    "@dataclass\n",
    "class NBodySnapshot:\n",
    "\n",
    "# Write your NBodySnapshot dataclass and analyze_system function here!\n",
    "\n",
    "#can comment out below while developing dataclass\n",
    "def analyze_system(snapshot):\n",
    "    \n",
    "    return (avg_position, avg_velocity)"
   ]
  },
  {
   "cell_type": "code",
   "execution_count": null,
   "id": "5ceae996",
   "metadata": {
    "deletable": false,
    "editable": false
   },
   "outputs": [],
   "source": [
    "grader.check(\"q5\")"
   ]
  },
  {
   "cell_type": "markdown",
   "id": "ee802563",
   "metadata": {
    "deletable": false,
    "editable": false
   },
   "source": [
    "## Required disclosure of use of AI technology\n",
    "\n",
    "Please indicate whether you used AI to complete this homework. If you did, explain how you used it in the python cell below, as a comment."
   ]
  },
  {
   "cell_type": "code",
   "execution_count": null,
   "id": "8567201b",
   "metadata": {
    "tags": [
     "otter_answer_cell"
    ]
   },
   "outputs": [],
   "source": [
    "\"\"\"\n",
    "# write ai disclosure here:\n",
    "\n",
    "\"\"\""
   ]
  },
  {
   "cell_type": "markdown",
   "id": "3e2f530b",
   "metadata": {
    "deletable": false,
    "editable": false
   },
   "source": [
    "## Submission\n",
    "\n",
    "Make sure you have run all cells in your notebook in order before running the cell below, so that all images/graphs appear in the output. The cell below will generate a zip file for you to submit.\n",
    "\n",
    "Upload the .zip file to Gradescope!"
   ]
  },
  {
   "cell_type": "code",
   "execution_count": null,
   "id": "394bd828",
   "metadata": {
    "deletable": false,
    "editable": false
   },
   "outputs": [],
   "source": [
    "grader.export(pdf=False, force_save=True, run_tests=True)"
   ]
  },
  {
   "cell_type": "markdown",
   "id": "4d56e740",
   "metadata": {},
   "source": [
    " "
   ]
  }
 ],
 "metadata": {
  "kernelspec": {
   "display_name": "otter_grading",
   "language": "python",
   "name": "python3"
  },
  "language_info": {
   "codemirror_mode": {
    "name": "ipython",
    "version": 3
   },
   "file_extension": ".py",
   "mimetype": "text/x-python",
   "name": "python",
   "nbconvert_exporter": "python",
   "pygments_lexer": "ipython3",
   "version": "3.12.11"
  },
  "otter": {
   "OK_FORMAT": true,
   "tests": {
    "q1": {
     "name": "q1",
     "points": null,
     "suites": [
      {
       "cases": [
        {
         "code": ">>> angles, pe, ke, total_e, max_ke, max_pe = analyze_pendulum_swing(1.0, 0.5, np.pi / 6, num_positions=10)\n>>> len(angles) == 10 and len(pe) == 10 and (len(ke) == 10) and isinstance(total_e, (int, float, np.number))\nTrue",
         "hidden": false,
         "locked": false,
         "points": 1
        },
        {
         "code": ">>> angles, pe, ke, total_e, max_ke, max_pe = analyze_pendulum_swing(2.0, 1.0, np.pi / 4)\n>>> total_energies = pe + ke\n>>> bool(np.allclose(total_energies, total_e, atol=1e-10))\nTrue",
         "hidden": false,
         "locked": false,
         "points": 1
        },
        {
         "code": ">>> angles, pe, ke, total_e, max_ke, max_pe = analyze_pendulum_swing(1.0, 1.0, np.pi / 4)\n>>> endpoint_pe = max(pe[0], pe[-1])\n>>> bool(abs(max_pe - endpoint_pe) < 1e-10 and abs(max_pe - total_e) < 1e-10)\nTrue",
         "hidden": false,
         "locked": false,
         "points": 1
        }
       ],
       "scored": true,
       "setup": "",
       "teardown": "",
       "type": "doctest"
      }
     ]
    },
    "q2": {
     "name": "q2",
     "points": null,
     "suites": [
      {
       "cases": [
        {
         "code": ">>> system = SpringMassSystem(2.0, 50.0, 0.1)\n>>> hasattr(system, 'mass') and hasattr(system, 'spring_constant') and hasattr(system, 'damping_coefficient')\nTrue",
         "hidden": false,
         "locked": false,
         "points": 1
        },
        {
         "code": ">>> system = SpringMassSystem(1.0, 25.0)\n>>> system.set_initial_conditions(0.1, -0.5)\n>>> system.position == 0.1 and system.velocity == -0.5\nTrue",
         "hidden": false,
         "locked": false,
         "points": 1
        },
        {
         "code": ">>> system = SpringMassSystem(4.0, 100.0)\n>>> abs(system.natural_frequency() - 5.0) < 1e-10\nTrue",
         "hidden": false,
         "locked": false,
         "points": 1
        },
        {
         "code": ">>> system = SpringMassSystem(1.0, 8.0)\n>>> system.set_initial_conditions(0.5)\n>>> expected_pe = 0.5 * 8.0 * 0.5 ** 2\n>>> abs(system.potential_energy() - expected_pe) < 1e-10\nTrue",
         "hidden": false,
         "locked": false,
         "points": 1
        }
       ],
       "scored": true,
       "setup": "",
       "teardown": "",
       "type": "doctest"
      }
     ]
    },
    "q3": {
     "name": "q3",
     "points": null,
     "suites": [
      {
       "cases": [
        {
         "code": ">>> dist = NormalDistribution(0.0, 1.0)\n>>> hasattr(dist, 'mean') and hasattr(dist, 'variance') and (dist.mean == 0.0) and (dist.variance == 1.0)\nTrue",
         "hidden": false,
         "locked": false,
         "points": 1
        },
        {
         "code": ">>> dist = NormalDistribution(0.0, 1.0)\n>>> expected_pdf_at_mean = 1.0 / math.sqrt(2 * math.pi)\n>>> bool(abs(dist.pdf(0.0) - expected_pdf_at_mean) < 1e-10)\nTrue",
         "hidden": false,
         "locked": false,
         "points": 1
        },
        {
         "code": ">>> dist = NormalDistribution(5.0, 4.0)\n>>> bool(abs(dist.cdf(5.0) - 0.5) < 1e-10)\nTrue",
         "hidden": false,
         "locked": false,
         "points": 1
        },
        {
         "code": ">>> dist = NormalDistribution(0.0, 1.0)\n>>> x_vals = np.array([-1.0, 0.0, 1.0])\n>>> pdf_vals = dist.pdf(x_vals)\n>>> isinstance(pdf_vals, np.ndarray) and len(pdf_vals) == 3\nTrue",
         "hidden": false,
         "locked": false,
         "points": 1
        },
        {
         "code": ">>> dist = NormalDistribution(0.0, 1.0)\n>>> x_vals = np.array([-1.0, 0.0, 1.0])\n>>> cdf_vals = dist.cdf(x_vals)\n>>> isinstance(cdf_vals, np.ndarray) and len(cdf_vals) == 3\nTrue",
         "hidden": false,
         "locked": false,
         "points": 1
        }
       ],
       "scored": true,
       "setup": "",
       "teardown": "",
       "type": "doctest"
      }
     ]
    },
    "q4": {
     "name": "q4",
     "points": null,
     "suites": [
      {
       "cases": [
        {
         "code": ">>> result = safe_relativistic_kinetic_energy(1.0, 0.0, 299792458)\n>>> isinstance(result, (int, float)) and result >= 0\nTrue",
         "hidden": false,
         "locked": false,
         "points": 1
        },
        {
         "code": ">>> result = safe_relativistic_kinetic_energy('1.0', 100000, 299792458)\n>>> isinstance(result, str) and result.startswith('Error:')\nTrue",
         "hidden": false,
         "locked": false,
         "points": 1
        },
        {
         "code": ">>> result = safe_relativistic_kinetic_energy(-1.0, 100000, 299792458)\n>>> isinstance(result, str) and result.startswith('Error:')\nTrue",
         "hidden": false,
         "locked": false,
         "points": 1
        },
        {
         "code": ">>> result = safe_relativistic_kinetic_energy(1.0, -100000, 299792458)\n>>> isinstance(result, str) and result.startswith('Error:')\nTrue",
         "hidden": false,
         "locked": false,
         "points": 1
        },
        {
         "code": ">>> result = safe_relativistic_kinetic_energy(1.0, 299792459, 299792458)\n>>> isinstance(result, str) and result.startswith('Error:')\nTrue",
         "hidden": false,
         "locked": false,
         "points": 1
        },
        {
         "code": ">>> result = safe_relativistic_kinetic_energy(1.0, 30000000, 299792458)\n>>> isinstance(result, (int, float)) and result > 0.5 * 1.0 * 30000000 ** 2\nTrue",
         "hidden": false,
         "locked": false,
         "points": 1
        }
       ],
       "scored": true,
       "setup": "",
       "teardown": "",
       "type": "doctest"
      }
     ]
    },
    "q5": {
     "name": "q5",
     "points": null,
     "suites": [
      {
       "cases": [
        {
         "code": ">>> positions = np.array([[1.0, 2.0, 3.0], [4.0, 5.0, 6.0]])\n>>> momenta = np.array([[0.1, 0.2, 0.3], [0.4, 0.5, 0.6]])\n>>> masses = np.array([1.0, 2.0])\n>>> snapshot = NBodySnapshot(positions, momenta, masses, 0.0)\n>>> hasattr(snapshot, 'positions') and hasattr(snapshot, 'momenta') and hasattr(snapshot, 'masses') and hasattr(snapshot, 'time')\nTrue",
         "hidden": false,
         "locked": false,
         "points": 1
        },
        {
         "code": ">>> positions = np.array([[0.0, 0.0, 0.0], [1.0, 1.0, 1.0]])\n>>> momenta = np.array([[1.0, 1.0, 1.0], [2.0, 2.0, 2.0]])\n>>> masses = np.array([1.0, 1.0])\n>>> snapshot = NBodySnapshot(positions, momenta, masses, 1.0)\n>>> result = analyze_system(snapshot)\n>>> isinstance(result, tuple) and len(result) == 2 and isinstance(result[0], np.ndarray) and isinstance(result[1], np.ndarray)\nTrue",
         "hidden": false,
         "locked": false,
         "points": 1
        },
        {
         "code": ">>> positions = np.array([[0.0, 0.0, 0.0], [2.0, 2.0, 2.0]])\n>>> momenta = np.array([[1.0, 1.0, 1.0], [1.0, 1.0, 1.0]])\n>>> masses = np.array([1.0, 1.0])\n>>> snapshot = NBodySnapshot(positions, momenta, masses, 0.0)\n>>> avg_pos, avg_vel = analyze_system(snapshot)\n>>> np.allclose(avg_pos, [1.0, 1.0, 1.0])\nTrue",
         "hidden": false,
         "locked": false,
         "points": 1
        },
        {
         "code": ">>> positions = np.array([[1.0, 0.0, 0.0], [0.0, 1.0, 0.0]])\n>>> momenta = np.array([[2.0, 0.0, 0.0], [0.0, 4.0, 0.0]])\n>>> masses = np.array([1.0, 1.0])\n>>> snapshot = NBodySnapshot(positions, momenta, masses, 0.0)\n>>> avg_pos, avg_vel = analyze_system(snapshot)\n>>> np.allclose(avg_vel, [1.0, 2.0, 0.0])\nTrue",
         "hidden": false,
         "locked": false,
         "points": 1
        },
        {
         "code": ">>> positions = np.array([[0.0, 0.0, 0.0], [3.0, 3.0, 3.0]])\n>>> momenta = np.array([[1.0, 0.0, 0.0], [1.0, 0.0, 0.0]])\n>>> masses = np.array([1.0, 2.0])\n>>> snapshot = NBodySnapshot(positions, momenta, masses, 0.0)\n>>> avg_pos, avg_vel = analyze_system(snapshot)\n>>> np.allclose(avg_pos, [2.0, 2.0, 2.0])\nTrue",
         "hidden": false,
         "locked": false,
         "points": 1
        }
       ],
       "scored": true,
       "setup": "",
       "teardown": "",
       "type": "doctest"
      }
     ]
    }
   }
  }
 },
 "nbformat": 4,
 "nbformat_minor": 5
}

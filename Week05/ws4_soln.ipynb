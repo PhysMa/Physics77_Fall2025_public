{
 "cells": [
  {
   "cell_type": "code",
   "execution_count": null,
   "id": "18207584",
   "metadata": {
    "deletable": false,
    "editable": false
   },
   "outputs": [],
   "source": [
    "# Initialize Otter\n",
    "import otter\n",
    "grader = otter.Notebook(\"ws4.ipynb\")"
   ]
  },
  {
   "cell_type": "code",
   "execution_count": 1,
   "id": "4b2211cd",
   "metadata": {},
   "outputs": [],
   "source": [
    "# Setup\n",
    "# You may import math if needed in your solutions.\n",
    "import math\n",
    "import numpy as np"
   ]
  },
  {
   "cell_type": "markdown",
   "id": "05d5525f",
   "metadata": {
    "deletable": false,
    "editable": false
   },
   "source": [
    "## **Question 1**: Working with NumPy String Operations\n",
    "\n",
    "**Your task:**\n",
    "Write a function `analyze_physics_terms(terms_array)` that processes an array of physics terminology using various `numpy.strings` operations.\n",
    "\n",
    "**Requirements:**\n",
    "Use functions from the `numpy.strings` module to perform text analysis on physics terminology.\n",
    "\n",
    "**Function Specifications:**\n",
    "\n",
    "`analyze_physics_terms(terms_array)` should:\n",
    "\n",
    "1. **Convert to uppercase**: Convert all terms to uppercase using `numpy.strings.upper()`\n",
    "2. **Filter by length**: Find terms that are longer than 5 characters (after uppercasing)\n",
    "3. **Count characters**: Count how many times the letter 'I' appears in each term (after uppercasing)\n",
    "4. **Check suffixes**: Determine which terms end with the letter 'S' (after uppercasing)\n",
    "5. **Extract root words**: Remove common physics suffixes ('ICS', 'ION', 'URE') from terms to get root words\n",
    "\n",
    "**Parameters:**\n",
    "- `terms_array`: NumPy array of strings containing physics terms\n",
    "\n",
    "**Return:**\n",
    "A dictionary with the following keys:\n",
    "- `'uppercase_terms'`: numpy array of all terms converted to uppercase\n",
    "- `'long_terms'`: numpy array of terms longer than 5 characters (after uppercasing)\n",
    "- `'i_counts'`: numpy array of integers showing how many times 'I' appears in each term\n",
    "- `'ends_with_s'`: numpy array of booleans indicating which terms end with 'S'\n",
    "- `'root_words'`: numpy array of root words with suffixes removed (words that don't end with the suffixes should be returned unchanged)\n",
    "\n",
    "**Hint:** \n",
    "- Use `numpy.strings` documentation: https://numpy.org/doc/stable/reference/routines.strings.html\n",
    "- Functions you'll use: `upper()`, `str_len()`, `count()`, `endswith()`\n",
    "- Use boolean indexing with the results of string comparisons\n",
    "\n",
    "**Example:**\n",
    "```python\n",
    "terms = np.array(['physics', 'optics', 'energy'])\n",
    "result = analyze_physics_terms(terms)\n",
    "# result['uppercase_terms'] would be ['PHYSICS', 'OPTICS', 'ENERGY']\n",
    "# result['long_terms'] would be ['PHYSICS', 'OPTICS', 'ENERGY'] (all > 5 chars)\n",
    "# result['i_counts'] would be [1, 1, 0] (count of 'I' in each term)\n",
    "# result['ends_with_s'] would be [True, True, False] (which end with 'S')\n",
    "# result['root_words'] would be ['PHYS', 'OPT', 'ENERGY'] (suffixes removed)\n",
    "```"
   ]
  },
  {
   "cell_type": "code",
   "execution_count": 2,
   "id": "a9008d84",
   "metadata": {
    "tags": [
     "otter_assign_solution_cell"
    ]
   },
   "outputs": [],
   "source": [
    "def analyze_physics_terms(terms):\n",
    "    # BEGIN SOLUTION NO PROMPT\n",
    "    \"\"\"\n",
    "    Analyze physics terminology using numpy.strings operations.\n",
    "    \n",
    "    Parameters:\n",
    "    terms (numpy array): Array of physics terms as strings\n",
    "    \n",
    "    Returns:\n",
    "    dict: Dictionary containing analysis results\n",
    "    \"\"\"\n",
    "    # Convert to uppercase (note: capitalize actually makes first letter upper, rest lower)\n",
    "    upper_terms = np.strings.upper(terms)  # Changed to upper() for true uppercase\n",
    "    \n",
    "    # Filter terms longer than 5 characters\n",
    "    lengths = np.strings.str_len(upper_terms)\n",
    "    long_terms = upper_terms[lengths > 5]\n",
    "    \n",
    "    # Count 'I' characters in each term\n",
    "    i_counts = np.strings.count(upper_terms, 'I')\n",
    "    \n",
    "    # Find terms ending with 'S'\n",
    "    ends_with_s = np.strings.endswith(upper_terms, 'S')\n",
    "    \n",
    "    # Create root words by removing common physics suffixes\n",
    "    root_words = []\n",
    "    suffixes_to_remove = ['ICS', 'ION', 'URE']  # Common physics suffixes\n",
    "    \n",
    "    for term in upper_terms:\n",
    "        root = term\n",
    "        # Try each suffix and remove if found at the end\n",
    "        for suffix in suffixes_to_remove:\n",
    "            if np.strings.endswith([root], suffix)[0]:\n",
    "                # Remove the suffix from the end using string slicing\n",
    "                root = root[:-len(suffix)]\n",
    "                break\n",
    "        root_words.append(root)\n",
    "    \n",
    "    root_words = np.array(root_words)\n",
    "    \n",
    "    return {\n",
    "        'uppercase_terms': upper_terms,\n",
    "        'long_terms': long_terms,\n",
    "        'i_counts': i_counts,\n",
    "        'ends_with_s': ends_with_s,\n",
    "        'root_words': root_words\n",
    "    }\n",
    "# END SOLUTION\n",
    "\"\"\" # BEGIN PROMPT\n",
    "#write code here\n",
    "return {\n",
    "        'uppercase_terms': upper_terms,\n",
    "        'long_terms': long_terms,\n",
    "        'i_counts': i_counts,\n",
    "        'ends_with_s': ends_with_s,\n",
    "        'root_words': root_words\n",
    "    }\n",
    "\"\"\"; # END PROMPT\n"
   ]
  },
  {
   "cell_type": "code",
   "execution_count": null,
   "id": "0587328a",
   "metadata": {
    "deletable": false,
    "editable": false
   },
   "outputs": [],
   "source": [
    "grader.check(\"q1\")"
   ]
  },
  {
   "cell_type": "markdown",
   "id": "06530601",
   "metadata": {
    "deletable": false,
    "editable": false
   },
   "source": [
    "## **Question 2**: Creating an Earthquake Class\n",
    "\n",
    "**Your task:**\n",
    "Create a class called `Earthquake` that models seismic events and provides methods to analyze earthquake properties.\n",
    "\n",
    "**Requirements:**\n",
    "Define a class with an `__init__` method and several analysis methods using basic mathematical operations.\n",
    "\n",
    "**Class Specifications:**\n",
    "\n",
    "Your `Earthquake` class should have:\n",
    "\n",
    "**Constructor: `__init__(self, magnitude, depth_km, distance_km)`**\n",
    "- `magnitude`: Richter scale magnitude (float)\n",
    "- `depth_km`: depth of earthquake focus in kilometers (float) \n",
    "- `distance_km`: distance from earthquake epicenter in kilometers (float)\n",
    "\n",
    "**Methods to implement:**\n",
    "\n",
    "1. **`energy_joules(self)`**\n",
    "   - Calculate released energy using: Energy = 10^(11.8 + 1.5 * magnitude) Joules\n",
    "   - Return the energy as a float\n",
    "\n",
    "2. **`intensity_scale(self)`** \n",
    "   - Calculate Modified Mercalli intensity using: I = magnitude + 3.0 * log10(depth_km) - 3.0 * log10(distance_km)\n",
    "   - Use `math.log10()` for the logarithm\n",
    "   - Return the intensity as a float\n",
    "\n",
    "3. **`classification(self)`**\n",
    "   - Return earthquake classification as a string based on magnitude:\n",
    "     - magnitude < 3.0: \"Minor\"\n",
    "     - 3.0 ≤ magnitude < 5.0: \"Light\" \n",
    "     - 5.0 ≤ magnitude < 7.0: \"Moderate\"\n",
    "     - magnitude ≥ 7.0: \"Major\"\n",
    "\n",
    "**Example:**\n",
    "```python\n",
    "quake = Earthquake(magnitude=6.5, depth_km=10.0, distance_km=50.0)\n",
    "energy = quake.energy_joules()  # Calculate energy released\n",
    "intensity = quake.intensity_scale()  # Calculate intensity  \n",
    "classification = quake.classification()  # Returns \"Moderate\"\n",
    "```\n",
    "\n",
    "Write your `Earthquake` class below:"
   ]
  },
  {
   "cell_type": "code",
   "execution_count": 11,
   "id": "afa6c84f",
   "metadata": {
    "tags": [
     "otter_assign_solution_cell"
    ]
   },
   "outputs": [],
   "source": [
    "class Earthquake:\n",
    "    # BEGIN SOLUTION NO PROMPT\n",
    "    \"\"\"\n",
    "    A class representing an earthquake for geophysics calculations.\n",
    "    \"\"\"\n",
    "    \n",
    "    def __init__(self, magnitude, depth_km, distance_km):\n",
    "        \"\"\"\n",
    "        Initialize an earthquake object.\n",
    "        \n",
    "        Parameters:\n",
    "        - magnitude: Richter scale magnitude (float)\n",
    "        - depth_km: depth of earthquake focus in kilometers (float)\n",
    "        - distance_km: distance from earthquake epicenter in kilometers (float)\n",
    "        \"\"\"\n",
    "        self.magnitude = magnitude\n",
    "        self.depth_km = depth_km\n",
    "        self.distance_km = distance_km\n",
    "    \n",
    "    def energy_joules(self):\n",
    "        \"\"\"\n",
    "        Calculate energy released by earthquake.\n",
    "        \n",
    "        Returns:\n",
    "        - Energy in Joules using formula: 10^(11.8 + 1.5 * magnitude)\n",
    "        \"\"\"\n",
    "        exponent = 11.8 + 1.5 * self.magnitude\n",
    "        return 10 ** exponent\n",
    "    \n",
    "    def intensity_scale(self):\n",
    "        \"\"\"\n",
    "        Calculate Modified Mercalli intensity.\n",
    "        \n",
    "        Returns:\n",
    "        - Intensity using formula: magnitude + 3*log10(depth) - 3*log10(distance)\n",
    "        \"\"\"\n",
    "        intensity = self.magnitude + 3.0 * math.log10(self.depth_km) - 3.0 * math.log10(self.distance_km)\n",
    "        return intensity\n",
    "    \n",
    "    def classification(self):\n",
    "        \"\"\"\n",
    "        Classify earthquake based on magnitude.\n",
    "        \n",
    "        Returns:\n",
    "        - String classification: \"Minor\", \"Light\", \"Moderate\", or \"Major\"\n",
    "        \"\"\"\n",
    "        if self.magnitude < 3.0:\n",
    "            return \"Minor\"\n",
    "        elif self.magnitude < 5.0:\n",
    "            return \"Light\"\n",
    "        elif self.magnitude < 7.0:\n",
    "            return \"Moderate\"\n",
    "        else:\n",
    "            return \"Major\"\n",
    "    # END SOLUTION\n",
    "    \"\"\" # BEGIN PROMPT\n",
    "    # Write your Earthquake class here!\n",
    "    pass\n",
    "    \"\"\"; # END PROMPT"
   ]
  },
  {
   "cell_type": "code",
   "execution_count": null,
   "id": "e008c5ef",
   "metadata": {
    "deletable": false,
    "editable": false
   },
   "outputs": [],
   "source": [
    "grader.check(\"q2\")"
   ]
  },
  {
   "cell_type": "markdown",
   "id": "2ec1f848",
   "metadata": {
    "deletable": false,
    "editable": false
   },
   "source": [
    "## **Question 3**: Safe Factorial Function with Error Handling\n",
    "\n",
    "**Your task:**\n",
    "Write a function `safe_factorial(n)` that calculates the factorial of a number with comprehensive error handling using try/except/else/finally blocks.\n",
    "\n",
    "**Requirements:**\n",
    "The function must validate inputs and handle various error conditions before performing the calculation.\n",
    "\n",
    "**Function Specifications:**\n",
    "\n",
    "Your `safe_factorial(n)` function should:\n",
    "\n",
    "**Required Error Checks:**\n",
    "1. **Type validation**: Input must be an integer (not float, string, etc.)\n",
    "2. **Value constraints**: \n",
    "   - Number must be non-negative (n ≥ 0)\n",
    "   - Number must be reasonably small to avoid overflow (n ≤ 170)\n",
    "3. **Mathematical correctness**: Handle potential computational issues\n",
    "\n",
    "**Return behavior:**\n",
    "- **Success**: Return the factorial as an integer (n!)\n",
    "- **Any error**: Return a descriptive error message as a string in the format: `\"Error: [descriptive message]\"`\n",
    "\n",
    "**Structure requirements:**\n",
    "- Use `try` block for the main calculation\n",
    "- Use multiple `except` blocks to catch and handle different types of errors\n",
    "- Include proper input validation within the try block\n",
    "\n",
    "**Mathematical Background:**\n",
    "- Factorial: n! = n × (n-1) × (n-2) × ... × 2 × 1\n",
    "- Special case: 0! = 1\n",
    "- Only defined for non-negative integers\n",
    "\n",
    "**Parameters:**\n",
    "- `n`: The number to calculate factorial for\n",
    "\n",
    "**Example:**\n",
    "```python\n",
    "result1 = safe_factorial(5)      # Returns 120\n",
    "result2 = safe_factorial(-3)     # Returns \"Error: Factorial not defined for negative numbers\"\n",
    "result3 = safe_factorial(\"5\")    # Returns \"Error: Input must be an integer\"\n",
    "result4 = safe_factorial(200)    # Returns \"Error: Input too large, may cause overflow\"\n",
    "```\n",
    "\n",
    "Hint: Your except blocks can be of this form:\n",
    "```python\n",
    "   except TypeError:\n",
    "        return \"Error: Invalid input type for factorial calculation\"\n",
    "    except ValueError as e:\n",
    "        return f\"Error: Mathematical error - {str(e)}\"\n",
    "    except OverflowError:\n",
    "        return \"Error: Number too large for calculation\"\n",
    "    except MemoryError:\n",
    "        return \"Error: Insufficient memory for calculation\"\n",
    "    except Exception as e:\n",
    "        return f\"Error: Unexpected error - {str(e)}\"\n",
    "```\n",
    "\n",
    "Write your function below:"
   ]
  },
  {
   "cell_type": "code",
   "execution_count": 18,
   "id": "b775a1ba",
   "metadata": {
    "tags": [
     "otter_assign_solution_cell"
    ]
   },
   "outputs": [],
   "source": [
    "def safe_factorial(n):\n",
    "    # BEGIN SOLUTION NO PROMPT\n",
    "    \"\"\"\n",
    "    Calculate factorial of a number with comprehensive error handling.\n",
    "    \n",
    "    Parameters:\n",
    "    - n: The number to calculate factorial for\n",
    "    \n",
    "    Returns:\n",
    "    - Integer factorial value, or error message string\n",
    "    \"\"\"\n",
    "    \n",
    "    try:\n",
    "        # Type validation - must be an integer\n",
    "        if not isinstance(n, int):\n",
    "            return \"Error: Input must be an integer\"\n",
    "        \n",
    "        # Value constraint validation\n",
    "        if n < 0:\n",
    "            return \"Error: Factorial not defined for negative numbers\"\n",
    "            \n",
    "        if n > 170:\n",
    "            return \"Error: Input too large, may cause overflow\"\n",
    "        \n",
    "        # Special case: 0! = 1\n",
    "        if n == 0:\n",
    "            return 1\n",
    "            \n",
    "        # Calculate factorial iteratively to avoid recursion limit issues\n",
    "        result = 1\n",
    "        for i in range(1, n + 1):\n",
    "            result *= i\n",
    "            \n",
    "        # Additional check for unexpected large results\n",
    "        if result < 0:  # Integer overflow detection\n",
    "            return \"Error: Integer overflow occurred during calculation\"\n",
    "            \n",
    "    except TypeError:\n",
    "        return \"Error: Invalid input type for factorial calculation\"\n",
    "    except ValueError as e:\n",
    "        return f\"Error: Mathematical error - {str(e)}\"\n",
    "    except OverflowError:\n",
    "        return \"Error: Number too large for calculation\"\n",
    "    except MemoryError:\n",
    "        return \"Error: Insufficient memory for calculation\"\n",
    "    except Exception as e:\n",
    "        return f\"Error: Unexpected error - {str(e)}\"\n",
    "    \n",
    "    return result\n",
    "    # END SOLUTION\n",
    "    \"\"\" # BEGIN PROMPT\n",
    "    # Write your safe_factorial function here!\n",
    "    pass\n",
    "    \"\"\"; # END PROMPT"
   ]
  },
  {
   "cell_type": "code",
   "execution_count": null,
   "id": "eb06431f",
   "metadata": {
    "deletable": false,
    "editable": false
   },
   "outputs": [],
   "source": [
    "grader.check(\"q3\")"
   ]
  },
  {
   "cell_type": "markdown",
   "id": "39ec6626",
   "metadata": {
    "deletable": false,
    "editable": false
   },
   "source": [
    "## Required disclosure of use of AI technology\n",
    "\n",
    "Please indicate whether you used AI to complete this homework. If you did, explain how you used it in the python cell below, as a comment."
   ]
  },
  {
   "cell_type": "code",
   "execution_count": 26,
   "id": "b8f3cbc5",
   "metadata": {
    "tags": [
     "otter_assign_solution_cell"
    ]
   },
   "outputs": [],
   "source": [
    "# BEGIN SOLUTION NO PROMPT\n",
    "# END SOLUTION\n",
    "\"\"\" # BEGIN PROMPT\n",
    "\"\"\"\n",
    "# write ai disclosure here:\n",
    "\n",
    "\"\"\"\n",
    "\"\"\"; # END PROMPT"
   ]
  },
  {
   "cell_type": "markdown",
   "id": "31d0ae14",
   "metadata": {
    "deletable": false,
    "editable": false
   },
   "source": [
    "## Submission\n",
    "\n",
    "Make sure you have run all cells in your notebook in order before running the cell below, so that all images/graphs appear in the output. The cell below will generate a zip file for you to submit.\n",
    "\n",
    "Upload the .zip file to Gradescope!"
   ]
  },
  {
   "cell_type": "code",
   "execution_count": null,
   "id": "6ab0e45f",
   "metadata": {
    "deletable": false,
    "editable": false
   },
   "outputs": [],
   "source": [
    "grader.export(pdf=False, force_save=True, run_tests=True)"
   ]
  },
  {
   "cell_type": "markdown",
   "id": "6e4a7c5e",
   "metadata": {},
   "source": [
    " "
   ]
  }
 ],
 "metadata": {
  "kernelspec": {
   "display_name": "otter_grading",
   "language": "python",
   "name": "python3"
  },
  "language_info": {
   "codemirror_mode": {
    "name": "ipython",
    "version": 3
   },
   "file_extension": ".py",
   "mimetype": "text/x-python",
   "name": "python",
   "nbconvert_exporter": "python",
   "pygments_lexer": "ipython3",
   "version": "3.12.11"
  },
  "otter": {
   "OK_FORMAT": true,
   "tests": {
    "q1": {
     "name": "q1",
     "points": null,
     "suites": [
      {
       "cases": [
        {
         "code": ">>> test_terms = np.array(['physics', 'energy', 'quantum'])\n>>> result = analyze_physics_terms(test_terms)\n>>> isinstance(result, dict) and all((key in result for key in ['uppercase_terms', 'long_terms', 'i_counts', 'ends_with_s', 'root_words']))\nTrue",
         "hidden": false,
         "locked": false,
         "points": 1
        },
        {
         "code": ">>> test_terms = np.array(['physics', 'energy'])\n>>> result = analyze_physics_terms(test_terms)\n>>> expected_uppercase = np.array(['PHYSICS', 'ENERGY'])\n>>> np.array_equal(result['uppercase_terms'], expected_uppercase)\nTrue",
         "hidden": false,
         "locked": false,
         "points": 1
        },
        {
         "code": ">>> test_terms = np.array(['atom', 'quantum', 'proton'])\n>>> result = analyze_physics_terms(test_terms)\n>>> expected_long = np.array(['QUANTUM', 'PROTON'])\n>>> np.array_equal(result['long_terms'], expected_long)\nTrue",
         "hidden": false,
         "locked": false,
         "points": 1
        },
        {
         "code": ">>> test_terms = np.array(['optics', 'kinetics'])\n>>> result = analyze_physics_terms(test_terms)\n>>> expected_i_counts = np.array([1, 2])\n>>> np.array_equal(result['i_counts'], expected_i_counts)\nTrue",
         "hidden": false,
         "locked": false,
         "points": 1
        },
        {
         "code": ">>> test_terms = np.array(['physics', 'energy', 'atoms'])\n>>> result = analyze_physics_terms(test_terms)\n>>> expected_ends_s = np.array([True, False, True])\n>>> np.array_equal(result['ends_with_s'], expected_ends_s)\nTrue",
         "hidden": false,
         "locked": false,
         "points": 1
        },
        {
         "code": ">>> test_terms = np.array(['mechanics', 'thermodynamics', 'gamma'])\n>>> result = analyze_physics_terms(test_terms)\n>>> expected_roots = np.array(['MECHAN', 'THERMODYNAM', 'GAMMA'])\n>>> np.array_equal(result['root_words'], expected_roots)\nTrue",
         "hidden": false,
         "locked": false,
         "points": 1
        },
        {
         "code": ">>> test_terms = np.array(['photon', 'electronics', 'field'])\n>>> result = analyze_physics_terms(test_terms)\n>>> has_long_terms = len(result['long_terms']) == 2\n>>> has_correct_i_count = result['i_counts'][1] == 1\n>>> bool(has_long_terms and has_correct_i_count)\nTrue",
         "hidden": false,
         "locked": false,
         "points": 1
        },
        {
         "code": ">>> test_terms = np.array(['physics', 'optics'])\n>>> result = analyze_physics_terms(test_terms)\n>>> expected_upper = np.array(['PHYSICS', 'OPTICS'])\n>>> expected_long = np.array(['PHYSICS', 'OPTICS'])\n>>> expected_roots = np.array(['PHYS', 'OPT'])\n>>> check1 = np.array_equal(result['uppercase_terms'], expected_upper)\n>>> check2 = np.array_equal(result['long_terms'], expected_long)\n>>> check3 = np.array_equal(result['root_words'], expected_roots)\n>>> check1 and check2 and check3\nTrue",
         "hidden": false,
         "locked": false,
         "points": 1
        }
       ],
       "scored": true,
       "setup": "",
       "teardown": "",
       "type": "doctest"
      }
     ]
    },
    "q2": {
     "name": "q2",
     "points": null,
     "suites": [
      {
       "cases": [
        {
         "code": ">>> quake = Earthquake(5.5, 15.0, 100.0)\n>>> hasattr(quake, 'magnitude') and hasattr(quake, 'depth_km') and hasattr(quake, 'distance_km')\nTrue",
         "hidden": false,
         "locked": false,
         "points": 1
        },
        {
         "code": ">>> quake = Earthquake(4.0, 10.0, 50.0)\n>>> energy = quake.energy_joules()\n>>> expected_energy = 10 ** (11.8 + 1.5 * 4.0)\n>>> abs(energy - expected_energy) < 10000000000.0\nTrue",
         "hidden": false,
         "locked": false,
         "points": 1
        },
        {
         "code": ">>> quake = Earthquake(5.0, 10.0, 100.0)\n>>> intensity = quake.intensity_scale()\n>>> expected_intensity = 5.0 + 3.0 * math.log10(10.0) - 3.0 * math.log10(100.0)\n>>> abs(intensity - expected_intensity) < 1e-10\nTrue",
         "hidden": false,
         "locked": false,
         "points": 1
        },
        {
         "code": ">>> minor_quake = Earthquake(2.5, 5.0, 20.0)\n>>> light_quake = Earthquake(4.0, 10.0, 50.0)\n>>> moderate_quake = Earthquake(6.0, 15.0, 100.0)\n>>> major_quake = Earthquake(7.5, 20.0, 200.0)\n>>> minor_quake.classification() == 'Minor' and light_quake.classification() == 'Light' and (moderate_quake.classification() == 'Moderate') and (major_quake.classification() == 'Major')\nTrue",
         "hidden": false,
         "locked": false,
         "points": 1
        },
        {
         "code": ">>> boundary_light = Earthquake(3.0, 10.0, 50.0)\n>>> boundary_moderate = Earthquake(5.0, 10.0, 50.0)\n>>> boundary_major = Earthquake(7.0, 10.0, 50.0)\n>>> boundary_light.classification() == 'Light' and boundary_moderate.classification() == 'Moderate' and (boundary_major.classification() == 'Major')\nTrue",
         "hidden": false,
         "locked": false,
         "points": 1
        },
        {
         "code": ">>> quake = Earthquake(6.5, 12.0, 80.0)\n>>> energy_ok = isinstance(quake.energy_joules(), (int, float))\n>>> intensity_ok = isinstance(quake.intensity_scale(), (int, float))\n>>> classification_ok = isinstance(quake.classification(), str)\n>>> magnitude_ok = quake.classification() == 'Moderate'\n>>> energy_ok and intensity_ok and classification_ok and magnitude_ok\nTrue",
         "hidden": false,
         "locked": false,
         "points": 1
        }
       ],
       "scored": true,
       "setup": "",
       "teardown": "",
       "type": "doctest"
      }
     ]
    },
    "q3": {
     "name": "q3",
     "points": null,
     "suites": [
      {
       "cases": [
        {
         "code": ">>> result = safe_factorial(5)\n>>> isinstance(result, int) and result == 120\nTrue",
         "hidden": false,
         "locked": false,
         "points": 1
        },
        {
         "code": ">>> result = safe_factorial(0)\n>>> isinstance(result, int) and result == 1\nTrue",
         "hidden": false,
         "locked": false,
         "points": 1
        },
        {
         "code": ">>> result = safe_factorial('5')\n>>> isinstance(result, str) and result.startswith('Error:')\nTrue",
         "hidden": false,
         "locked": false,
         "points": 1
        },
        {
         "code": ">>> result = safe_factorial(-5)\n>>> isinstance(result, str) and result.startswith('Error:')\nTrue",
         "hidden": false,
         "locked": false,
         "points": 1
        },
        {
         "code": ">>> result = safe_factorial(5.5)\n>>> isinstance(result, str) and result.startswith('Error:')\nTrue",
         "hidden": false,
         "locked": false,
         "points": 1
        },
        {
         "code": ">>> result = safe_factorial(200)\n>>> isinstance(result, str) and result.startswith('Error:')\nTrue",
         "hidden": false,
         "locked": false,
         "points": 1
        },
        {
         "code": ">>> result = safe_factorial(4)\n>>> isinstance(result, int) and result == 24\nTrue",
         "hidden": false,
         "locked": false,
         "points": 1
        }
       ],
       "scored": true,
       "setup": "",
       "teardown": "",
       "type": "doctest"
      }
     ]
    }
   }
  }
 },
 "nbformat": 4,
 "nbformat_minor": 5
}

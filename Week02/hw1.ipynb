{
 "cells": [
  {
   "cell_type": "code",
   "execution_count": null,
   "id": "fbf7865a",
   "metadata": {
    "deletable": false,
    "editable": false
   },
   "outputs": [],
   "source": [
    "# Initialize Otter\n",
    "import otter\n",
    "grader = otter.Notebook(\"hw1.ipynb\")"
   ]
  },
  {
   "cell_type": "markdown",
   "id": "5b16ce61",
   "metadata": {},
   "source": [
    "# Homework 1"
   ]
  },
  {
   "cell_type": "code",
   "execution_count": null,
   "id": "ab0f92d4",
   "metadata": {},
   "outputs": [],
   "source": [
    "# Setup (standard library only)\n",
    "# You may import math if needed in your solutions.\n",
    "import math"
   ]
  },
  {
   "cell_type": "markdown",
   "id": "8e285943",
   "metadata": {},
   "source": [
    "## **Question 1**: Numbers, Units, and Floating-Point"
   ]
  },
  {
   "cell_type": "markdown",
   "id": "96038c8b",
   "metadata": {
    "deletable": false,
    "editable": false
   },
   "source": [
    "### Q1a: Cyclotron frequency\n",
    "Given charge q (C), magnetic field B (T), and electron mass m_e (kg), compute the cyclotron angular frequency ω_c = q B / m_e in rad/s.\n",
    "\n",
    "Implement `electron_cyclotron_omega(q_C, B_T, m_e_kg)` and return a float."
   ]
  },
  {
   "cell_type": "code",
   "execution_count": null,
   "id": "6bc436c8",
   "metadata": {
    "tags": [
     "otter_answer_cell"
    ]
   },
   "outputs": [],
   "source": [
    "def electron_cyclotron_omega(q_C, B_T, m_e_kg):\n",
    "    # Write your code here!"
   ]
  },
  {
   "cell_type": "code",
   "execution_count": null,
   "id": "2a977258",
   "metadata": {
    "deletable": false,
    "editable": false
   },
   "outputs": [],
   "source": [
    "grader.check(\"q1a\")"
   ]
  },
  {
   "cell_type": "markdown",
   "id": "eb13f3bb",
   "metadata": {
    "deletable": false,
    "editable": false
   },
   "source": [
    "### Q1b: Unit conversion (Tesla to Gauss)\n",
    "1 tesla = 10,000 gauss. Implement `tesla_to_gauss(B_T)` that returns the equivalent value in gauss (float)."
   ]
  },
  {
   "cell_type": "code",
   "execution_count": null,
   "id": "8ed7cc57",
   "metadata": {
    "tags": [
     "otter_answer_cell"
    ]
   },
   "outputs": [],
   "source": [
    "def tesla_to_gauss(B_T):\n",
    "    # Write your code here!"
   ]
  },
  {
   "cell_type": "code",
   "execution_count": null,
   "id": "48898ce1",
   "metadata": {
    "deletable": false,
    "editable": false
   },
   "outputs": [],
   "source": [
    "grader.check(\"q1b\")"
   ]
  },
  {
   "cell_type": "markdown",
   "id": "47e91a18",
   "metadata": {
    "deletable": false,
    "editable": false
   },
   "source": [
    "### Q1c: Floating-point near-equality\n",
    "Implement `nearly_equal(a, b, tol)` that returns True if |a - b| <= tol, otherwise False."
   ]
  },
  {
   "cell_type": "code",
   "execution_count": null,
   "id": "a95596dd",
   "metadata": {
    "tags": [
     "otter_answer_cell"
    ]
   },
   "outputs": [],
   "source": [
    "def nearly_equal(a, b, tol):\n",
    "    # Write your code here!"
   ]
  },
  {
   "cell_type": "code",
   "execution_count": null,
   "id": "b5bf383f",
   "metadata": {
    "deletable": false,
    "editable": false
   },
   "outputs": [],
   "source": [
    "grader.check(\"q1c\")"
   ]
  },
  {
   "cell_type": "markdown",
   "id": "5e26070a",
   "metadata": {},
   "source": [
    "## **Question 2**: lists, tuples"
   ]
  },
  {
   "cell_type": "markdown",
   "id": "46f49806",
   "metadata": {
    "deletable": false,
    "editable": false
   },
   "source": [
    "### Q2a: Basic list stats\n",
    "Implement `basic_stats(values)` returning a tuple `(mean, vmin, vmax)` using built-ins `sum`, `len`, `min`, `max`. If `values` is empty, return `(None, None, None)`."
   ]
  },
  {
   "cell_type": "code",
   "execution_count": null,
   "id": "23c369d8",
   "metadata": {
    "tags": [
     "otter_answer_cell"
    ]
   },
   "outputs": [],
   "source": [
    "def basic_stats(values):\n",
    "    # Write your code here!\n",
    "    return (mean, minimum, maximum)"
   ]
  },
  {
   "cell_type": "code",
   "execution_count": null,
   "id": "cf4308b4",
   "metadata": {
    "deletable": false,
    "editable": false
   },
   "outputs": [],
   "source": [
    "grader.check(\"q2a\")"
   ]
  },
  {
   "cell_type": "markdown",
   "id": "0ba29f9a",
   "metadata": {
    "deletable": false,
    "editable": false
   },
   "source": [
    "### Q2b: Unique species\n",
    "Implement `unique_species(observed)` where `observed` is a list like `[\"H\", \"He\", \"H\", \"O\", \"N\", \"N\"]`. Return a tuple `(species_set, count)` where `species_set` is a set of unique items and `count` is its length. For the aforementioned\n",
    "list, the output would be `((\"H\", \"He\", \"N\", \"O\"), 4)`"
   ]
  },
  {
   "cell_type": "code",
   "execution_count": null,
   "id": "e2e288d4",
   "metadata": {
    "tags": [
     "otter_answer_cell"
    ]
   },
   "outputs": [],
   "source": [
    "def unique_species(observed):\n",
    "    # Write your code here!"
   ]
  },
  {
   "cell_type": "code",
   "execution_count": null,
   "id": "5ee83dec",
   "metadata": {
    "deletable": false,
    "editable": false
   },
   "outputs": [],
   "source": [
    "grader.check(\"q2b\")"
   ]
  },
  {
   "cell_type": "markdown",
   "id": "83830e83",
   "metadata": {},
   "source": [
    "## **Question 3**: Time-series slicing (lists)"
   ]
  },
  {
   "cell_type": "markdown",
   "id": "119875c6",
   "metadata": {
    "deletable": false,
    "editable": false
   },
   "source": [
    "Given a uniformly sampled list `samples` (e.g., acceleration readings), implement `slice_time_series(samples, first_n, step)` that returns a tuple of two lists:\n",
    "1) the first `first_n` samples, and\n",
    "2) every `step`-th sample starting at index 0 (i.e. if step=2, `[1,2,3,4,5,6,7,8,9,10]` would become `[1,3,5,7,9]`).\n",
    "\n",
    "Use only list slicing/indexing; do not use loops."
   ]
  },
  {
   "cell_type": "code",
   "execution_count": null,
   "id": "188ea236",
   "metadata": {
    "tags": [
     "otter_answer_cell"
    ]
   },
   "outputs": [],
   "source": [
    "def slice_time_series(samples, first_n, step):\n",
    "    # Write your code here!\n",
    "    return (first, stepped)"
   ]
  },
  {
   "cell_type": "code",
   "execution_count": null,
   "id": "42c95718",
   "metadata": {
    "deletable": false,
    "editable": false
   },
   "outputs": [],
   "source": [
    "grader.check(\"q3\")"
   ]
  },
  {
   "cell_type": "markdown",
   "id": "ad7d229f",
   "metadata": {
    "deletable": false,
    "editable": false
   },
   "source": [
    "## **Question 4:** F-strings!\n",
    "\n",
    "We want to calculate how far a ball will drop in Earth's gravity in a certain amount of time. To help with grading, assume g = 9.8 m/s and use SI units for your calculations. Complete the function below and have it return a string saying `\"The ball will fall ___ m in ___ seconds.\"` Replace the blanks with your values, and be careful about spacing. Use an f-string! Don't round your answer. Look at how it compares to what you calculate.\n",
    "\n",
    "Write a second function called `roundedDistance` that is similar to your first function, but takes an argument `digits` with a default value of 1. Use a built in function to round the value of distance that you return."
   ]
  },
  {
   "cell_type": "code",
   "execution_count": null,
   "id": "1f0a4ad7",
   "metadata": {
    "tags": [
     "otter_answer_cell"
    ]
   },
   "outputs": [],
   "source": [
    "def distance(time):\n",
    "    # Write your code here!"
   ]
  },
  {
   "cell_type": "code",
   "execution_count": null,
   "id": "b1208dbc",
   "metadata": {
    "tags": [
     "otter_answer_cell"
    ]
   },
   "outputs": [],
   "source": [
    "...\n",
    "    # Write your code here!"
   ]
  },
  {
   "cell_type": "code",
   "execution_count": null,
   "id": "a08617c3",
   "metadata": {
    "deletable": false,
    "editable": false
   },
   "outputs": [],
   "source": [
    "grader.check(\"q4\")"
   ]
  },
  {
   "cell_type": "markdown",
   "id": "ceb20882",
   "metadata": {
    "deletable": false,
    "editable": false
   },
   "source": [
    "## **Question 5:** Defaults in functions and special characters\n",
    "\n",
    "In this exercise, you will write a function called `fancy_message` that returns the input message in quotes followed by a new line. If no message is put, set the default `message = \"Hello World\"`. The function should also allow the user to specify a number of times to repeat the message. If no number is specified, set `repeat = 1`. (Note: loops aren't required for this problem, look it up if you aren't sure how.)\n",
    "\n",
    "As an example, if you have `message = \"message to repeat\"` and set `repeat = 2`, you should see:\n",
    "\n",
    "```python\n",
    "\"message to repeat\"\n",
    "\"message to repeat\"\n",
    "```"
   ]
  },
  {
   "cell_type": "code",
   "execution_count": null,
   "id": "69271fd4",
   "metadata": {
    "tags": [
     "otter_answer_cell"
    ]
   },
   "outputs": [],
   "source": [
    "# Write your code here!"
   ]
  },
  {
   "cell_type": "code",
   "execution_count": null,
   "id": "a94bfe9c",
   "metadata": {
    "deletable": false,
    "editable": false
   },
   "outputs": [],
   "source": [
    "grader.check(\"q5\")"
   ]
  },
  {
   "cell_type": "markdown",
   "id": "25df4fb9",
   "metadata": {
    "deletable": false,
    "editable": false,
    "vscode": {
     "languageId": "raw"
    }
   },
   "source": [
    "## Required disclosure of use of AI technology\n",
    "\n",
    "Please indicate whether you used AI to complete this homework. If you did, explain how you used it in the markdown cell below."
   ]
  },
  {
   "cell_type": "markdown",
   "id": "58c9a5e5",
   "metadata": {
    "deletable": false,
    "editable": false
   },
   "source": [
    "## Submission\n",
    "\n",
    "Make sure you have run all cells in your notebook in order before running the cell below, so that all images/graphs appear in the output. The cell below will generate a zip file for you to submit.\n",
    "\n",
    "Upload the .zip file to Gradescope!"
   ]
  },
  {
   "cell_type": "code",
   "execution_count": null,
   "id": "89019c7a",
   "metadata": {
    "deletable": false,
    "editable": false
   },
   "outputs": [],
   "source": [
    "grader.export(pdf=False, force_save=True, run_tests=True)"
   ]
  },
  {
   "cell_type": "markdown",
   "id": "0c4b7d75",
   "metadata": {},
   "source": [
    " "
   ]
  }
 ],
 "metadata": {
  "kernelspec": {
   "display_name": "otter_grading",
   "language": "python",
   "name": "python3"
  },
  "language_info": {
   "codemirror_mode": {
    "name": "ipython",
    "version": 3
   },
   "file_extension": ".py",
   "mimetype": "text/x-python",
   "name": "python",
   "nbconvert_exporter": "python",
   "pygments_lexer": "ipython3",
   "version": "3.12.11"
  },
  "otter": {
   "OK_FORMAT": true,
   "tests": {
    "q1a": {
     "name": "q1a",
     "points": null,
     "suites": [
      {
       "cases": [
        {
         "code": ">>> abs(electron_cyclotron_omega(1.602176634e-19, 0.75, 9.1093837015e-31) - 1.602176634e-19 * 0.75 / 9.1093837015e-31) < 1e-05\nTrue",
         "hidden": false,
         "locked": false,
         "points": 1
        },
        {
         "code": ">>> abs(electron_cyclotron_omega(1.0, 2.0, 4.0) - 0.5) < 1e-05\nTrue",
         "hidden": false,
         "locked": false,
         "points": 1
        }
       ],
       "scored": true,
       "setup": "",
       "teardown": "",
       "type": "doctest"
      }
     ]
    },
    "q1b": {
     "name": "q1b",
     "points": null,
     "suites": [
      {
       "cases": [
        {
         "code": ">>> abs(tesla_to_gauss(0.0025) - 25.0) < 1e-05\nTrue",
         "hidden": false,
         "locked": false,
         "points": 1
        },
        {
         "code": ">>> abs(tesla_to_gauss(0.0001234) - 1.234) < 1e-05\nTrue",
         "hidden": false,
         "locked": false,
         "points": 1
        }
       ],
       "scored": true,
       "setup": "",
       "teardown": "",
       "type": "doctest"
      }
     ]
    },
    "q1c": {
     "name": "q1c",
     "points": null,
     "suites": [
      {
       "cases": [
        {
         "code": ">>> nearly_equal(0.1 + 0.2, 0.3, 1e-12) == True\nTrue",
         "hidden": false,
         "locked": false,
         "points": 1
        },
        {
         "code": ">>> nearly_equal(55, 50, 1) == False\nTrue",
         "hidden": false,
         "locked": false,
         "points": 1
        }
       ],
       "scored": true,
       "setup": "",
       "teardown": "",
       "type": "doctest"
      }
     ]
    },
    "q2a": {
     "name": "q2a",
     "points": null,
     "suites": [
      {
       "cases": [
        {
         "code": ">>> basic_stats([4.98, 5.02, 5.01, 4.99, 5.03]) == (5.006, 4.98, 5.03)\nTrue",
         "hidden": false,
         "locked": false,
         "points": 1
        },
        {
         "code": ">>> basic_stats([]) == (None, None, None)\nTrue",
         "hidden": false,
         "locked": false,
         "points": 1
        }
       ],
       "scored": true,
       "setup": "",
       "teardown": "",
       "type": "doctest"
      }
     ]
    },
    "q2b": {
     "name": "q2b",
     "points": null,
     "suites": [
      {
       "cases": [
        {
         "code": ">>> s, n = unique_species(['H', 'He', 'H', 'O'])\n>>> s == {'H', 'He', 'O'} and n == 3\nTrue",
         "hidden": false,
         "locked": false,
         "points": 1
        },
        {
         "code": ">>> unique_species(['H', 'He', 'H', 'O', 'N', 'N']) == ({'H', 'He', 'N', 'O'}, 4)\nTrue",
         "hidden": false,
         "locked": false,
         "points": 1
        }
       ],
       "scored": true,
       "setup": "",
       "teardown": "",
       "type": "doctest"
      }
     ]
    },
    "q3": {
     "name": "q3",
     "points": null,
     "suites": [
      {
       "cases": [
        {
         "code": ">>> samples = [0.0, 0.5, 1.0, 0.5, 0.0, -0.5, -1.0, -0.5]\n>>> first, stepped = slice_time_series(samples, 3, 2)\n>>> first == [0.0, 0.5, 1.0] and stepped == [0.0, 1.0, 0.0, -1.0]\nTrue",
         "hidden": false,
         "locked": false,
         "points": 1
        },
        {
         "code": ">>> samples = [0, 1, 2, 3, 4, 5, 6, 7, 8, 9]\n>>> first, stepped = slice_time_series(samples, 6, 8)\n>>> first == [0, 1, 2, 3, 4, 5] and stepped == [0, 8]\nTrue",
         "hidden": false,
         "locked": false,
         "points": 1
        }
       ],
       "scored": true,
       "setup": "",
       "teardown": "",
       "type": "doctest"
      }
     ]
    },
    "q4": {
     "name": "q4",
     "points": null,
     "suites": [
      {
       "cases": [
        {
         "code": ">>> distance(0) == 'The ball will fall 0.0 m in 0 seconds.'\nTrue",
         "hidden": false,
         "locked": false,
         "points": 1
        },
        {
         "code": ">>> roundedDistance(2.5) == 'The ball will fall 30.6 m in 2.5 seconds.'\nTrue",
         "hidden": false,
         "locked": false,
         "points": 1
        }
       ],
       "scored": true,
       "setup": "",
       "teardown": "",
       "type": "doctest"
      }
     ]
    },
    "q5": {
     "name": "q5",
     "points": null,
     "suites": [
      {
       "cases": [
        {
         "code": ">>> fancy_message() == '\"Hello, World!\"\\n'\nTrue",
         "hidden": false,
         "locked": false,
         "points": 1
        },
        {
         "code": ">>> fancy_message(message='Hello', repeat=2) == '\"Hello\"\\n\"Hello\"\\n'\nTrue",
         "hidden": false,
         "locked": false,
         "points": 1
        }
       ],
       "scored": true,
       "setup": "",
       "teardown": "",
       "type": "doctest"
      }
     ]
    }
   }
  }
 },
 "nbformat": 4,
 "nbformat_minor": 5
}

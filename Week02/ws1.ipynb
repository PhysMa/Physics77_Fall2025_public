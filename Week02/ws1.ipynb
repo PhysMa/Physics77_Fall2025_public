{
 "cells": [
  {
   "cell_type": "code",
   "execution_count": null,
   "id": "035b81a4",
   "metadata": {
    "deletable": false,
    "editable": false
   },
   "outputs": [],
   "source": [
    "# Initialize Otter\n",
    "import otter\n",
    "grader = otter.Notebook(\"ws1.ipynb\")"
   ]
  },
  {
   "cell_type": "markdown",
   "id": "2949619a",
   "metadata": {},
   "source": [
    "# Workshop 1\n",
    "due Tues, Sept 9 at 9pm"
   ]
  },
  {
   "cell_type": "code",
   "execution_count": null,
   "id": "b392ded1",
   "metadata": {
    "deletable": false,
    "editable": false
   },
   "outputs": [],
   "source": [
    "# Setup - Import math for this worksheet\n",
    "import math"
   ]
  },
  {
   "cell_type": "markdown",
   "id": "2a01e151",
   "metadata": {
    "deletable": false,
    "editable": false
   },
   "source": [
    "## **Question 1**: Orbital Mechanics and Built-in Math Operations\n",
    "\n",
    "**Given Constants:**\n",
    "- Earth's orbital radius: r = 1.496 × 10¹¹ m (1 AU)\n",
    "- Gravitational constant: G = 6.674 × 10⁻¹¹ m³/(kg⋅s²)\n",
    "- Solar mass: M = 1.989 × 10³⁰ kg\n",
    "- Earth's mass: m = 5.972 × 10²⁴ kg"
   ]
  },
  {
   "cell_type": "markdown",
   "id": "cd90b908",
   "metadata": {
    "deletable": false,
    "editable": false
   },
   "source": [
    "### Part (a): Orbital Circumference\n",
    "\n",
    "Calculate and return the circumference of Earth's orbit assuming zero eccentricity. Use built in python functions for any necessary constants"
   ]
  },
  {
   "cell_type": "code",
   "execution_count": null,
   "id": "b28ae322",
   "metadata": {
    "tags": [
     "otter_answer_cell"
    ]
   },
   "outputs": [],
   "source": [
    "\n",
    "def orbital_circumference(radius):\n",
    "    # Write your code here!\n"
   ]
  },
  {
   "cell_type": "code",
   "execution_count": null,
   "id": "af872f53",
   "metadata": {
    "deletable": false,
    "editable": false
   },
   "outputs": [],
   "source": [
    "grader.check(\"q1a\")"
   ]
  },
  {
   "cell_type": "markdown",
   "id": "55fc0db9",
   "metadata": {
    "deletable": false,
    "editable": false
   },
   "source": [
    "### Part (b): Gravitational Force\n",
    "\n",
    "Calculate and return the gravitational force between the Sun and Earth using Newton's law: F = GMm/r², ensure this function always returns a positive force for possible negative input values."
   ]
  },
  {
   "cell_type": "code",
   "execution_count": null,
   "id": "c01f26ff",
   "metadata": {
    "tags": [
     "otter_answer_cell"
    ]
   },
   "outputs": [],
   "source": [
    "def gravitational_force(G, M, m, r):\n",
    "    # Write your code here!\n"
   ]
  },
  {
   "cell_type": "code",
   "execution_count": null,
   "id": "c5e55aa3",
   "metadata": {
    "deletable": false,
    "editable": false
   },
   "outputs": [],
   "source": [
    "grader.check(\"q1b\")"
   ]
  },
  {
   "cell_type": "markdown",
   "id": "439af105",
   "metadata": {
    "deletable": false,
    "editable": false
   },
   "source": [
    "### Part (c): Orbital Velocity\n",
    "\n",
    "This function should **use the results from part (b)** to calculate and return the centripetal force, then derive the velocity. (You need to relate tangential velocity to centripetal force)"
   ]
  },
  {
   "cell_type": "code",
   "execution_count": null,
   "id": "5f273081",
   "metadata": {
    "tags": [
     "otter_answer_cell"
    ]
   },
   "outputs": [],
   "source": [
    "def orbital_velocity(G, M, m, r):\n",
    "    # Write your code here!"
   ]
  },
  {
   "cell_type": "code",
   "execution_count": null,
   "id": "27b75734",
   "metadata": {
    "deletable": false,
    "editable": false
   },
   "outputs": [],
   "source": [
    "grader.check(\"q1c\")"
   ]
  },
  {
   "cell_type": "markdown",
   "id": "90084025",
   "metadata": {
    "deletable": false,
    "editable": false
   },
   "source": [
    "## **Question 2**: Physics Data with Dictionaries\n",
    "\n",
    "**Note**: Your solutions should use dictionary operations only - no loops or if/else statements are required."
   ]
  },
  {
   "cell_type": "markdown",
   "id": "07aabc83",
   "metadata": {
    "deletable": false,
    "editable": false
   },
   "source": [
    "### Part (a): Simple Dictionary\n",
    "\n",
    "**Example dictionary structure:**\n",
    "```python\n",
    "experiment = {\n",
    "    \"temperature\": 295.0,  # Kelvin\n",
    "    \"pressure\": 101325.0,  # Pascal\n",
    "    \"voltage\": 12.0,       # Volts\n",
    "    \"current\": 2.5,        # Amperes\n",
    "    \"time\": 3600.0         # seconds\n",
    "}\n",
    "```\n",
    "\n",
    "Complete the function `calculate_power_energy(experiment_dict)` that returns a tuple containing:\n",
    "1. Power (P = V × I) in Watts\n",
    "2. Energy (E = P × t) in Joules"
   ]
  },
  {
   "cell_type": "code",
   "execution_count": null,
   "id": "dd095a81",
   "metadata": {
    "tags": [
     "otter_answer_cell"
    ]
   },
   "outputs": [],
   "source": [
    "def calculate_power_energy(experiment_dict):\n",
    "    # Write your code here!\n",
    "    # Return the tuple (power, energy)"
   ]
  },
  {
   "cell_type": "code",
   "execution_count": null,
   "id": "3c851fa8",
   "metadata": {
    "deletable": false,
    "editable": false
   },
   "outputs": [],
   "source": [
    "grader.check(\"q2b\")"
   ]
  },
  {
   "cell_type": "markdown",
   "id": "93c9100c",
   "metadata": {
    "deletable": false,
    "editable": false
   },
   "source": [
    "### Part (b): Nested Dictionary - Multi-Sensor Physics Data\n",
    "\n",
    "You're given a nested dictionary containing data from multiple physics sensors.\n",
    "\n",
    "**Example nested dictionary structure:**\n",
    "```python\n",
    "sensor_data = {\n",
    "    \"location\": \"Lab_Room_101\",\n",
    "    \"sensors\": {\n",
    "        \"thermometer\": {\"value\": 298.15, \"unit\": \"K\", \"accuracy\": 0.1},\n",
    "        \"barometer\": {\"value\": 101325, \"unit\": \"Pa\", \"accuracy\": 10},\n",
    "        \"accelerometer\": {\"value\": 9.81, \"unit\": \"m/s^2\", \"accuracy\": 0.01}\n",
    "    },\n",
    "    \"timestamp\": \"2025-09-05T14:30:00\"\n",
    "}\n",
    "```\n",
    "\n",
    "Complete the function `analyze_sensor_data(sensor_data)` that returns a tuple containing:\n",
    "1. The temperature value in Celsius (0 degrees C = 273.15 K)\n",
    "2. The total number of sensors"
   ]
  },
  {
   "cell_type": "code",
   "execution_count": null,
   "id": "7067ff9e",
   "metadata": {
    "tags": [
     "otter_answer_cell"
    ]
   },
   "outputs": [],
   "source": [
    "def analyze_sensor_data(sensor_data):\n",
    "    # Write your code here!\n",
    "    # Return the tuple (temp_celsius, num_sensors)"
   ]
  },
  {
   "cell_type": "code",
   "execution_count": null,
   "id": "3e83c96b",
   "metadata": {
    "deletable": false,
    "editable": false
   },
   "outputs": [],
   "source": [
    "grader.check(\"q2b\")"
   ]
  },
  {
   "cell_type": "markdown",
   "id": "bcbccad5",
   "metadata": {
    "deletable": false,
    "editable": false
   },
   "source": [
    "## **Question 3**: Safety Conditions with Boolean Logic"
   ]
  },
  {
   "cell_type": "markdown",
   "id": "607820f7",
   "metadata": {
    "deletable": false,
    "editable": false
   },
   "source": [
    "### Laboratory Safety Check\n",
    "\n",
    "A laser physics experiment requires multiple safety conditions to be met before it can start. Write a function that checks all safety conditions and returns `True` only if **ALL** conditions are safe.\n",
    "\n",
    "**Safety Requirements:**\n",
    "1. Temperature must be between 18°C and 25°C (inclusive)\n",
    "2. Humidity must be less than 60%\n",
    "3. Laser power must not exceed 50 Watts\n",
    "4. Emergency stop button must be functional (True)\n",
    "5. Protective equipment must be present (True)\n",
    "\n",
    "Complete the function `is_experiment_safe(temperature, humidity, laser_power, emergency_stop, protective_equipment)` that returns `True` if all safety conditions are met, `False` otherwise. Note that `temperature`, `humidity`, and `laser_power` are numbers while `emergency_stop` and `protective_equiptment` are themselves boolean values."
   ]
  },
  {
   "cell_type": "code",
   "execution_count": null,
   "id": "f07bd2e8",
   "metadata": {
    "tags": [
     "otter_answer_cell"
    ]
   },
   "outputs": [],
   "source": [
    "def is_experiment_safe(temperature, humidity, laser_power, emergency_stop, protective_equipment):\n",
    "    # Write your code here!"
   ]
  },
  {
   "cell_type": "code",
   "execution_count": null,
   "id": "4e54674e",
   "metadata": {
    "deletable": false,
    "editable": false
   },
   "outputs": [],
   "source": [
    "grader.check(\"q3\")"
   ]
  },
  {
   "cell_type": "markdown",
   "id": "afa06e69",
   "metadata": {
    "deletable": false,
    "editable": false
   },
   "source": [
    "## **Question 4**: Special Characters and F-String Formatting"
   ]
  },
  {
   "cell_type": "markdown",
   "id": "df3d59f6",
   "metadata": {
    "deletable": false,
    "editable": false
   },
   "source": [
    "Create a function `format_lab_header(experiment_name, date, researcher)` that takes those three strings and returns a properly formatted header string for a physics lab report. The header should include:\n",
    "\n",
    "1. A title line: PHYSICS LABORATORY REPORT\n",
    "2. A line of equals signs (=) underneath the title (25 of them)\n",
    "3. The experiment name with quotation marks around it\n",
    "4. The researcher's name with a tab character before it\n",
    "5. The date on a new line\n",
    "\n",
    "**Example output string:**\n",
    "```\n",
    "PHYSICS LABORATORY REPORT\n",
    "=========================\n",
    "Experiment: \"Photoelectric Effect\"\n",
    "\tResearcher: Dr. Smith\n",
    "Date: 2025-09-05\n",
    "```"
   ]
  },
  {
   "cell_type": "code",
   "execution_count": null,
   "id": "39e061b3",
   "metadata": {
    "tags": [
     "otter_answer_cell"
    ]
   },
   "outputs": [],
   "source": [
    "def format_lab_header(experiment_name, date, researcher):\n",
    "    # Write your code here!\n",
    "    # Use special characters"
   ]
  },
  {
   "cell_type": "code",
   "execution_count": null,
   "id": "ba63544b",
   "metadata": {
    "deletable": false,
    "editable": false
   },
   "outputs": [],
   "source": [
    "grader.check(\"q4\")"
   ]
  },
  {
   "cell_type": "markdown",
   "id": "a384c17b",
   "metadata": {
    "deletable": false,
    "editable": false
   },
   "source": [
    "## **Question 5**: Collections in Physics - Lists, Tuples, and Sets"
   ]
  },
  {
   "cell_type": "markdown",
   "id": "7434a308",
   "metadata": {
    "deletable": false,
    "editable": false
   },
   "source": [
    "### Particle Detector Analysis\n",
    "\n",
    "You're analyzing data from a particle physics experiment. The detector records different types of particles, and you need to process this information using various Python collection types.\n",
    "\n",
    "**Given data structures:**\n",
    "- `detected_particles` (list): A list of particle names detected in chronological order\n",
    "- `reference_particles` (tuple): A fixed reference list of known particle types\n",
    "- `confirmed_detections` (set): A set of particles that have been confirmed by multiple detectors\n",
    "\n",
    "Complete the function `analyze_particle_data(detected_particles, reference_particles, confirmed_detections)` that returns a tuple containing:\n",
    "\n",
    "1. **Unique particles** (set): Set containing just detected particles\n",
    "2. **Missing particles** (set): Set of reference particles that weren't detected\n",
    "3. **Confirmed and detected** (set): Find particles that are both in detected_particles AND confirmed_detections\n",
    "4. **Reference check** (bool): Check if the string \"muon\" is in the reference_particles tuple\n",
    "5. **Detection count** (int): Count how many times \"electron\" appears in the detected_particles list\n",
    "\n",
    "**Example:**\n",
    "```python\n",
    "detected = [\"electron\", \"muon\", \"electron\", \"photon\", \"neutrino\"]\n",
    "reference = (\"electron\", \"muon\", \"photon\", \"proton\", \"neutron\")\n",
    "confirmed = {\"electron\", \"photon\", \"pion\"}\n",
    "\n",
    "# Expected result:\n",
    "# unique: {\"electron\", \"muon\", \"photon\", \"neutrino\"}\n",
    "# missing: {\"proton\", \"neutron\"}  \n",
    "# confirmed_and_detected: {\"electron\", \"photon\"}\n",
    "# has_muon: True\n",
    "# electron_count: 2\n",
    "```"
   ]
  },
  {
   "cell_type": "code",
   "execution_count": null,
   "id": "89032f9b",
   "metadata": {
    "tags": [
     "otter_answer_cell"
    ]
   },
   "outputs": [],
   "source": [
    "def analyze_particle_data(detected_particles, reference_particles, confirmed_detections):\n",
    "    # Write your code here!\n",
    "    # Return the tuple (unique_particles, missing_particles, confirmed_and_detected, has_muon, electron_count)"
   ]
  },
  {
   "cell_type": "code",
   "execution_count": null,
   "id": "e96c6454",
   "metadata": {
    "deletable": false,
    "editable": false
   },
   "outputs": [],
   "source": [
    "grader.check(\"q5\")"
   ]
  },
  {
   "cell_type": "markdown",
   "id": "b6a9bfb7",
   "metadata": {
    "deletable": false,
    "editable": false
   },
   "source": [
    "## Required disclosure of use of AI technology\n",
    "\n",
    "Please indicate whether you used AI to complete this homework. If you did, explain how you used it in the raw cell below."
   ]
  },
  {
   "cell_type": "code",
   "execution_count": null,
   "id": "a7f24961",
   "metadata": {
    "tags": [
     "otter_answer_cell"
    ]
   },
   "outputs": [],
   "source": [
    "\"\"\"\n",
    "# write ai disclosure here:\n",
    "\n",
    "\"\"\""
   ]
  },
  {
   "cell_type": "markdown",
   "id": "8ae113e1",
   "metadata": {
    "deletable": false,
    "editable": false
   },
   "source": [
    "## Submission\n",
    "\n",
    "Make sure you have run all cells in your notebook in order before running the cell below, so that all images/graphs appear in the output. The cell below will generate a zip file for you to submit.\n",
    "\n",
    "Upload the .zip file to Gradescope!"
   ]
  },
  {
   "cell_type": "code",
   "execution_count": null,
   "id": "4b1c1ff7",
   "metadata": {
    "deletable": false,
    "editable": false
   },
   "outputs": [],
   "source": [
    "grader.export(pdf=False, force_save=True, run_tests=True)"
   ]
  },
  {
   "cell_type": "markdown",
   "id": "2dd9993f",
   "metadata": {},
   "source": [
    " "
   ]
  }
 ],
 "metadata": {
  "kernelspec": {
   "display_name": "otter_grading",
   "language": "python",
   "name": "python3"
  },
  "language_info": {
   "codemirror_mode": {
    "name": "ipython",
    "version": 3
   },
   "file_extension": ".py",
   "mimetype": "text/x-python",
   "name": "python",
   "nbconvert_exporter": "python",
   "pygments_lexer": "ipython3",
   "version": "3.12.11"
  },
  "otter": {
   "OK_FORMAT": true,
   "tests": {
    "q1a": {
     "name": "q1a",
     "points": null,
     "suites": [
      {
       "cases": [
        {
         "code": ">>> earth_radius = 149600000000.0\n>>> result = orbital_circumference(earth_radius)\n>>> expected = 2 * math.pi * earth_radius\n>>> abs(result - expected) < 100000.0\nTrue",
         "hidden": false,
         "locked": false,
         "points": 1
        },
        {
         "code": ">>> result = orbital_circumference(1.0)\n>>> expected = 2 * math.pi\n>>> abs(result - expected) < 1e-10\nTrue",
         "hidden": false,
         "locked": false,
         "points": 1
        }
       ],
       "scored": true,
       "setup": "",
       "teardown": "",
       "type": "doctest"
      }
     ]
    },
    "q1b": {
     "name": "q1b",
     "points": null,
     "suites": [
      {
       "cases": [
        {
         "code": ">>> G = 6.674e-11\n>>> M_sun = 1.989e+30\n>>> m_earth = 5.972e+24\n>>> r = 149600000000.0\n>>> result = gravitational_force(G, M_sun, m_earth, r)\n>>> expected = G * M_sun * m_earth / r ** 2\n>>> abs(result - expected) < expected * 1e-10\nTrue",
         "hidden": false,
         "locked": false,
         "points": 1
        },
        {
         "code": ">>> result1 = gravitational_force(1.0, 10.0, 5.0, 2.0)\n>>> result2 = gravitational_force(1.0, -10.0, 5.0, 2.0)\n>>> result3 = gravitational_force(1.0, 10.0, -5.0, 2.0)\n>>> result1 > 0 and result2 > 0 and (result3 > 0) and (result1 == result2 == result3)\nTrue",
         "hidden": false,
         "locked": false,
         "points": 1
        }
       ],
       "scored": true,
       "setup": "",
       "teardown": "",
       "type": "doctest"
      }
     ]
    },
    "q1c": {
     "name": "q1c",
     "points": null,
     "suites": [
      {
       "cases": [
        {
         "code": ">>> G = 6.674e-11\n>>> M_sun = 1.989e+30\n>>> m_earth = 5.972e+24\n>>> r = 149600000000.0\n>>> result = orbital_velocity(G, M_sun, m_earth, r)\n>>> expected = math.sqrt(abs(G * M_sun * m_earth / r ** 2) * r / m_earth)\n>>> abs(result - expected) < 1e-10\nTrue",
         "hidden": false,
         "locked": false,
         "points": 1
        },
        {
         "code": ">>> G, M, m, r = (1.0, 4.0, 2.0, 1.0)\n>>> result = orbital_velocity(G, M, m, r)\n>>> expected = 2.0\n>>> abs(result - expected) < 1e-10\nTrue",
         "hidden": false,
         "locked": false,
         "points": 1
        }
       ],
       "scored": true,
       "setup": "",
       "teardown": "",
       "type": "doctest"
      }
     ]
    },
    "q2b": {
     "name": "q2b",
     "points": null,
     "suites": [
      {
       "cases": [
        {
         "code": ">>> experiment = {'temperature': 295.0, 'pressure': 101325.0, 'voltage': 12.0, 'current': 2.5, 'time': 3600.0}\n>>> power, energy = calculate_power_energy(experiment)\n>>> expected_power = 12.0 * 2.5\n>>> expected_energy = 30.0 * 3600.0\n>>> abs(power - expected_power) < 1e-10 and abs(energy - expected_energy) < 1e-10\nTrue",
         "hidden": false,
         "locked": false,
         "points": 1
        },
        {
         "code": ">>> experiment2 = {'temperature': 300.0, 'pressure': 98000.0, 'voltage': 5.0, 'current': 1.2, 'time': 1800.0}\n>>> power, energy = calculate_power_energy(experiment2)\n>>> expected_power = 5.0 * 1.2\n>>> expected_energy = 6.0 * 1800.0\n>>> abs(power - expected_power) < 1e-10 and abs(energy - expected_energy) < 1e-10\nTrue",
         "hidden": false,
         "locked": false,
         "points": 1
        },
        {
         "code": ">>> sensor_data = {'location': 'Lab_Room_101', 'sensors': {'thermometer': {'value': 298.15, 'unit': 'K', 'accuracy': 0.1}, 'barometer': {'value': 101325, 'unit': 'Pa', 'accuracy': 10}, 'accelerometer': {'value': 9.81, 'unit': 'm/s^2', 'accuracy': 0.01}}, 'timestamp': '2025-09-05T14:30:00'}\n>>> temp_c, num_sensors = analyze_sensor_data(sensor_data)\n>>> expected_temp = 298.15 - 273.15\n>>> expected_num = 3\n>>> abs(temp_c - expected_temp) < 1e-10 and num_sensors == expected_num\nTrue",
         "hidden": false,
         "locked": false,
         "points": 1
        },
        {
         "code": ">>> sensor_data2 = {'location': 'Lab_Room_202', 'sensors': {'thermometer': {'value': 273.15, 'unit': 'K', 'accuracy': 0.05}, 'hygrometer': {'value': 45.2, 'unit': '%', 'accuracy': 1.0}}, 'timestamp': '2025-09-05T15:00:00'}\n>>> temp_c, num_sensors = analyze_sensor_data(sensor_data2)\n>>> expected_temp = 273.15 - 273.15\n>>> expected_num = 2\n>>> abs(temp_c - expected_temp) < 1e-10 and num_sensors == expected_num\nTrue",
         "hidden": false,
         "locked": false,
         "points": 1
        }
       ],
       "scored": true,
       "setup": "",
       "teardown": "",
       "type": "doctest"
      }
     ]
    },
    "q3": {
     "name": "q3",
     "points": null,
     "suites": [
      {
       "cases": [
        {
         "code": ">>> result = is_experiment_safe(22.0, 45.0, 30.0, True, True)\n>>> result == True\nTrue",
         "hidden": false,
         "locked": false,
         "points": 1
        },
        {
         "code": ">>> result = is_experiment_safe(26.0, 45.0, 30.0, True, True)\n>>> result == False\nTrue",
         "hidden": false,
         "locked": false,
         "points": 1
        },
        {
         "code": ">>> result = is_experiment_safe(22.0, 65.0, 30.0, True, True)\n>>> result == False\nTrue",
         "hidden": false,
         "locked": false,
         "points": 1
        },
        {
         "code": ">>> result = is_experiment_safe(22.0, 45.0, 55.0, True, True)\n>>> result == False\nTrue",
         "hidden": false,
         "locked": false,
         "points": 1
        }
       ],
       "scored": true,
       "setup": "",
       "teardown": "",
       "type": "doctest"
      }
     ]
    },
    "q4": {
     "name": "q4",
     "points": null,
     "suites": [
      {
       "cases": [
        {
         "code": ">>> result = format_lab_header('Photoelectric Effect', '2025-09-05', 'Dr. Smith')\n>>> expected_lines = ['PHYSICS LABORATORY REPORT', '=========================', 'Experiment: \"Photoelectric Effect\"', '\\tResearcher: Dr. Smith', 'Date: 2025-09-05']\n>>> expected = '\\n'.join(expected_lines)\n>>> result == expected\nTrue",
         "hidden": false,
         "locked": false,
         "points": 1
        },
        {
         "code": ">>> result = format_lab_header('Harmonic Oscillator', '2025-09-06', 'Prof. Johnson')\n>>> '\"Harmonic Oscillator\"' in result and '\\t' in result and (result.count('\\n') == 4)\nTrue",
         "hidden": false,
         "locked": false,
         "points": 1
        }
       ],
       "scored": true,
       "setup": "",
       "teardown": "",
       "type": "doctest"
      }
     ]
    },
    "q5": {
     "name": "q5",
     "points": null,
     "suites": [
      {
       "cases": [
        {
         "code": ">>> detected = ['electron', 'muon', 'electron', 'photon', 'neutrino']\n>>> reference = ('electron', 'muon', 'photon', 'proton', 'neutron')\n>>> confirmed = {'electron', 'photon', 'pion'}\n>>> unique, missing, confirmed_and_detected, has_muon, electron_count = analyze_particle_data(detected, reference, confirmed)\n>>> unique == {'electron', 'muon', 'photon', 'neutrino'} and missing == {'proton', 'neutron'} and (confirmed_and_detected == {'electron', 'photon'}) and (has_muon == True) and (electron_count == 2)\nTrue",
         "hidden": false,
         "locked": false,
         "points": 1
        },
        {
         "code": ">>> detected = ['tau', 'higgs']\n>>> reference = ('electron', 'muon', 'photon')\n>>> confirmed = {'neutrino', 'quark'}\n>>> unique, missing, confirmed_and_detected, has_muon, electron_count = analyze_particle_data(detected, reference, confirmed)\n>>> unique == {'tau', 'higgs'} and missing == {'electron', 'muon', 'photon'} and (confirmed_and_detected == set()) and (has_muon == True) and (electron_count == 0)\nTrue",
         "hidden": false,
         "locked": false,
         "points": 1
        },
        {
         "code": ">>> detected = ['photon', 'photon', 'electron', 'photon']\n>>> reference = ('photon', 'electron', 'positron')\n>>> confirmed = {'photon', 'electron', 'muon'}\n>>> unique, missing, confirmed_and_detected, has_muon, electron_count = analyze_particle_data(detected, reference, confirmed)\n>>> isinstance(unique, set) and isinstance(missing, set) and isinstance(confirmed_and_detected, set) and ('positron' in missing) and (len(unique) == 2) and (electron_count == 1)\nTrue",
         "hidden": false,
         "locked": false,
         "points": 1
        }
       ],
       "scored": true,
       "setup": "",
       "teardown": "",
       "type": "doctest"
      }
     ]
    }
   }
  }
 },
 "nbformat": 4,
 "nbformat_minor": 5
}

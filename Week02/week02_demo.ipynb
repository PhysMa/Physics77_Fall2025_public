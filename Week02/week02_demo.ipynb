{
 "cells": [
  {
   "cell_type": "markdown",
   "id": "57b35957",
   "metadata": {},
   "source": [
    "# Week 02 Live Coding Demo: Python Basics\n",
    "Agenda: numbers & literals, operator precedence, floating-point considerations, variables & units; strings and special characters; f-strings; built-ins; lists; tuples; sets; dictionaries; motivating functions; defining functions; arguments & defaults (*args/**kwargs); variable scope (LEGB)."
   ]
  },
  {
   "cell_type": "markdown",
   "id": "e347500e",
   "metadata": {},
   "source": [
    "## 1. Numbers & Literals"
   ]
  },
  {
   "cell_type": "code",
   "execution_count": null,
   "id": "373ca5e9",
   "metadata": {},
   "outputs": [],
   "source": [
    "print(42 + 8)  # -> 50\n",
    "print(3.0 * 2.5)  # -> 7.5\n",
    "print(6.022e23 * 2)  # -> 1.2044e+24\n",
    "print(1_000_000 - 999_999)  # -> 1\n",
    "print((2+3j) * (1-1j))  # -> (5-1j)\n",
    "print(abs(3+4j))  # -> 5.0\n"
   ]
  },
  {
   "cell_type": "code",
   "execution_count": null,
   "id": "64d47045",
   "metadata": {},
   "outputs": [],
   "source": [
    "q_C = 1.602_176_634e-19  # elementary charge (C)\n",
    "B_T = 0.75               # magnetic field (T)\n",
    "m_e_kg = 9.109_383_7015e-31\n",
    "omega_c = q_C * B_T / m_e_kg  # electron cyclotron angular frequency (rad/s)\n",
    "print(omega_c)\n"
   ]
  },
  {
   "cell_type": "code",
   "execution_count": null,
   "id": "b9aee154",
   "metadata": {},
   "outputs": [],
   "source": [
    "pi = 3.141592653589793\n",
    "T_s = 0.005  # period 5 ms\n",
    "omega = 2 * pi / T_s  # rad/s\n",
    "print(omega)\n"
   ]
  },
  {
   "cell_type": "markdown",
   "id": "b9561cbb",
   "metadata": {},
   "source": [
    "## 2. Operator Precedence (Highest → Lowest)"
   ]
  },
  {
   "cell_type": "code",
   "execution_count": null,
   "id": "f6f78b57",
   "metadata": {},
   "outputs": [],
   "source": [
    "print(2**3**2)  # 2**(3**2) -> 512\n",
    "print((2**3)**2)  # forced order -> 64\n",
    "print(1 + 2 * 3 - 8 / 4)  # *,/ before +,- -> 5.0\n",
    "print((1 + 2) * (3 - 8) / 4)  # parentheses clarify -> -3.75\n"
   ]
  },
  {
   "cell_type": "code",
   "execution_count": null,
   "id": "739b7b9a",
   "metadata": {},
   "outputs": [],
   "source": [
    "m_kg = 0.25\n",
    "v_m_s = 12.0\n",
    "g_m_s2 = 9.8\n",
    "h_m = 3.5\n",
    "E_total_1 = 0.5*m_kg*v_m_s**2 + m_kg*g_m_s2*h_m\n",
    "E_total_2 = (0.5*m_kg*(v_m_s**2)) + (m_kg*g_m_s2*h_m)\n",
    "print(E_total_1, E_total_2)\n"
   ]
  },
  {
   "cell_type": "markdown",
   "id": "0bc79681",
   "metadata": {},
   "source": [
    "## 3. Floating-Point Considerations"
   ]
  },
  {
   "cell_type": "code",
   "execution_count": null,
   "id": "ac300ae2",
   "metadata": {},
   "outputs": [],
   "source": [
    "print(0.1 + 0.2)  # -> 0.30000000000000004\n",
    "print((0.1 + 0.2) == 0.3)  # -> False\n",
    "print(abs((0.1 + 0.2) - 0.3))\n",
    "print(round(0.1 + 0.2, 10))  # display rounding -> 0.3\n"
   ]
  },
  {
   "cell_type": "code",
   "execution_count": null,
   "id": "8e15b6ff",
   "metadata": {},
   "outputs": [],
   "source": [
    "small = 1e-16\n",
    "big = 1.0\n",
    "print((big + small) - big)  # loses small\n",
    "print((small + small + small + big) - big)  # retains more small contributions\n"
   ]
  },
  {
   "cell_type": "markdown",
   "id": "86414c88",
   "metadata": {},
   "source": [
    "## 4. Variables, Names, and Units"
   ]
  },
  {
   "cell_type": "code",
   "execution_count": null,
   "id": "aaeccfb8",
   "metadata": {},
   "outputs": [],
   "source": [
    "radius_m = 0.015\n",
    "area_m2 = 3.141592653589793 * radius_m**2\n",
    "print(area_m2)\n"
   ]
  },
  {
   "cell_type": "code",
   "execution_count": null,
   "id": "814f0708",
   "metadata": {},
   "outputs": [],
   "source": [
    "gauss_per_tesla = 10_000\n",
    "B_T = 0.0025\n",
    "B_G = B_T * gauss_per_tesla  # Tesla → Gauss\n",
    "print(B_G)\n"
   ]
  },
  {
   "cell_type": "code",
   "execution_count": null,
   "id": "6b3c9d6d",
   "metadata": {},
   "outputs": [],
   "source": [
    "lambda_m = 650e-9\n",
    "k_rad_m = 2 * 3.141592653589793 / lambda_m\n",
    "print(k_rad_m)\n"
   ]
  },
  {
   "cell_type": "markdown",
   "id": "9b6da664",
   "metadata": {},
   "source": [
    "## 5. Strings: Basics & Special Characters"
   ]
  },
  {
   "cell_type": "code",
   "execution_count": null,
   "id": "b049d6c5",
   "metadata": {},
   "outputs": [],
   "source": [
    "print('wave' + 'guide')  # concatenation\n",
    "print('Na' * 4)  # repetition\n",
    "s = \"Line1\\nLine2\\tTabbed\"\n",
    "print(s)\n",
    "print(len(s))\n",
    "print(s[0], s[-1], s[2:6])\n"
   ]
  },
  {
   "cell_type": "code",
   "execution_count": null,
   "id": "87d6510b",
   "metadata": {},
   "outputs": [],
   "source": [
    "header = \"state\\tenergy_eV\\n\"\n",
    "row1 = \"ground\\t0.00\\n\"\n",
    "row2 = \"excited\\t1.85\\n\"\n",
    "table = header + row1 + row2\n",
    "print(table)\n"
   ]
  },
  {
   "cell_type": "markdown",
   "id": "b0d0f315",
   "metadata": {},
   "source": [
    "## 6. f-Strings: Formatting"
   ]
  },
  {
   "cell_type": "code",
   "execution_count": null,
   "id": "b0cf8eae",
   "metadata": {},
   "outputs": [],
   "source": [
    "x = 1234.56789\n",
    "print(f\"{x:.2f}\")\n",
    "print(f\"{x:.3e}\")\n",
    "print(f\"[{x:10.2f}]\")\n"
   ]
  },
  {
   "cell_type": "code",
   "execution_count": null,
   "id": "d2500c49",
   "metadata": {},
   "outputs": [],
   "source": [
    "pi = 3.141592653589793\n",
    "radius_m = 0.0042\n",
    "area = pi * radius_m**2\n",
    "circ = 2 * pi * radius_m\n",
    "print(f\"{'radius (m)':>14}: {radius_m:10.6f}\")\n",
    "print(f\"{'area (m^2)':>14}: {area:10.6e}\")\n",
    "print(f\"{'circ (m)':>14}: {circ:10.6f}\")\n"
   ]
  },
  {
   "cell_type": "markdown",
   "id": "4fdfc4fa",
   "metadata": {},
   "source": [
    "## 7. Handy Built-ins"
   ]
  },
  {
   "cell_type": "code",
   "execution_count": null,
   "id": "b15e881f",
   "metadata": {},
   "outputs": [],
   "source": [
    "print(type(7), type(7.0), type(1+2j))\n",
    "print(len([2, 3, 5, 7]))\n",
    "print(sum([0.2, 0.3, 0.5]))\n",
    "print(min(4, 2, 8), max(4, 2, 8))\n",
    "print(int(3.99), float(\"2.5\"), str(3.14))\n"
   ]
  },
  {
   "cell_type": "code",
   "execution_count": null,
   "id": "f98fba44",
   "metadata": {},
   "outputs": [],
   "source": [
    "voltages_V = [4.98, 5.02, 5.01, 4.99, 5.03]\n",
    "avg_V = sum(voltages_V)/len(voltages_V)\n",
    "v_min, v_max = min(voltages_V), max(voltages_V)\n",
    "print(avg_V, v_min, v_max)\n"
   ]
  },
  {
   "cell_type": "markdown",
   "id": "7fa6ae9f",
   "metadata": {},
   "source": [
    "## 8. Lists"
   ]
  },
  {
   "cell_type": "code",
   "execution_count": null,
   "id": "6d947fd7",
   "metadata": {},
   "outputs": [],
   "source": [
    "temps_K = [298.0, 299.5, 300.2, 301.1]\n",
    "print(temps_K[0])\n",
    "print(temps_K[-1])\n",
    "print(temps_K[1:3])\n",
    "print(temps_K[:2])\n",
    "print(temps_K[::2])\n",
    "print([0.1]*4)\n"
   ]
  },
  {
   "cell_type": "code",
   "execution_count": null,
   "id": "ab60d9dd",
   "metadata": {},
   "outputs": [],
   "source": [
    "time_s = [0, 1, 2, 3, 7, 8]\n",
    "insert = [4, 5, 6]\n",
    "time_full = time_s[:4] + insert + time_s[4:]\n",
    "print(time_full)\n"
   ]
  },
  {
   "cell_type": "code",
   "execution_count": null,
   "id": "6bfc5c62",
   "metadata": {},
   "outputs": [],
   "source": [
    "data = [9.7, 9.8, 9.81]\n",
    "data.append(9.80)\n",
    "print(data)\n",
    "data.remove(9.8)\n",
    "print(data)\n",
    "sorted_copy = sorted(data)\n",
    "print(data)\n",
    "print(sorted_copy)\n"
   ]
  },
  {
   "cell_type": "code",
   "execution_count": null,
   "id": "5203dba1",
   "metadata": {},
   "outputs": [],
   "source": [
    "x = [[1, 2], [3, 4]]\n",
    "alias = x       # same object\n",
    "shallow = list(x)  # new outer list, same inner lists\n",
    "x[0][1] = 99\n",
    "print(x)\n",
    "print(alias)\n",
    "print(shallow)\n"
   ]
  },
  {
   "cell_type": "markdown",
   "id": "8c4b2bc8",
   "metadata": {},
   "source": [
    "## 9. Tuples"
   ]
  },
  {
   "cell_type": "code",
   "execution_count": null,
   "id": "ee1cd3c2",
   "metadata": {},
   "outputs": [],
   "source": [
    "freqs_Hz = (50.0, 60.0, 400.0)\n",
    "print(freqs_Hz[0])\n",
    "print(freqs_Hz[-1])\n",
    "print(freqs_Hz[1:])\n",
    "single = (3.0,)\n",
    "print(single)\n"
   ]
  },
  {
   "cell_type": "code",
   "execution_count": null,
   "id": "6fdc23a2",
   "metadata": {},
   "outputs": [],
   "source": [
    "sample_record = (\"sample_07\", 295.2, 1.25)  # (id, temperature K, pressure bar)\n",
    "print(sample_record)\n"
   ]
  },
  {
   "cell_type": "code",
   "execution_count": null,
   "id": "bc6a19d1",
   "metadata": {},
   "outputs": [],
   "source": [
    "x_m, y_m = (0.12, 0.34)\n",
    "print((x_m, y_m))\n",
    "a, b = 10, 20\n",
    "a, b = b, a\n",
    "print((a, b))\n"
   ]
  },
  {
   "cell_type": "code",
   "execution_count": null,
   "id": "40d270a6",
   "metadata": {},
   "outputs": [],
   "source": [
    "r_m = 0.25\n",
    "pi = 3.141592653589793\n",
    "A_m2 = pi * r_m**2\n",
    "P_m = 2 * pi * r_m\n",
    "circle_props = (r_m, A_m2, P_m)\n",
    "print(circle_props)\n"
   ]
  },
  {
   "cell_type": "markdown",
   "id": "e9b1d139",
   "metadata": {},
   "source": [
    "## 10. Sets"
   ]
  },
  {
   "cell_type": "code",
   "execution_count": null,
   "id": "495208d6",
   "metadata": {},
   "outputs": [],
   "source": [
    "observed = [\"H\", \"He\", \"H\", \"O\", \"Ne\", \"He\"]\n",
    "species = set(observed)\n",
    "print(species)\n",
    "print(\"H\" in species, \"C\" in species)\n",
    "print(len(species))\n"
   ]
  },
  {
   "cell_type": "code",
   "execution_count": null,
   "id": "7f602bf1",
   "metadata": {},
   "outputs": [],
   "source": [
    "states = [\"solid\", \"liquid\", \"solid\", \"gas\", \"gas\", \"plasma\", \"solid\"]\n",
    "unique_states = set(states)\n",
    "unique_states_count = len(unique_states)\n",
    "print(unique_states)\n",
    "print(unique_states_count)\n"
   ]
  },
  {
   "cell_type": "code",
   "execution_count": null,
   "id": "447630af",
   "metadata": {},
   "outputs": [],
   "source": [
    "A = {\"probe1\", \"probe2\"}\n",
    "B = {\"probe2\", \"probe3\"}\n",
    "print(A | B)\n",
    "print(A & B)\n",
    "print(A - B)\n",
    "print(A ^ B)\n",
    "calibrated = {\"probe2\"}\n",
    "print(calibrated <= B)\n",
    "print((A | B) >= A)\n"
   ]
  },
  {
   "cell_type": "markdown",
   "id": "da8c0a05",
   "metadata": {},
   "source": [
    "## 11. Dictionaries"
   ]
  },
  {
   "cell_type": "code",
   "execution_count": null,
   "id": "7288a6c7",
   "metadata": {},
   "outputs": [],
   "source": [
    "units = {\"V\": \"volt\", \"A\": \"ampere\", \"Ω\": \"ohm\"}\n",
    "print(units[\"V\"])\n",
    "print(\"Ω\" in units)\n",
    "print(units.get(\"T\", \"tesla not listed yet\"))\n",
    "units[\"T\"] = \"tesla\"\n",
    "print(units)\n"
   ]
  },
  {
   "cell_type": "code",
   "execution_count": null,
   "id": "c257fc88",
   "metadata": {},
   "outputs": [],
   "source": [
    "planets = {\"Mercury\": 3.7, \"Earth\": 9.81, \"Mars\": 3.71}  # g in m/s^2\n",
    "planets[\"Moon\"] = 1.62\n",
    "g_earth = planets[\"Earth\"]\n",
    "g_ratio_mars_to_earth = planets[\"Mars\"]/g_earth\n",
    "print(g_earth, g_ratio_mars_to_earth)\n"
   ]
  },
  {
   "cell_type": "code",
   "execution_count": null,
   "id": "01b16339",
   "metadata": {},
   "outputs": [],
   "source": [
    "materials = {\"Al\": {\"rho_kg_m3\": 2700, \"sigma_S_m\": 3.5e7},\n",
    "             \"Cu\": {\"rho_kg_m3\": 8960, \"sigma_S_m\": 5.8e7}}\n",
    "print(list(materials.keys()))\n",
    "print(list(materials.values()))\n",
    "print(list(materials.items()))\n",
    "print(sorted(materials))\n"
   ]
  },
  {
   "cell_type": "code",
   "execution_count": null,
   "id": "d22caad5",
   "metadata": {},
   "outputs": [],
   "source": [
    "bins = {}\n",
    "bins.setdefault(\"film_A\", []).append(12.3) # What does bins.setdefault(\"film_A\", []) return?\n",
    "bins.setdefault(\"film_B\", []).append(12.1)\n",
    "bins.setdefault(\"film_A\", []).append(12.5)\n",
    "print(bins)\n"
   ]
  },
  {
   "cell_type": "code",
   "execution_count": null,
   "id": "07d4117a",
   "metadata": {},
   "outputs": [],
   "source": [
    "db = {\"Al\": {\"rho\": 2700}, \"Cu\": {\"rho\": 8960}}\n",
    "alias = db\n",
    "shallow = dict(db)\n",
    "alias[\"Al\"][\"rho\"] = 2710\n",
    "print(db[\"Al\"][\"rho\"])  # inner dict changed\n",
    "print(shallow[\"Al\"][\"rho\"])  # shallow copy shares inner dict\n"
   ]
  },
  {
   "cell_type": "markdown",
   "id": "8ba7060b",
   "metadata": {},
   "source": [
    "## 12. Motivating Functions (DRY)"
   ]
  },
  {
   "cell_type": "code",
   "execution_count": null,
   "id": "e1ddfc9a",
   "metadata": {},
   "outputs": [],
   "source": [
    "k_N_m = 12.0\n",
    "m1_kg, m2_kg, m3_kg = 0.2, 0.5, 1.0\n",
    "pi = 3.141592653589793\n",
    "T1 = 2*pi*(m1_kg/k_N_m)**0.5\n",
    "T2 = 2*pi*(m2_kg/k_N_m)**0.5\n",
    "T3 = 2*pi*(m3_kg/k_N_m)**0.5\n",
    "print(T1, T2, T3)\n"
   ]
  },
  {
   "cell_type": "markdown",
   "id": "87a1b3bd",
   "metadata": {},
   "source": [
    "## 13. Defining Functions"
   ]
  },
  {
   "cell_type": "code",
   "execution_count": null,
   "id": "e528373c",
   "metadata": {},
   "outputs": [],
   "source": [
    "def spring_period_s(mass_kg, k_N_m):\n",
    "    \"\"\"Return period (s) of mass-spring oscillator: T = 2π sqrt(m/k).\"\"\"\n",
    "    pi = 3.141592653589793\n",
    "    return 2 * pi * (mass_kg / k_N_m) ** 0.5\n",
    "\n",
    "print(spring_period_s(0.5, 12.0))\n",
    "print(spring_period_s(1.0, 12.0))\n"
   ]
  },
  {
   "cell_type": "markdown",
   "id": "679ce0bc",
   "metadata": {},
   "source": [
    "## 14. Function Arguments & Defaults (+ positional/keyword, *args, **kwargs)"
   ]
  },
  {
   "cell_type": "code",
   "execution_count": null,
   "id": "4890a41b",
   "metadata": {},
   "outputs": [],
   "source": [
    "def energy_mass_equiv_J(mass_kg, c_m_s=2.997_924_58e8):\n",
    "    \"\"\"Return E (J) = m * c^2.\"\"\"\n",
    "    return mass_kg * (c_m_s ** 2)\n",
    "\n",
    "print(energy_mass_equiv_J(0.02))\n",
    "print(energy_mass_equiv_J(mass_kg=0.02, c_m_s=3e8))\n"
   ]
  },
  {
   "cell_type": "code",
   "execution_count": null,
   "id": "ee8b1221",
   "metadata": {},
   "outputs": [],
   "source": [
    "def concat_labels(*labels): # What does *labels mean?\n",
    "    \"\"\"Join any number of labels with '-' in between.\"\"\"\n",
    "    return \"-\".join(labels)\n",
    "\n",
    "def sum_values(*vals): \n",
    "    \"\"\"Sum any number of numeric values using built-in sum.\"\"\"\n",
    "    return sum(vals)\n",
    "\n",
    "def resistance_parallel_2(R1, R2):\n",
    "    \"\"\"Total parallel resistance for two resistors (ohm).\"\"\"\n",
    "    return (R1 * R2) / (R1 + R2)\n",
    "\n",
    "def record_measurement(value, unit, **meta): # What does **meta mean?\n",
    "    \"\"\"Return a tuple (value, unit, meta_dict).\"\"\"\n",
    "    return (value, unit, meta)\n",
    "\n",
    "print(concat_labels('Si', 'n=3.48', 'λ=1550nm'))\n",
    "print(sum_values(0.1, 0.2, 0.3, 0.4))\n",
    "print(resistance_parallel_2(10.0, 20.0))\n",
    "print(record_measurement(2.7, 'V', location='bench', channel=3))\n"
   ]
  },
  {
   "cell_type": "markdown",
   "id": "424a66a6",
   "metadata": {},
   "source": [
    "## 15. Variable Scope (LEGB)"
   ]
  },
  {
   "cell_type": "code",
   "execution_count": null,
   "id": "5d7409f6",
   "metadata": {},
   "outputs": [],
   "source": [
    "g = 9.81  # global\n",
    "def local_g():\n",
    "    g = 1.62  # local (e.g., Moon)\n",
    "    return g\n",
    "\n",
    "print(g)\n",
    "print(local_g())\n"
   ]
  },
  {
   "cell_type": "code",
   "execution_count": null,
   "id": "6364ce54",
   "metadata": {},
   "outputs": [],
   "source": [
    "count = 0\n",
    "def bump():\n",
    "    global count\n",
    "    count = count + 1\n",
    "    return count\n",
    "\n",
    "print(bump())\n",
    "print(bump())\n",
    "print(count)\n"
   ]
  },
  {
   "cell_type": "code",
   "execution_count": null,
   "id": "e9d31c59",
   "metadata": {},
   "outputs": [],
   "source": [
    "def make_accumulator(start=0.0):\n",
    "    total = start\n",
    "    def add(x):\n",
    "        nonlocal total\n",
    "        total = total + x\n",
    "        return total\n",
    "    return add\n",
    "\n",
    "acc = make_accumulator()\n",
    "print(acc(1.0))\n",
    "print(acc(2.5))\n",
    "print(acc(3.5))\n"
   ]
  }
 ],
 "metadata": {
  "kernelspec": {
   "display_name": "base",
   "language": "python",
   "name": "python3"
  },
  "language_info": {
   "codemirror_mode": {
    "name": "ipython",
    "version": 3
   },
   "file_extension": ".py",
   "mimetype": "text/x-python",
   "name": "python",
   "nbconvert_exporter": "python",
   "pygments_lexer": "ipython3",
   "version": "3.13.5"
  }
 },
 "nbformat": 4,
 "nbformat_minor": 5
}

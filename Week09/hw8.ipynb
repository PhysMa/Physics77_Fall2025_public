{
 "cells": [
  {
   "cell_type": "code",
   "execution_count": null,
   "id": "b0c6b8ef",
   "metadata": {
    "deletable": false,
    "editable": false
   },
   "outputs": [],
   "source": [
    "# Initialize Otter\n",
    "import otter\n",
    "grader = otter.Notebook(\"hw8.ipynb\")"
   ]
  },
  {
   "cell_type": "code",
   "execution_count": null,
   "id": "56846932",
   "metadata": {},
   "outputs": [],
   "source": [
    "rng_seed = 50"
   ]
  },
  {
   "cell_type": "code",
   "execution_count": null,
   "id": "419a5390",
   "metadata": {},
   "outputs": [],
   "source": [
    "#imports\n",
    "import numpy as np\n",
    "import matplotlib.pyplot as plt\n",
    "import matplotlib\n",
    "import scipy as sp\n",
    "import pandas as pd\n",
    "#below line allows matplotlib plots to appear in cell output\n",
    "%matplotlib inline"
   ]
  },
  {
   "cell_type": "markdown",
   "id": "7d560518",
   "metadata": {
    "deletable": false,
    "editable": false
   },
   "source": [
    "## **Question 1**: Gram-Schmidt Orthonormalization\n",
    "\n",
    "The **Gram-Schmidt process** is a fundamental algorithm in linear algebra that takes a set of linearly independent vectors and produces an orthonormal set of vectors that spans the same subspace.\n",
    "\n",
    "### The Gram-Schmidt Process\n",
    "\n",
    "Given a set of linearly independent vectors $\\{\\mathbf{v}_1, \\mathbf{v}_2, ..., \\mathbf{v}_n\\}$, the Gram-Schmidt process produces an orthonormal set $\\{\\mathbf{u}_1, \\mathbf{u}_2, ..., \\mathbf{u}_n\\}$ through the following algorithm:\n",
    "\n",
    "**Step 1: Orthogonalization**\n",
    "\n",
    "For the first vector, simply normalize it:\n",
    "$$\\mathbf{u}_1 = \\frac{\\mathbf{v}_1}{||\\mathbf{v}_1||}$$\n",
    "\n",
    "For each subsequent vector $\\mathbf{v}_k$, subtract off its projections onto all previously computed orthonormal vectors:\n",
    "\n",
    "$$\\mathbf{w}_k = \\mathbf{v}_k - \\sum_{i=1}^{k-1} (\\mathbf{v}_k \\cdot \\mathbf{u}_i) \\mathbf{u}_i$$\n",
    "\n",
    "**Step 2: Normalization**\n",
    "\n",
    "Then normalize the result to get the next orthonormal vector:\n",
    "$$\\mathbf{u}_k = \\frac{\\mathbf{w}_k}{||\\mathbf{w}_k||}$$\n",
    "\n",
    "The key insight is that at each step, we remove all components of $\\mathbf{v}_k$ that lie in the span of the previous vectors, leaving only the component perpendicular to that subspace.\n",
    "\n",
    "### Linear Independence Check\n",
    "\n",
    "Before applying Gram-Schmidt, we must verify that the input vectors are linearly independent. A set of vectors is linearly independent if and only if the matrix formed by these vectors (as columns) has full rank. If the vectors are linearly dependent, the Gram-Schmidt process cannot proceed because at some step $k$, the vector $\\mathbf{w}_k$ will be the zero vector (or numerically very close to zero).\n",
    "\n",
    "Write a function `gram_schmidt(vectors)` that implements the Gram-Schmidt orthonormalization process.\n",
    "\n",
    "**Requirements:**\n",
    "- Input `vectors` is a 2D numpy array where each **row** is a vector\n",
    "- First check if the vectors are linearly independent using matrix rank\n",
    "- If they are linearly dependent, return `None`\n",
    "- If they are linearly independent, apply the Gram-Schmidt process\n",
    "- Return a 2D numpy array where each **row** is an orthonormal vector\n",
    "- The returned vectors should satisfy:\n",
    "  - Each vector has unit length (norm = 1)\n",
    "  - All vectors are mutually orthogonal (dot product = 0)\n",
    "\n",
    "**Parameters:**\n",
    "- `vectors`: 2D numpy array of shape (n, d) where n is the number of vectors and d is the dimension\n",
    "\n",
    "**Returns:**\n",
    "- `orthonormal_vectors`: 2D numpy array of shape (n, d) containing orthonormal vectors, or `None` if input vectors are linearly dependent\n",
    "\n",
    "**Hints:**\n",
    "- Use `np.linalg.matrix_rank()` to check linear independence\n",
    "- Use `np.linalg.norm()` to compute vector norms\n",
    "- Use `np.dot()` for dot products\n",
    "- Be careful with numerical precision - use a small tolerance (e.g., 1e-10) when checking for zero vectors"
   ]
  },
  {
   "cell_type": "code",
   "execution_count": null,
   "id": "544961d4",
   "metadata": {
    "tags": [
     "otter_answer_cell"
    ]
   },
   "outputs": [],
   "source": [
    "def gram_schmidt(vectors):\n",
    "    # Convert to float array\n",
    "    vectors = np.array(vectors, dtype=float)\n",
    "    n, d = vectors.shape\n",
    "    \n",
    "    # Check linear independence\n",
    "    ...\n",
    "    \n",
    "    # Initialize output array\n",
    "    orthonormal_vectors = np.zeros((n, d))\n",
    "    \n",
    "    # Apply Gram-Schmidt process\n",
    "    ...\n",
    "    \n",
    "    return orthonormal_vectors"
   ]
  },
  {
   "cell_type": "code",
   "execution_count": null,
   "id": "8dedecb3",
   "metadata": {
    "deletable": false,
    "editable": false
   },
   "outputs": [],
   "source": [
    "grader.check(\"q1\")"
   ]
  },
  {
   "cell_type": "markdown",
   "id": "05d59f22",
   "metadata": {
    "deletable": false,
    "editable": false
   },
   "source": [
    "## **Question 2**: Fourier Series Fitting\n",
    "\n",
    "Fourier series provide a powerful method for representing periodic functions as sums of sine and cosine functions. Any periodic function $f(t)$ with period $T = 2\\pi$ can be approximated by a Fourier series:\n",
    "\n",
    "$$f(t) \\approx a_0 + \\sum_{k=1}^{K} \\left[ a_k \\cos(kt) + b_k \\sin(kt) \\right]$$\n",
    "\n",
    "where:\n",
    "- $a_0$ is the constant (DC) term\n",
    "- $a_k$ are the cosine coefficients\n",
    "- $b_k$ are the sine coefficients\n",
    "- $K$ is the highest Fourier mode (frequency) we include\n",
    "\n",
    "This is a **linear problem** because $f(t)$ depends linearly on the coefficients $\\{a_0, a_1, b_1, a_2, b_2, ..., a_K, b_K\\}$.\n",
    "\n",
    "### Least Squares Formulation\n",
    "\n",
    "Given $N$ data points $(t_i, y_i)$ for $i = 1, 2, ..., N$, we want to find the coefficients that minimize the sum of squared errors. This can be written as a linear system:\n",
    "\n",
    "$$\\mathbf{A} \\mathbf{x} = \\mathbf{y}$$\n",
    "\n",
    "where:\n",
    "- $\\mathbf{y}$ is the data vector: $\\mathbf{y} = [y_1, y_2, ..., y_N]^T$\n",
    "- $\\mathbf{x}$ is the coefficient vector: $\\mathbf{x} = [a_0, a_1, b_1, a_2, b_2, ..., a_K, b_K]^T$ (has length $2K+1$)\n",
    "- $\\mathbf{A}$ is the design matrix where each row corresponds to a data point:\n",
    "\n",
    "$$\\mathbf{A} = \\begin{bmatrix}\n",
    "1 & \\cos(t_1) & \\sin(t_1) & \\cos(2t_1) & \\sin(2t_1) & \\cdots & \\cos(Kt_1) & \\sin(Kt_1) \\\\\n",
    "1 & \\cos(t_2) & \\sin(t_2) & \\cos(2t_2) & \\sin(2t_2) & \\cdots & \\cos(Kt_2) & \\sin(Kt_2) \\\\\n",
    "\\vdots & \\vdots & \\vdots & \\vdots & \\vdots & \\ddots & \\vdots & \\vdots \\\\\n",
    "1 & \\cos(t_N) & \\sin(t_N) & \\cos(2t_N) & \\sin(2t_N) & \\cdots & \\cos(Kt_N) & \\sin(Kt_N)\n",
    "\\end{bmatrix}$$\n",
    "\n",
    "The least squares solution is given by solving the **normal equations**:\n",
    "\n",
    "$$\\mathbf{A}^T \\mathbf{A} \\mathbf{x} = \\mathbf{A}^T \\mathbf{y}$$\n",
    "\n",
    "or equivalently, using numpy's least squares solver: $\\mathbf{x} = (\\mathbf{A}^T \\mathbf{A})^{-1} \\mathbf{A}^T \\mathbf{y}$\n",
    "\n",
    "### Part a: Constructing the Design Matrix\n",
    "\n",
    "Write a function `create_fourier_design_matrix(filename, K)` that reads data from a CSV file and constructs the design matrix and data vector for Fourier fitting.\n",
    "\n",
    "**Requirements:**\n",
    "- Read the CSV file using pandas (columns: 'time', 'amplitude')\n",
    "- Extract the time values $t_i$ and amplitude values $y_i$\n",
    "- Construct the design matrix $\\mathbf{A}$ with shape $(N, 2K+1)$ where:\n",
    "  - Column 0: all ones (for $a_0$)\n",
    "  - Columns $1, 2, 3, 4, ..., 2K-1, 2K$: alternating $\\cos(kt)$ and $\\sin(kt)$ for $k=1,2,...,K$\n",
    "- Return both the design matrix and the data vector\n",
    "\n",
    "**Parameters:**\n",
    "- `filename`: str, path to CSV file with 'time' and 'amplitude' columns\n",
    "- `K`: int, highest Fourier mode to include\n",
    "\n",
    "**Returns:**\n",
    "- `(A, y)`: tuple of numpy arrays\n",
    "  - `A`: design matrix of shape (N, 2K+1)\n",
    "  - `y`: data vector of shape (N,)\n",
    "\n",
    "**Hints:**\n",
    "- Use `pd.read_csv()` to load the data\n",
    "- Use `np.cos()` and `np.sin()` to compute trigonometric functions\n",
    "- Build the matrix column by column or use array broadcasting"
   ]
  },
  {
   "cell_type": "code",
   "execution_count": null,
   "id": "94e7f268",
   "metadata": {
    "tags": [
     "otter_answer_cell"
    ]
   },
   "outputs": [],
   "source": [
    "def create_fourier_design_matrix(filename, K):\n",
    "    \n",
    "    # Read the data\n",
    "    data = pd.read_csv(filename)\n",
    "    ...\n",
    "    \n",
    "    \n",
    "    # Initialize design matrix\n",
    "    \n",
    "    # First column: constant term\n",
    "    A[:, 0] = ...\n",
    "    \n",
    "    # Fill in cosine and sine columns\n",
    "    \n",
    "    \n",
    "    return A, y"
   ]
  },
  {
   "cell_type": "code",
   "execution_count": null,
   "id": "62e0ec95",
   "metadata": {
    "deletable": false,
    "editable": false
   },
   "outputs": [],
   "source": [
    "grader.check(\"q2a\")"
   ]
  },
  {
   "cell_type": "markdown",
   "id": "c94db104",
   "metadata": {
    "deletable": false,
    "editable": false
   },
   "source": [
    "### Part b: Solving for Fourier Coefficients and Plotting\n",
    "\n",
    "Write a function `fit_fourier_series(filename, K, show_plot=False)` that:\n",
    "1. Uses your function from part (a) to create the design matrix and data vector\n",
    "2. Solves the least squares problem to find the best-fit Fourier coefficients\n",
    "3. Creates a plot showing both the original data and the fitted curve\n",
    "4. Returns the coefficients and the figure object\n",
    "\n",
    "**Solving the Least Squares Problem:**\n",
    "\n",
    "Given the design matrix $\\mathbf{A}$ and data vector $\\mathbf{y}$, we want to find the coefficient vector $\\mathbf{x}$ that minimizes $||\\mathbf{A}\\mathbf{x} - \\mathbf{y}||^2$.\n",
    "\n",
    "The solution is given by the **normal equations**:\n",
    "$$\\mathbf{A}^T \\mathbf{A} \\mathbf{x} = \\mathbf{A}^T \\mathbf{y}$$\n",
    "\n",
    "You can solve this using:\n",
    "- **Option 1**: `np.linalg.lstsq(A, y, rcond=None)` - returns the least squares solution directly\n",
    "- **Option 2**: Solve the normal equations: `x = np.linalg.solve(A.T @ A, A.T @ y)`\n",
    "\n",
    "Both methods give the same result, but `lstsq` is more numerically stable.\n",
    "\n",
    "**Plotting Requirements:**\n",
    "- Plot the original data points as scatter plot\n",
    "- Generate a smooth fitted curve by evaluating the Fourier series at many points\n",
    "- Include appropriate labels, title, legend, and grid\n",
    "- The function should return both the coefficients and the figure object\n",
    "\n",
    "**Parameters:**\n",
    "- `filename`: str, path to CSV file with data\n",
    "- `K`: int, highest Fourier mode to include  \n",
    "- `show_plot`: bool, default False. If True, call `plt.show()`\n",
    "\n",
    "**Returns:**\n",
    "- `(coefficients, fig)`: tuple containing:\n",
    "  - `coefficients`: numpy array of shape (2K+1,) with fitted coefficients $[a_0, a_1, b_1, ..., a_K, b_K]$\n",
    "  - `fig`: matplotlib figure object\n",
    "\n",
    "**Hints:**\n",
    "- Use your `create_fourier_design_matrix` function from part (a)\n",
    "- To create the smooth fitted curve, generate many points (e.g., 500) evenly spaced over $[0, 2\\pi]$\n",
    "- Evaluate the Fourier series: $f(t) = a_0 + \\sum_{k=1}^{K} [a_k \\cos(kt) + b_k \\sin(kt)]$"
   ]
  },
  {
   "cell_type": "code",
   "execution_count": null,
   "id": "d4746893",
   "metadata": {
    "tags": [
     "otter_answer_cell"
    ]
   },
   "outputs": [],
   "source": [
    "def fit_fourier_series(filename, K, show_plot=False):\n",
    "    \n",
    "    # Get design matrix and data vector\n",
    "    \n",
    "    # Solve least squares problem\n",
    "    coefficients = ...\n",
    "    \n",
    "    # Read original data for plotting\n",
    "    \n",
    "    \n",
    "    # Evaluate Fourier series\n",
    "    \n",
    "    # Create plot\n",
    "    fig, ax = plt.subplots(figsize=(10, 6))\n",
    "    \n",
    "    # Plot data and fit\n",
    "    ...\n",
    "    \n",
    "    if show_plot:\n",
    "        plt.show()\n",
    "    \n",
    "    return coefficients, fig"
   ]
  },
  {
   "cell_type": "code",
   "execution_count": null,
   "id": "a4da2285",
   "metadata": {
    "deletable": false,
    "editable": false
   },
   "outputs": [],
   "source": [
    "# Test the Fourier fitting function\n",
    "print(\"Testing Fourier series fitting with different K values:\\n\")\n",
    "\n",
    "# Test with K=1\n",
    "print(\"=\" * 60)\n",
    "print(\"K = 1 (fitting up to 1st harmonic)\")\n",
    "print(\"=\" * 60)\n",
    "coeffs_1, fig_1 = fit_fourier_series('fourier_data.csv', K=1, show_plot=True)\n",
    "print(f\"Coefficients: {coeffs_1}\")\n",
    "print(f\"a_0 = {coeffs_1[0]:.4f}\")\n",
    "print(f\"a_1 = {coeffs_1[1]:.4f}, b_1 = {coeffs_1[2]:.4f}\")\n",
    "\n",
    "# Test with K=5\n",
    "print(\"=\" * 60)\n",
    "print(\"K = 5 (fitting up to 5th harmonic)\")\n",
    "print(\"=\" * 60)\n",
    "coeffs_5, fig_5 = fit_fourier_series('fourier_data.csv', K=5, show_plot=True)\n",
    "print(f\"Number of coefficients: {len(coeffs_5)}\")\n",
    "print(f\"a_0 = {coeffs_5[0]:.4f}\")\n",
    "for k in range(1, 6):\n",
    "    print(f\"a_{k} = {coeffs_5[2*k-1]:.4f}, b_{k} = {coeffs_5[2*k]:.4f}\")\n",
    "\n",
    "print(\"\\n\" + \"=\" * 60)\n",
    "print(\"Note: True signal was generated with:\")\n",
    "print(\"f(t) = 1.0 + 0.8*cos(t) + 0.5*sin(t) + 0.3*cos(2t) + 0.2*sin(2t)\")\n",
    "print(\"Compare the fitted coefficients to these true values!\")\n",
    "print(\"=\" * 60)"
   ]
  },
  {
   "cell_type": "code",
   "execution_count": null,
   "id": "b3adfaa0",
   "metadata": {
    "deletable": false,
    "editable": false
   },
   "outputs": [],
   "source": [
    "grader.check(\"q2b\")"
   ]
  },
  {
   "cell_type": "markdown",
   "id": "bc74ea2a",
   "metadata": {
    "deletable": false,
    "editable": false
   },
   "source": [
    "## **Question 3**: Weighted Least Squares Fitting\n",
    "\n",
    "In many physics experiments, different data points have different levels of uncertainty. For example, some measurements might be taken with more precise instruments, or under better experimental conditions. **Weighted least squares** allows us to account for these varying uncertainties by giving more weight to more precise measurements.\n",
    "\n",
    "### Physics Application: Ohm's Law\n",
    "\n",
    "We will fit data to **Ohm's Law**, which states that the voltage $V$ across a resistor is proportional to the current $I$ flowing through it:\n",
    "\n",
    "$$V = R \\cdot I$$\n",
    "\n",
    "where $R$ is the resistance (in Ohms). This is a linear relationship that passes through the origin.\n",
    "\n",
    "### Weighted Least Squares Theory\n",
    "\n",
    "When each data point $i$ has a measurement $(x_i, y_i)$ with uncertainty $\\sigma_i$, we want to minimize the **weighted sum of squared residuals**:\n",
    "\n",
    "$$\\chi^2 = \\sum_{i=1}^{N} \\frac{(y_i - f(x_i))^2}{\\sigma_i^2}$$\n",
    "\n",
    "For a linear model $y = mx$ (like Ohm's Law where $V = RI$), we can write this in matrix form.\n",
    "\n",
    "### Matrix Formulation\n",
    "\n",
    "Define the **weight matrix** $\\mathbf{W}$ as a diagonal matrix with weights $w_i = 1/\\sigma_i^2$:\n",
    "\n",
    "$$\\mathbf{W} = \\begin{bmatrix}\n",
    "1/\\sigma_1^2 & 0 & \\cdots & 0 \\\\\n",
    "0 & 1/\\sigma_2^2 & \\cdots & 0 \\\\\n",
    "\\vdots & \\vdots & \\ddots & \\vdots \\\\\n",
    "0 & 0 & \\cdots & 1/\\sigma_N^2\n",
    "\\end{bmatrix}$$\n",
    "\n",
    "For the linear model $\\mathbf{y} = \\mathbf{A}\\mathbf{x}$ where $\\mathbf{A}$ is the design matrix (in our case, just the column of current values), the **weighted least squares solution** is:\n",
    "\n",
    "$$\\mathbf{x} = (\\mathbf{A}^T \\mathbf{W} \\mathbf{A})^{-1} \\mathbf{A}^T \\mathbf{W} \\mathbf{y}$$\n",
    "\n",
    "For the simple case of fitting $V = R \\cdot I$ (a line through the origin), this simplifies to:\n",
    "\n",
    "$$R = \\frac{\\sum_i w_i I_i V_i}{\\sum_i w_i I_i^2} = \\frac{\\sum_i \\frac{I_i V_i}{\\sigma_i^2}}{\\sum_i \\frac{I_i^2}{\\sigma_i^2}}$$\n",
    "\n",
    "### Uncertainty in the Fitted Parameter\n",
    "\n",
    "The uncertainty in the fitted resistance is given by:\n",
    "\n",
    "$$\\sigma_R = \\sqrt{(\\mathbf{A}^T \\mathbf{W} \\mathbf{A})^{-1}} = \\sqrt{\\frac{1}{\\sum_i \\frac{I_i^2}{\\sigma_i^2}}}$$\n",
    "\n",
    "### Your Task\n",
    "\n",
    "Write a function `weighted_least_squares_fit(filename, show_plot=False)` that:\n",
    "1. Reads data from a CSV file containing columns: 'current' (I), 'voltage' (V), and 'uncertainty' (σ)\n",
    "2. Performs weighted least squares fitting to find the resistance R\n",
    "3. Calculates the uncertainty in R\n",
    "4. Creates a plot showing:\n",
    "   - Original data points with error bars\n",
    "   - The fitted line V = R·I\n",
    "   - A shaded region showing the uncertainty in the fit\n",
    "5. Returns the resistance, its uncertainty, and the figure object\n",
    "\n",
    "**Requirements:**\n",
    "- Read CSV data using pandas\n",
    "- Compute weights as $w_i = 1/\\sigma_i^2$\n",
    "- Calculate fitted resistance using the weighted least squares formula\n",
    "- Calculate uncertainty in resistance\n",
    "- Plot data with error bars using `plt.errorbar()`\n",
    "- Plot the fitted line\n",
    "- Include appropriate labels, title, legend, and grid\n",
    "\n",
    "**Parameters:**\n",
    "- `filename`: str, path to CSV file with 'current', 'voltage', 'uncertainty' columns\n",
    "- `show_plot`: bool, default False. If True, call `plt.show()`\n",
    "\n",
    "**Returns:**\n",
    "- `(R, sigma_R, fig)`: tuple containing:\n",
    "  - `R`: float, fitted resistance in Ohms\n",
    "  - `sigma_R`: float, uncertainty in resistance\n",
    "  - `fig`: matplotlib figure object\n",
    "\n",
    "**Hints:**\n",
    "- Use `plt.errorbar(x, y, yerr=uncertainties, fmt='o')` to plot data with error bars\n",
    "- Generate a smooth line for the fit using many current values\n",
    "- The shaded uncertainty region can be plotted with `plt.fill_between()`"
   ]
  },
  {
   "cell_type": "code",
   "execution_count": null,
   "id": "b05953e7",
   "metadata": {
    "tags": [
     "otter_answer_cell"
    ]
   },
   "outputs": [],
   "source": [
    "def weighted_least_squares_fit(filename, show_plot=False):\n",
    "    \n",
    "    # Read the data\n",
    "    data = pd.read_csv(filename)\n",
    "    I = ...\n",
    "    V = ...\n",
    "    sigma = ...\n",
    "    \n",
    "    # Compute weights\n",
    "    \n",
    "    #Find WLS R and uncertainty in R\n",
    "    \n",
    "    # Create plot\n",
    "    fig, ax = plt.subplots(figsize=(10, 6))\n",
    "    \n",
    "    # Plot data with error bars\n",
    "    \n",
    "    # Plot fitted line\n",
    "    \n",
    "    if show_plot:\n",
    "        plt.show()\n",
    "    \n",
    "    return R, sigma_R, fig"
   ]
  },
  {
   "cell_type": "code",
   "execution_count": null,
   "id": "0e53d2a5",
   "metadata": {
    "deletable": false,
    "editable": false
   },
   "outputs": [],
   "source": [
    "# Test the weighted least squares fitting function\n",
    "\n",
    "# Perform the fit\n",
    "R_fit, sigma_R_fit, fig = weighted_least_squares_fit('resistance_data.csv', show_plot=True)"
   ]
  },
  {
   "cell_type": "code",
   "execution_count": null,
   "id": "a8e21286",
   "metadata": {
    "deletable": false,
    "editable": false
   },
   "outputs": [],
   "source": [
    "grader.check(\"q3\")"
   ]
  },
  {
   "cell_type": "markdown",
   "id": "f2511b24",
   "metadata": {
    "deletable": false,
    "editable": false
   },
   "source": [
    "## Required disclosure of use of AI technology\n",
    "\n",
    "Please indicate whether you used AI to complete this homework. If you did, explain how you used it in the python cell below, as a comment."
   ]
  },
  {
   "cell_type": "code",
   "execution_count": null,
   "id": "e762692b",
   "metadata": {
    "tags": [
     "otter_answer_cell"
    ]
   },
   "outputs": [],
   "source": [
    "\"\"\"\n",
    "# write ai disclosure here:\n",
    "\n",
    "\"\"\""
   ]
  },
  {
   "cell_type": "markdown",
   "id": "5bea6586",
   "metadata": {
    "deletable": false,
    "editable": false
   },
   "source": [
    "## Submission\n",
    "\n",
    "Make sure you have run all cells in your notebook in order before running the cell below, so that all images/graphs appear in the output. The cell below will generate a zip file for you to submit.\n",
    "\n",
    "Upload the .zip file to Gradescope!"
   ]
  },
  {
   "cell_type": "code",
   "execution_count": null,
   "id": "33f25d4e",
   "metadata": {
    "deletable": false,
    "editable": false
   },
   "outputs": [],
   "source": [
    "grader.export(pdf=False, force_save=True, run_tests=True)"
   ]
  },
  {
   "cell_type": "markdown",
   "id": "f4ded7fb",
   "metadata": {},
   "source": [
    " "
   ]
  }
 ],
 "metadata": {
  "kernelspec": {
   "display_name": "otter_grading",
   "language": "python",
   "name": "python3"
  },
  "language_info": {
   "codemirror_mode": {
    "name": "ipython",
    "version": 3
   },
   "file_extension": ".py",
   "mimetype": "text/x-python",
   "name": "python",
   "nbconvert_exporter": "python",
   "pygments_lexer": "ipython3",
   "version": "3.12.11"
  },
  "otter": {
   "OK_FORMAT": true,
   "tests": {
    "q1": {
     "name": "q1",
     "points": null,
     "suites": [
      {
       "cases": [
        {
         "code": ">>> np.random.seed(rng_seed)\n>>> test_vectors = np.array([[1.0, 0.0], [0.0, 1.0]])\n>>> result = gram_schmidt(test_vectors)\n>>> is_not_none = result is not None\n>>> is_array = isinstance(result, np.ndarray)\n>>> correct_shape = result.shape == (2, 2)\n>>> norms = [np.linalg.norm(result[i]) for i in range(2)]\n>>> unit_norms = all((abs(norm - 1.0) < 1e-10 for norm in norms))\n>>> (is_not_none, is_array, correct_shape, unit_norms)\n(True, True, True, True)",
         "hidden": false,
         "locked": false,
         "points": 1
        },
        {
         "code": ">>> np.random.seed(rng_seed)\n>>> test_vectors = np.array([[3.0, 4.0], [1.0, 0.0]])\n>>> result = gram_schmidt(test_vectors)\n>>> dot_product = np.dot(result[0], result[1])\n>>> is_orthogonal = abs(dot_product) < 1e-10\n>>> norm1 = np.linalg.norm(result[0])\n>>> norm2 = np.linalg.norm(result[1])\n>>> both_unit = abs(norm1 - 1.0) < 1e-10 and abs(norm2 - 1.0) < 1e-10\n>>> (bool(is_orthogonal), bool(both_unit))\n(True, True)",
         "hidden": false,
         "locked": false,
         "points": 1
        },
        {
         "code": ">>> np.random.seed(rng_seed)\n>>> dependent_vectors_1 = np.array([[1.0, 2.0, 3.0], [2.0, 4.0, 6.0]])\n>>> result1 = gram_schmidt(dependent_vectors_1)\n>>> test1 = result1 is None\n>>> dependent_vectors_2 = np.array([[1.0, 0.0], [0.0, 1.0], [1.0, 1.0]])\n>>> result2 = gram_schmidt(dependent_vectors_2)\n>>> test2 = result2 is None\n>>> (test1, test2)\n(True, True)",
         "hidden": false,
         "locked": false,
         "points": 1
        }
       ],
       "scored": true,
       "setup": "",
       "teardown": "",
       "type": "doctest"
      }
     ]
    },
    "q2a": {
     "name": "q2a",
     "points": null,
     "suites": [
      {
       "cases": [
        {
         "code": ">>> A, y = create_fourier_design_matrix('fourier_data.csv', K=2)\n>>> is_tuple = isinstance((A, y), tuple)\n>>> A_is_array = isinstance(A, np.ndarray)\n>>> y_is_array = isinstance(y, np.ndarray)\n>>> N = len(y)\n>>> correct_A_shape = A.shape == (N, 5)\n>>> correct_y_shape = y.shape == (N,)\n>>> (is_tuple, A_is_array, y_is_array, correct_A_shape, correct_y_shape)\n(True, True, True, True, True)",
         "hidden": false,
         "locked": false,
         "points": 1
        },
        {
         "code": ">>> A, y = create_fourier_design_matrix('fourier_data.csv', K=3)\n>>> first_col_ones = np.allclose(A[:, 0], 1.0)\n>>> correct_shape = A.shape[1] == 7\n>>> (first_col_ones, correct_shape)\n(True, True)",
         "hidden": false,
         "locked": false,
         "points": 1
        }
       ],
       "scored": true,
       "setup": "",
       "teardown": "",
       "type": "doctest"
      }
     ]
    },
    "q2b": {
     "name": "q2b",
     "points": null,
     "suites": [
      {
       "cases": [
        {
         "code": ">>> coefficients, fig = fit_fourier_series('fourier_data.csv', K=2, show_plot=False)\n>>> is_tuple = isinstance((coefficients, fig), tuple)\n>>> coeffs_is_array = isinstance(coefficients, np.ndarray)\n>>> is_figure = isinstance(fig, matplotlib.figure.Figure)\n>>> correct_shape = coefficients.shape == (5,)\n>>> plt.close(fig)\n>>> (is_tuple, coeffs_is_array, is_figure, correct_shape)\n(True, True, True, True)",
         "hidden": false,
         "locked": false,
         "points": 1
        },
        {
         "code": ">>> coefficients, fig = fit_fourier_series('fourier_data.csv', K=2, show_plot=False)\n>>> a0_reasonable = abs(coefficients[0] - 1.0) < 0.3\n>>> a1_reasonable = abs(coefficients[1] - 0.8) < 0.3\n>>> b1_reasonable = abs(coefficients[2] - 0.5) < 0.3\n>>> plt.close(fig)\n>>> (bool(a0_reasonable), bool(a1_reasonable), bool(b1_reasonable))\n(True, True, True)",
         "hidden": false,
         "locked": false,
         "points": 1
        }
       ],
       "scored": true,
       "setup": "",
       "teardown": "",
       "type": "doctest"
      }
     ]
    },
    "q3": {
     "name": "q3",
     "points": null,
     "suites": [
      {
       "cases": [
        {
         "code": ">>> R, sigma_R, fig = weighted_least_squares_fit('resistance_data.csv', show_plot=False)\n>>> is_tuple = isinstance((R, sigma_R, fig), tuple)\n>>> R_is_number = isinstance(R, (int, float, np.floating))\n>>> sigma_R_is_number = isinstance(sigma_R, (int, float, np.floating))\n>>> is_figure = isinstance(fig, matplotlib.figure.Figure)\n>>> R_positive = R > 0\n>>> sigma_R_positive = sigma_R > 0\n>>> plt.close(fig)\n>>> (is_tuple, R_is_number, sigma_R_is_number, is_figure, bool(R_positive), bool(sigma_R_positive))\n(True, True, True, True, True, True)",
         "hidden": false,
         "locked": false,
         "points": 1
        },
        {
         "code": ">>> R, sigma_R, fig = weighted_least_squares_fit('resistance_data.csv', show_plot=False)\n>>> close_to_true = abs(R - 47.5) < 3 * sigma_R\n>>> reasonable_range = 40 < R < 55\n>>> reasonable_uncertainty = 0.1 < sigma_R < 5.0\n>>> plt.close(fig)\n>>> (bool(close_to_true), bool(reasonable_range), bool(reasonable_uncertainty))\n(True, True, True)",
         "hidden": false,
         "locked": false,
         "points": 1
        },
        {
         "code": ">>> R, sigma_R, fig = weighted_least_squares_fit('resistance_data.csv', show_plot=False)\n>>> has_axes = len(fig.axes) > 0\n>>> ax = fig.axes[0]\n>>> has_errorbar = len(ax.collections) > 0 or len(ax.lines) > 0\n>>> has_line = len(ax.lines) > 0\n>>> has_xlabel = ax.get_xlabel() != ''\n>>> has_ylabel = ax.get_ylabel() != ''\n>>> has_title = ax.get_title() != ''\n>>> plt.close(fig)\n>>> (has_axes, has_errorbar, has_line, has_xlabel, has_ylabel, has_title)\n(True, True, True, True, True, True)",
         "hidden": false,
         "locked": false,
         "points": 1
        }
       ],
       "scored": true,
       "setup": "",
       "teardown": "",
       "type": "doctest"
      }
     ]
    }
   }
  }
 },
 "nbformat": 4,
 "nbformat_minor": 5
}

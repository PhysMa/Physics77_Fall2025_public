{
 "cells": [
  {
   "cell_type": "code",
   "execution_count": null,
   "id": "7f702d05",
   "metadata": {
    "deletable": false,
    "editable": false
   },
   "outputs": [],
   "source": [
    "# Initialize Otter\n",
    "import otter\n",
    "grader = otter.Notebook(\"ws8.ipynb\")"
   ]
  },
  {
   "cell_type": "code",
   "execution_count": null,
   "id": "4d252d7e",
   "metadata": {},
   "outputs": [],
   "source": [
    "#imports\n",
    "import numpy as np\n",
    "import matplotlib.pyplot as plt\n",
    "import matplotlib\n",
    "import pandas as pd\n",
    "#below line allows matplotlib plots to appear in cell output\n",
    "%matplotlib inline"
   ]
  },
  {
   "cell_type": "markdown",
   "id": "2c278072",
   "metadata": {
    "deletable": false,
    "editable": false
   },
   "source": [
    "## **Question 1**: Determining the Order of a Matrix\n",
    "\n",
    "In this question, you'll implement a function to determine the **order** of a square matrix. The order of a matrix is the smallest positive integer $n$ such that $A^n = I$, where $I$ is the identity matrix.\n",
    "\n",
    "### Background: Matrix Order Theory\n",
    "\n",
    "For a square matrix $A$, the **order** (also called the **period**) is defined as the smallest positive integer $n$ such that:\n",
    "\n",
    "$$A^n = I$$\n",
    "\n",
    "where $I$ is the identity matrix of the same size as $A$.\n",
    "\n",
    "**Key Concepts:**\n",
    "\n",
    "- If $A^n = I$ for some positive integer $n$, then $A$ is called a **periodic matrix** of order $n$\n",
    "- Not all matrices have a finite order (some matrices never return to the identity)\n",
    "- Rotation matrices often have finite orders. For example, a 90° rotation in 2D has order 4, since rotating four times returns to the original orientation\n",
    "- Permutation matrices and certain orthogonal matrices commonly have finite orders\n",
    "\n",
    "**Mathematical Properties:**\n",
    "\n",
    "1. **Matrix Power**: The $n$-th power of matrix $A$ is computed by multiplying $A$ by itself $n$ times:\n",
    "   $$A^n = \\underbrace{A \\cdot A \\cdot ... \\cdot A}_{n \\text{ times}}$$\n",
    "\n",
    "2. **Identity Matrix**: The identity matrix $I$ is a square matrix with 1's on the diagonal and 0's elsewhere:\n",
    "   $$I = \\begin{pmatrix} 1 & 0 & 0 \\\\ 0 & 1 & 0 \\\\ 0 & 0 & 1 \\end{pmatrix} \\quad \\text{(for 3×3)}$$\n",
    "\n",
    "3. **Matrix Equality with Tolerance**: Due to numerical precision limitations in computers, we check if two matrices are \"close enough\" using:\n",
    "   $$|A^n - I| < \\text{tolerance}$$\n",
    "   where $|M|$ represents the magnitude of the matrix difference (we'll use `np.allclose()` for this)\n",
    "\n",
    "### Your Task\n",
    "\n",
    "Write a function `find_matrix_order(A, N, tolerance=1e-10)` that:\n",
    "1. Takes a square matrix $A$ and checks if $A^n = I$ for $n = 1, 2, 3, ..., N$\n",
    "2. Returns the smallest $n$ for which $A^n$ is approximately equal to the identity matrix (within the specified tolerance)\n",
    "3. Returns `None` if no order is found up to $N$\n",
    "\n",
    "**Requirements:**\n",
    "- Use `np.linalg.matrix_power(...)` to compute $A^n$\n",
    "- Use `np.eye(...)` to create the identity matrix of the same size as $A$\n",
    "- Use `np.allclose(...)` to check if $A^n \\approx I$ within the tolerance\n",
    "- Check orders from $n=1$ up to $n=N$ (inclusive)\n",
    "- Return the **smallest** $n$ that satisfies the condition\n",
    "- Return `None` if no order is found within the range $[1, N]$\n",
    "\n",
    "**Parameters:**\n",
    "- `A`: numpy array, square matrix to analyze\n",
    "- `N`: int, maximum order to check (check orders from 1 to N inclusive)\n",
    "- `tolerance`: float, tolerance for checking matrix equality (default 1e-10)\n",
    "\n",
    "**Returns:**\n",
    "- `order`: int or None, the smallest order $n$ such that $A^n \\approx I$, or None if no order found\n",
    "\n",
    "**Example:**\n",
    "For a 90° rotation matrix in 2D:\n",
    "```python\n",
    "A = np.array([[0, -1], [1, 0]])  # 90° counterclockwise rotation\n",
    "order = find_matrix_order(A, 10)\n",
    "# Should return 4, since rotating 4 times = 360° = identity\n",
    "```"
   ]
  },
  {
   "cell_type": "code",
   "execution_count": null,
   "id": "c17e1089",
   "metadata": {
    "tags": [
     "otter_answer_cell"
    ]
   },
   "outputs": [],
   "source": [
    "def find_matrix_order(A, N, tolerance=1e-10):\n",
    "    # your code here"
   ]
  },
  {
   "cell_type": "code",
   "execution_count": null,
   "id": "a6350635",
   "metadata": {
    "deletable": false,
    "editable": false
   },
   "outputs": [],
   "source": [
    "grader.check(\"q1\")"
   ]
  },
  {
   "cell_type": "raw",
   "id": "11a89614",
   "metadata": {},
   "source": []
  },
  {
   "cell_type": "markdown",
   "id": "32929ed6",
   "metadata": {
    "deletable": false,
    "editable": false
   },
   "source": [
    "## **Question 2**: Polynomial Fitting with Least Squares\n",
    "\n",
    "In this question, you'll implement polynomial curve fitting using the **least squares method** with the **design matrix approach**. This is a fundamental technique in data analysis for fitting polynomial models to experimental data.\n",
    "\n",
    "### Background: Least Squares Polynomial Fitting\n",
    "\n",
    "Given a set of data points $(x_1, y_1), (x_2, y_2), ..., (x_m, y_m)$, we want to fit an $N$-th degree polynomial:\n",
    "\n",
    "$$p(x) = a_0 + a_1 x + a_2 x^2 + ... + a_N x^N$$\n",
    "\n",
    "The **least squares method** finds the coefficients $\\mathbf{a} = [a_0, a_1, ..., a_N]^T$ that minimize the sum of squared residuals:\n",
    "\n",
    "$$\\text{minimize} \\quad \\sum_{i=1}^{m} (y_i - p(x_i))^2$$\n",
    "\n",
    "### The Design Matrix Approach\n",
    "\n",
    "The key to solving this problem is constructing the **design matrix** $\\mathbf{X}$, where each row corresponds to a data point and each column corresponds to a power of $x$:\n",
    "\n",
    "$$\\mathbf{X} = \\begin{pmatrix}\n",
    "1 & x_1 & x_1^2 & \\cdots & x_1^N \\\\\n",
    "1 & x_2 & x_2^2 & \\cdots & x_2^N \\\\\n",
    "\\vdots & \\vdots & \\vdots & \\ddots & \\vdots \\\\\n",
    "1 & x_m & x_m^2 & \\cdots & x_m^N\n",
    "\\end{pmatrix}$$\n",
    "\n",
    "This is an $m \\times (N+1)$ matrix, where $m$ is the number of data points.\n",
    "\n",
    "**Matrix Formulation:**\n",
    "\n",
    "The polynomial fitting problem can be written in matrix form as:\n",
    "$$\\mathbf{X} \\mathbf{a} = \\mathbf{y}$$\n",
    "\n",
    "where $\\mathbf{y} = [y_1, y_2, ..., y_m]^T$ is the vector of observed values.\n",
    "\n",
    "**The Normal Equations:**\n",
    "\n",
    "The least squares solution is found by solving the **normal equations**:\n",
    "\n",
    "$$\\mathbf{X}^T \\mathbf{X} \\mathbf{a} = \\mathbf{X}^T \\mathbf{y}$$\n",
    "\n",
    "Solving for $\\mathbf{a}$:\n",
    "$$\\mathbf{a} = (\\mathbf{X}^T \\mathbf{X})^{-1} \\mathbf{X}^T \\mathbf{y}$$\n",
    "\n",
    "**In NumPy**, we can use `np.linalg.lstsq(X, y, rcond=None)` which solves this efficiently and handles numerical stability issues.\n",
    "\n",
    "### Your Task\n",
    "\n",
    "Write a function `fit_polynomial(filename, N, show_plot=False)` that:\n",
    "1. Loads data from a CSV file containing x and y columns\n",
    "2. Constructs the design matrix $\\mathbf{X}$ for an $N$-th degree polynomial\n",
    "3. Solves for the polynomial coefficients using least squares\n",
    "4. Plots the data points and the fitted polynomial curve\n",
    "5. Returns the figure object and the fitted coefficients\n",
    "\n",
    "**Requirements:**\n",
    "- Load the CSV file using `pd.read_csv(filename)`\n",
    "- Extract x and y values from the DataFrame\n",
    "- Construct the design matrix $\\mathbf{X}$ with shape $(m, N+1)$ where:\n",
    "  - Column 0: all ones (for $a_0$)\n",
    "  - Column 1: $x$ values (for $a_1$)\n",
    "  - Column 2: $x^2$ values (for $a_2$)\n",
    "  - ...\n",
    "  - Column $k$: $x^k$ values (for $a_k$)\n",
    "- Use `np.linalg.lstsq(X, y, rcond=None)` to solve for coefficients\n",
    "- Create a smooth curve for plotting using `np.linspace()` with at least 200 points\n",
    "- Plot configuration:\n",
    "  - Scatter plot of data with `'o'` markers, `alpha=0.6`, `s=40`, label='Data'\n",
    "  - Line plot of fit with `linewidth=2`, `color='red'`, label='Fitted Polynomial'\n",
    "  - X-axis label: \"x\"\n",
    "  - Y-axis label: \"y\"\n",
    "  - Title: \"Polynomial Fit (Degree N)\" where N is the actual degree\n",
    "  - Grid with `alpha=0.3`\n",
    "  - Legend\n",
    "- Only call `plt.show()` if `show_plot=True`\n",
    "- Return both the figure object and the coefficient array\n",
    "\n",
    "**Parameters:**\n",
    "- `filename`: string, path to CSV file with 'x' and 'y' columns\n",
    "- `N`: int, degree of polynomial to fit (0 ≤ N)\n",
    "- `show_plot`: bool, default False. If True, display the plot\n",
    "\n",
    "**Returns:**\n",
    "- `fig`: matplotlib figure object\n",
    "- `coefficients`: numpy array of shape (N+1,), coefficients [a₀, a₁, ..., aₙ]\n",
    "\n",
    "**Example:**\n",
    "For a quadratic fit (N=2) to data, the function returns:\n",
    "- A figure showing data points and the fitted parabola\n",
    "- Coefficients array like `[1.5, -0.3, 0.8]` representing $y = 1.5 - 0.3x + 0.8x^2$"
   ]
  },
  {
   "cell_type": "code",
   "execution_count": null,
   "id": "517c870c",
   "metadata": {
    "tags": [
     "otter_answer_cell"
    ]
   },
   "outputs": [],
   "source": [
    "def fit_polynomial(filename, N, show_plot=False):\n",
    "    # Load the data\n",
    "    \n",
    "    \n",
    "    # Construct the design matrix X with shape (m, N+1)\n",
    "    \n",
    "    # Solve for coefficients using np.linalg.lstsq\n",
    "    \n",
    "    # create array to plot fitted curve\n",
    "    \n",
    "    # Create the plot\n",
    "    fig, ax = plt.subplots(figsize=(10, 6))\n",
    "    \n",
    "    # Plot data and fit\n",
    "    ...\n",
    "    \n",
    "    # Set labels, title, grid, legend\n",
    "    ...\n",
    "    \n",
    "    # Show plot if requested\n",
    "    if show_plot:\n",
    "        plt.show()\n",
    "    \n",
    "    return fig, coefficients"
   ]
  },
  {
   "cell_type": "code",
   "execution_count": null,
   "id": "5f97ed12",
   "metadata": {
    "tags": [
     "otter_answer_cell"
    ]
   },
   "outputs": [],
   "source": [
    "# Example: Fit polynomials of different degrees to the data\n",
    "fig1, coef1 = fit_polynomial('polynomial_data.csv', N=1, show_plot=True)\n",
    "print(f\"Linear fit coefficients: {coef1}\")\n",
    "print(f\"Polynomial: y = {coef1[0]:.3f} + {coef1[1]:.3f}x\")\n",
    "print()\n",
    "\n",
    "fig2, coef2 = fit_polynomial('polynomial_data.csv', N=2, show_plot=True)\n",
    "print(f\"Quadratic fit coefficients: {coef2}\")\n",
    "print(f\"Polynomial: y = {coef2[0]:.3f} + {coef2[1]:.3f}x + {coef2[2]:.3f}x²\")\n",
    "print()\n",
    "\n",
    "fig3, coef3 = fit_polynomial('polynomial_data.csv', N=3, show_plot=True)\n",
    "print(f\"Cubic fit coefficients: {coef3}\")\n",
    "print(f\"Polynomial: y = {coef3[0]:.3f} + {coef3[1]:.3f}x + {coef3[2]:.3f}x² + {coef3[3]:.3f}x³\")\n",
    "print(\"\\nTrue polynomial: y = 2 + 3x - 0.5x² + 0.1x³\")"
   ]
  },
  {
   "cell_type": "code",
   "execution_count": null,
   "id": "3af23a7b",
   "metadata": {
    "deletable": false,
    "editable": false
   },
   "outputs": [],
   "source": [
    "grader.check(\"q2\")"
   ]
  },
  {
   "cell_type": "markdown",
   "id": "7b713247",
   "metadata": {
    "deletable": false,
    "editable": false
   },
   "source": [
    "## Required disclosure of use of AI technology\n",
    "\n",
    "Please indicate whether you used AI to complete this homework. If you did, explain how you used it in the python cell below, as a comment."
   ]
  },
  {
   "cell_type": "code",
   "execution_count": null,
   "id": "14d15b81",
   "metadata": {
    "tags": [
     "otter_answer_cell"
    ]
   },
   "outputs": [],
   "source": [
    "\"\"\"\n",
    "# write ai disclosure here:\n",
    "\n",
    "\"\"\""
   ]
  },
  {
   "cell_type": "markdown",
   "id": "9fd2e2fe",
   "metadata": {
    "deletable": false,
    "editable": false
   },
   "source": [
    "## Submission\n",
    "\n",
    "Make sure you have run all cells in your notebook in order before running the cell below, so that all images/graphs appear in the output. The cell below will generate a zip file for you to submit.\n",
    "\n",
    "Upload the .zip file to Gradescope!"
   ]
  },
  {
   "cell_type": "code",
   "execution_count": null,
   "id": "68f1b74c",
   "metadata": {
    "deletable": false,
    "editable": false
   },
   "outputs": [],
   "source": [
    "grader.export(pdf=False, force_save=True, run_tests=True)"
   ]
  },
  {
   "cell_type": "markdown",
   "id": "a5f25676",
   "metadata": {},
   "source": [
    " "
   ]
  }
 ],
 "metadata": {
  "kernelspec": {
   "display_name": "otter_grading",
   "language": "python",
   "name": "python3"
  },
  "language_info": {
   "codemirror_mode": {
    "name": "ipython",
    "version": 3
   },
   "file_extension": ".py",
   "mimetype": "text/x-python",
   "name": "python",
   "nbconvert_exporter": "python",
   "pygments_lexer": "ipython3",
   "version": "3.12.11"
  },
  "otter": {
   "OK_FORMAT": true,
   "tests": {
    "q1": {
     "name": "q1",
     "points": null,
     "suites": [
      {
       "cases": [
        {
         "code": ">>> A_test = np.array([[0, -1], [1, 0]])\n>>> result = find_matrix_order(A_test, 10)\n>>> test_result = isinstance(result, int) or result is None\n>>> test_result\nTrue",
         "hidden": false,
         "locked": false,
         "points": 1
        },
        {
         "code": ">>> A_rotation = np.array([[0, -1], [1, 0]])\n>>> order_rotation = find_matrix_order(A_rotation, 10)\n>>> test_result = order_rotation == 4\n>>> test_result\nTrue",
         "hidden": false,
         "locked": false,
         "points": 1
        },
        {
         "code": ">>> A_identity = np.eye(3)\n>>> order_identity = find_matrix_order(A_identity, 10)\n>>> test_result = order_identity == 1\n>>> test_result\nTrue",
         "hidden": false,
         "locked": false,
         "points": 1
        },
        {
         "code": ">>> A_no_order = np.array([[2, 0], [0, 0.5]])\n>>> order_no_order = find_matrix_order(A_no_order, 10)\n>>> test_result = order_no_order is None\n>>> test_result\nTrue",
         "hidden": false,
         "locked": false,
         "points": 1
        },
        {
         "code": ">>> A_180 = np.array([[-1, 0], [0, -1]])\n>>> order_180 = find_matrix_order(A_180, 10)\n>>> test_result = order_180 == 2\n>>> test_result\nTrue",
         "hidden": false,
         "locked": false,
         "points": 1
        },
        {
         "code": ">>> A_perm = np.array([[0, 1, 0], [0, 0, 1], [1, 0, 0]])\n>>> order_perm = find_matrix_order(A_perm, 10)\n>>> test_result = order_perm == 3\n>>> test_result\nTrue",
         "hidden": false,
         "locked": false,
         "points": 1
        }
       ],
       "scored": true,
       "setup": "",
       "teardown": "",
       "type": "doctest"
      }
     ]
    },
    "q2": {
     "name": "q2",
     "points": null,
     "suites": [
      {
       "cases": [
        {
         "code": ">>> fig_test, coef_test = fit_polynomial('polynomial_data.csv', N=2)\n>>> import matplotlib.figure\n>>> test_result = isinstance(fig_test, matplotlib.figure.Figure) and isinstance(coef_test, np.ndarray)\n>>> plt.close(fig_test)\n>>> test_result\nTrue",
         "hidden": false,
         "locked": false,
         "points": 1
        },
        {
         "code": ">>> fig_test, coef_test = fit_polynomial('polynomial_data.csv', N=3)\n>>> test_result = len(coef_test) == 4\n>>> plt.close(fig_test)\n>>> test_result\nTrue",
         "hidden": false,
         "locked": false,
         "points": 1
        },
        {
         "code": ">>> test_data_const = pd.DataFrame({'x': [1, 2, 3, 4, 5], 'y': [5, 5, 5, 5, 5]})\n>>> test_data_const.to_csv('test_const.csv', index=False)\n>>> fig_const, coef_const = fit_polynomial('test_const.csv', N=0)\n>>> test_result = len(coef_const) == 1 and abs(coef_const[0] - 5.0) < 0.01\n>>> plt.close(fig_const)\n>>> bool(test_result)\nTrue",
         "hidden": false,
         "locked": false,
         "points": 1
        },
        {
         "code": ">>> test_data_linear = pd.DataFrame({'x': [1, 2, 3, 4, 5], 'y': [5, 8, 11, 14, 17]})\n>>> test_data_linear.to_csv('test_linear.csv', index=False)\n>>> fig_linear, coef_linear = fit_polynomial('test_linear.csv', N=1)\n>>> test_result = len(coef_linear) == 2 and abs(coef_linear[0] - 2.0) < 0.01 and (abs(coef_linear[1] - 3.0) < 0.01)\n>>> plt.close(fig_linear)\n>>> bool(test_result)\nTrue",
         "hidden": false,
         "locked": false,
         "points": 1
        },
        {
         "code": ">>> fig_components, coef_components = fit_polynomial('polynomial_data.csv', N=2)\n>>> ax = fig_components.axes[0]\n>>> has_scatter = len(ax.collections) > 0\n>>> has_line = len(ax.lines) > 0\n>>> has_xlabel = ax.get_xlabel() == 'x'\n>>> has_ylabel = ax.get_ylabel() == 'y'\n>>> has_title = 'Polynomial Fit' in ax.get_title()\n>>> has_legend = ax.get_legend() is not None\n>>> plt.close(fig_components)\n>>> test_result = has_scatter and has_line and has_xlabel and has_ylabel and has_title and has_legend\n>>> test_result\nTrue",
         "hidden": false,
         "locked": false,
         "points": 1
        },
        {
         "code": ">>> fig_cubic, coef_cubic = fit_polynomial('polynomial_data.csv', N=3)\n>>> test_a0 = abs(coef_cubic[0] - 2.0) < 1.0\n>>> test_a1 = abs(coef_cubic[1] - 3.0) < 1.0\n>>> test_a2 = abs(coef_cubic[2] - -0.5) < 1.0\n>>> test_a3 = abs(coef_cubic[3] - 0.1) < 1.0\n>>> plt.close(fig_cubic)\n>>> test_result = test_a0 and test_a1 and test_a2 and test_a3\n>>> bool(test_result)\nTrue",
         "hidden": false,
         "locked": false,
         "points": 1
        }
       ],
       "scored": true,
       "setup": "",
       "teardown": "",
       "type": "doctest"
      }
     ]
    }
   }
  }
 },
 "nbformat": 4,
 "nbformat_minor": 5
}

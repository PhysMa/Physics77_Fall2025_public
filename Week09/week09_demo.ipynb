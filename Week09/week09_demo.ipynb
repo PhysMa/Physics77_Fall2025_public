{
 "cells": [
  {
   "cell_type": "markdown",
   "id": "a9741351",
   "metadata": {},
   "source": [
    "\n",
    "\n",
    "\n",
    "# Week 09 Live Coding Demo: Linear Algebra I (Ax=b, Conditioning, Least Squares)\n",
    "\n",
    "**Flow**: vectors & dot products → matrices as linear maps → build Ax=b from physics → elimination intuition → conditioning → multiple RHS → least squares fit for g.\n",
    "\n",
    "Notes:\n",
    "- Examples are **different** from the slides, but cover the same knowledge points.\n",
    "- Code is heavily commented to explain the physics motivation and linear algebra steps.\n"
   ]
  },
  {
   "cell_type": "code",
   "execution_count": null,
   "id": "6723d605",
   "metadata": {},
   "outputs": [],
   "source": [
    "# Imports used throughout the notebook\n",
    "import numpy as np\n",
    "import matplotlib.pyplot as plt\n",
    "plt.rcParams['figure.figsize'] = (6, 3.6)\n",
    "np.set_printoptions(precision=4, suppress=True)\n"
   ]
  },
  {
   "cell_type": "markdown",
   "id": "bab9fd2d",
   "metadata": {},
   "source": [
    "## 1) Vectors, norms, and projections — component of gravity along an incline"
   ]
  },
  {
   "cell_type": "code",
   "execution_count": null,
   "id": "4d04efe9",
   "metadata": {},
   "outputs": [],
   "source": [
    "# Physics motivation:\n",
    "# On an incline at angle theta, the component of gravitational acceleration g along the slope is g_parallel = g * sin(theta).\n",
    "# We'll compute it using a dot product with a unit vector along the slope, to connect to vector norms and projections.\n",
    "\n",
    "g = np.array([0.0, -9.81])                      # gravitational acceleration [m/s^2], downward in y\n",
    "theta = np.deg2rad(25.0)                        # incline angle\n",
    "u_slope = np.array([np.cos(theta), np.sin(theta)])  # unit vector along slope (pointing \"up the hill\")\n",
    "\n",
    "# Projection of g onto the slope direction (work-like dot product divided by norm^2 which is 1 here)\n",
    "g_parallel = (g @ u_slope) * u_slope            # vector component along slope\n",
    "g_scalar_along = g @ u_slope                    # signed magnitude along slope (should be negative: down the slope)\n",
    "\n",
    "print(\"unit vector along slope u_slope =\", u_slope)          # e.g., [0.9063, 0.4226]\n",
    "print(\"||u_slope|| =\", np.linalg.norm(u_slope))               # -> 1.0\n",
    "print(\"g · u_slope =\", round(float(g_scalar_along), 4), \"m/s^2\")  # -> negative number, magnitude is g*sin(theta)\n",
    "print(\"vector component of g along slope =\", g_parallel)      # vector projection along slope\n",
    "\n",
    "# Visualize vectors\n",
    "plt.figure()\n",
    "origin = np.array([[0,0]])\n",
    "plt.quiver(*origin.T, [g[0]],[g[1]], angles='xy', scale_units='xy', scale=1, color='C0', label='g')\n",
    "plt.quiver(*origin.T, [u_slope[0]],[u_slope[1]], angles='xy', scale_units='xy', scale=1, color='C1', label='u_slope')\n",
    "plt.quiver(*origin.T, [g_parallel[0]],[g_parallel[1]], angles='xy', scale_units='xy', scale=1, color='C3', label='g∥')\n",
    "plt.axis('equal'); plt.xlim(-10,10); plt.ylim(-10,2)\n",
    "plt.grid(True); plt.legend(); plt.title(\"Projection of g onto slope direction\")\n",
    "plt.show()\n"
   ]
  },
  {
   "cell_type": "markdown",
   "id": "388fd351",
   "metadata": {},
   "source": [
    "## 2) Dot product as instantaneous power — charged particle in uniform electric field"
   ]
  },
  {
   "cell_type": "code",
   "execution_count": null,
   "id": "9863c1ea",
   "metadata": {},
   "outputs": [],
   "source": [
    "# Physics motivation:\n",
    "# Instantaneous power delivered to a particle is P = F · v. For electric force, F = q E in a uniform field.\n",
    "# We'll simulate a particle with a time-varying velocity and compute P(t) = q E · v(t).\n",
    "\n",
    "q = 1.6e-19                                      # charge [C]\n",
    "E = np.array([2.0e4, 1.0e4])                     # uniform electric field [V/m] = [N/C]\n",
    "t = np.linspace(0, 1e-6, 300)                    # time [s]\n",
    "# A simple 2D velocity profile (m/s): circular drift + small acceleration\n",
    "v = np.vstack([ 2e5*np.cos(2*np.pi*2e6*t) + 3e11*t,\n",
    "                2e5*np.sin(2*np.pi*2e6*t) ]).T\n",
    "\n",
    "P = q*(v @ E)                                    # P(t) scalar for each time sample\n",
    "print(\"P(t) range [min, max] =\", float(P.min()), float(P.max()), \"W\")  # instantaneous power can be negative or positive depending on direction\n",
    "\n",
    "plt.figure()\n",
    "plt.plot(t*1e6, P)\n",
    "plt.xlabel(\"time [µs]\"); plt.ylabel(\"instantaneous power P [W]\")\n",
    "plt.title(\"Power P = q E · v(t)\")\n",
    "plt.grid(True); plt.tight_layout(); plt.show()\n"
   ]
  },
  {
   "cell_type": "markdown",
   "id": "936f27be",
   "metadata": {},
   "source": [
    "## 3) Matrices as linear maps — rotate and stretch a detector footprint"
   ]
  },
  {
   "cell_type": "code",
   "execution_count": null,
   "id": "ddb5eb47",
   "metadata": {},
   "outputs": [],
   "source": [
    "# Motivation: A 2×2 matrix can represent a coordinate transform (e.g., rotate, then anisotropically scale)\n",
    "# for a detector plane. We'll transform a grid and a unit circle and visualize the effect.\n",
    "\n",
    "phi = np.deg2rad(30)                 # 30-degree rotation\n",
    "R = np.array([[np.cos(phi), -np.sin(phi)],\n",
    "              [np.sin(phi),  np.cos(phi)]])     # rotation\n",
    "S = np.diag([1.5, 0.8])                          # stretch: x by 1.5, y by 0.8\n",
    "A = S @ R                                        # first rotate, then stretch\n",
    "\n",
    "# Build a grid and a unit circle\n",
    "theta = np.linspace(0, 2*np.pi, 200)\n",
    "circle = np.vstack([np.cos(theta), np.sin(theta)])  # shape (2,200)\n",
    "\n",
    "xs = np.linspace(-1,1,11); ys = np.linspace(-1,1,11)\n",
    "grid_lines = []\n",
    "for x in xs:\n",
    "    grid_lines.append(np.vstack([np.full_like(ys, x), ys]))\n",
    "for y in ys:\n",
    "    grid_lines.append(np.vstack([xs, np.full_like(xs, y)]))\n",
    "\n",
    "plt.figure(figsize=(5,5))\n",
    "# original\n",
    "for L in grid_lines:\n",
    "    plt.plot(L[0], L[1], 'k:', alpha=0.25)\n",
    "plt.plot(circle[0], circle[1], 'k--', lw=1.2, label='unit circle')\n",
    "# transformed\n",
    "for L in grid_lines:\n",
    "    L2 = A @ L\n",
    "    plt.plot(L2[0], L2[1], 'C0-', alpha=0.7)\n",
    "circ2 = A @ circle\n",
    "plt.plot(circ2[0], circ2[1], 'C3-', lw=2, label='transformed circle')\n",
    "plt.axis('equal'); plt.title(\"Linear map A = S R on grid and circle\")\n",
    "plt.legend(); plt.tight_layout(); plt.show()\n",
    "\n",
    "# Verify linearity: A(ax + bz) = a A x + b A z\n",
    "x = np.array([0.6, -0.4]); z = np.array([-0.2, 0.9]); a, b = 2.0, -0.5\n",
    "left = A @ (a*x + b*z)\n",
    "right = a*(A@x) + b*(A@z)\n",
    "print(\"Linearity check ||left-right|| =\", np.linalg.norm(left-right))  # -> ~0\n"
   ]
  },
  {
   "cell_type": "markdown",
   "id": "695d53f4",
   "metadata": {},
   "source": [
    "## 4) (Optional) From physics to Ax=b — 1D rod steady-state heat conduction (Dirichlet BCs)"
   ]
  },
  {
   "cell_type": "code",
   "execution_count": null,
   "id": "dc162fe1",
   "metadata": {},
   "outputs": [],
   "source": [
    "# Physics model: steady-state heat conduction (no internal heat generation) in 1D implies d^2 T / dx^2 = 0.\n",
    "# Discretize the rod [0, L] with interior nodes; enforce boundary temperatures T(0)=T_left, T(L)=T_right.\n",
    "# The finite-difference approximation at interior node j is: T_{j-1} - 2 T_j + T_{j+1} = 0\n",
    "# This yields a tridiagonal linear system A T = b.\n",
    "\n",
    "L = 1.0\n",
    "N_int = 8                                   # number of interior nodes (unknowns)\n",
    "h = L / (N_int + 1)                         # uniform spacing\n",
    "T_left, T_right = 100.0, 20.0               # boundary temperatures [°C]\n",
    "\n",
    "# Build A (tridiagonal) and b (incorporate BCs)\n",
    "A = np.zeros((N_int, N_int))\n",
    "b = np.zeros(N_int)\n",
    "for j in range(N_int):\n",
    "    A[j, j] = -2.0\n",
    "    if j-1 >= 0: A[j, j-1] = 1.0\n",
    "    if j+1 < N_int: A[j, j+1] = 1.0\n",
    "b[0] -= T_left\n",
    "b[-1] -= T_right\n",
    "\n",
    "T_int = np.linalg.solve(A, b)               # interior temperatures\n",
    "x = np.linspace(h, L-h, N_int)\n",
    "T = np.r_[T_left, T_int, T_right]           # include boundaries\n",
    "x_full = np.r_[0.0, x, L]\n",
    "\n",
    "print(\"Interior temperatures:\", np.round(T_int, 2))  # monotone linear trend expected for Laplace\n",
    "\n",
    "plt.figure()\n",
    "plt.plot(x_full, T, 'o-', label='T(x)')\n",
    "plt.xlabel(\"x [m]\"); plt.ylabel(\"Temperature [°C]\")\n",
    "plt.title(\"Steady 1D rod conduction (Dirichlet BCs)\")\n",
    "plt.grid(True); plt.legend(); plt.tight_layout(); plt.show()\n"
   ]
  },
  {
   "cell_type": "markdown",
   "id": "289064e4",
   "metadata": {},
   "source": [
    "## 5) Gaussian elimination by hand (augmented matrix steps)"
   ]
  },
  {
   "cell_type": "code",
   "execution_count": null,
   "id": "e744d773",
   "metadata": {},
   "outputs": [],
   "source": [
    "# We'll use a small (different) 3x3 system that could arise from a mass balance in a 3-cell diffusion toy:\n",
    "# eqs:  3x +  y -  z =  1\n",
    "#       2x - 2y + 4z = -2\n",
    "#      -x + 0.5y - z =  0\n",
    "A = np.array([[ 3.,  1., -1.],\n",
    "              [ 2., -2.,  4.],\n",
    "              [-1.,  0.5,-1.]], float)\n",
    "b = np.array([1., -2., 0.], float)\n",
    "Ab = np.c_[A,b] # Combines A and b into an augmented matrix by column concatenation\n",
    "print(\"Start [A|b]:\\n\", Ab)\n",
    "\n",
    "# Eliminate the first column below the pivot (row 0 pivot = 3)\n",
    "f10 = Ab[1,0]/Ab[0,0]; Ab[1] -= f10*Ab[0]\n",
    "f20 = Ab[2,0]/Ab[0,0]; Ab[2] -= f20*Ab[0]\n",
    "print(\"\\nAfter eliminating below row 0 pivot:\\n\", np.round(Ab,4))\n",
    "\n",
    "# Eliminate the second column below the pivot (row 1 pivot is Ab[1,1])\n",
    "pivot = Ab[1,1]\n",
    "f21 = Ab[2,1]/pivot; Ab[2] -= f21*Ab[1]\n",
    "print(\"\\nUpper-triangular [U|c]:\\n\", np.round(Ab,4))\n",
    "\n",
    "# Back-substitution (solve U x = c)\n",
    "U = Ab[:,:-1]; c = Ab[:,-1]\n",
    "x = np.zeros(3)\n",
    "x[2] = c[2]/U[2,2]\n",
    "x[1] = (c[1] - U[1,2]*x[2]) / U[1,1]\n",
    "x[0] = (c[0] - U[0,1]*x[1] - U[0,2]*x[2]) / U[0,0]\n",
    "print(\"\\nSolution x =\", np.round(x, 6))\n",
    "\n",
    "# Verify with numpy's solver\n",
    "x_np = np.linalg.solve(A,b)\n",
    "print(\"Check with np.linalg.solve:\", np.allclose(x, x_np))\n"
   ]
  },
  {
   "cell_type": "markdown",
   "id": "aa59c261",
   "metadata": {},
   "source": [
    "## 6) Do not invert to solve — compare `solve` vs explicit inverse"
   ]
  },
  {
   "cell_type": "code",
   "execution_count": null,
   "id": "d8fbc68c",
   "metadata": {},
   "outputs": [],
   "source": [
    "rng = np.random.default_rng(0)\n",
    "A = rng.normal(size=(5,5))\n",
    "# Make A well-conditioned by symmetrizing and adding to diagonal\n",
    "A = 0.5*(A + A.T) + 5*np.eye(5)\n",
    "b = rng.normal(size=5)\n",
    "\n",
    "x_solve = np.linalg.solve(A,b)\n",
    "x_inv = np.linalg.inv(A) @ b\n",
    "\n",
    "print(\"||A x_solve - b|| =\", np.linalg.norm(A@x_solve - b))  # small\n",
    "print(\"||A x_inv   - b|| =\", np.linalg.norm(A@x_inv   - b))  # similar, but solve is preferred numerically and for speed\n"
   ]
  },
  {
   "cell_type": "markdown",
   "id": "7c5f86b6",
   "metadata": {},
   "source": [
    "## 7) Conditioning — Vandermonde matrices get ill-conditioned quickly"
   ]
  },
  {
   "cell_type": "code",
   "execution_count": null,
   "id": "733a50df",
   "metadata": {},
   "outputs": [],
   "source": [
    "# Vandermonde appears in polynomial interpolation/fitting: A_ij = x_i^{n-j}\n",
    "def vander(x, deg):\n",
    "    # columns: [x^0, x^1, ..., x^deg]\n",
    "    cols = [x**k for k in range(deg+1)]\n",
    "    return np.vstack(cols).T\n",
    "\n",
    "xs = np.linspace(-1, 1, 20)\n",
    "degrees = np.arange(1, 16)\n",
    "kappas = []\n",
    "for d in degrees:\n",
    "    A = vander(xs, d)\n",
    "    print(A.shape)\n",
    "    kappas.append(np.linalg.cond(A))\n",
    "\n",
    "plt.figure()\n",
    "plt.semilogy(degrees, kappas, 'o-')\n",
    "plt.xlabel(\"polynomial degree\")\n",
    "plt.ylabel(\"cond(A) (2-norm, log scale)\")\n",
    "plt.title(\"Vandermonde matrices are often ill-conditioned\")\n",
    "plt.grid(True, which='both'); plt.tight_layout(); plt.show()\n"
   ]
  },
  {
   "cell_type": "markdown",
   "id": "96e2bd06",
   "metadata": {},
   "source": [
    "## 8) Multiple right-hand sides — same physics matrix, many load cases"
   ]
  },
  {
   "cell_type": "code",
   "execution_count": null,
   "id": "b1caf82c",
   "metadata": {},
   "outputs": [],
   "source": [
    "# Reuse the 1D conduction matrix A (interior nodes only) but with different boundary conditions.\n",
    "# We can solve A X = B, where columns of B are different b vectors for different (T_left, T_right).\n",
    "\n",
    "def build_conduction_matrix(n):\n",
    "    A = np.zeros((n,n))\n",
    "    for j in range(n):\n",
    "        A[j,j] = -2.0\n",
    "        if j-1 >= 0: A[j,j-1] = 1.0\n",
    "        if j+1 < n: A[j,j+1] = 1.0\n",
    "    return A\n",
    "\n",
    "N_int = 20\n",
    "A = build_conduction_matrix(N_int)\n",
    "\n",
    "cases = [(80.0, 20.0), (100.0, 50.0), (50.0, 10.0)]  # (T_left, T_right)\n",
    "B = np.zeros((N_int, len(cases)))\n",
    "for k,(Tl, Tr) in enumerate(cases):\n",
    "    b = np.zeros(N_int); b[0] -= Tl; b[-1] -= Tr\n",
    "    B[:,k] = b\n",
    "\n",
    "X = np.linalg.solve(A, B)  # columns are solutions for each case -- LU decomposition under the hood\n",
    "\n",
    "plt.figure()\n",
    "for k,(Tl, Tr) in enumerate(cases):\n",
    "    T_full = np.r_[Tl, X[:,k], Tr]\n",
    "    x_full = np.r_[0.0, x, 1.0]\n",
    "    plt.plot(x_full, T_full, label=f\"T_left={Tl}, T_right={Tr}\")\n",
    "plt.xlabel(\"x\"); plt.ylabel(\"Temperature [°C]\")\n",
    "plt.title(\"Multiple boundary conditions solved with one factorization\")\n",
    "plt.legend(); plt.tight_layout(); plt.show()\n"
   ]
  },
  {
   "cell_type": "markdown",
   "id": "784d9364",
   "metadata": {},
   "source": [
    "## 9) Least squares — estimate gravitational acceleration from noisy height–time data"
   ]
  },
  {
   "cell_type": "code",
   "execution_count": null,
   "id": "ca051077",
   "metadata": {},
   "outputs": [],
   "source": [
    "# Physics model: y(t) = h0 + v0 t - (1/2) g t^2  (vertical position; upward positive)\n",
    "# Unknown parameters: h0, v0, g. The model is linear in [h0, v0, (-1/2)g].\n",
    "# Build design matrix A = [1, t, -t^2/2] and solve min ||A theta - y||_2.\n",
    "\n",
    "rng = np.random.default_rng(10)\n",
    "g_true = 9.81; h0_true = 1.4; v0_true = 5.0\n",
    "t = np.linspace(0, 1.1, 40)\n",
    "y_true = h0_true + v0_true*t - 0.5*g_true*t**2\n",
    "\n",
    "sigma = 0.05                                  # measurement noise [m]\n",
    "y_meas = y_true + rng.normal(0, sigma, size=t.size)\n",
    "\n",
    "A = np.c_[np.ones_like(t), t, -0.5*t**2]\n",
    "theta, residuals, rank, s = np.linalg.lstsq(A, y_meas, rcond=None)\n",
    "h0_hat, v0_hat, g_hat = theta\n",
    "\n",
    "print(f\"Estimated h0={h0_hat:.3f} m, v0={v0_hat:.3f} m/s, g={g_hat:.3f} m/s^2  (true g={g_true})\")\n",
    "y_fit = A @ theta\n",
    "rmse = np.sqrt(np.mean((y_meas - y_fit)**2))\n",
    "print(\"RMSE =\", round(float(rmse), 4), \"m\")\n",
    "\n",
    "plt.figure()\n",
    "plt.scatter(t, y_meas, s=18, label=\"measurements\")\n",
    "plt.plot(t, y_true, 'k--', label=\"true trajectory\")\n",
    "plt.plot(t, y_fit, 'r', lw=2, label=\"least-squares fit\")\n",
    "plt.xlabel(\"time t [s]\"); plt.ylabel(\"height y [m]\")\n",
    "plt.title(\"Estimate g from noisy trajectory via linear least squares\")\n",
    "plt.legend(); plt.tight_layout(); plt.show()\n",
    "\n",
    "plt.figure()\n",
    "plt.plot(t, y_meas - y_fit, 'o-')\n",
    "plt.axhline(0, color='k', lw=0.8)\n",
    "plt.xlabel(\"time t [s]\"); plt.ylabel(\"residual [m]\")\n",
    "plt.title(\"Fit residuals\")\n",
    "plt.tight_layout(); plt.show()\n"
   ]
  },
  {
   "cell_type": "markdown",
   "id": "c150e5aa",
   "metadata": {},
   "source": [
    "## 10) (Optional) Weighted least squares — down-weight worse sensors "
   ]
  },
  {
   "cell_type": "code",
   "execution_count": null,
   "id": "187d7bb5",
   "metadata": {},
   "outputs": [],
   "source": [
    "# Suppose some measurements are less reliable (e.g., distant camera frames are blurrier).\n",
    "# We can weight each sample by 1/sigma_i^2 by scaling rows of A and b.\n",
    "\n",
    "rng = np.random.default_rng(2)\n",
    "g_true = 9.81; h0_true = 2.0; v0_true = 3.5\n",
    "t = np.linspace(0, 1.0, 35)\n",
    "y_true = h0_true + v0_true*t - 0.5*g_true*t**2\n",
    "\n",
    "sigma = 0.02 + 0.15*(t/t.max())              # noise grows with time (worse tracking later)\n",
    "noise = rng.normal(0, sigma, size=t.size)\n",
    "y_meas = y_true + noise\n",
    "\n",
    "A = np.c_[np.ones_like(t), t, -0.5*t**2]\n",
    "\n",
    "# Unweighted fit\n",
    "theta_u, *_ = np.linalg.lstsq(A, y_meas, rcond=None)\n",
    "g_u = theta_u[2]\n",
    "\n",
    "# Weighted fit: scale rows by w_i = 1/sigma_i\n",
    "w = 1.0/np.maximum(sigma, 1e-8)\n",
    "Aw = A * w[:,None]\n",
    "bw = y_meas * w\n",
    "theta_w, *_ = np.linalg.lstsq(Aw, bw, rcond=None)\n",
    "g_w = theta_w[2]\n",
    "\n",
    "print(f\"Unweighted g_hat={g_u:.3f}  |  Weighted g_hat={g_w:.3f}  |  true g={g_true}\")\n",
    "y_u = A @ theta_u; y_w = A @ theta_w\n",
    "\n",
    "plt.figure()\n",
    "plt.errorbar(t, y_meas, yerr=sigma, fmt='o', capsize=3, label=\"data (heteroskedastic)\")\n",
    "plt.plot(t, y_true, 'k--', label=\"true\")\n",
    "plt.plot(t, y_u, 'C1', label=f\"unweighted fit (g={g_u:.2f})\")\n",
    "plt.plot(t, y_w, 'C3', label=f\"weighted fit (g={g_w:.2f})\")\n",
    "plt.xlabel(\"time [s]\"); plt.ylabel(\"height [m]\"); plt.legend(); plt.tight_layout(); plt.show()\n"
   ]
  }
 ],
 "metadata": {
  "kernelspec": {
   "display_name": "base",
   "language": "python",
   "name": "python3"
  },
  "language_info": {
   "codemirror_mode": {
    "name": "ipython",
    "version": 3
   },
   "file_extension": ".py",
   "mimetype": "text/x-python",
   "name": "python",
   "nbconvert_exporter": "python",
   "pygments_lexer": "ipython3",
   "version": "3.13.5"
  }
 },
 "nbformat": 4,
 "nbformat_minor": 5
}
